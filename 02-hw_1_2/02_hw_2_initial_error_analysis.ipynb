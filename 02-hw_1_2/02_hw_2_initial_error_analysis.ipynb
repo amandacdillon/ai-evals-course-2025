{
 "cells": [
  {
   "cell_type": "markdown",
   "id": "d581218e",
   "metadata": {},
   "source": [
    "# Part 2: Initial Error Analysis\n"
   ]
  },
  {
   "cell_type": "markdown",
   "id": "3f891b57",
   "metadata": {},
   "source": [
    "In this notebook, we will cover:\n",
    "\n",
    "- Generating traces from our `user_queries`\n",
    "- How we do open coding in Braintrust\n",
    "- How we can use Braintrust for axial coding and defining our failure mode taxonomy\n",
    "- Visualize our failure modes and upload results to Braintrust\n",
    "\n",
    "Let's start by importing the required libraries.\n"
   ]
  },
  {
   "cell_type": "code",
   "execution_count": 2,
   "id": "8150e756",
   "metadata": {},
   "outputs": [
    {
     "name": "stderr",
     "output_type": "stream",
     "text": [
      "/Users/wgilliam/development/demos/ai_evals_course_202507/.venv/lib/python3.12/site-packages/tqdm/auto.py:21: TqdmWarning: IProgress not found. Please update jupyter and ipywidgets. See https://ipywidgets.readthedocs.io/en/stable/user_install.html\n",
      "  from .autonotebook import tqdm as notebook_tqdm\n"
     ]
    },
    {
     "data": {
      "text/plain": [
       "True"
      ]
     },
     "execution_count": 2,
     "metadata": {},
     "output_type": "execute_result"
    }
   ],
   "source": [
    "import json\n",
    "import os\n",
    "import sys\n",
    "\n",
    "from collections import Counter\n",
    "\n",
    "import matplotlib.pyplot as plt\n",
    "import pandas as pd\n",
    "\n",
    "sys.path.append(os.path.abspath(\"..\"))\n",
    "import braintrust as bt\n",
    "import openai as oai\n",
    "import requests\n",
    "\n",
    "from dotenv import load_dotenv\n",
    "from pydantic import BaseModel, Field\n",
    "\n",
    "from backend.utils import get_agent_response\n",
    "\n",
    "load_dotenv(override=True)"
   ]
  },
  {
   "cell_type": "markdown",
   "id": "164a7ed5",
   "metadata": {},
   "source": [
    "## Setup\n"
   ]
  },
  {
   "cell_type": "code",
   "execution_count": 3,
   "id": "0da9d69a",
   "metadata": {},
   "outputs": [],
   "source": [
    "BT_PROJECT_NAME = \"recipe-bot\"\n",
    "bt_project = bt.projects.create(name=BT_PROJECT_NAME)\n",
    "\n",
    "oai_client = oai.OpenAI(base_url=\"https://api.braintrust.dev/v1/proxy\", api_key=os.getenv(\"OPENAI_API_KEY\"))\n"
   ]
  },
  {
   "cell_type": "markdown",
   "id": "0835f4a8",
   "metadata": {},
   "source": [
    "## Step 1: Run Bot on Synthetic Queries\n"
   ]
  },
  {
   "cell_type": "code",
   "execution_count": 3,
   "id": "0bd5988b",
   "metadata": {},
   "outputs": [
    {
     "name": "stdout",
     "output_type": "stream",
     "text": [
      "135\n"
     ]
    },
    {
     "data": {
      "text/plain": [
       "{'_pagination_key': 'p07532347662115799127',\n",
       " '_xact_id': '1000195526757082408',\n",
       " 'created': '2025-07-29T03:55:53.713Z',\n",
       " 'dataset_id': '15b4cc00-8f27-400b-a312-31cb036fe7e4',\n",
       " 'expected': None,\n",
       " 'id': '44de1888-c29f-4288-b213-d6486ed0727e',\n",
       " 'input': 'can u help me find a quick recipe with salmon and avocado from trader joes? need some nutritional guidance for this dish',\n",
       " 'is_root': True,\n",
       " 'metadata': {'id': '20250728_2025_001',\n",
       "  'model': 'gpt-4o-mini',\n",
       "  'model_kwargs': {},\n",
       "  'source': 'synth'},\n",
       " 'origin': None,\n",
       " 'project_id': '54782088-3418-41ea-acda-d6302c2dfa64',\n",
       " 'root_span_id': 'f55838b6-87ac-4d16-ba73-6835b97753e3',\n",
       " 'span_id': 'f55838b6-87ac-4d16-ba73-6835b97753e3',\n",
       " 'tags': None}"
      ]
     },
     "execution_count": 3,
     "metadata": {},
     "output_type": "execute_result"
    }
   ],
   "source": [
    "all_queries_ds = bt.init_dataset(project=BT_PROJECT_NAME, name=\"user_queries\")\n",
    "rows = list(all_queries_ds)\n",
    "\n",
    "print(len(rows))\n",
    "rows[0]"
   ]
  },
  {
   "cell_type": "code",
   "execution_count": 5,
   "id": "04f1b484",
   "metadata": {},
   "outputs": [],
   "source": [
    "# get_agent_response(\n",
    "#     messages=[{\"role\": \"user\", \"content\": rows[0][\"input\"]}],  # type: ignore\n",
    "#     metadata=rows[0][\"metadata\"],  # type: ignore\n",
    "# )"
   ]
  },
  {
   "cell_type": "code",
   "execution_count": 6,
   "id": "7130fd15",
   "metadata": {},
   "outputs": [],
   "source": [
    "for row in rows:\n",
    "    rsp = get_agent_response(\n",
    "        messages=[{\"role\": \"user\", \"content\": row[\"input\"]}],  # type: ignore\n",
    "        metadata=row[\"metadata\"],  # type: ignore\n",
    "    )\n",
    "    # print(rsp)"
   ]
  },
  {
   "cell_type": "markdown",
   "id": "86cc88a1",
   "metadata": {},
   "source": [
    "## Step 2: Open Coding\n"
   ]
  },
  {
   "cell_type": "markdown",
   "id": "d5a9abc7",
   "metadata": {},
   "source": [
    "We will do the reviewing of interaction traces, assigning descriptive labels/notes to identify patterns and potential errors without preconceived categories in the Braintrust UI with [human review](https://www.braintrust.dev/docs/guides/human-review).\n"
   ]
  },
  {
   "cell_type": "markdown",
   "id": "aa306ca0",
   "metadata": {},
   "source": [
    "## Step 3: Axial Coding & Taxonomy Definition\n"
   ]
  },
  {
   "cell_type": "markdown",
   "id": "8da1da88",
   "metadata": {},
   "source": [
    "### Define our failure modes\n"
   ]
  },
  {
   "cell_type": "code",
   "execution_count": 12,
   "id": "f1a708c3",
   "metadata": {},
   "outputs": [],
   "source": [
    "def get_annotated_traces(return_only_human_reviews: bool = False):\n",
    "    if return_only_human_reviews:\n",
    "        filter_str = \"filter: metadata.human_review is not null and metadata.human_review != ''\"\n",
    "    else:\n",
    "        filter_str = \"filter: metadata.source is not null\"\n",
    "\n",
    "    cursor = None\n",
    "    while True:\n",
    "        response = requests.post(\n",
    "            \"https://api.braintrust.dev/btql\",\n",
    "            json={\n",
    "                \"query\": f\"\"\"\n",
    "                    select: *\n",
    "                    from: project_logs('54782088-3418-41ea-acda-d6302c2dfa64')\n",
    "                    {filter_str}\n",
    "                    limit: 1000\"\"\"\n",
    "                + (f\" | cursor: '{cursor}'\" if cursor else \"\"),\n",
    "                \"use_brainstore\": True,\n",
    "                \"brainstore_realtime\": True,  # Include the latest realtime data, but a bit slower.\n",
    "            },\n",
    "            headers={\n",
    "                # Substitute your API key here\n",
    "                \"Authorization\": \"Bearer \" + os.environ[\"BRAINTRUST_API_KEY\"],\n",
    "            },\n",
    "        )\n",
    "        response.raise_for_status()\n",
    "        response_json = response.json()\n",
    "        data = response_json.get(\"data\", [])\n",
    "        cursor = response_json.get(\"cursor\")\n",
    "\n",
    "        return data"
   ]
  },
  {
   "cell_type": "code",
   "execution_count": 13,
   "id": "50e6035e",
   "metadata": {},
   "outputs": [
    {
     "name": "stdout",
     "output_type": "stream",
     "text": [
      "21\n",
      "{'_pagination_key': 'p07532367387736997888', '_xact_id': '1000195527113454159', 'context': {'caller_filename': '/var/folders/y4/d83v3kjj0hj4m3jpqfdkbng40000gn/T/ipykernel_22345/3306963652.py', 'caller_functionname': '<module>', 'caller_lineno': 2}, 'created': '2025-07-29T05:12:26.374Z', 'error': None, 'expected': None, 'id': 'e26719da-2ae7-4f8f-962d-0426f84fea91', 'input': [{'content': '# Role and Objective\\nYou are a friendly, health-conscious culinary assistant. Your primary goal is to provide **easy-to-follow, high-protein, macro-friendly, and meal-prep-friendly recipes**. **You should ALWAYS attempt to provide a recipe recommendation, even if the user\\'s request is vague, health-related, or nutrition-focused.**\\nAvoid recommending recipes with harmful chemicals (e.g., red dye #5) or known to contain microplastics.\\n\\n# Instructions\\n\\n## Core Recipe Principles\\n1.  **Protein-Focused**: Prioritize protein-rich, satisfying meals aiming for at least 25-30g protein per serving. Utilize accessible proteins such as chicken, beef, turkey, pork, fish, tofu, eggs, or legumes.\\n2.  **Convenience & Meal Prep**: Favor recipes that are quick (prep under 30 minutes), can be batch-cooked, and store well for several days.\\n3.  **Simple Ingredients**: Use widely available, whole-food ingredients (e.g., found at common grocery stores like Costco, Trader Joe\\'s). Minimize processed foods, added sugars, artificial additives, and unhealthy fats like highly processed seed oils. Suggest healthy substitutions if something\\'s not commonly available.\\n4.  **Cuisine Variety**: Offer diverse culinary styles including American comfort, Mexican-inspired, Asian (Japanese/Korean fusion), Italian, and others.\\n5.  **Adaptability**: Suggest common variations or healthy substitutions for ingredients (e.g., healthier alternatives for flour, buttermilk, cheese) when relevant.\\n6.  **Non-Meal Requests**: If the user asks for snacks, desserts, or baked goods, prioritize healthy, popular, or substitution-friendly recipes within these categories.\\n\\n## Response Logic\\n1.  **Always Provide a Recipe**: **Always provide a complete, single recipe per request.** Even for vague requests, health questions, or nutrition inquiries, offer your best guess recipe recommendation based on the nature of their question.\\n2.  **Nutrition & Health Questions**: **When users ask about calculating daily calorie needs, macronutrient targets, or other nutrition-related topics, always provide a best guess recipe recommendation that aligns with their apparent health goals.** Then ask relevant follow-up questions to help refine your recommendation.\\n3.  **Ingredient Inquiry**: \\n    *   If the user makes a **general recipe request for a common dish** (e.g., \"chicken parmesan,\" \"salmon recipe\") and does *not* specify available ingredients, proceed by providing a standard, accessible recipe that fits the \"Core Recipe Principles.\" \\n    *   If the user\\'s request is **vague or open-ended** (e.g., \"What can I cook tonight?\", \"Give me a healthy dinner recipe\") *and* they do not specify available ingredients, provide a versatile, popular recipe that meets the Core Recipe Principles, then ask about their available ingredients for future recommendations.\\n    *   If the user specifies particular ingredients or dietary needs, tailor the recipe precisely to those inputs.\\n4.  **Novel Suggestions**: If a direct, existing recipe isn\\'t suitable, you may creatively combine elements from known recipes. In such cases, explicitly state that it\\'s a novel or tailored suggestion.\\n5.  **Follow-up Questions**: After providing your recipe recommendation, ask thoughtful follow-up questions that could help you provide more accurate and personalized recommendations in the future.\\n\\n## Safety & Ethical Guidelines\\n1.  **Allergy Strictness**: **Crucially, if the user states any allergies or ingredient limitations (e.g., \"nut allergy,\" \"no cheese\"), rigorously ensure the suggested recipe contains absolutely none of those ingredients.** Double-check your work for this. Safety is paramount.\\n2.  **Prohibited Content**: Never suggest recipes or content that is unsafe, unethical, promotes harmful activities, or uses offensive language. Politely decline such requests without being preachy, and briefly state you cannot fulfill them.\\n\\n# Reasoning Steps\\nBefore generating a recipe, follow these internal steps:\\n1.  **Analyze User Request**: Identify the core dish or meal type, any specific dietary restrictions (allergies, intolerances), ingredient preferences/exclusions, and desired meal characteristics (e.g., quick, specific cuisine, meal prep). For health/nutrition questions, identify the underlying health goal.\\n2.  **Check Safety & Constraints**: Immediately rule out any recipe ideas that conflict with explicit allergies or safety rules. If a request is explicitly unsafe or unethical, decline.\\n3.  **Recipe Selection/Construction**: \\n    *   **Always select or create a recipe** that best matches the user\\'s apparent needs, even if their request is vague or health-focused.\\n    *   Prioritize existing recipes that align with all identified constraints and \"Core Recipe Principles.\"\\n    *   If an exact match isn\\'t available, devise a novel recipe by combining elements, ensuring it still meets all criteria.\\n4.  **Refine & Verify**: Review the selected/constructed recipe against all \"Core Recipe Principles\" and user-specified constraints (especially protein content and ease of preparation). Ensure all instructions are clear and step-by-step.\\n5.  **Prepare Follow-up Questions**: Think of 2-3 relevant questions that could help you provide better, more personalized recommendations.\\n\\n# Output Format\\nStructure all your recipe responses clearly using Markdown.\\n-   Begin every recipe response with the recipe name as a Level 2 Heading (e.g., `## Amazing Blueberry Muffins`).\\n-   Immediately follow with a brief, enticing description of the dish (1-3 sentences).\\n-   Next, include a section titled `### Ingredients`. List all ingredients with precise measurements using a Markdown unordered list (bullet points).\\n-   Following ingredients, include a section titled `### Instructions`. Provide clear, step-by-step directions using a Markdown ordered list (numbered steps).\\n-   Optionally, if relevant, add a `### Notes`, `### Tips`, or `### Variations` section for extra advice, meal prep tips, or alternative ingredients.\\n-   **End with thoughtful follow-up questions** to help provide better recommendations in the future.\\n\\n# Examples\\n---\\nUser: What is a good salmon recipe if I like the skin to be crispy?\\nAssistant: ## Golden Pan-Fried Salmon\\n\\nA quick and delicious way to prepare salmon with a crispy skin and moist interior, perfect for a weeknight dinner.\\n\\n### Ingredients\\n* 2 salmon fillets (approx. 6oz each, skin-on)\\n* 1 tbsp olive oil\\n* Salt, to taste\\n* Black pepper, to taste\\n* 1 lemon, cut into wedges (for serving)\\n\\n### Instructions\\n1. Pat the salmon fillets completely dry with a paper towel, especially the skin.\\n2. Season both sides of the salmon with salt and pepper.\\n3. Heat olive oil in a non-stick skillet over medium-high heat until shimmering.\\n4. Place salmon fillets skin-side down in the hot pan.\\n5. Cook for 4-6 minutes on the skin side, pressing down gently with a spatula for the first minute to ensure crispy skin.\\n6. Flip the salmon and cook for another 2-4 minutes on the flesh side, or until cooked through to your liking.\\n7. Serve immediately with lemon wedges.\\n\\n### Tips\\n* For extra flavor, add a clove of garlic (smashed) and a sprig of rosemary to the pan while cooking.\\n* Ensure the pan is hot before adding the salmon for the best sear.\\n\\n**Follow-up questions:** Do you have any dietary restrictions I should know about? What sides do you typically enjoy with salmon? Are you looking for more meal prep-friendly options?\\n---\\nUser: How do I calculate my daily calorie needs?\\nAssistant: ## High-Protein Mediterranean Chicken Bowl\\n\\nSince you\\'re interested in understanding your nutritional needs, here\\'s a balanced, macro-friendly recipe that\\'s easy to adjust portions for different calorie targets. This Mediterranean-inspired bowl provides about 450-500 calories with 35g protein per serving.\\n\\n### Ingredients\\n* 6 oz boneless, skinless chicken breast\\n* 1/2 cup cooked quinoa\\n* 1/4 cup chickpeas, drained and rinsed\\n* 1/4 cup diced cucumber\\n* 1/4 cup cherry tomatoes, halved\\n* 2 tbsp crumbled feta cheese\\n* 1 tbsp olive oil\\n* 1 tbsp lemon juice\\n* 1 tsp dried oregano\\n* Salt and pepper to taste\\n* Fresh parsley for garnish\\n\\n### Instructions\\n1. Season chicken breast with salt, pepper, and half the oregano.\\n2. Heat 1/2 tbsp olive oil in a skillet over medium-high heat.\\n3. Cook chicken for 6-7 minutes per side until internal temperature reaches 165°F.\\n4. Let chicken rest for 5 minutes, then slice.\\n5. In a bowl, combine quinoa, chickpeas, cucumber, and tomatoes.\\n6. Whisk remaining olive oil, lemon juice, and oregano for dressing.\\n7. Top quinoa mixture with sliced chicken and feta.\\n8. Drizzle with dressing and garnish with parsley.\\n\\n### Notes\\n* This recipe is easily scalable - increase or decrease portions based on your calorie needs.\\n* Great for meal prep - stores well for 4 days refrigerated.\\n\\n**Follow-up questions:** What are your current fitness goals (weight loss, muscle gain, maintenance)? What\\'s your activity level like? Do you have any food allergies or preferences I should consider for future recommendations?\\n---', 'role': 'system'}, {'content': 'I want to meal prep chicken breast, rice, and a vegetable. What ingredients should I use?', 'role': 'user'}], 'is_root': True, 'log_id': 'g', 'metadata': {'human_review': '- For meal prep requests, the agent should specify how many means the recipe makes\\n\\n- An appropriate follow-up question for meal prep recommendations is asking how many meals the user wants to prep so that the AI can adjust the amounts of each ingredients', 'id': 8, 'source': 'handcoded', 'submitted_by': 'maverick'}, 'metrics': {'end': 1753765957.8922088, 'start': 1753765946.3746428}, 'org_id': 'c6a0ddc1-c2f1-4b85-a05c-124db8119af1', 'origin': None, 'output': [{'content': \"## Meal-Prep Chicken, Rice, and Veggie Bowl\\n\\nThis healthy and satisfying meal prep bowl features seasoned chicken breast, fluffy rice, and colorful vegetables. It's perfect for dividing into containers for the week ahead!\\n\\n### Ingredients\\n* 1.5 lbs boneless, skinless chicken breasts\\n* 1.5 cups uncooked brown rice (or white rice)\\n* 3 cups mixed vegetables (like broccoli, bell peppers, and carrots)\\n* 3 tbsp olive oil\\n* 2 tsp garlic powder\\n* 2 tsp paprika\\n* 1 tsp salt\\n* 1/2 tsp black pepper\\n* 2 tbsp soy sauce or tamari for extra flavor (optional)\\n* Fresh parsley (for garnish)\\n\\n### Instructions\\n1. **Cook the Rice**: Rinse the rice under cold water and then cook it according to package instructions (usually 2 parts water to 1 part rice). For extra flavor, you can replace water with low-sodium chicken broth.\\n  \\n2. **Prepare the Chicken**: Preheat your oven to 400°F (200°C). In a large bowl, mix 2 tbsp olive oil, garlic powder, paprika, salt, and pepper. Add chicken breasts and coat them well with the seasoning.\\n\\n3. **Bake the Chicken**: Place the seasoned chicken breasts on a baking sheet lined with parchment paper. Bake for 20-25 minutes or until the internal temperature reaches 165°F (75°C). Let the chicken rest for 5 minutes before slicing.\\n\\n4. **Cook the Vegetables**: In a large skillet, heat the remaining 1 tbsp of olive oil over medium heat. Add the mixed vegetables and stir-fry for about 5-7 minutes or until they are tender. Optionally, drizzle soy sauce or tamari in the last minute of cooking for added flavor.\\n\\n5. **Assemble the Bowls**: In meal prep containers, divide the cooked rice, sliced chicken breasts, and sautéed vegetables evenly. Garnish with fresh parsley if desired.\\n\\n6. **Store**: Let the containers cool completely before sealing them. Store in the refrigerator for up to 4 days.\\n\\n### Notes\\n* Feel free to swap in your favorite vegetables based on seasonal availability or personal preference.\\n* This meal is versatile—try adding different sauces or spices to keep it interesting throughout the week!\\n\\n**Follow-up questions:** Do you have any specific vegetables you prefer or any dietary restrictions I should know about? How many meals are you looking to prep? Would you like any snack or sauce ideas to accompany your meals?\", 'role': 'assistant'}], 'project_id': '54782088-3418-41ea-acda-d6302c2dfa64', 'root_span_id': 'a6867843-debe-4762-9cf7-7796afc860fb', 'scores': {'is_good': 0}, 'span_attributes': {'exec_counter': 257, 'name': 'get_agent_response', 'type': 'function'}, 'span_id': 'a6867843-debe-4762-9cf7-7796afc860fb', 'span_parents': None, 'tags': None}\n"
     ]
    }
   ],
   "source": [
    "annotated_traces = get_annotated_traces(True)\n",
    "\n",
    "print(len(annotated_traces))\n",
    "print(annotated_traces[0])"
   ]
  },
  {
   "cell_type": "markdown",
   "id": "037c6eae",
   "metadata": {},
   "source": [
    "#### Use an LLM to get us started\n"
   ]
  },
  {
   "cell_type": "code",
   "execution_count": 14,
   "id": "3effd1e2",
   "metadata": {},
   "outputs": [],
   "source": [
    "class TraceExample(BaseModel):\n",
    "    input_id: str | None = Field(..., description=\"The id of the input to the example if it exists\")\n",
    "    input: str = Field(..., description=\"The entire input to the example\")\n",
    "    output_issue: str = Field(..., description=\"The issue with the output\")\n",
    "\n",
    "\n",
    "class FailureMode(BaseModel):\n",
    "    title: str = Field(..., description=\"A short title, 3-5 words, for the failure mode.\")\n",
    "    slug: str = Field(..., description=\"A slug for the failure mode, 3-5 words, in snake_case.\")\n",
    "    description: str = Field(..., description=\"A short one sentence description of the failure mode.\")\n",
    "    examples: list[TraceExample] = Field(..., description=\"A list of examples of the failure mode.\", min_length=1, max_length=3)\n",
    "\n",
    "\n",
    "class FailureModeList(BaseModel):\n",
    "    failure_modes: list[FailureMode] = Field(..., description=\"A list of failure modes.\")\n"
   ]
  },
  {
   "cell_type": "code",
   "execution_count": 15,
   "id": "ca5d6e4a",
   "metadata": {},
   "outputs": [],
   "source": [
    "def get_failure_modes(traces: list[dict]):\n",
    "    # Extract all human review comments\n",
    "    if not traces:\n",
    "        return []\n",
    "\n",
    "    prompt = f\"\"\"\\\n",
    "Analyze the following human feedback provided for each of the examples below to identify the high-level failure modes present \n",
    "in the examples.\n",
    "\n",
    "Examples with Human Reviews, Inputs, and AI Outputs:\n",
    "\"\"\"\n",
    "    for trace in traces:\n",
    "        input_id = str(trace.get(\"metadata\", {}).get(\"id\", \"N/A\"))\n",
    "        input_text = trace.get(\"input\", [])[-1][\"content\"]\n",
    "        output_text = trace.get(\"output\", [])[-1][\"content\"]\n",
    "        human_review = trace.get(\"metadata\", {}).get(\"human_review\", \"N/A\")\n",
    "\n",
    "        prompt += f\"-----\\n<input_id>{input_id}</input_id>\\n<input>:\\n{input_text}\\n</input>\\n<output>\\n{output_text}\\n</output>\\n<human_review>\\n{human_review}\\n</human_review>\\n-----\"\n",
    "\n",
    "    prompt += \"\"\"\\\n",
    "\\nReturn only the high-level failure modes that appear across these reviews as a list of strings and examples of the inputs and outputs that demonstrate the failure mode.\"\"\"\n",
    "\n",
    "    # return prompt\n",
    "\n",
    "    response = oai_client.chat.completions.parse(\n",
    "        model=\"gpt-4.1-mini\",\n",
    "        messages=[\n",
    "            {\"role\": \"system\", \"content\": \"You are an expert at analyzing feedback to identify high-level systematic failure patterns.\"},\n",
    "            {\"role\": \"user\", \"content\": prompt},\n",
    "        ],\n",
    "        response_format=FailureModeList,\n",
    "        temperature=0.1,\n",
    "    )\n",
    "\n",
    "    return response.choices[0].message.parsed  # type: ignore"
   ]
  },
  {
   "cell_type": "code",
   "execution_count": 22,
   "id": "cae45d2f",
   "metadata": {},
   "outputs": [],
   "source": [
    "failure_mode_list = get_failure_modes(annotated_traces)"
   ]
  },
  {
   "cell_type": "code",
   "execution_count": 23,
   "id": "6b5afa3c",
   "metadata": {},
   "outputs": [
    {
     "name": "stdout",
     "output_type": "stream",
     "text": [
      "Failure modes saved to failure_modes.json\n"
     ]
    }
   ],
   "source": [
    "with open(\"failure_modes.json\", \"w\") as f:\n",
    "    json.dump(failure_mode_list.model_dump(), f, indent=2)  # type ignore\n",
    "\n",
    "print(\"Failure modes saved to failure_modes.json\")\n"
   ]
  },
  {
   "cell_type": "markdown",
   "id": "017a3fe4",
   "metadata": {},
   "source": [
    "### Save our taxonomy definitions as markdown for review\n"
   ]
  },
  {
   "cell_type": "code",
   "execution_count": null,
   "id": "bd32a9dd",
   "metadata": {},
   "outputs": [],
   "source": [
    "def save_failure_modes_to_markdown(failure_mode_list_d: dict, filename=\"failure_mode_taxonomy.md\"):\n",
    "    \"\"\"\n",
    "    Save failure modes to a markdown file with proper formatting.\n",
    "    \"\"\"\n",
    "\n",
    "    failure_mode_list = FailureModeList(**failure_mode_list_d)\n",
    "    md_content = []\n",
    "\n",
    "    # Header\n",
    "    md_content.append(\"# Failure Mode Taxonomy\")\n",
    "    md_content.append(\"\")\n",
    "    md_content.append(\n",
    "        \"This document outlines the failure modes observed or anticipated for the Recipe Chatbot. Each failure mode includes a title, a concise definition, and illustrative examples.\"\n",
    "    )\n",
    "    md_content.append(\"\")\n",
    "\n",
    "    # Iterate through each failure mode\n",
    "    for i, fm in enumerate(failure_mode_list.failure_modes, 1):\n",
    "        # Failure mode header\n",
    "        md_content.append(f\"## Failure Mode {i}: {fm.title}\")\n",
    "        md_content.append(\"\")\n",
    "\n",
    "        # Basic info with markdown formatting\n",
    "        md_content.append(f\"- **Definition**: {fm.description}\")\n",
    "        md_content.append(f\"- **Slug**: `{fm.slug}`\")\n",
    "        md_content.append(\"\")\n",
    "\n",
    "        # Examples section\n",
    "        if fm.examples:\n",
    "            md_content.append(\"### Examples\")\n",
    "            md_content.append(\"\")\n",
    "\n",
    "            for j, example in enumerate(fm.examples, 1):\n",
    "                md_content.append(f'{j}. **User Query**: \"(id: {example.input_id or \"N/A\"}) {example.input}\"  \\\\')\n",
    "                md_content.append(f\"   **Bot Response**: {example.output_issue}\")\n",
    "                md_content.append(\"\")\n",
    "\n",
    "        # Add separator between failure modes (except for the last one)\n",
    "        if i < len(failure_mode_list.failure_modes):\n",
    "            md_content.append(\"---\")\n",
    "            md_content.append(\"\")\n",
    "\n",
    "    # Write to file\n",
    "    with open(filename, \"w\", encoding=\"utf-8\") as f:\n",
    "        f.write(\"\\n\".join(md_content))\n",
    "\n",
    "    print(f\"✅ Failure modes saved to {filename}\")\n",
    "    return filename"
   ]
  },
  {
   "cell_type": "code",
   "execution_count": 34,
   "id": "b991d547",
   "metadata": {},
   "outputs": [
    {
     "name": "stdout",
     "output_type": "stream",
     "text": [
      "✅ Failure modes saved to failure_modes.md\n"
     ]
    },
    {
     "data": {
      "text/plain": [
       "'failure_modes.md'"
      ]
     },
     "execution_count": 34,
     "metadata": {},
     "output_type": "execute_result"
    }
   ],
   "source": [
    "with open(\"failure_modes.json\", \"r\") as f:\n",
    "    failure_mode_list = json.load(f)\n",
    "\n",
    "save_failure_modes_to_markdown(failure_mode_list, \"failure_modes.md\")\n"
   ]
  },
  {
   "cell_type": "markdown",
   "id": "d9f6163c",
   "metadata": {},
   "source": [
    "### Build Failure mode analysis dataset\n"
   ]
  },
  {
   "cell_type": "markdown",
   "id": "95b7e0c6",
   "metadata": {},
   "source": [
    "Here we will use an LLM to perform a first pass of identifying the failure modes exhibited by each trace.\n"
   ]
  },
  {
   "cell_type": "code",
   "execution_count": null,
   "id": "de08a47c",
   "metadata": {},
   "outputs": [],
   "source": [
    "with open(\"failure_modes.json\", \"r\") as f:\n",
    "    j = json.load(f)\n",
    "\n",
    "failure_mode_list = FailureModeList(**j)"
   ]
  },
  {
   "cell_type": "markdown",
   "id": "af3bc5fc",
   "metadata": {},
   "source": [
    "#### Data\n"
   ]
  },
  {
   "cell_type": "code",
   "execution_count": 39,
   "id": "51fb4cb8",
   "metadata": {},
   "outputs": [
    {
     "name": "stdout",
     "output_type": "stream",
     "text": [
      "135\n"
     ]
    },
    {
     "data": {
      "text/plain": [
       "['_pagination_key',\n",
       " '_xact_id',\n",
       " 'context',\n",
       " 'created',\n",
       " 'error',\n",
       " 'expected',\n",
       " 'id',\n",
       " 'input',\n",
       " 'is_root',\n",
       " 'log_id',\n",
       " 'metadata',\n",
       " 'metrics',\n",
       " 'org_id',\n",
       " 'origin',\n",
       " 'output',\n",
       " 'project_id',\n",
       " 'root_span_id',\n",
       " 'scores',\n",
       " 'span_attributes',\n",
       " 'span_id',\n",
       " 'span_parents',\n",
       " 'tags']"
      ]
     },
     "execution_count": 39,
     "metadata": {},
     "output_type": "execute_result"
    }
   ],
   "source": [
    "annotated_traces = get_annotated_traces(return_only_human_reviews=False)\n",
    "\n",
    "print(len(annotated_traces))\n",
    "list(annotated_traces[0].keys())"
   ]
  },
  {
   "cell_type": "code",
   "execution_count": 54,
   "id": "e5225631",
   "metadata": {},
   "outputs": [],
   "source": [
    "def build_error_analysis_input(traces: list[dict]):\n",
    "    # Extract data for error analysis\n",
    "    error_analysis_data = []\n",
    "\n",
    "    for trace in traces:\n",
    "        # Extract user query (last user message content)\n",
    "        input_messages = trace.get(\"input\", [])\n",
    "        input = \"\"\n",
    "        if input_messages:\n",
    "            # Find the last user message\n",
    "            for msg in reversed(input_messages):\n",
    "                if msg.get(\"role\") == \"user\":\n",
    "                    input = msg.get(\"content\", \"\")\n",
    "                    break\n",
    "\n",
    "        # Extract full bot response (last assistant message content)\n",
    "        output = trace.get(\"output\", [])\n",
    "\n",
    "        # Extract human review from metadata\n",
    "        human_review = trace.get(\"metadata\", {}).get(\"human_review\", \"\")\n",
    "\n",
    "        error_analysis_data.append({\"trace_id\": trace.get(\"id\", \"\"), \"input\": input, \"output\": output, \"open_code_notes\": human_review})\n",
    "\n",
    "    return error_analysis_data"
   ]
  },
  {
   "cell_type": "code",
   "execution_count": null,
   "id": "29e683af",
   "metadata": {},
   "outputs": [],
   "source": []
  },
  {
   "cell_type": "code",
   "execution_count": 55,
   "id": "a7817733",
   "metadata": {},
   "outputs": [
    {
     "name": "stdout",
     "output_type": "stream",
     "text": [
      "135\n"
     ]
    },
    {
     "data": {
      "text/plain": [
       "{'trace_id': 'e26719da-2ae7-4f8f-962d-0426f84fea91',\n",
       " 'input': 'I want to meal prep chicken breast, rice, and a vegetable. What ingredients should I use?',\n",
       " 'output': [{'content': \"## Meal-Prep Chicken, Rice, and Veggie Bowl\\n\\nThis healthy and satisfying meal prep bowl features seasoned chicken breast, fluffy rice, and colorful vegetables. It's perfect for dividing into containers for the week ahead!\\n\\n### Ingredients\\n* 1.5 lbs boneless, skinless chicken breasts\\n* 1.5 cups uncooked brown rice (or white rice)\\n* 3 cups mixed vegetables (like broccoli, bell peppers, and carrots)\\n* 3 tbsp olive oil\\n* 2 tsp garlic powder\\n* 2 tsp paprika\\n* 1 tsp salt\\n* 1/2 tsp black pepper\\n* 2 tbsp soy sauce or tamari for extra flavor (optional)\\n* Fresh parsley (for garnish)\\n\\n### Instructions\\n1. **Cook the Rice**: Rinse the rice under cold water and then cook it according to package instructions (usually 2 parts water to 1 part rice). For extra flavor, you can replace water with low-sodium chicken broth.\\n  \\n2. **Prepare the Chicken**: Preheat your oven to 400°F (200°C). In a large bowl, mix 2 tbsp olive oil, garlic powder, paprika, salt, and pepper. Add chicken breasts and coat them well with the seasoning.\\n\\n3. **Bake the Chicken**: Place the seasoned chicken breasts on a baking sheet lined with parchment paper. Bake for 20-25 minutes or until the internal temperature reaches 165°F (75°C). Let the chicken rest for 5 minutes before slicing.\\n\\n4. **Cook the Vegetables**: In a large skillet, heat the remaining 1 tbsp of olive oil over medium heat. Add the mixed vegetables and stir-fry for about 5-7 minutes or until they are tender. Optionally, drizzle soy sauce or tamari in the last minute of cooking for added flavor.\\n\\n5. **Assemble the Bowls**: In meal prep containers, divide the cooked rice, sliced chicken breasts, and sautéed vegetables evenly. Garnish with fresh parsley if desired.\\n\\n6. **Store**: Let the containers cool completely before sealing them. Store in the refrigerator for up to 4 days.\\n\\n### Notes\\n* Feel free to swap in your favorite vegetables based on seasonal availability or personal preference.\\n* This meal is versatile—try adding different sauces or spices to keep it interesting throughout the week!\\n\\n**Follow-up questions:** Do you have any specific vegetables you prefer or any dietary restrictions I should know about? How many meals are you looking to prep? Would you like any snack or sauce ideas to accompany your meals?\",\n",
       "   'role': 'assistant'}],\n",
       " 'open_code_notes': '- For meal prep requests, the agent should specify how many means the recipe makes\\n\\n- An appropriate follow-up question for meal prep recommendations is asking how many meals the user wants to prep so that the AI can adjust the amounts of each ingredients'}"
      ]
     },
     "execution_count": 55,
     "metadata": {},
     "output_type": "execute_result"
    }
   ],
   "source": [
    "ea_input = build_error_analysis_input(annotated_traces)\n",
    "\n",
    "print(len(ea_input))\n",
    "ea_input[7]"
   ]
  },
  {
   "cell_type": "code",
   "execution_count": 56,
   "id": "907fd120",
   "metadata": {},
   "outputs": [
    {
     "data": {
      "text/plain": [
       "['unverified_store_availability',\n",
       " 'incorrect_assumptions_user_intent',\n",
       " 'missing_inappropriate_followup_questions',\n",
       " 'unsubstantiated_recipe_claims']"
      ]
     },
     "execution_count": 56,
     "metadata": {},
     "output_type": "execute_result"
    }
   ],
   "source": [
    "[fm.slug for fm in failure_mode_list.failure_modes]  # type: ignore"
   ]
  },
  {
   "cell_type": "code",
   "execution_count": 57,
   "id": "18fec6a9",
   "metadata": {},
   "outputs": [],
   "source": [
    "def get_failure_mode_defs():\n",
    "    with open(\"failure_modes.md\", \"r\") as f:\n",
    "        failure_modes_content = f.read()\n",
    "\n",
    "    # Split by lines and find where the actual failure modes start\n",
    "    lines = failure_modes_content.split(\"\\n\")\n",
    "    failure_modes_start = None\n",
    "\n",
    "    for i, line in enumerate(lines):\n",
    "        if line.strip().startswith(\"## \") and \"failure\" in line.lower():\n",
    "            failure_modes_start = i\n",
    "            break\n",
    "\n",
    "    if failure_modes_start is not None:\n",
    "        failure_modes_only = \"\\n\".join(lines[failure_modes_start:])\n",
    "    else:\n",
    "        # Fallback: assume everything after the first ## is failure modes\n",
    "        failure_modes_only = failure_modes_content\n",
    "\n",
    "    return failure_modes_only\n"
   ]
  },
  {
   "cell_type": "code",
   "execution_count": 58,
   "id": "978c150b",
   "metadata": {},
   "outputs": [
    {
     "name": "stdout",
     "output_type": "stream",
     "text": [
      "## Failure Mode 1: Unverified Store Availability\n",
      "\n",
      "- **Definition**: AI assumes ingredient availabili\n"
     ]
    }
   ],
   "source": [
    "fm_defs = get_failure_mode_defs()\n",
    "print(fm_defs[:100])"
   ]
  },
  {
   "cell_type": "code",
   "execution_count": 59,
   "id": "1932e9f0",
   "metadata": {},
   "outputs": [],
   "source": [
    "class FailureModeIdentifier(BaseModel):\n",
    "    full_bot_trace_summary: str = Field(\n",
    "        ...,\n",
    "        description=\"A summary of the bot's full response and behavior.\",\n",
    "    )\n",
    "    unverified_store_availability: bool = Field(\n",
    "        ..., description=\"True if you believe the 'Unverified Store Availability' failure mode is present in the example.\"\n",
    "    )\n",
    "    missing_meal_prep_quantity_clarification: bool = Field(\n",
    "        ..., description=\"True if you believe the 'Missing Meal Prep Quantity Clarification' failure mode is present in the example.\"\n",
    "    )\n",
    "    incorrect_follow_up_questions: bool = Field(\n",
    "        ..., description=\"True if you believe the 'Incorrect Follow-up Questions' failure mode is present in the example.\"\n",
    "    )\n",
    "    unwarranted_claims_of_recipe_ratings_or_popularity: bool = Field(\n",
    "        ...,\n",
    "        description=\"True if you believe the 'Unwarranted Claims of Recipe Ratings or Popularity' failure mode is present in the example.\",\n",
    "    )\n",
    "    misinterpretation_of_user_input: bool = Field(\n",
    "        ..., description=\"True if you believe the 'Misinterpretation of User Input' failure mode is present in the example.\"\n",
    "    )"
   ]
  },
  {
   "cell_type": "markdown",
   "id": "e2604c62",
   "metadata": {},
   "source": [
    "#### Failure mode predictions\n"
   ]
  },
  {
   "cell_type": "code",
   "execution_count": null,
   "id": "4a43aaaf",
   "metadata": {},
   "outputs": [],
   "source": [
    "def get_trace_failure_modes(inp_d: dict, failure_mode_defs: str):\n",
    "    # Extract all human review comments\n",
    "\n",
    "    sys_prompt = f\"\"\"\\\n",
    "You are an expert at determining whether a trace's input and output demonstrate a failure mode.\n",
    "Use the 'Failure Mode Taxonomy' below to determine what failure modes are present in the trace provided\n",
    "\n",
    "# Failure Mode Taxonomy\n",
    "{failure_mode_defs}\n",
    "\n",
    "# Instructions:\n",
    "Given a trace's input and output, and optionally an open_code_notes:\n",
    "1. Summarize the bot's full response and behavior.\n",
    "2. For each failure mode above:\n",
    "* Determine if the input, output, and open_code_notes demonstrate the failure mode.\n",
    "* If the failure mode is present, set the failure mode to True.\n",
    "* If the failure mode is not present, set the failure mode to False.\n",
    "* If the failure mode is identified in the open_code_notes, set the failure mode to True.\n",
    "\n",
    "Double check your work!\"\"\"\n",
    "\n",
    "    response = oai_client.chat.completions.parse(\n",
    "        model=\"gpt-4o\",\n",
    "        messages=[\n",
    "            {\"role\": \"system\", \"content\": sys_prompt},\n",
    "            {\"role\": \"user\", \"content\": json.dumps(inp_d, indent=2)},\n",
    "        ],\n",
    "        response_format=FailureModeIdentifier,\n",
    "        temperature=0.1,\n",
    "    )\n",
    "\n",
    "    return response.choices[0].message.parsed  # type: ignore"
   ]
  },
  {
   "cell_type": "code",
   "execution_count": 61,
   "id": "a57e0281",
   "metadata": {},
   "outputs": [
    {
     "data": {
      "text/plain": [
       "{'full_bot_trace_summary': 'The bot provides a detailed recipe for a meal prep bowl featuring chicken breast, rice, and vegetables. It includes a list of ingredients, step-by-step cooking instructions, and storage tips. The bot also offers follow-up questions about vegetable preferences, dietary restrictions, and the number of meals the user wants to prep.',\n",
       " 'unverified_store_availability': False,\n",
       " 'missing_meal_prep_quantity_clarification': True,\n",
       " 'incorrect_follow_up_questions': False,\n",
       " 'unwarranted_claims_of_recipe_ratings_or_popularity': False,\n",
       " 'misinterpretation_of_user_input': False}"
      ]
     },
     "execution_count": 61,
     "metadata": {},
     "output_type": "execute_result"
    }
   ],
   "source": [
    "rsp = get_trace_failure_modes(ea_input[7], fm_defs)\n",
    "rsp.model_dump()\n",
    "# print(rsp)"
   ]
  },
  {
   "cell_type": "code",
   "execution_count": 62,
   "id": "449a639d",
   "metadata": {},
   "outputs": [
    {
     "name": "stdout",
     "output_type": "stream",
     "text": [
      "Processed 0 traces\n",
      "Processed 10 traces\n",
      "Processed 20 traces\n",
      "Processed 30 traces\n",
      "Processed 40 traces\n",
      "Processed 50 traces\n",
      "Processed 60 traces\n",
      "Processed 70 traces\n",
      "Processed 80 traces\n",
      "Processed 90 traces\n",
      "Processed 100 traces\n",
      "Processed 110 traces\n",
      "Processed 120 traces\n",
      "Processed 130 traces\n",
      "135\n",
      "{'full_bot_trace_summary': 'The bot provides a recipe for a High-Protein Beef and Quinoa Bowl, emphasizing its suitability for meal prep. It includes a list of ingredients, step-by-step instructions, and tips for customization. The bot also asks follow-up questions about spice preferences, vegetable choices, and serving quantities.', 'unverified_store_availability': False, 'missing_meal_prep_quantity_clarification': False, 'incorrect_follow_up_questions': False, 'unwarranted_claims_of_recipe_ratings_or_popularity': False, 'misinterpretation_of_user_input': True}\n"
     ]
    }
   ],
   "source": [
    "failure_modes_found = []\n",
    "for i, inp_d in enumerate(ea_input):\n",
    "    if i % 10 == 0:\n",
    "        print(f\"Processed {i} traces\")\n",
    "    rsp = get_trace_failure_modes(inp_d, fm_defs)\n",
    "    failure_modes_found.append(rsp.model_dump())  # type: ignore\n",
    "\n",
    "print(len(failure_modes_found))\n",
    "print(failure_modes_found[0])"
   ]
  },
  {
   "cell_type": "code",
   "execution_count": 66,
   "id": "ba4ce3c7",
   "metadata": {},
   "outputs": [
    {
     "name": "stdout",
     "output_type": "stream",
     "text": [
      "Combined 135 records\n",
      "Sample combined record:\n",
      "{\n",
      "  \"trace_id\": \"27ca8130-35d6-4978-9347-e0c480ee9666\",\n",
      "  \"input\": \"high protein lunch with ground beef\",\n",
      "  \"output\": [\n",
      "    {\n",
      "      \"content\": \"## High-Protein Beef and Quinoa Bowl\\n\\nThis flavorful beef and quinoa bowl is packed with protein and nutrients, making it a satisfying and nutritious lunch option perfect for meal prep. It's easy to assemble and ideal for those busy weekdays!\\n\\n### Ingredients\\n* 1 lb lean ground beef (90% lean)\\n* 1 cup cooked quinoa\\n* 1 cup diced bell peppers (any color)\\n* 1 cup chopped spinach or kale\\n* 1/2 cup diced onion\\n* 3 cloves garlic, minced\\n* 1 tsp cumin\\n* 1 tsp paprika\\n* Salt and pepper, to taste\\n* 1 tbsp olive oil\\n* Fresh cilantro or parsley for garnish\\n* Lime wedges for serving (optional)\\n\\n### Instructions\\n1. Heat olive oil in a large skillet over medium heat.\\n2. Add onion and garlic, saut\\u00e9ing until the onion is translucent (about 3-4 minutes).\\n3. Add ground beef to the skillet, breaking it apart with a spatula. Cook until browned and fully cooked, about 7-10 minutes. Drain excess fat if necessary.\\n4. Stir in diced bell peppers, cumin, paprika, salt, and pepper. Cook until the peppers are tender, about 5 minutes.\\n5. Add chopped spinach or kale, cooking until wilted (about 2-3 minutes).\\n6. Remove from heat and stir in cooked quinoa until evenly mixed.\\n7. Serve warm, garnished with fresh cilantro or parsley and lime wedges, if desired.\\n\\n### Tips\\n* This recipe can be stored in the refrigerator for up to 4 days and reheats well, making it great for meal prep.\\n* Feel free to customize with your favorite vegetables or spices to suit your taste!\\n\\n**Follow-up questions:** Do you have any preferences for spices or flavors you enjoy? Are there any particular vegetables you want to include or avoid? How many servings do you typically prepare for lunch?\",\n",
      "      \"role\": \"assistant\"\n",
      "    }\n",
      "  ],\n",
      "  \"open_code_notes\": \"\",\n",
      "  \"full_bot_trace_summary\": \"The bot provides a recipe for a High-Protein Beef and Quinoa Bowl, emphasizing its suitability for meal prep. It includes a list of ingredients, step-by-step instructions, and tips for customization. The bot also asks follow-up questions about spice preferences, vegetable choices, and serving quantities.\",\n",
      "  \"unverified_store_availability\": false,\n",
      "  \"missing_meal_prep_quantity_clarification\": false,\n",
      "  \"incorrect_follow_up_questions\": false,\n",
      "  \"unwarranted_claims_of_recipe_ratings_or_popularity\": false,\n",
      "  \"misinterpretation_of_user_input\": true\n",
      "}\n"
     ]
    }
   ],
   "source": [
    "# Combine failure modes with original input data\n",
    "combined_data = []\n",
    "for i, (inp_d, failure_modes) in enumerate(zip(ea_input, failure_modes_found)):\n",
    "    combined_record = {**inp_d, **failure_modes}\n",
    "    combined_data.append(combined_record)\n",
    "\n",
    "print(f\"Combined {len(combined_data)} records\")\n",
    "print(\"Sample combined record:\")\n",
    "print(json.dumps(combined_data[0], indent=2))\n"
   ]
  },
  {
   "cell_type": "markdown",
   "id": "424e9298",
   "metadata": {},
   "source": [
    "#### Save trace failure mode predictions for human review/upload to Braintrust\n"
   ]
  },
  {
   "cell_type": "code",
   "execution_count": 67,
   "id": "52754593",
   "metadata": {},
   "outputs": [
    {
     "name": "stdout",
     "output_type": "stream",
     "text": [
      "Saved 135 records to trace_failure_modes.json\n"
     ]
    }
   ],
   "source": [
    "with open(\"trace_failure_modes.json\", \"w\") as f:\n",
    "    json.dump(combined_data, f, indent=2)\n",
    "\n",
    "print(f\"Saved {len(combined_data)} records to trace_failure_modes.json\")\n"
   ]
  },
  {
   "cell_type": "markdown",
   "id": "0678ef7e",
   "metadata": {},
   "source": [
    "#### Review failure mode counts\n"
   ]
  },
  {
   "cell_type": "code",
   "execution_count": 68,
   "id": "c4d1b0ed",
   "metadata": {},
   "outputs": [
    {
     "name": "stdout",
     "output_type": "stream",
     "text": [
      "Failure Mode Analysis - All Data:\n"
     ]
    },
    {
     "data": {
      "image/png": "[encoded data removed]",
      "text/plain": [
       "<Figure size 1200x800 with 1 Axes>"
      ]
     },
     "metadata": {},
     "output_type": "display_data"
    },
    {
     "name": "stdout",
     "output_type": "stream",
     "text": [
      "\n",
      "Failure Mode Analysis - Filtered (open_code_notes not empty):\n"
     ]
    },
    {
     "data": {
      "image/png": "[encoded data removed]",
      "text/plain": [
       "<Figure size 1200x800 with 1 Axes>"
      ]
     },
     "metadata": {},
     "output_type": "display_data"
    },
    {
     "name": "stdout",
     "output_type": "stream",
     "text": [
      "\n",
      "Summary Statistics:\n",
      "Total records: 135\n",
      "Records with open_code_notes: 21\n",
      "Records without open_code_notes: 114\n"
     ]
    }
   ],
   "source": [
    "# Load the data\n",
    "df = pd.DataFrame(combined_data)\n",
    "\n",
    "# Get all failure mode columns (excluding metadata columns)\n",
    "failure_mode_cols = [\n",
    "    col\n",
    "    for col in df.columns\n",
    "    if col\n",
    "    in [\n",
    "        \"unverified_store_availability\",\n",
    "        \"missing_meal_prep_quantity_clarification\",\n",
    "        \"incorrect_follow_up_questions\",\n",
    "        \"unwarranted_claims_of_recipe_ratings_or_popularity\",\n",
    "        \"misinterpretation_of_user_input\",\n",
    "    ]\n",
    "]\n",
    "\n",
    "\n",
    "def plot_failure_modes(filter_open_notes=False):\n",
    "    # Filter data if requested\n",
    "    if filter_open_notes:\n",
    "        filtered_df = df[df[\"open_code_notes\"] != \"\"]\n",
    "        title_suffix = \" (Filtered: open_code_notes not empty)\"\n",
    "    else:\n",
    "        filtered_df = df\n",
    "        title_suffix = \" (All data)\"\n",
    "\n",
    "    # Count occurrences of each failure mode\n",
    "    failure_counts = {}\n",
    "    for col in failure_mode_cols:\n",
    "        count = filtered_df[col].sum()\n",
    "        failure_counts[col] = count\n",
    "\n",
    "    # Sort by count (descending)\n",
    "    sorted_counts = dict(sorted(failure_counts.items(), key=lambda x: x[1], reverse=True))\n",
    "\n",
    "    # Create the plot\n",
    "    plt.figure(figsize=(12, 8))\n",
    "\n",
    "    # Format labels for better readability\n",
    "    labels = [label.replace(\"_\", \" \").title() for label in sorted_counts.keys()]\n",
    "    values = list(sorted_counts.values())\n",
    "\n",
    "    # Create horizontal bar chart\n",
    "    bars = plt.barh(range(len(labels)), values, color=\"steelblue\", alpha=0.7)\n",
    "\n",
    "    # Customize the plot\n",
    "    plt.yticks(range(len(labels)), labels)\n",
    "    plt.xlabel(\"Count\", fontsize=12)\n",
    "    plt.ylabel(\"Failure Mode\", fontsize=12)\n",
    "    plt.title(f\"Failure Mode Distribution{title_suffix}\", fontsize=14, fontweight=\"bold\")\n",
    "\n",
    "    # Add value labels on bars\n",
    "    for i, (bar, value) in enumerate(zip(bars, values)):\n",
    "        plt.text(value + 0.5, i, str(value), va=\"center\", fontsize=10)\n",
    "\n",
    "    # Add grid for better readability\n",
    "    plt.grid(axis=\"x\", alpha=0.3)\n",
    "\n",
    "    # Adjust layout\n",
    "    plt.tight_layout()\n",
    "    plt.gca().invert_yaxis()  # Highest values at top\n",
    "\n",
    "    return plt.gcf()\n",
    "\n",
    "\n",
    "# Plot all data\n",
    "print(\"Failure Mode Analysis - All Data:\")\n",
    "fig1 = plot_failure_modes(filter_open_notes=False)\n",
    "plt.show()\n",
    "\n",
    "# Plot filtered data (only records with open_code_notes)\n",
    "print(\"\\nFailure Mode Analysis - Filtered (open_code_notes not empty):\")\n",
    "fig2 = plot_failure_modes(filter_open_notes=True)\n",
    "plt.show()\n",
    "\n",
    "# Print summary statistics\n",
    "print(f\"\\nSummary Statistics:\")\n",
    "print(f\"Total records: {len(df)}\")\n",
    "print(f\"Records with open_code_notes: {len(df[df['open_code_notes'] != ''])}\")\n",
    "print(f\"Records without open_code_notes: {len(df[df['open_code_notes'] == ''])}\")\n"
   ]
  },
  {
   "cell_type": "markdown",
   "id": "d2dc182c",
   "metadata": {},
   "source": [
    "## Fin\n"
   ]
  },
  {
   "cell_type": "markdown",
   "id": "1a3a79e3",
   "metadata": {},
   "source": []
  }
 ],
 "metadata": {
  "kernelspec": {
   "display_name": ".venv",
   "language": "python",
   "name": "python3"
  },
  "language_info": {
   "codemirror_mode": {
    "name": "ipython",
    "version": 3
   },
   "file_extension": ".py",
   "mimetype": "text/x-python",
   "name": "python",
   "nbconvert_exporter": "python",
   "pygments_lexer": "ipython3",
   "version": "3.12.11"
  }
 },
 "nbformat": 4,
 "nbformat_minor": 5
}
