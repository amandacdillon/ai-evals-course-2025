{
 "cells": [
  {
   "cell_type": "markdown",
   "id": "d581218e",
   "metadata": {},
   "source": [
    "# Part 1: Define Dimensions & Generate Initial Queries\n"
   ]
  },
  {
   "cell_type": "markdown",
   "id": "3f891b57",
   "metadata": {},
   "source": [
    "In this notebook, we will cover:\n",
    "\n",
    "- Identifying key dimensions of our user queries\n",
    "- Generate realistic unique combinations of dimension values as tuples\n",
    "- Use the dimension tuples to generate synthetic data\n",
    "- Add our synthetic queries to those provided by our domain experts\n",
    "\n",
    "Let's start by importing the required libraries.\n"
   ]
  },
  {
   "cell_type": "code",
   "execution_count": null,
   "id": "8150e756",
   "metadata": {},
   "outputs": [
    {
     "data": {
      "text/plain": [
       "True"
      ]
     },
     "execution_count": 45,
     "metadata": {},
     "output_type": "execute_result"
    }
   ],
   "source": [
    "import json\n",
    "import os\n",
    "import sys\n",
    "\n",
    "sys.path.append(os.path.abspath(\"..\"))\n",
    "from concurrent.futures import ThreadPoolExecutor\n",
    "from datetime import datetime\n",
    "from functools import partial\n",
    "from textwrap import dedent\n",
    "\n",
    "import braintrust as bt\n",
    "import openai as oai\n",
    "import requests\n",
    "\n",
    "from dotenv import load_dotenv\n",
    "from pydantic import BaseModel, Field\n",
    "\n",
    "load_dotenv(override=True)"
   ]
  },
  {
   "cell_type": "markdown",
   "id": "164a7ed5",
   "metadata": {},
   "source": [
    "## Setup\n",
    "\n",
    "Once you're signed up on [Braintrust](https://www.braintrust.dev/) and have set the appropriate API keys in your `.env` file, you're ready to go. For this particular demo, you'll need the following API keys:\n",
    "\n",
    "- `BRAINTRUST_API_KEY`\n",
    "- `OPENAI_API_KEY`\n"
   ]
  },
  {
   "cell_type": "code",
   "execution_count": 2,
   "id": "0da9d69a",
   "metadata": {},
   "outputs": [],
   "source": [
    "BT_PROJECT_NAME = \"recipe-bot\"\n",
    "MAX_WORKERS = 5\n",
    "\n",
    "bt_project = bt.projects.create(name=BT_PROJECT_NAME)\n",
    "oai_client = oai.OpenAI(base_url=\"https://api.braintrust.dev/v1/proxy\", api_key=os.getenv(\"OPENAI_API_KEY\"))\n"
   ]
  },
  {
   "cell_type": "markdown",
   "id": "5a6c6ce2",
   "metadata": {},
   "source": [
    "**Key takeaways**:\n",
    "\n",
    "1. We use `braintrust.projects.create()` to create or fetch a Braintrust project.\n",
    "2. We use our [AI proxy](https://www.braintrust.dev/docs/guides/proxy) to simplify our LLM calls and take advantage of automatic prompt caching.\n"
   ]
  },
  {
   "cell_type": "markdown",
   "id": "8d233210",
   "metadata": {},
   "source": [
    "## Step 1: Identify Key Dimensions:\n",
    "\n",
    "> \"First, before prompting anything, we define key dimensions of the query space... [to] help us systematically vary different aspects of a user’s request\"\n"
   ]
  },
  {
   "cell_type": "markdown",
   "id": "af157a53",
   "metadata": {},
   "source": [
    "### Prompt\n"
   ]
  },
  {
   "cell_type": "code",
   "execution_count": 4,
   "id": "07f57b14",
   "metadata": {},
   "outputs": [],
   "source": [
    "TUPLES_GEN_PROMPT = \"\"\"\\\n",
    "I am designing a customer support chatbot for the city of Encinitas and I want to test it against a diverse\n",
    "range of inquiries citizens might submit. I have provided you with several dimensions and that constitute the parts of\n",
    "such a queries along with a list of possible values for each dimension.\n",
    "\n",
    "## Instructions\n",
    "\n",
    "Generate {{{num_tuples_to_generate}}} unique combinations of dimension values for based on the dimensions provided below. \n",
    "- Each combination should represent a different user scenario. \n",
    "- Ensure balanced coverage across all dimensions - don't over-represent any particular value or combination.\n",
    "- Vary the query styles naturally.\n",
    "- Attempt to make the dimension value combinations as realistic as possible.\n",
    "\n",
    "## Dimensions\n",
    "\n",
    "request_type:\n",
    "- recipe_request: [asking for a specific recipe or recipe suggestions]\n",
    "- cooking_technique: [asking how to cook something or cooking methods]\n",
    "- ingredient_substitution: [need alternatives for missing ingredients]\n",
    "- nutritional_guidance: [focused on protein, calories, healthy options]\n",
    "- meal_planning: [meal prep, batch cooking, planning ahead]\n",
    "\n",
    "dietary_goal:\n",
    "- bulking: [building muscle, high calories, high protein]\n",
    "- cutting: [weight loss, low calorie, filling foods]\n",
    "- general_health: [balanced, nutritious, everyday cooking]\n",
    "- convenience: [quick, easy, practical cooking]\n",
    "- no_specific_goal: [just looking for tasty food]\n",
    "\n",
    "ingredient_specificity:\n",
    "- specific_ingredients: [specific ingredients like chicken, beef, fish, etc.]\n",
    "- general_ingredients: [general ingredients like chicken, beef, fish, etc.]\n",
    "- no_specific_ingredients: [no specific ingredients, just a general request]\n",
    "\n",
    "time_commitment:\n",
    "- quick_20_min\n",
    "- moderate_1_hour\n",
    "- meal_prep_batch\n",
    "- no_time_constraint\n",
    "\n",
    "specificity_level:\n",
    "- very_specific: [detailed requirements: exact ingredients, stores to get ingredients from, protein amounts]\n",
    "- moderately_specific: [some constraints: ingredient type, cooking method, general nutrition]\n",
    "- general_request: [broad categories: \"high protein lunch\", \"healthy dinner\"]\n",
    "- minimal_detail: [very brief: \"chicken recipe\", \"meal prep ideas\"]\n",
    "\n",
    "store_requirement:\n",
    "- specific_stores: [Costco, Trader Joes, Vons]\n",
    "- no_specific_stores\n",
    "\n",
    "Generate {{{num_tuples_to_generate}}} unique dimension tuples following these patterns. Remember to maintain balanced diversity across all dimensions.\"\"\"\n"
   ]
  },
  {
   "cell_type": "code",
   "execution_count": 5,
   "id": "776913fe",
   "metadata": {},
   "outputs": [],
   "source": [
    "# print(TUPLES_GEN_PROMPT.replace(\"{{{num_tuples_to_generate}}}\", \"10\"))"
   ]
  },
  {
   "cell_type": "markdown",
   "id": "5bf32d0d",
   "metadata": {},
   "source": [
    "Create a [versioned prompt](https://www.braintrust.dev/docs/guides/functions/prompts) and save it to Braintrust.\n"
   ]
  },
  {
   "cell_type": "code",
   "execution_count": 6,
   "id": "42a340f4",
   "metadata": {},
   "outputs": [],
   "source": [
    "tuples_gen_prompt = bt.load_prompt(project=BT_PROJECT_NAME, slug=\"dimension-tuples-gen-prompt\")\n",
    "try:\n",
    "    tuples_gen_prompt.build(num_tuples_to_generate=20)\n",
    "except Exception as e:\n",
    "    bt_tuples_gen_prompt = bt_project.prompts.create(\n",
    "        name=\"DimensionTuplesGenPrompt\",\n",
    "        slug=\"dimension-tuples-gen-prompt\",\n",
    "        description=\"Prompt for generating dimension tuples\",\n",
    "        model=\"claude-4-sonnet-20250514\",\n",
    "        messages=[{\"role\": \"user\", \"content\": TUPLES_GEN_PROMPT}],\n",
    "        if_exists=\"replace\",\n",
    "    )\n",
    "\n",
    "    bt_project.publish()\n",
    "    tuples_gen_prompt = bt.load_prompt(project=BT_PROJECT_NAME, slug=\"dimension-tuples-gen-prompt\")\n"
   ]
  },
  {
   "cell_type": "code",
   "execution_count": 7,
   "id": "7cb7ef80",
   "metadata": {},
   "outputs": [
    {
     "name": "stdout",
     "output_type": "stream",
     "text": [
      "I am designing a customer support chatbot for the city of Encinitas and I want to test it against a diverse\n",
      "range of inquiries citizens might submit. I have provided you with several dimensions and that constitute the parts of\n",
      "such a queries along with a list of possible values for each dimension.\n",
      "\n",
      "## Instructions\n",
      "\n",
      "Generate 20 unique combinations of dimension values for based on the dimensions provided below. \n",
      "- Each combination should represent a different user scenario. \n",
      "- Ensure balanced coverage across all dimensions - don't over-represent any particular value or combination.\n",
      "- Vary the query styles naturally.\n",
      "- Attempt to make the dimension value combinations as realistic as possible.\n",
      "\n",
      "## Dimensions\n",
      "\n",
      "request_type:\n",
      "- recipe_request: [asking for a specific recipe or recipe suggestions]\n",
      "- cooking_technique: [asking how to cook something or cooking methods]\n",
      "- ingredient_substitution: [need alternatives for missing ingredients]\n",
      "- nutritional_guidance: [focused on protein, calories, healthy options]\n",
      "- meal_planning: [meal prep, batch cooking, planning ahead]\n",
      "\n",
      "dietary_goal:\n",
      "- bulking: [building muscle, high calories, high protein]\n",
      "- cutting: [weight loss, low calorie, filling foods]\n",
      "- general_health: [balanced, nutritious, everyday cooking]\n",
      "- convenience: [quick, easy, practical cooking]\n",
      "- no_specific_goal: [just looking for tasty food]\n",
      "\n",
      "ingredient_specificity:\n",
      "- specific_ingredients: [specific ingredients like chicken, beef, fish, etc.]\n",
      "- general_ingredients: [general ingredients like chicken, beef, fish, etc.]\n",
      "- no_specific_ingredients: [no specific ingredients, just a general request]\n",
      "\n",
      "time_commitment:\n",
      "- quick_20_min\n",
      "- moderate_1_hour\n",
      "- meal_prep_batch\n",
      "- no_time_constraint\n",
      "\n",
      "specificity_level:\n",
      "- very_specific: [detailed requirements: exact ingredients, stores to get ingredients from, protein amounts]\n",
      "- moderately_specific: [some constraints: ingredient type, cooking method, general nutrition]\n",
      "- general_request: [broad categories: \"high protein lunch\", \"healthy dinner\"]\n",
      "- minimal_detail: [very brief: \"chicken recipe\", \"meal prep ideas\"]\n",
      "\n",
      "store_requirement:\n",
      "- specific_stores: [Costco, Trader Joes, Vons]\n",
      "- no_specific_stores\n",
      "\n",
      "Generate 20 unique dimension tuples following these patterns. Remember to maintain balanced diversity across all dimensions.\n"
     ]
    }
   ],
   "source": [
    "_p = tuples_gen_prompt.build(num_tuples_to_generate=20)\n",
    "print(_p[\"messages\"][0][\"content\"])"
   ]
  },
  {
   "cell_type": "markdown",
   "id": "9789647d",
   "metadata": {},
   "source": [
    "**Key takeaways**:\n",
    "\n",
    "1. We can create and manage versions of prompts using the SDK or through the UI.\n",
    "2. We can retrieve any prompt version via the SDK for use in our code (the latest version is returned by default).\n"
   ]
  },
  {
   "cell_type": "markdown",
   "id": "159ee383",
   "metadata": {},
   "source": [
    "## Step 2: Generate Unique Combinations (Tuples)\n"
   ]
  },
  {
   "cell_type": "code",
   "execution_count": 3,
   "id": "1c0ca292",
   "metadata": {},
   "outputs": [],
   "source": [
    "class DimensionTuple(BaseModel):\n",
    "    request_type: str = Field(\n",
    "        description=\"What kind of request they are making (e.g. recipe_request, cooking_technique, ingredient_substitution, nutritional_guidance, meal_planning)\"\n",
    "    )\n",
    "    dietary_goal: str = Field(\n",
    "        description=\"Their dietary objective (e.g. bulking, cutting, general_health, convenience, no_specific_goal)\",\n",
    "    )\n",
    "    ingredient_specificity: str = Field(\n",
    "        description=\"How specific their ingredient preferences are (e.g. specific_ingredients, general_ingredients, no_specific_ingredients)\"\n",
    "    )\n",
    "    time_commitment: str = Field(\n",
    "        description=\"How much time they want to spend cooking (e.g. quick_20_min, moderate_1_hour, meal_prep_batch, no_time_constraint)\"\n",
    "    )\n",
    "    specificity_level: str = Field(\n",
    "        description=\"How specific their request is (e.g. very_specific, moderately_specific, general_request, minimal_detail)\"\n",
    "    )\n",
    "    store_requirement: str = Field(\n",
    "        description=\"Whether they have specific store preferences (e.g. specific_stores like Costco, Trader Joe's, Vons, etc., no_specific_stores)\"\n",
    "    )\n",
    "\n",
    "\n",
    "class DimensionTuples(BaseModel):\n",
    "    tuples: list[DimensionTuple]"
   ]
  },
  {
   "cell_type": "code",
   "execution_count": 8,
   "id": "848b4c5f",
   "metadata": {},
   "outputs": [],
   "source": [
    "def generate_synth_data_dimension_tuples(num_tuples: int = 20, model: str = \"gpt-4o-mini\", model_kwargs: dict = {}):\n",
    "    \"\"\"Generate a list of dimension tuples based on the provided prompt.\"\"\"\n",
    "    timestamp = datetime.now().strftime(\"%Y%m%d_%H%M\")\n",
    "    prompt = tuples_gen_prompt.build(num_tuples_to_generate=num_tuples)\n",
    "\n",
    "    rsp = oai_client.beta.chat.completions.parse(\n",
    "        model=model,\n",
    "        messages=prompt[\"messages\"],\n",
    "        response_format=DimensionTuples,\n",
    "        **model_kwargs,\n",
    "    )\n",
    "\n",
    "    tuples_list: DimensionTuples = rsp.choices[0].message.parsed  # type: ignore\n",
    "\n",
    "    unique_tuples = []\n",
    "    seen = set()\n",
    "\n",
    "    for tup in tuples_list.tuples:\n",
    "        tuple_str = tup.model_dump_json()\n",
    "        if tuple_str in seen:\n",
    "            continue\n",
    "\n",
    "        seen.add(tuple_str)\n",
    "        unique_tuples.append(tup)\n",
    "\n",
    "    bt_experiment = bt.init(project=BT_PROJECT_NAME, experiment=f\"synth_tuples_it_{timestamp}\")\n",
    "    for uniq_tup in unique_tuples:\n",
    "        with bt_experiment.start_span(name=\"generate_dimension_tuples\") as span:\n",
    "            span.log(input=prompt[\"messages\"], output=uniq_tup, metadata=dict(model=model, model_kwargs=model_kwargs))\n",
    "\n",
    "    summary = bt_experiment.summarize(summarize_scores=False)\n",
    "    return summary, rsp.choices[0].message.parsed"
   ]
  },
  {
   "cell_type": "markdown",
   "id": "a2c67242",
   "metadata": {},
   "source": [
    "**Key Takeaways**:\n",
    "\n",
    "1. We use `braintrust.init` to manually create a new experiment.\n",
    "2. We generate a trace in the form of a single span, adding information for `input`, `output`, and `metadata`.\n",
    "3. We obtain the experiment summary via `braintrust.summarize` to review the experiment results.\n"
   ]
  },
  {
   "cell_type": "code",
   "execution_count": 9,
   "id": "1d83c70d",
   "metadata": {},
   "outputs": [
    {
     "name": "stdout",
     "output_type": "stream",
     "text": [
      "\n",
      "=========================SUMMARY=========================\n",
      "See results for synth_tuples_it_20250728_1954 at https://www.braintrust.dev/app/aie-course-2025/p/recipe-bot/experiments/synth_tuples_it_20250728_1954\n",
      "tuples=[DimensionTuple(request_type='recipe_request', dietary_goal='bulking', ingredient_specificity='specific_ingredients', time_commitment='moderate_1_hour', specificity_level='very_specific', store_requirement='specific_stores'), DimensionTuple(request_type='cooking_technique', dietary_goal='cutting', ingredient_specificity='general_ingredients', time_commitment='quick_20_min', specificity_level='general_request', store_requirement='no_specific_stores'), DimensionTuple(request_type='ingredient_substitution', dietary_goal='general_health', ingredient_specificity='no_specific_ingredients', time_commitment='no_time_constraint', specificity_level='minimal_detail', store_requirement='specific_stores'), DimensionTuple(request_type='nutritional_guidance', dietary_goal='convenience', ingredient_specificity='general_ingredients', time_commitment='quick_20_min', specificity_level='moderately_specific', store_requirement='no_specific_stores'), DimensionTuple(request_type='meal_planning', dietary_goal='no_specific_goal', ingredient_specificity='specific_ingredients', time_commitment='meal_prep_batch', specificity_level='very_specific', store_requirement='specific_stores'), DimensionTuple(request_type='recipe_request', dietary_goal='cutting', ingredient_specificity='no_specific_ingredients', time_commitment='moderate_1_hour', specificity_level='general_request', store_requirement='no_specific_stores'), DimensionTuple(request_type='cooking_technique', dietary_goal='bulking', ingredient_specificity='specific_ingredients', time_commitment='quick_20_min', specificity_level='minimal_detail', store_requirement='specific_stores'), DimensionTuple(request_type='ingredient_substitution', dietary_goal='convenience', ingredient_specificity='general_ingredients', time_commitment='no_time_constraint', specificity_level='moderately_specific', store_requirement='no_specific_stores'), DimensionTuple(request_type='nutritional_guidance', dietary_goal='general_health', ingredient_specificity='specific_ingredients', time_commitment='meal_prep_batch', specificity_level='very_specific', store_requirement='specific_stores'), DimensionTuple(request_type='meal_planning', dietary_goal='bulking', ingredient_specificity='general_ingredients', time_commitment='moderate_1_hour', specificity_level='general_request', store_requirement='no_specific_stores'), DimensionTuple(request_type='recipe_request', dietary_goal='general_health', ingredient_specificity='no_specific_ingredients', time_commitment='quick_20_min', specificity_level='minimal_detail', store_requirement='specific_stores'), DimensionTuple(request_type='cooking_technique', dietary_goal='cutting', ingredient_specificity='specific_ingredients', time_commitment='no_time_constraint', specificity_level='moderately_specific', store_requirement='no_specific_stores'), DimensionTuple(request_type='ingredient_substitution', dietary_goal='bulking', ingredient_specificity='no_specific_ingredients', time_commitment='moderate_1_hour', specificity_level='very_specific', store_requirement='specific_stores'), DimensionTuple(request_type='nutritional_guidance', dietary_goal='convenience', ingredient_specificity='specific_ingredients', time_commitment='meal_prep_batch', specificity_level='general_request', store_requirement='no_specific_stores'), DimensionTuple(request_type='meal_planning', dietary_goal='cutting', ingredient_specificity='general_ingredients', time_commitment='no_time_constraint', specificity_level='moderately_specific', store_requirement='specific_stores'), DimensionTuple(request_type='recipe_request', dietary_goal='convenience', ingredient_specificity='specific_ingredients', time_commitment='quick_20_min', specificity_level='very_specific', store_requirement='no_specific_stores'), DimensionTuple(request_type='cooking_technique', dietary_goal='general_health', ingredient_specificity='no_specific_ingredients', time_commitment='moderate_1_hour', specificity_level='general_request', store_requirement='specific_stores'), DimensionTuple(request_type='ingredient_substitution', dietary_goal='bulking', ingredient_specificity='general_ingredients', time_commitment='meal_prep_batch', specificity_level='very_specific', store_requirement='no_specific_stores'), DimensionTuple(request_type='nutritional_guidance', dietary_goal='no_specific_goal', ingredient_specificity='specific_ingredients', time_commitment='quick_20_min', specificity_level='moderately_specific', store_requirement='specific_stores')]\n"
     ]
    },
    {
     "name": "stderr",
     "output_type": "stream",
     "text": [
      "Retrying request after error: ('Connection aborted.', RemoteDisconnected('Remote end closed connection without response'))\n",
      "Sleeping for 0.5 seconds\n"
     ]
    }
   ],
   "source": [
    "exp_summary, dim_tuples = generate_synth_data_dimension_tuples(20)\n",
    "\n",
    "print(exp_summary)\n",
    "print(dim_tuples)"
   ]
  },
  {
   "cell_type": "markdown",
   "id": "91442ec6",
   "metadata": {},
   "source": [
    "### Remove invalid dimension tuples (human/SME review)\n",
    "\n",
    "We'll do this in the Braintrust UI with [human review](https://www.braintrust.dev/docs/guides/human-review).\n"
   ]
  },
  {
   "cell_type": "markdown",
   "id": "e4388eb9",
   "metadata": {},
   "source": [
    "<img src=\"./data/dim-tuples-human-review.png\" width=\"800\"/>\n",
    "\n",
    "**Key takeaways**:\n",
    "\n",
    "1. To set up scorers for human review, navigate to \"Configuration\" > \"Human Review\".\n",
    "2. Free-form scorers can be configured to record data in the metadata.\n",
    "3. Human review scorers can be used in BTQL queries.\n"
   ]
  },
  {
   "cell_type": "markdown",
   "id": "2c16b0eb",
   "metadata": {},
   "source": [
    "## Step 3: Generate Natural Language User Queries\n"
   ]
  },
  {
   "cell_type": "markdown",
   "id": "54020c38",
   "metadata": {},
   "source": [
    "### Prompt\n"
   ]
  },
  {
   "cell_type": "code",
   "execution_count": 11,
   "id": "2c14d137",
   "metadata": {},
   "outputs": [],
   "source": [
    "SYNTH_DATA_GEN_PROMPT = \"\"\"\\\n",
    "I am designing a recipe chatbot tailored to the specific tastes of my family and I want to test it against a diverse\n",
    "range of realistic queries.\n",
    "\n",
    "## Objective\n",
    "\n",
    "Produce {{{num_queries_to_generate}}} natural language queries based on the query characteristics below:\n",
    "\n",
    "==== Query Characteristics =====\n",
    "{{{dimension_tuple_json}}}\n",
    "\n",
    "## Instructions\n",
    "1. Naturally incorporate all the dimension values\n",
    "2. Vary in style and detail level\n",
    "3. Be realistic and practical\n",
    "4. If the including store, prefer these options: Costco, Trader Joe's, Vons, Stater Bros, Ralphs, etc.\n",
    "5. Include natural variations in typing style, such as:\n",
    "   - Some queries in all lowercase\n",
    "   - Some with random capitalization\n",
    "   - Some with common typos\n",
    "   - Some with missing punctuation\n",
    "   - Some with extra spaces or missing spaces\n",
    "   - Some with emojis or text speak\n",
    "\n",
    "Here are examples of realistic query variations for a request to get a recipe for a bulking meal with general ingredients, very specific requirements, no specific stores, and for a meal prep batch:\n",
    "\n",
    "Proper formatting:\n",
    "- \"Can you give me a reciple for bulking up with chicken and rice for a meal prep over the next 3 days?\"\n",
    "- \"I'm trying to bulk up and I want to do meal prep with a chicken and rice recipe. I'm looking for a recipe that is high in protein.\"\n",
    "\n",
    "All lowercase:\n",
    "- \"can you give me a recipe for bulking up with chicken and rice for a meal prep over the next 3 days?\"\n",
    "- \"i'm trying to bulk up and i want to do meal prep with a chicken and rice recipe. i'm looking for a recipe that is high in protein.\"\n",
    "\n",
    "Random caps:\n",
    "- \"Can you give me a recipe for bulking up with CHICKEN and RICE for a meal prep over the next 3 days?\"\n",
    "- \"I'm trying to BULK UP and I want to do meal prep with a chicken and rice recipe. I'm looking for a recipe that is HIGH in protein.\"\n",
    "\n",
    "Common typos:\n",
    "- \"give me a recipe for bulkingup with CHICKEN and RICE for a meal prep over the next 3 dayz?\"\n",
    "- \"Im tryin to BULK UP and I want to do meal prep w/ a chicken and rice recipe. need high protein.\"\n",
    "\n",
    "Missing punctuation:\n",
    "- \"need a bulking recipe for chicken and rice for a meal prep over the next 3 days\"\n",
    "- \"Im trying to bulk up and I want to do meal prep with a chicken and rice recipe ... looking for a recipe that is high in protein.\"\n",
    "\n",
    "With emojis/text speak:\n",
    "- \"need meal prep recipe for bulking up with chicken and rice for a meal prep over the next 3 days! 🥗\"\n",
    "- \"meal prep recipe asap pls for 3 day bulking\"\n",
    "\n",
    "Generate {{{num_queries_to_generate}}} unique queries,varying the text style naturally.\"\"\""
   ]
  },
  {
   "cell_type": "code",
   "execution_count": 12,
   "id": "123dc96f",
   "metadata": {},
   "outputs": [
    {
     "name": "stderr",
     "output_type": "stream",
     "text": [
      "Retrying request after error: ('Connection aborted.', RemoteDisconnected('Remote end closed connection without response'))\n",
      "Sleeping for 0.5 seconds\n"
     ]
    }
   ],
   "source": [
    "synth_query_gen_prompt = bt.load_prompt(project=BT_PROJECT_NAME, slug=\"synth-query-gen-prompt\")\n",
    "try:\n",
    "    synth_query_gen_prompt.prompt\n",
    "except Exception as e:\n",
    "    bt_syth_query_gen_prompt = bt_project.prompts.create(\n",
    "        name=\"SynthQueryGenPrompt\",\n",
    "        slug=\"synth-query-gen-prompt\",\n",
    "        description=\"Prompt for generating synthetic queries\",\n",
    "        model=\"claude-4-sonnet-20250514\",\n",
    "        messages=[{\"role\": \"user\", \"content\": SYNTH_DATA_GEN_PROMPT}],\n",
    "        if_exists=\"replace\",\n",
    "    )\n",
    "\n",
    "    bt_project.publish()\n",
    "    synth_query_gen_prompt = bt.load_prompt(project=BT_PROJECT_NAME, slug=\"synth-query-gen-prompt\")\n"
   ]
  },
  {
   "cell_type": "markdown",
   "id": "3b108bd6",
   "metadata": {},
   "source": [
    "### Data\n"
   ]
  },
  {
   "cell_type": "markdown",
   "id": "21b91337",
   "metadata": {},
   "source": [
    "We can use the \"[BTQL](https://www.braintrust.dev/docs/reference/btql) Sandbox\" to help us construct a query to get the \"good\" dimension tuples from our annotation exercise, and then use that query to get those records to build some synthetic queries.\n"
   ]
  },
  {
   "cell_type": "code",
   "execution_count": 10,
   "id": "f1645afd",
   "metadata": {},
   "outputs": [
    {
     "name": "stdout",
     "output_type": "stream",
     "text": [
      "19\n"
     ]
    },
    {
     "data": {
      "text/plain": [
       "[{'dietary_goal': 'no_specific_goal',\n",
       "  'ingredient_specificity': 'specific_ingredients',\n",
       "  'request_type': 'nutritional_guidance',\n",
       "  'specificity_level': 'moderately_specific',\n",
       "  'store_requirement': 'specific_stores',\n",
       "  'time_commitment': 'quick_20_min'},\n",
       " {'dietary_goal': 'bulking',\n",
       "  'ingredient_specificity': 'general_ingredients',\n",
       "  'request_type': 'ingredient_substitution',\n",
       "  'specificity_level': 'very_specific',\n",
       "  'store_requirement': 'no_specific_stores',\n",
       "  'time_commitment': 'meal_prep_batch'}]"
      ]
     },
     "execution_count": 10,
     "metadata": {},
     "output_type": "execute_result"
    }
   ],
   "source": [
    "def get_valid_dimension_tuples():\n",
    "    cursor = None\n",
    "    while True:\n",
    "        response = requests.post(\n",
    "            \"https://staging-api.braintrust.dev/btql\",\n",
    "            json={\n",
    "                \"query\": dedent(\"\"\"\n",
    "                        select: output\n",
    "                        from: experiment('656767c2-3ca2-43ad-a68d-ae9c43bec41a')\n",
    "                        filter: scores.\"is_good\" = 1\n",
    "                \"\"\")\n",
    "                + (f\" | cursor: '{cursor}'\" if cursor else \"\"),\n",
    "                \"use_brainstore\": True,\n",
    "                \"brainstore_realtime\": True,  # Include the latest realtime data, but a bit slower.\n",
    "            },\n",
    "            headers={\"Authorization\": \"Bearer \" + os.environ[\"BRAINTRUST_API_KEY\"]},\n",
    "        )\n",
    "        response.raise_for_status()\n",
    "        response_json = response.json()\n",
    "        data = response_json.get(\"data\", [])\n",
    "        cursor = response_json.get(\"cursor\")\n",
    "\n",
    "        return [row[\"output\"] for row in data]\n",
    "\n",
    "\n",
    "valid_dim_tuples = get_valid_dimension_tuples()\n",
    "\n",
    "print(len(valid_dim_tuples))\n",
    "valid_dim_tuples[:2]"
   ]
  },
  {
   "cell_type": "markdown",
   "id": "f33602a4",
   "metadata": {},
   "source": [
    "**Key takeaways**:\n",
    "\n",
    "1. We can use BTQL to query our logs, experiments, and datasets.\n",
    "2. Use the \"BTQL sandbox\" to build and test your queries before putting them in code.\n"
   ]
  },
  {
   "cell_type": "markdown",
   "id": "81fa2f69",
   "metadata": {},
   "source": [
    "### Generate synthetic queries\n"
   ]
  },
  {
   "cell_type": "code",
   "execution_count": 13,
   "id": "077da744",
   "metadata": {},
   "outputs": [],
   "source": [
    "class QueryList(BaseModel):\n",
    "    queries: list[str]"
   ]
  },
  {
   "cell_type": "code",
   "execution_count": 19,
   "id": "133d104a",
   "metadata": {},
   "outputs": [],
   "source": [
    "def generate_synth_queries(dim_tuple: dict, num_queries: int = 5, model: str = \"gpt-4o-mini\", model_kwargs: dict = {}) -> dict:\n",
    "    prompt = synth_query_gen_prompt.build(\n",
    "        num_queries_to_generate=num_queries,\n",
    "        dimension_tuple_json=json.dumps(dim_tuple, indent=2),\n",
    "    )\n",
    "\n",
    "    rsp = oai_client.beta.chat.completions.parse(\n",
    "        model=model,\n",
    "        messages=prompt[\"messages\"],\n",
    "        response_format=QueryList,\n",
    "        **model_kwargs,\n",
    "    )\n",
    "\n",
    "    query_list: QueryList = rsp.choices[0].message.parsed  # type: ignore\n",
    "\n",
    "    return {\n",
    "        \"prompt\": prompt[\"messages\"],\n",
    "        \"dimension_tuple\": dim_tuple,\n",
    "        \"synth_queries\": query_list.queries,\n",
    "    }"
   ]
  },
  {
   "cell_type": "code",
   "execution_count": 21,
   "id": "5d7432cf",
   "metadata": {},
   "outputs": [
    {
     "name": "stdout",
     "output_type": "stream",
     "text": [
      "{'dietary_goal': 'convenience', 'ingredient_specificity': 'general_ingredients', 'request_type': 'nutritional_guidance', 'specificity_level': 'moderately_specific', 'store_requirement': 'no_specific_stores', 'time_commitment': 'quick_20_min'}\n",
      "Can u give me a quick recipe with chicken, veggies, and rice that's easy and healthy?\n",
      "I need a fast meal prep idea for lunch, no specific stores, something with basic ingridients like pasta or chicken. 🤔\n",
      "looking for a quick recipe under 20 min to help me eat healthy, general ingredients like beans and whole grains plzz\n",
      "Quick question - can you suggest a nice recipe for a healthy meal with fish, without needing to go to specific stores?\n",
      "what's a good recipe i can whip up in 20 min using random ingredients i have at home like eggs and spinach?\n"
     ]
    }
   ],
   "source": [
    "rsp = generate_synth_queries(dim_tuple=valid_dim_tuples[15], num_queries=5)\n",
    "\n",
    "print(rsp[\"dimension_tuple\"])\n",
    "for q in rsp[\"synth_queries\"]:\n",
    "    print(q)"
   ]
  },
  {
   "cell_type": "code",
   "execution_count": 25,
   "id": "61b6015a",
   "metadata": {},
   "outputs": [],
   "source": [
    "def generate_queries_parallel(num_queries: int = 5, model: str = \"gpt-4o-mini\", model_kwargs: dict = {}):\n",
    "    \"\"\"Generate queries in parallel for all dimension tuples.\"\"\"\n",
    "    timestamp = datetime.now().strftime(\"%Y%m%d_%H%M\")\n",
    "\n",
    "    # Run in parallel\n",
    "    worker = partial(generate_synth_queries, num_queries=num_queries, model=model, model_kwargs=model_kwargs)\n",
    "    responses = list(ThreadPoolExecutor(max_workers=MAX_WORKERS).map(worker, valid_dim_tuples))\n",
    "\n",
    "    # Add query items\n",
    "    all_queries = []\n",
    "    for response in responses:\n",
    "        prompt = response[\"prompt\"]\n",
    "\n",
    "        queries = [{\"prompt\": prompt, \"query\": q, \"query_source\": \"synth\"} for q in response[\"synth_queries\"]]\n",
    "\n",
    "        all_queries.extend(queries)\n",
    "\n",
    "    # Add to experiment\n",
    "    bt_experiment = bt.init(project=BT_PROJECT_NAME, experiment=f\"add_queries_it_{timestamp}\")\n",
    "    query_id = 1\n",
    "\n",
    "    for query_item in all_queries:\n",
    "        qid = f\"{timestamp}_{query_id:03d}\"\n",
    "        query_id += 1\n",
    "\n",
    "        with bt_experiment.start_span(name=\"add_query\") as span:\n",
    "            span.log(\n",
    "                input=query_item[\"prompt\"],\n",
    "                output=query_item[\"query\"],\n",
    "                metadata={\n",
    "                    \"id\": qid,\n",
    "                    \"source\": query_item[\"query_source\"],\n",
    "                    \"model\": model,\n",
    "                    \"model_kwargs\": model_kwargs,\n",
    "                },\n",
    "            )\n",
    "\n",
    "    summary = bt_experiment.summarize(summarize_scores=False)\n",
    "    return summary, all_queries"
   ]
  },
  {
   "cell_type": "markdown",
   "id": "0e9a1edc",
   "metadata": {},
   "source": [
    "**Key takeaways**:\n",
    "\n",
    "1. Use `braintrust.init()` to manually create a new experiment.\n",
    "2. Add a distinct trace as a single span, including information for `input`, `output`, and `metadata`.\n",
    "3. Retrieve the experiment summary with `braintrust.summarize()` to review the experiment results..\n"
   ]
  },
  {
   "cell_type": "code",
   "execution_count": 26,
   "id": "b212eb34",
   "metadata": {},
   "outputs": [
    {
     "name": "stdout",
     "output_type": "stream",
     "text": [
      "95\n",
      "\n",
      "=========================SUMMARY=========================\n",
      "See results for add_queries_it_20250728_2025 at https://www.braintrust.dev/app/aie-course-2025/p/recipe-bot/experiments/add_queries_it_20250728_2025\n"
     ]
    }
   ],
   "source": [
    "summary, queries = generate_queries_parallel(num_queries=5, model=\"gpt-4o-mini\")\n",
    "# summary, queries = generate_queries_parallel(num_queries=2, model=\"gpt-4o-mini\")\n",
    "\n",
    "print(len(queries))\n",
    "print(summary)"
   ]
  },
  {
   "cell_type": "markdown",
   "id": "0981281b",
   "metadata": {},
   "source": [
    "### Remove invalid queries (human/SME review)\n",
    "\n",
    "We'll do this in the Braintrust UI\n"
   ]
  },
  {
   "cell_type": "markdown",
   "id": "c31c5f81",
   "metadata": {},
   "source": [
    "## Step 4: Update our `user_queries` dataset\n"
   ]
  },
  {
   "cell_type": "code",
   "execution_count": 32,
   "id": "c5377108",
   "metadata": {},
   "outputs": [
    {
     "name": "stderr",
     "output_type": "stream",
     "text": [
      "Retrying request after error: ('Connection aborted.', RemoteDisconnected('Remote end closed connection without response'))\n",
      "Sleeping for 0.5 seconds\n"
     ]
    },
    {
     "name": "stdout",
     "output_type": "stream",
     "text": [
      "46\n"
     ]
    },
    {
     "data": {
      "text/plain": [
       "[{'_pagination_key': 'p07532328680059764741',\n",
       "  '_xact_id': '1000195526467439219',\n",
       "  'created': '2025-07-29T02:42:12.770Z',\n",
       "  'dataset_id': '15b4cc00-8f27-400b-a312-31cb036fe7e4',\n",
       "  'expected': None,\n",
       "  'id': '46',\n",
       "  'input': \"Give me a Japanese-inspired meal prep recipe using Trader Joe's frozen edamame and their miso ginger broth with tofu for 25g+ protein\",\n",
       "  'is_root': True,\n",
       "  'metadata': {'id': 46, 'source': 'handcoded', 'submitted_by': 'wayde4'},\n",
       "  'origin': None,\n",
       "  'project_id': '54782088-3418-41ea-acda-d6302c2dfa64',\n",
       "  'root_span_id': '46',\n",
       "  'span_id': '46',\n",
       "  'tags': None},\n",
       " {'_pagination_key': 'p07532328680059764740',\n",
       "  '_xact_id': '1000195526467439219',\n",
       "  'created': '2025-07-29T02:42:12.771Z',\n",
       "  'dataset_id': '15b4cc00-8f27-400b-a312-31cb036fe7e4',\n",
       "  'expected': None,\n",
       "  'id': '45',\n",
       "  'input': 'Create a Mexican-style ground beef bowl recipe with black beans from Costco that has 40g protein and uses their pre-made guacamole',\n",
       "  'is_root': True,\n",
       "  'metadata': {'id': 45, 'source': 'handcoded', 'submitted_by': 'wayde4'},\n",
       "  'origin': None,\n",
       "  'project_id': '54782088-3418-41ea-acda-d6302c2dfa64',\n",
       "  'root_span_id': '45',\n",
       "  'span_id': '45',\n",
       "  'tags': None}]"
      ]
     },
     "execution_count": 32,
     "metadata": {},
     "output_type": "execute_result"
    }
   ],
   "source": [
    "queries_ds = bt.init_dataset(project=BT_PROJECT_NAME, name=\"user_queries\")\n",
    "# rows = list(ds)[:5]\n",
    "rows = list(queries_ds)\n",
    "\n",
    "print(len(rows))\n",
    "rows[:2]"
   ]
  },
  {
   "cell_type": "code",
   "execution_count": 29,
   "id": "4ea0707d",
   "metadata": {},
   "outputs": [],
   "source": [
    "def get_synth_queries():\n",
    "    cursor = None\n",
    "    while True:\n",
    "        response = requests.post(\n",
    "            \"https://staging-api.braintrust.dev/btql\",\n",
    "            json={\n",
    "                \"query\": dedent(\"\"\"\n",
    "                        select: output, metadata\n",
    "                        from: experiment('2b77fc6c-f5bd-4ea5-9060-de29da427816')\n",
    "                        filter: scores.\"is_good\" = 1\n",
    "                \"\"\")\n",
    "                + (f\" | cursor: '{cursor}'\" if cursor else \"\"),\n",
    "                \"use_brainstore\": True,\n",
    "                \"brainstore_realtime\": True,  # Include the latest realtime data, but a bit slower.\n",
    "            },\n",
    "            headers={\"Authorization\": \"Bearer \" + os.environ[\"BRAINTRUST_API_KEY\"]},\n",
    "        )\n",
    "        response.raise_for_status()\n",
    "        response_json = response.json()\n",
    "        data = response_json.get(\"data\", [])\n",
    "        cursor = response_json.get(\"cursor\")\n",
    "\n",
    "        return [row for row in data]"
   ]
  },
  {
   "cell_type": "code",
   "execution_count": 30,
   "id": "d3bc6ddf",
   "metadata": {},
   "outputs": [
    {
     "name": "stdout",
     "output_type": "stream",
     "text": [
      "89\n"
     ]
    },
    {
     "data": {
      "text/plain": [
       "[{'metadata': {'human_review': '',\n",
       "   'id': '20250728_2025_095',\n",
       "   'model': 'gpt-4o-mini',\n",
       "   'model_kwargs': {},\n",
       "   'source': 'synth'},\n",
       "  'output': 'plz direct me to a good bulking recipe with oats and peanut butter that can be made in an hour, wanna shop at Vons.'},\n",
       " {'metadata': {'id': '20250728_2025_093',\n",
       "   'model': 'gpt-4o-mini',\n",
       "   'model_kwargs': {},\n",
       "   'source': 'synth'},\n",
       "  'output': 'Need a recipe for bulking with chicken breast and sweet potatoes that takes about an hour with ingredients from Ralphs! 😋'}]"
      ]
     },
     "execution_count": 30,
     "metadata": {},
     "output_type": "execute_result"
    }
   ],
   "source": [
    "synth_queries = get_synth_queries()\n",
    "\n",
    "print(len(synth_queries))\n",
    "synth_queries[:2]"
   ]
  },
  {
   "cell_type": "code",
   "execution_count": null,
   "id": "02298115",
   "metadata": {},
   "outputs": [],
   "source": [
    "for synth_example in synth_queries:\n",
    "    id = queries_ds.insert(input=synth_example[\"output\"], metadata=synth_example[\"metadata\"])\n",
    "    # print(\"Inserted record with id\", id)"
   ]
  },
  {
   "cell_type": "markdown",
   "id": "d2dc182c",
   "metadata": {},
   "source": [
    "## Fin\n"
   ]
  }
 ],
 "metadata": {
  "kernelspec": {
   "display_name": ".venv",
   "language": "python",
   "name": "python3"
  },
  "language_info": {
   "codemirror_mode": {
    "name": "ipython",
    "version": 3
   },
   "file_extension": ".py",
   "mimetype": "text/x-python",
   "name": "python",
   "nbconvert_exporter": "python",
   "pygments_lexer": "ipython3",
   "version": "3.12.11"
  }
 },
 "nbformat": 4,
 "nbformat_minor": 5
}
