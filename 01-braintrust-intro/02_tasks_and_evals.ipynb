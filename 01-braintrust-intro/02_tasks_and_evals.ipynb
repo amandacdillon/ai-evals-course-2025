{
 "cells": [
  {
   "cell_type": "markdown",
   "id": "d581218e",
   "metadata": {},
   "source": [
    "# A customer support bot - Part 2\n",
    "\n",
    "An introduction to all things Braintrust via a speed-run through building evals for a customer support bot\n"
   ]
  },
  {
   "cell_type": "markdown",
   "id": "3f891b57",
   "metadata": {},
   "source": [
    "This notebook picks up where we left off in the \"01_generate_data\" notebook.\n",
    "\n",
    "As a reminder, evals require three things:\n",
    "\n",
    "1. Data\n",
    "2. One or more task functions\n",
    "3. One or more scoring functions that tell us how well each row in our dataset did on that task\n",
    "\n",
    "With our data in hand, we will define the tasks necessary for the customer support bot to function, a scorer to see how well it routed the requests for examples that include the target route, and finally run some evals.\n",
    "\n",
    "Let's start by importing the required libraries.\n"
   ]
  },
  {
   "cell_type": "code",
   "execution_count": 1,
   "id": "8150e756",
   "metadata": {},
   "outputs": [
    {
     "name": "stderr",
     "output_type": "stream",
     "text": [
      "/Users/wgilliam/development/demos/ai_evals_course_202507/.venv/lib/python3.12/site-packages/tqdm/auto.py:21: TqdmWarning: IProgress not found. Please update jupyter and ipywidgets. See https://ipywidgets.readthedocs.io/en/stable/user_install.html\n",
      "  from .autonotebook import tqdm as notebook_tqdm\n"
     ]
    },
    {
     "data": {
      "text/plain": [
       "True"
      ]
     },
     "execution_count": 1,
     "metadata": {},
     "output_type": "execute_result"
    }
   ],
   "source": [
    "import enum\n",
    "import json\n",
    "import os\n",
    "import random\n",
    "\n",
    "from concurrent.futures import ThreadPoolExecutor\n",
    "from datetime import datetime\n",
    "from functools import partial\n",
    "from textwrap import dedent\n",
    "from typing import Annotated, Literal\n",
    "\n",
    "import anthropic as ac\n",
    "import braintrust as bt\n",
    "import openai as oai\n",
    "import pandas as pd\n",
    "import requests\n",
    "\n",
    "from braintrust import wrap_anthropic, wrap_openai\n",
    "from dotenv import load_dotenv\n",
    "from pydantic import BaseModel, BeforeValidator, Field\n",
    "from thefuzz import process as fuzzy_process\n",
    "\n",
    "load_dotenv(override=True)"
   ]
  },
  {
   "cell_type": "markdown",
   "id": "164a7ed5",
   "metadata": {},
   "source": [
    "## Setup\n",
    "\n",
    "Once you're signed up on [Braintrust](https://www.braintrust.dev/) and have set the appropriate API keys in your `.env` file, you're ready to go. For this particular demo, you'll need the following API keys:\n",
    "\n",
    "- `BRAINTRUST_API_KEY`\n",
    "- `OPENAI_API_KEY`\n",
    "- `ANTHROPIC_API_KEY`\n",
    "\n",
    "With that in place, we can create our [Braintrust project](https://www.braintrust.dev/docs/guides/projects) using `braintrust.projects.create()` (this method will create or return the project if it already exists).\n",
    "\n",
    "We also define Anthropic and OpenAI clients like usual, as well as a \"wrapped\" version of each client. These \"wrapped\" versions automatically capture usage data (e.g., prompt tokens, etc) in Braintrust when used within the context of a logger or experiment.\n"
   ]
  },
  {
   "cell_type": "code",
   "execution_count": 2,
   "id": "0da9d69a",
   "metadata": {},
   "outputs": [],
   "source": [
    "BT_PROJECT_NAME = \"braintrust-intro\"\n",
    "MAX_WORKERS = 5\n",
    "\n",
    "bt_project = bt.projects.create(name=BT_PROJECT_NAME)\n",
    "bt_logger = bt.init_logger(project=BT_PROJECT_NAME)\n",
    "\n",
    "ac_client = ac.Anthropic(api_key=os.getenv(\"ANTHROPIC_API_KEY\"))\n",
    "oai_client = oai.OpenAI(api_key=os.getenv(\"OPENAI_API_KEY\"))\n",
    "\n",
    "wrapped_ac_client = wrap_anthropic(ac_client)\n",
    "wrapped_oai_client = wrap_openai(oai_client)\n"
   ]
  },
  {
   "cell_type": "markdown",
   "id": "5a6c6ce2",
   "metadata": {},
   "source": [
    "**Key takeaways**:\n",
    "\n",
    "1. We use `braintrust.projects.create()` to create or fetch a Braintrust project.\n",
    "2. We use `braintrust.init_logger` to initalize our logger.\n",
    "3. We define both standard OpenAI and Anthropic clients, as well as wrapped versions of these clients that support automatic logging of their usage data.\n",
    "4. Any time we execute a method decorated with `braintrust.traced` or run one of the wrapped clients, traces will be created in Braintrust.\n"
   ]
  },
  {
   "cell_type": "markdown",
   "id": "679bde21",
   "metadata": {},
   "source": [
    "## Tasks\n",
    "\n",
    "**Objective**: Define functions that will take a customer support inquiry as input and then return a structured response that includes: a reasonable response/answer, the department the request should be routed to, and any information required from the user to complete the ask.\n",
    "\n",
    "Let's use our \"good\" synthetic and hand-coded queries to build a real-world customer support bot with two main components:\n",
    "\n",
    "1. A web search retrieval task to gather context for answering and routing requests.\n",
    "2. A retrieval synthesis task that takes the output from the retrievals to determine where to route support, what information is needed to resolve the request, and to generate some form of response for the user.\n",
    "\n",
    "To achieve this, we'll define some tasks and [log](https://www.braintrust.dev/docs/guides/logs) them to Braintrust.\n"
   ]
  },
  {
   "cell_type": "code",
   "execution_count": 3,
   "id": "5e52f8f5",
   "metadata": {},
   "outputs": [],
   "source": [
    "dept_support_areas = json.load(open(\"./data/dept_support_areas.json\"))\n",
    "triage_targets = list(set([route[\"slug\"] for route in dept_support_areas]))"
   ]
  },
  {
   "cell_type": "markdown",
   "id": "c437438e",
   "metadata": {},
   "source": [
    "Let's use our old friend, the \"[BTQL](https://www.braintrust.dev/docs/reference/btql) Sandbox\" to build a query to get only the queries marked as good from the human review above.\n"
   ]
  },
  {
   "cell_type": "code",
   "execution_count": 4,
   "id": "a696a667",
   "metadata": {},
   "outputs": [
    {
     "name": "stdout",
     "output_type": "stream",
     "text": [
      "55\n"
     ]
    },
    {
     "data": {
      "text/plain": [
       "[{'input': 'My water bill doubled this month—can you explain the charges?',\n",
       "  'metadata': {'id': '20250724_1103_101',\n",
       "   'model': 'gpt-4o-mini',\n",
       "   'model_kwargs': {},\n",
       "   'query_source': 'handcoded',\n",
       "   'triage_slug': 'san_dieguito_water_district'}},\n",
       " {'input': 'A homeless encampment is forming under the 101 overpass near Cardiff.',\n",
       "  'metadata': {'human_review': '',\n",
       "   'id': '20250724_1103_090',\n",
       "   'model': 'gpt-4o-mini',\n",
       "   'model_kwargs': {},\n",
       "   'query_source': 'handcoded',\n",
       "   'triage_slug': 'code_enforcement'}}]"
      ]
     },
     "execution_count": 4,
     "metadata": {},
     "output_type": "execute_result"
    }
   ],
   "source": [
    "def get_test_data():\n",
    "    cursor = None\n",
    "    while True:\n",
    "        response = requests.post(\n",
    "            \"https://staging-api.braintrust.dev/btql\",\n",
    "            json={\n",
    "                \"query\": dedent(\"\"\"\n",
    "                        select: output, metadata\n",
    "                        from: experiment('2df12d7b-7c66-49ff-b7c7-87e95c027163')\n",
    "                        filter: scores.\"is_good\" = 1\n",
    "                \"\"\")\n",
    "                + (f\" | cursor: '{cursor}'\" if cursor else \"\"),\n",
    "                \"use_brainstore\": True,\n",
    "                \"brainstore_realtime\": True,  # Include the latest realtime data, but a bit slower.\n",
    "            },\n",
    "            headers={\"Authorization\": \"Bearer \" + os.environ[\"BRAINTRUST_API_KEY\"]},\n",
    "        )\n",
    "        response.raise_for_status()\n",
    "        response_json = response.json()\n",
    "        data = response_json.get(\"data\", [])\n",
    "        cursor = response_json.get(\"cursor\")\n",
    "\n",
    "        return [{\"input\": row[\"output\"], \"metadata\": row[\"metadata\"]} for row in data]\n",
    "\n",
    "\n",
    "test_data = get_test_data()\n",
    "\n",
    "print(len(test_data))\n",
    "test_data[:2]"
   ]
  },
  {
   "cell_type": "markdown",
   "id": "6c934acd",
   "metadata": {},
   "source": [
    "**Key takeaways**:\n",
    "\n",
    "1. Using BTQL we can query our datasets, experiments, and logs for whatever particular pieces of data we are interested in.\n"
   ]
  },
  {
   "cell_type": "markdown",
   "id": "194b6923",
   "metadata": {},
   "source": [
    "### Retrieval\n",
    "\n",
    "The first sub-task we need is a retrieval task to gather the appropriate context for routing and responding to the customer support request.\n"
   ]
  },
  {
   "cell_type": "markdown",
   "id": "d588a79d",
   "metadata": {},
   "source": [
    "#### Prompt\n",
    "\n",
    "We will create a versioned prompt in the same way we did in the first notebook.\n"
   ]
  },
  {
   "cell_type": "code",
   "execution_count": 5,
   "id": "0b7fd46b",
   "metadata": {},
   "outputs": [],
   "source": [
    "WEB_SEARCH_SYSTEM_PROMPT = dedent(\"\"\"\\\n",
    "    Your name is Sunny and you are in charge of answering question about the city of {{{city}}} and routing requests to the correct departments for triage.\n",
    "    You are given access to a web search retrieval tool to use in an attempt to answer satisfy the user's inquiry.\n",
    "    \n",
    "    ## Instructions\n",
    "    - Always include any relevant links in your response! Never respond with a generic link placeholder like '(Note: The specific registration link would be on the city's website)'     \n",
    "    - If you cannot find the information you need or fulfill the request, make sure to tell the user that in the final answer\n",
    "\"\"\")"
   ]
  },
  {
   "cell_type": "code",
   "execution_count": 6,
   "id": "0bdfee0b",
   "metadata": {},
   "outputs": [
    {
     "data": {
      "text/plain": [
       "{'status': 'success'}"
      ]
     },
     "execution_count": 6,
     "metadata": {},
     "output_type": "execute_result"
    }
   ],
   "source": [
    "bt_web_search_prompt = bt_project.prompts.create(\n",
    "    name=\"WebSearchPrompt\",\n",
    "    slug=\"web-search-prompt\",\n",
    "    description=\"Prompt for retrieving context from the web\",\n",
    "    model=\"claude-sonnet-4-20250514\",\n",
    "    messages=[\n",
    "        {\"role\": \"system\", \"content\": WEB_SEARCH_SYSTEM_PROMPT},\n",
    "        {\"role\": \"user\", \"content\": \"{{{query}}}\"},\n",
    "    ],\n",
    "    if_exists=\"replace\",\n",
    ")\n",
    "\n",
    "bt_project.publish()"
   ]
  },
  {
   "cell_type": "code",
   "execution_count": 7,
   "id": "fd029242",
   "metadata": {},
   "outputs": [
    {
     "data": {
      "text/plain": [
       "{'model': 'claude-sonnet-4-20250514',\n",
       " 'span_info': {'metadata': {'prompt': {'variables': {'city': 'Encinitas',\n",
       "     'query': 'What is the weather in Encinitas?'},\n",
       "    'id': 'c9939b31-6749-47bd-bcf4-40f085a2405a',\n",
       "    'project_id': '2b7e69b4-7ce8-4da6-b956-72a38eaab1ee',\n",
       "    'version': '1000195501817803678'}}},\n",
       " 'messages': [{'content': \"Your name is Sunny and you are in charge of answering question about the city of Encinitas and routing requests to the correct departments for triage.\\nYou are given access to a web search retrieval tool to use in an attempt to answer satisfy the user's inquiry.\\n\\n## Instructions\\n- Always include any relevant links in your response! Never respond with a generic link placeholder like '(Note: The specific registration link would be on the city's website)'     \\n- If you cannot find the information you need or fulfill the request, make sure to tell the user that in the final answer\\n\",\n",
       "   'role': 'system'},\n",
       "  {'content': 'What is the weather in Encinitas?', 'role': 'user'}]}"
      ]
     },
     "execution_count": 7,
     "metadata": {},
     "output_type": "execute_result"
    }
   ],
   "source": [
    "web_search_prompt = bt.load_prompt(project=BT_PROJECT_NAME, slug=\"web-search-prompt\")\n",
    "web_search_prompt.build(city=\"Encinitas\", query=\"What is the weather in Encinitas?\")"
   ]
  },
  {
   "cell_type": "markdown",
   "id": "f8d6ae37",
   "metadata": {},
   "source": [
    "#### Task\n"
   ]
  },
  {
   "cell_type": "markdown",
   "id": "b0d0e132",
   "metadata": {},
   "source": [
    "We'll use Anthropic's built-in [web search tool](https://docs.anthropic.com/en/docs/agents-and-tools/tool-use/web-search-tool) for our initial build.\n",
    "\n",
    "We'll configure it to only use this particular city's domain and also assume the user's location to be within the city.\n"
   ]
  },
  {
   "cell_type": "code",
   "execution_count": 8,
   "id": "c92a6a8e",
   "metadata": {},
   "outputs": [],
   "source": [
    "# limit the number of searches per request\n",
    "N_SEARCHES = 1\n",
    "\n",
    "# To limit the scope of the search to specific domains\n",
    "RETRIEVAL_WEB_SEARCH_ALLOWED_DOMAINS = [\n",
    "    \"encinitasca.gov\",\n",
    "    # \"anc.apm.activecommunities.com/encinitasparksandrec\",  # P&R activity registration\n",
    "    # \"/issuu.com/encinitasca.gov/\",  # P&R activty guides\n",
    "]\n",
    "\n",
    "# To localize search results based on user's location\n",
    "USER_LOCATION = {\n",
    "    \"type\": \"approximate\",\n",
    "    \"city\": \"Encinitas\",\n",
    "    \"region\": \"California\",\n",
    "    \"country\": \"US\",\n",
    "    \"timezone\": \"America/Los_Angeles\",\n",
    "}"
   ]
  },
  {
   "cell_type": "code",
   "execution_count": 9,
   "id": "6284ed6a",
   "metadata": {},
   "outputs": [],
   "source": [
    "@bt.traced()\n",
    "def ac_web_search(query: str, city: str, model=\"claude-sonnet-4-20250514\", model_kwargs={}):\n",
    "    \"\"\"Search the web for the given query.\"\"\"\n",
    "\n",
    "    prompt = web_search_prompt.build(city=city, query=query)\n",
    "\n",
    "    rsp = wrapped_ac_client.messages.create(\n",
    "        model=model,\n",
    "        system=prompt[\"messages\"].pop(0)[\"content\"],\n",
    "        messages=prompt[\"messages\"],\n",
    "        tools=[\n",
    "            {\n",
    "                \"type\": \"web_search_20250305\",\n",
    "                \"name\": \"web_search\",\n",
    "                \"max_uses\": N_SEARCHES,\n",
    "                \"allowed_domains\": RETRIEVAL_WEB_SEARCH_ALLOWED_DOMAINS,\n",
    "                \"user_location\": USER_LOCATION,\n",
    "            }  # type: ignore\n",
    "        ],\n",
    "        **model_kwargs,\n",
    "    )\n",
    "    return rsp\n"
   ]
  },
  {
   "cell_type": "markdown",
   "id": "05033800",
   "metadata": {},
   "source": [
    "**Key takeaways**:\n",
    "\n",
    "1. Because `ac_web_search()` is decorated with `braintrust.traced`, the inputs and outputs to this method will automaticlaly be captured in Braintrust when we call it.\n",
    "2. Because we are using `wrapped_ac_client`, calls to our LLM will be included in trace as well (including their usage metrics).\n"
   ]
  },
  {
   "cell_type": "code",
   "execution_count": 10,
   "id": "46f1a1c0",
   "metadata": {},
   "outputs": [],
   "source": [
    "_example = test_data[0]\n",
    "# _example"
   ]
  },
  {
   "cell_type": "code",
   "execution_count": 11,
   "id": "cb2d6ca9",
   "metadata": {},
   "outputs": [],
   "source": [
    "# with bt_logger.start_span(name=\"web_search\") as trace:\n",
    "rsp = ac_web_search(\n",
    "    _example[\"input\"],\n",
    "    \"Encinitas\",\n",
    "    model_kwargs={\"max_tokens\": 2048, \"thinking\": {\"type\": \"enabled\", \"budget_tokens\": 1024}},\n",
    ")\n",
    "\n",
    "# rsp\n",
    "# rsp.model_dump()"
   ]
  },
  {
   "cell_type": "markdown",
   "id": "f3db196e",
   "metadata": {},
   "source": [
    "#### Parse utility\n"
   ]
  },
  {
   "cell_type": "markdown",
   "id": "da926a00",
   "metadata": {},
   "source": [
    "Let's create a utility function to parse the web search tool's response into something more digestible. This will allow us to control exactly what bits we want to pass in as context to our synthesis task.\n"
   ]
  },
  {
   "cell_type": "code",
   "execution_count": 12,
   "id": "f1fb13cb",
   "metadata": {},
   "outputs": [],
   "source": [
    "def parse_ac_web_search_response(message):\n",
    "    \"\"\"\n",
    "    Parse a web search response message to extract searches, results, citations, and final answers.\n",
    "\n",
    "    Args:\n",
    "        message: The message object from Anthropic's web search tool\n",
    "\n",
    "    Returns:\n",
    "        dict: Contains 'searches', 'results', 'citations', and 'final_answer'\n",
    "    \"\"\"\n",
    "\n",
    "    searches = []\n",
    "    results = []\n",
    "    citations = []\n",
    "    final_answer_parts = []\n",
    "\n",
    "    # Iterate through all content blocks\n",
    "    for block in message.content:\n",
    "        # Extract search queries\n",
    "        if hasattr(block, \"type\") and block.type == \"server_tool_use\":\n",
    "            if hasattr(block, \"name\") and block.name == \"web_search\":\n",
    "                search_query = block.input.get(\"query\", \"No query found\")\n",
    "                searches.append({\"id\": block.id, \"query\": search_query, \"input\": block.input})\n",
    "\n",
    "        # Extract search results\n",
    "        elif hasattr(block, \"type\") and block.type == \"web_search_tool_result\":\n",
    "            for result_block in block.content:\n",
    "                if hasattr(result_block, \"type\") and result_block.type == \"web_search_result\":\n",
    "                    results.append(\n",
    "                        {\n",
    "                            \"title\": result_block.title,\n",
    "                            \"url\": result_block.url,\n",
    "                            \"encrypted_content\": result_block.encrypted_content,\n",
    "                            \"page_age\": getattr(result_block, \"page_age\", None),\n",
    "                        }\n",
    "                    )\n",
    "\n",
    "        # Extract final answer text blocks (with or without citations)\n",
    "        elif hasattr(block, \"type\") and block.type == \"text\":\n",
    "            text_content = block.text\n",
    "            block_citations = getattr(block, \"citations\", None)\n",
    "\n",
    "            # Add to final answer\n",
    "            final_answer_parts.append(text_content)\n",
    "\n",
    "            # If this text block has citations, extract them\n",
    "            if block_citations:\n",
    "                for citation in block_citations:\n",
    "                    citations.append(\n",
    "                        {\"cited_text\": citation.cited_text, \"title\": citation.title, \"url\": citation.url, \"type\": citation.type}\n",
    "                    )\n",
    "\n",
    "    return {\"searches\": searches, \"results\": results, \"citations\": citations, \"final_answer\": \"\".join(final_answer_parts)}\n"
   ]
  },
  {
   "cell_type": "code",
   "execution_count": 13,
   "id": "927cd55d",
   "metadata": {},
   "outputs": [
    {
     "name": "stdout",
     "output_type": "stream",
     "text": [
      "=== SEARCHES ===\n",
      "1. Query: Encinitas water bill rates charges\n",
      "   ID: srvtoolu_011jEHLifAJ1i1i1HbLsNich\n",
      "\n",
      "=== RESULTS ===\n",
      "1. Pay Water Bills | City of Encinitas\n",
      "   URL: https://www.encinitasca.gov/community/pay-water-bill\n",
      "   Page Age: None\n",
      "\n",
      "2. Customer Care | City of Encinitas\n",
      "   URL: https://www.encinitasca.gov/government/departments/utilities/san-dieguito-water-district/i-want-to\n",
      "   Page Age: None\n",
      "\n",
      "3. Wastewater Engineering & Sewer Rates | City of Encinitas\n",
      "   URL: https://www.encinitasca.gov/government/departments/utilities/utilities-engineering-planning/wasterwater-engineering\n",
      "   Page Age: None\n",
      "\n",
      "4. Utilities | City of Encinitas\n",
      "   URL: https://www.encinitasca.gov/government/departments/utilities\n",
      "   Page Age: None\n",
      "\n",
      "5. San Dieguito Water District Services & Requests | City of Encinitas\n",
      "   URL: https://www.encinitasca.gov/government/departments/utilities/engineering-planning/services-requests\n",
      "   Page Age: None\n",
      "\n",
      "6. San Dieguito Water District | City of Encinitas\n",
      "   URL: https://www.encinitasca.gov/government/departments/utilities/san-dieguito-water-district\n",
      "   Page Age: None\n",
      "\n",
      "7. About SDWD | City of Encinitas\n",
      "   URL: https://www.encinitasca.gov/government/departments/utilities/san-dieguito-water-district/more-about\n",
      "   Page Age: None\n",
      "\n",
      "8. Start/Stop Services | City of Encinitas\n",
      "   URL: https://www.encinitasca.gov/government/departments/utilities/san-dieguito-water-district/i-want-to/start-stop-services\n",
      "   Page Age: None\n",
      "\n",
      "9. City of Encinitas | Home\n",
      "   URL: https://www.encinitasca.gov/\n",
      "   Page Age: None\n",
      "\n",
      "10. Pay... | City of Encinitas\n",
      "   URL: https://www.encinitasca.gov/services/pay\n",
      "   Page Age: None\n",
      "\n",
      "=== CITATIONS ===\n",
      "1. Cited Text: Billing Cycle: The District bills potable (drinking) water customers on a bi-monthly basis (every tw...\n",
      "   Title: Customer Care | City of Encinitas\n",
      "   URL: https://www.encinitasca.gov/government/departments/utilities/san-dieguito-water-district/i-want-to\n",
      "\n",
      "2. Cited Text: The charge is calculated based upon a percentage of water use at the property. ...\n",
      "   Title: Wastewater Engineering & Sewer Rates | City of Encinitas\n",
      "   URL: https://www.encinitasca.gov/government/departments/utilities/utilities-engineering-planning/wasterwater-engineering\n",
      "\n",
      "3. Cited Text: The charge is calculated based upon a percentage of water use at the property. ...\n",
      "   Title: Wastewater Engineering & Sewer Rates | City of Encinitas\n",
      "   URL: https://www.encinitasca.gov/government/departments/utilities/utilities-engineering-planning/wasterwater-engineering\n",
      "\n",
      "4. Cited Text: Disputing Your Bill: If you think your bill is incorrect or to dispute any services or charges on a ...\n",
      "   Title: Customer Care | City of Encinitas\n",
      "   URL: https://www.encinitasca.gov/government/departments/utilities/san-dieguito-water-district/i-want-to\n",
      "\n",
      "5. Cited Text: Delinquent Accounts: If you are having difficulty paying your water bill you may be eligible to requ...\n",
      "   Title: Customer Care | City of Encinitas\n",
      "   URL: https://www.encinitasca.gov/government/departments/utilities/san-dieguito-water-district/i-want-to\n",
      "\n",
      "6. Cited Text: SDWD 160 Calle Magdalena Encinitas, CA 92024 · After Hours Emergencies (760) 633-2922...\n",
      "   Title: San Dieguito Water District | City of Encinitas\n",
      "   URL: https://www.encinitasca.gov/government/departments/utilities/san-dieguito-water-district\n",
      "\n",
      "7. Cited Text: SDWD 160 Calle Magdalena Encinitas, CA 92024 · After Hours Emergencies (760) 633-2922...\n",
      "   Title: San Dieguito Water District | City of Encinitas\n",
      "   URL: https://www.encinitasca.gov/government/departments/utilities/san-dieguito-water-district\n",
      "\n",
      "=== FINAL ANSWER ===\n",
      "I understand your concern about your doubled water bill! Let me help explain some potential causes based on Encinitas water billing information.\n",
      "\n",
      "First, it's important to note that the District bills potable (drinking) water customers on a bi-monthly basis (every two months) and are due and payable upon presentation. This means you might be seeing charges for two months of usage at once.\n",
      "\n",
      "Here are some common reasons why your water bill might have doubled:\n",
      "\n",
      "**Billing Cycle:** Since Encinitas uses bi-monthly billing, if you're comparing to a previous monthly statement or there was a timing difference, this could explain the increase.\n",
      "\n",
      "**Leak Detection:** The search results mention leak detection services, which suggests this is a common issue. Undetected leaks can significantly increase water usage and costs.\n",
      "\n",
      "**Seasonal Usage:** Increased outdoor watering, especially during warmer months, can substantially raise your bill.\n",
      "\n",
      "**Rate Changes:** There may have been recent rate adjustments that affected your charges.\n",
      "\n",
      "**Sewer Charges:** The charge is calculated based upon a percentage of water use at the property, so if your water usage increased, your sewer charges would also increase proportionally.\n",
      "\n",
      "**What you can do:**\n",
      "\n",
      "1. **Dispute Process:** If you think your bill is incorrect or to dispute any services or charges on a bill, you must contact our office in writing with the nature of your concern within five days of receipt of your bill.\n",
      "\n",
      "2. **Payment Assistance:** If you are having difficulty paying your water bill you may be eligible to request a payment arrangement.\n",
      "\n",
      "**Contact Information:**\n",
      "- San Dieguito Water District: 160 Calle Magdalena Encinitas, CA 92024\n",
      "- For after-hours emergencies: (760) 633-2922\n",
      "\n",
      "I recommend contacting the San Dieguito Water District directly to review your specific bill and usage history. They can help identify the exact cause of the increase and provide detailed explanations of all charges.\n",
      "\n",
      "You can also pay your bill online at: https://www.encinitasca.gov/community/pay-water-bill\n"
     ]
    }
   ],
   "source": [
    "# Test the parsing function with the existing response\n",
    "parsed = parse_ac_web_search_response(rsp)\n",
    "\n",
    "print(\"=== SEARCHES ===\")\n",
    "for i, search in enumerate(parsed[\"searches\"], 1):\n",
    "    print(f\"{i}. Query: {search['query']}\")\n",
    "    print(f\"   ID: {search['id']}\")\n",
    "    print()\n",
    "\n",
    "print(\"=== RESULTS ===\")\n",
    "for i, result in enumerate(parsed[\"results\"], 1):\n",
    "    print(f\"{i}. {result['title']}\")\n",
    "    print(f\"   URL: {result['url']}\")\n",
    "    print(f\"   Page Age: {result['page_age']}\")\n",
    "    print()\n",
    "\n",
    "print(\"=== CITATIONS ===\")\n",
    "for i, citation in enumerate(parsed[\"citations\"], 1):\n",
    "    print(f\"{i}. Cited Text: {citation['cited_text'][:100]}...\")\n",
    "    print(f\"   Title: {citation['title']}\")\n",
    "    print(f\"   URL: {citation['url']}\")\n",
    "    print()\n",
    "\n",
    "print(\"=== FINAL ANSWER ===\")\n",
    "print(parsed[\"final_answer\"])  # [:500] + \"...\" if len(parsed[\"final_answer\"]) > 500 else parsed[\"final_answer\"])\n"
   ]
  },
  {
   "cell_type": "markdown",
   "id": "a49a57d8",
   "metadata": {},
   "source": [
    "#### Task (v2)\n",
    "\n",
    "After review, we only need to pass in the `final_answer` as context to formulate a proper response. We'll update our task function as such:\n"
   ]
  },
  {
   "cell_type": "code",
   "execution_count": 14,
   "id": "cd2c7c81",
   "metadata": {},
   "outputs": [],
   "source": [
    "@bt.traced()\n",
    "def ac_web_search(query: str, city: str, model=\"claude-sonnet-4-20250514\", model_kwargs={}):\n",
    "    \"\"\"Search the web for the given query.\"\"\"\n",
    "\n",
    "    prompt = web_search_prompt.build(city=city, query=query)\n",
    "\n",
    "    rsp = wrapped_ac_client.messages.create(\n",
    "        model=model,\n",
    "        system=prompt[\"messages\"].pop(0)[\"content\"],\n",
    "        messages=prompt[\"messages\"],\n",
    "        **model_kwargs,\n",
    "        tools=[\n",
    "            {\n",
    "                \"type\": \"web_search_20250305\",\n",
    "                \"name\": \"web_search\",\n",
    "                \"max_uses\": N_SEARCHES,\n",
    "                \"allowed_domains\": RETRIEVAL_WEB_SEARCH_ALLOWED_DOMAINS,\n",
    "                \"user_location\": USER_LOCATION,\n",
    "            }  # type: ignore\n",
    "        ],\n",
    "    )\n",
    "\n",
    "    # return rsp\n",
    "    parsed = parse_ac_web_search_response(rsp)\n",
    "    return {\"citations\": parsed[\"citations\"], \"final_answer\": parsed[\"final_answer\"]}"
   ]
  },
  {
   "cell_type": "code",
   "execution_count": 15,
   "id": "cc8025bb",
   "metadata": {},
   "outputs": [
    {
     "data": {
      "text/plain": [
       "{'citations': [{'cited_text': 'Billing Cycle: The District bills potable (drinking) water customers on a bi-monthly basis (every two months) and are due and payable upon presentatio...',\n",
       "   'title': 'Customer Care | City of Encinitas',\n",
       "   'url': 'https://www.encinitasca.gov/government/departments/utilities/san-dieguito-water-district/i-want-to',\n",
       "   'type': 'web_search_result_location'},\n",
       "  {'cited_text': 'A 12% adjustment to District revenues will be reflected on all bills effective 7/1/25. ',\n",
       "   'title': 'Customer Care | City of Encinitas',\n",
       "   'url': 'https://www.encinitasca.gov/government/departments/utilities/san-dieguito-water-district/i-want-to',\n",
       "   'type': 'web_search_result_location'},\n",
       "  {'cited_text': 'Disputing Your Bill: If you think your bill is incorrect or to dispute any services or charges on a bill, you must conta',\n",
       "   'title': 'Customer Care | City of Encinitas',\n",
       "   'url': 'https://www.encinitasca.gov/government/departments/utilities/san-dieguito-water-district/i-want-to',\n",
       "   'type': 'web_search_result_location'},\n",
       "  {'cited_text': 'To contact the San Dieguito Water District (SDWD) for water or hydrant leaks during business hours, call: (760) 633-2810. ',\n",
       "   'title': 'Hours & Locations | City of Encinitas',\n",
       "   'url': 'https://www.encinitasca.gov/services/contact',\n",
       "   'type': 'web_search_result_location'},\n",
       "  {'cited_text': '505 S. Vulcan Ave. Encinitas CA, 92024 · Hours of Operation: Mon–Thu: 7:30AM–5:30PM Fri: 7:30AM–4:30PM Alternating Fridays Closed',\n",
       "   'title': 'Pay Water Bills | City of Encinitas',\n",
       "   'url': 'https://www.encinitasca.gov/community/pay-water-bill',\n",
       "   'type': 'web_search_result_location'},\n",
       "  {'cited_text': '505 S. Vulcan Ave. Encinitas CA, 92024 · Hours of Operation: Mon–Thu: 7:30AM–5:30PM Fri: 7:30AM–4:30PM Alternating Fridays Closed',\n",
       "   'title': 'Pay... | City of Encinitas',\n",
       "   'url': 'https://www.encinitasca.gov/services/pay',\n",
       "   'type': 'web_search_result_location'},\n",
       "  {'cited_text': '505 S. Vulcan Ave. Encinitas CA, 92024 · Hours of Operation: Mon–Thu: 7:30AM–5:30PM Fri: 7:30AM–4:30PM Alternating Fridays Closed',\n",
       "   'title': 'Pay Water Bills | City of Encinitas',\n",
       "   'url': 'https://www.encinitasca.gov/community/pay-water-bill',\n",
       "   'type': 'web_search_result_location'},\n",
       "  {'cited_text': '505 S. Vulcan Ave. Encinitas CA, 92024 · Hours of Operation: Mon–Thu: 7:30AM–5:30PM Fri: 7:30AM–4:30PM Alternating Fridays Closed',\n",
       "   'title': 'Pay... | City of Encinitas',\n",
       "   'url': 'https://www.encinitasca.gov/services/pay',\n",
       "   'type': 'web_search_result_location'},\n",
       "  {'cited_text': 'View billing history and a copy of your last bill. ',\n",
       "   'title': 'Customer Care | City of Encinitas',\n",
       "   'url': 'https://www.encinitasca.gov/government/departments/utilities/san-dieguito-water-district/i-want-to',\n",
       "   'type': 'web_search_result_location'},\n",
       "  {'cited_text': 'View consumption history and information. ',\n",
       "   'title': 'Customer Care | City of Encinitas',\n",
       "   'url': 'https://www.encinitasca.gov/government/departments/utilities/san-dieguito-water-district/i-want-to',\n",
       "   'type': 'web_search_result_location'},\n",
       "  {'cited_text': 'San Dieguito Water District allows customers who are unable to pay their water bills to request a payment arrangement by submitting the Payment Arrang...',\n",
       "   'title': 'Payment Arrangement Request Form | City of Encinitas',\n",
       "   'url': 'https://www.encinitasca.gov/government/departments/utilities/san-dieguito-water-district/pay-water-bills/payment-arrangement-request-form',\n",
       "   'type': 'web_search_result_location'}],\n",
       " 'final_answer': \"I understand your concern about your water bill doubling this month! Unfortunately, I can't see your specific bill details or charges, but I can help you get to the right people who can explain what happened.\\n\\nFor water billing questions and disputes in Encinitas, you'll need to contact the San Dieguito Water District directly. Here's what you should know:\\n\\n**Important billing information:**\\n- The District bills potable (drinking) water customers on a bi-monthly basis (every two months), so if this is your first bi-monthly bill, that could explain the higher amount\\n- A 12% adjustment to District revenues will be reflected on all bills effective 7/1/25, which may contribute to higher charges\\n\\n**To dispute your bill or get an explanation of charges:**\\n- If you think your bill is incorrect or to dispute any services or charges on a bill, you must contact the San Dieguito Water District\\n- Call: (760) 633-2810 during business hours\\n- Visit in person: 505 S. Vulcan Ave. Encinitas CA, 92024\\n- Hours: Mon–Thu: 7:30AM–5:30PM Fri: 7:30AM–4:30PM Alternating Fridays Closed\\n\\n**You can also:**\\n- Check your account online through their Online Payment Portal: https://www.encinitasca.gov/government/departments/utilities/san-dieguito-water-district/i-want-to\\n- View billing history and a copy of your last bill online\\n- View consumption history and information to see if your usage increased\\n\\nIf you're having trouble paying, San Dieguito Water District allows customers who are unable to pay their water bills to request a payment arrangement by submitting the Payment Arrangement Request Form. Upon approval, we will establish reasonable payment arrangements to assist customers in avoiding potential fees or interruption of service.\\n\\nThe customer service team will be able to review your specific account and explain exactly what charges contributed to the increase in your bill.\"}"
      ]
     },
     "execution_count": 15,
     "metadata": {},
     "output_type": "execute_result"
    }
   ],
   "source": [
    "rsp = ac_web_search(\n",
    "    _example[\"input\"],\n",
    "    \"Encinitas\",\n",
    "    model_kwargs={\"max_tokens\": 2048, \"thinking\": {\"type\": \"enabled\", \"budget_tokens\": 1024}},\n",
    ")\n",
    "\n",
    "rsp\n",
    "# rsp.model_dump()"
   ]
  },
  {
   "cell_type": "markdown",
   "id": "2a871b5d",
   "metadata": {},
   "source": [
    "### Retrieval synthesis\n",
    "\n",
    "The second sub-task we need is a synthesis task that takes the retrieved context and attempts to provide an appropriate response, route the request to the correct contact, and finally identify any other information that would be needed to properly respond.\n"
   ]
  },
  {
   "cell_type": "markdown",
   "id": "d79215b2",
   "metadata": {},
   "source": [
    "#### Prompt\n",
    "\n",
    "We will create a versioned prompt as we did above.\n"
   ]
  },
  {
   "cell_type": "code",
   "execution_count": 16,
   "id": "512435eb",
   "metadata": {},
   "outputs": [
    {
     "name": "stdout",
     "output_type": "stream",
     "text": [
      "Public Works\n",
      "- Deceased animals\n",
      "- Graffiti on public property\n",
      "- Water leak (non-emergency)\n",
      "- Streetlight outages\n",
      "- Pothole repairs\n",
      "-> I saw a dead raccoon on Melba Road today—can someone remove it?\n",
      "-> There’s new graffiti on the sidewalk wall along South Coast Highway.\n",
      "-> A small water leak is pooling near the fire hydrant on Encinitas Blvd.\n",
      "-> The streetlight in front of 450 Quail Gardens Dr has been out for 3 nights.\n",
      "-> There’s a deep pothole on Manchester Ave that's damaging cars.\n",
      "\n",
      "Code Enforcement\n",
      "- Abandoned vehicles\n",
      "- Illegal signs or banners\n",
      "- Noise complaints\n",
      "- Trash or junk on private property\n",
      "- Homeless overnight camping\n",
      "-> There’s a broken-down RV parked on Citrus Ave for over two weeks.\n",
      "-> Someone put up a political banner on private property with no permit.\n",
      "-> Neighbors at 2 a.m. are playing loud music by the pool every weekend.\n",
      "-> The vacant lot next to Sunset View has piles of old furniture.\n",
      "-> A homeless encampment is forming under the 101 overpass near Cardiff.\n",
      "\n"
     ]
    }
   ],
   "source": [
    "for dept in dept_support_areas[:2]:\n",
    "    print(dept[\"name\"])\n",
    "    print(\"- \" + \"\\n- \".join(dept[\"support_areas\"]))\n",
    "    print(\"-> \" + \"\\n-> \".join(dept[\"examples\"]))\n",
    "    print()"
   ]
  },
  {
   "cell_type": "code",
   "execution_count": 17,
   "id": "aba54a53",
   "metadata": {},
   "outputs": [],
   "source": [
    "def build_triage_route_details() -> str:\n",
    "    output = \"=\" * 10 + \"\\n\"\n",
    "    for dept in dept_support_areas:\n",
    "        output += f\"Triage Target: {dept['slug']}\\n\"\n",
    "        output += f\"Triage Name: {dept['name']}\\n\"\n",
    "        output += f\"Support Areas: {','.join(dept['support_areas'])}\"\n",
    "        output += \"\\n\" + \"=\" * 10 + \"\\n\"\n",
    "\n",
    "    return output.strip()\n"
   ]
  },
  {
   "cell_type": "code",
   "execution_count": 18,
   "id": "9b2b130b",
   "metadata": {},
   "outputs": [
    {
     "name": "stdout",
     "output_type": "stream",
     "text": [
      "==========\n",
      "Triage Target: public_works\n",
      "Triage Name: Public Works\n",
      "Support Areas: Deceased animals,Graffiti on public property,Water leak (non-emergency),Streetlight outages,Pothole repairs\n",
      "==========\n",
      "Triage Target: code_enforcement\n",
      "Triage Name: Code Enforcement\n",
      "Support Areas: Abandoned vehicles,Illegal signs or banners,Noise complaints,Trash or junk on private property,Homeless overnight camping\n",
      "==========\n",
      "Triage Target: parks_recreation\n",
      "Triage Name: Parks & Recreation\n",
      "Support Areas: Playground issues,Gate issues in parks,Graffiti in park sites,\n"
     ]
    }
   ],
   "source": [
    "print(build_triage_route_details()[:550])"
   ]
  },
  {
   "cell_type": "code",
   "execution_count": 19,
   "id": "9101c43f",
   "metadata": {},
   "outputs": [],
   "source": [
    "SYNTHESIZE_RETRIEVAL_SYSTEM_PROMPT = f\"\"\"\\\n",
    "Your name is Sunny and you are an expert in providing responses to customer support responses for the city of {{{{city}}}} based on the original user inquiry, \n",
    "triage route descriptions, and the context provided.\n",
    "\n",
    "## Instructions\n",
    "- Provide a final answer to the user inquiry ONLY if it is answerable from the \"Context\" provided below.\n",
    "- Using the user's inquiry and the \"Context\" provided below, choose the most specific triage target to route the user to based on the \"Triage Options\" defined below.\n",
    "- If provided, make sure you include any relevant links, phone numbers, emails, or other information from the \"Context\" and how the user can use them to get the information they need.\n",
    "- Use markdown formatting for the full response.\n",
    "- Always direct complaints about personnel to \"human_resources\"\n",
    "\n",
    "## Triage Options    \n",
    "{build_triage_route_details()}\n",
    "\n",
    "## Context\n",
    "{{{{context}}}}\"\"\""
   ]
  },
  {
   "cell_type": "code",
   "execution_count": 20,
   "id": "3f183edb",
   "metadata": {},
   "outputs": [
    {
     "data": {
      "text/plain": [
       "{'status': 'success'}"
      ]
     },
     "execution_count": 20,
     "metadata": {},
     "output_type": "execute_result"
    }
   ],
   "source": [
    "bt_retieval_synthesis_prompt = bt_project.prompts.create(\n",
    "    name=\"WebSearchRetrievalSynthesis\",\n",
    "    slug=\"web-search-retrieval-synthesis\",\n",
    "    description=\"Prompt for synthesizing the retrieval results into a final answer\",\n",
    "    model=\"claude-4-sonnet-20250514\",\n",
    "    messages=[\n",
    "        {\"role\": \"system\", \"content\": SYNTHESIZE_RETRIEVAL_SYSTEM_PROMPT},\n",
    "        {\"role\": \"user\", \"content\": \"User Inquiry: {{{user_inquiry}}}\"},\n",
    "    ],\n",
    "    if_exists=\"replace\",\n",
    ")\n",
    "\n",
    "bt_project.publish()"
   ]
  },
  {
   "cell_type": "code",
   "execution_count": 21,
   "id": "03f590a1",
   "metadata": {},
   "outputs": [],
   "source": [
    "retrieval_synth_prompt = bt.load_prompt(project=BT_PROJECT_NAME, slug=\"web-search-retrieval-synthesis\")"
   ]
  },
  {
   "cell_type": "code",
   "execution_count": 22,
   "id": "d0f02770",
   "metadata": {},
   "outputs": [
    {
     "name": "stdout",
     "output_type": "stream",
     "text": [
      "Your name is Sunny and you are an expert in providing responses to customer support responses for the city of Encinitas based on the original user inquiry, \n",
      "triage route descriptions, and the context provided.\n",
      "\n",
      "## Instructions\n",
      "- Provide a final answer to the user inquiry ONLY if it is answerable from the \"Context\" provided below.\n",
      "- Using the user's inquiry and the \"Context\" provided below, choose the most specific triage target to route the user to based on the \"Triage Options\" defined below.\n",
      "- If provided, make sure you include any relevant links, phone numbers, emails, or other information from the \"Context\" and how the user can use them to get the information they need.\n",
      "- Use markdown formatting for the full response.\n",
      "- Always direct complaints about personnel to \"human_resources\"\n",
      "\n",
      "## Triage Options    \n",
      "==========\n",
      "Triage Target: public_works\n",
      "Triage Name: Public Works\n",
      "Support Areas: Deceased animals,Graffiti on public property,Water leak (non-emergency),Streetlight outages,Pothole repairs\n",
      "==========\n",
      "Triage Target: code_enforcement\n",
      "Triage Name: Code Enforcement\n",
      "Support Areas: Abandoned vehicles,Illegal signs or banners,Noise complaints,Trash or junk on private property,Homeless overnight camping\n",
      "==========\n",
      "Triage Target: parks_recreation\n",
      "Triage Name: Parks & Recreation\n",
      "Support Areas: Playground issues,Gate issues in parks,Graffiti in park sites,Trail maintenance,Trash or junk in park sites\n",
      "==========\n",
      "Triage Target: homeless_solutions\n",
      "Triage Name: Homeless Solutions\n",
      "Support Areas: Homeless encampments in parks or beaches,Homeless encampments on private property,General inquiries about individuals experiencing homelessness,Reporting aggressive behavior,Need outreach services\n",
      "==========\n",
      "Triage Target: fire_prevention\n",
      "Triage Name: Fire Prevention\n",
      "Support Areas: Fire hazard reporting,Concerns about brush clearance,Fire code violations,Inspection requests,Education requests\n",
      "==========\n",
      "Triage Target: traffic_engineering\n",
      "Triage Name: Traffic Engineering\n",
      "Support Areas: Crosswalk safety,Traffic signal malfunctions,Speeding requests,Parking restrictions,Traffic calming\n",
      "==========\n",
      "Triage Target: san_dieguito_water_district\n",
      "Triage Name: San Dieguito Water District\n",
      "Support Areas: Water billing questions,Emergency leaks,Conservation inquiries,Service maintenance requests,District operations\n",
      "==========\n",
      "Triage Target: san_diego_humane_society\n",
      "Triage Name: San Diego Humane Society\n",
      "Support Areas: Injured animal reports,Lost and found pets,Off-leash animal reports,Animal cruelty concerns,Wildlife entanglement\n",
      "==========\n",
      "Triage Target: san_diego_county_vector_control\n",
      "Triage Name: San Diego County Vector Control\n",
      "Support Areas: Rodent infestations,Mosquito problems,Pest management info,Vector control advice,Standing water hazards\n",
      "==========\n",
      "Triage Target: general\n",
      "Triage Name: General\n",
      "Support Areas: General informational inquiries,How‑to questions,Uncategorized issues,City event info,Municipal code questions\n",
      "==========\n",
      "Triage Target: human_resources\n",
      "Triage Name: Human Resources\n",
      "Support Areas: Complaints about city staff,Customer service feedback,Unprofessional conduct reports,Employment inquiries,Harassment/discrimination complaints\n",
      "==========\n",
      "\n",
      "## Context\n",
      "test\n"
     ]
    }
   ],
   "source": [
    "_p = retrieval_synth_prompt.build(city=\"Encinitas\", user_inquiry=_example[\"input\"], context=\"test\")\n",
    "print(_p[\"messages\"][0][\"content\"])"
   ]
  },
  {
   "cell_type": "markdown",
   "id": "f5ac94a1",
   "metadata": {},
   "source": [
    "#### Structured output definition\n",
    "\n",
    "We structure the output as a Pydantic class so we can better get at and evaluate the different aspects of our AI pipeline.\n"
   ]
  },
  {
   "cell_type": "code",
   "execution_count": 23,
   "id": "87a81171",
   "metadata": {},
   "outputs": [],
   "source": [
    "class CustomerSupportResponse(BaseModel):\n",
    "    \"\"\"The response from the customer support agent.\"\"\"\n",
    "\n",
    "    def convert_str_to_triage_target(v: str) -> str:  # type: ignore\n",
    "        \"\"\"Ensure entity type is a valid enum.\"\"\"\n",
    "        if v in triage_targets:\n",
    "            return v\n",
    "        else:\n",
    "            try:\n",
    "                match, score = fuzzy_process.extractOne(v.upper(), [s.upper() for s in triage_targets])  # type: ignore\n",
    "                return match if score >= 80 else \"General\"\n",
    "            except ValueError:\n",
    "                return \"General\"\n",
    "\n",
    "    chain_of_thought: str = Field(\n",
    "        ...,\n",
    "        description=\"Explain your decision about whether this question is answerable and why you chose to route it to the triage contact you chose\",\n",
    "    )\n",
    "    is_answerable_from_context: bool = Field(\n",
    "        ..., description=\"Whether the given response can answer the question from the context provided\"\n",
    "    )\n",
    "    requires_follow_up: bool = Field(\n",
    "        ...,\n",
    "        description=\"Whether the inquiry requires follow-up from the triage contact\",\n",
    "    )\n",
    "    requires_location: bool = Field(\n",
    "        ...,\n",
    "        description=\"Whether the inquiry requires the user to provide their location to be resolved by the triage contact\",\n",
    "    )\n",
    "    requires_photo_or_video: bool = Field(\n",
    "        ...,\n",
    "        description=\"Whether the inquiry requires the user to provide a photo or video to be resolved by the triage contact\",\n",
    "    )\n",
    "    requires_user_contact_info: bool = Field(\n",
    "        ...,\n",
    "        description=\"Whether the inquiry requires the user to provide their contact information to be resolved by the triage contact\",\n",
    "    )\n",
    "    full_response: str = Field(\n",
    "        ...,\n",
    "        description=\"The detailed answer to the question based on the context provided\",\n",
    "    )\n",
    "    final_answer: str = Field(\n",
    "        ...,\n",
    "        description=\"A succinct and concise answer to the question based on the context provided\",\n",
    "    )\n",
    "    route_to: Annotated[Literal[*triage_targets], BeforeValidator(convert_str_to_triage_target)]  # type: ignore\n"
   ]
  },
  {
   "cell_type": "markdown",
   "id": "b2ca595a",
   "metadata": {},
   "source": [
    "#### Task\n",
    "\n",
    "We set things up in this task to allow teams to use either OpenAI or Anthropic models.\n"
   ]
  },
  {
   "cell_type": "code",
   "execution_count": 24,
   "id": "f358201b",
   "metadata": {},
   "outputs": [],
   "source": [
    "class MODEL_VENDOR(str, enum.Enum):\n",
    "    ANTHROPIC = \"anthropic\"\n",
    "    OPENAI = \"openai\""
   ]
  },
  {
   "cell_type": "code",
   "execution_count": 25,
   "id": "9a4eabdd",
   "metadata": {},
   "outputs": [],
   "source": [
    "@bt.traced()\n",
    "def synthesize_retrieval(\n",
    "    user_inquiry: str,\n",
    "    retrieval_response: str,\n",
    "    city: str,\n",
    "    vendor: MODEL_VENDOR = MODEL_VENDOR.ANTHROPIC,\n",
    "    model=\"claude-sonnet-4-20250514\",\n",
    "    model_kwargs={},\n",
    ") -> CustomerSupportResponse:\n",
    "    \"\"\"Synthesize the retrieval results into a final answer.\"\"\"\n",
    "\n",
    "    prompt = retrieval_synth_prompt.build(city=city, user_inquiry=user_inquiry, context=retrieval_response)\n",
    "\n",
    "    rsp = None\n",
    "    if vendor == MODEL_VENDOR.ANTHROPIC:\n",
    "        tools = [\n",
    "            {\n",
    "                \"name\": \"customer_support_response\",\n",
    "                \"description\": \"Build CustomerSupportResponse object\",\n",
    "                \"input_schema\": CustomerSupportResponse.model_json_schema(),\n",
    "            }\n",
    "        ]\n",
    "        rsp = wrapped_ac_client.messages.create(\n",
    "            model=model,\n",
    "            system=prompt[\"messages\"].pop(0)[\"content\"],  # type: ignore\n",
    "            messages=prompt[\"messages\"],\n",
    "            tools=tools,\n",
    "            tool_choice={\"type\": \"tool\", \"name\": \"customer_support_response\"},\n",
    "            **model_kwargs,\n",
    "        )\n",
    "        return CustomerSupportResponse(**rsp.content[0].input)\n",
    "\n",
    "    elif vendor == MODEL_VENDOR.OPENAI:\n",
    "        result = wrapped_oai_client.beta.chat.completions.parse(\n",
    "            model=\"gpt-4o\",\n",
    "            messages=prompt[\"messages\"],\n",
    "            response_format=CustomerSupportResponse,\n",
    "            **model_kwargs,\n",
    "        )\n",
    "        return result.choices[0].message.parsed\n",
    "\n",
    "    else:\n",
    "        raise ValueError(f\"Invalid vendor: {vendor}\")\n"
   ]
  },
  {
   "cell_type": "code",
   "execution_count": 26,
   "id": "771d21b2",
   "metadata": {},
   "outputs": [
    {
     "data": {
      "text/plain": [
       "\"I understand your concern about your doubled water bill! Let me help explain some potential causes based on Encinitas water billing information.\\n\\nFirst, it's important to note that the District bills potable (drinking) water customers on a bi-monthly basis (every two months) and are due and payable upon presentation. This means you might be seeing charges for two months of usage at once.\\n\\nHere are some common reasons why your water bill might have doubled:\\n\\n**Billing Cycle:** Since Encinitas uses bi-monthly billing, if you're comparing to a previous monthly statement or there was a timing difference, this could explain the increase.\\n\\n**Leak Detection:** The search results mention leak detection services, which suggests this is a common issue. Undetected leaks can significantly increase water usage and costs.\\n\\n**Seasonal Usage:** Increased outdoor watering, especially during warmer months, can substantially raise your bill.\\n\\n**Rate Changes:** There may have been recent rate adjustments that affected your charges.\\n\\n**Sewer Charges:** The charge is calculated based upon a percentage of water use at the property, so if your water usage increased, your sewer charges would also increase proportionally.\\n\\n**What you can do:**\\n\\n1. **Dispute Process:** If you think your bill is incorrect or to dispute any services or charges on a bill, you must contact our office in writing with the nature of your concern within five days of receipt of your bill.\\n\\n2. **Payment Assistance:** If you are having difficulty paying your water bill you may be eligible to request a payment arrangement.\\n\\n**Contact Information:**\\n- San Dieguito Water District: 160 Calle Magdalena Encinitas, CA 92024\\n- For after-hours emergencies: (760) 633-2922\\n\\nI recommend contacting the San Dieguito Water District directly to review your specific bill and usage history. They can help identify the exact cause of the increase and provide detailed explanations of all charges.\\n\\nYou can also pay your bill online at: https://www.encinitasca.gov/community/pay-water-bill\""
      ]
     },
     "execution_count": 26,
     "metadata": {},
     "output_type": "execute_result"
    }
   ],
   "source": [
    "parsed[\"final_answer\"]"
   ]
  },
  {
   "cell_type": "markdown",
   "id": "635944e7",
   "metadata": {},
   "source": [
    "Let's try it with Anthropic\n"
   ]
  },
  {
   "cell_type": "code",
   "execution_count": 27,
   "id": "10b1cab1",
   "metadata": {},
   "outputs": [],
   "source": [
    "rsp = synthesize_retrieval(\n",
    "    user_inquiry=_example[\"input\"],\n",
    "    retrieval_response=parsed[\"final_answer\"],\n",
    "    city=\"Encinitas\",\n",
    "    model_kwargs={\"max_tokens\": 1024},\n",
    ")\n",
    "# rsp"
   ]
  },
  {
   "cell_type": "code",
   "execution_count": 28,
   "id": "c3034118",
   "metadata": {},
   "outputs": [
    {
     "data": {
      "text/plain": [
       "{'chain_of_thought': \"This question is about water billing, which falls under the San Dieguito Water District's purview based on the triage options. The context provided contains comprehensive information about water billing in Encinitas, including common reasons for bill increases, billing cycles, and contact information. I can provide a detailed answer from the context, but the user may need follow-up assistance to review their specific bill details and usage history with the water district directly.\",\n",
       " 'is_answerable_from_context': True,\n",
       " 'requires_follow_up': True,\n",
       " 'requires_location': False,\n",
       " 'requires_photo_or_video': False,\n",
       " 'requires_user_contact_info': False,\n",
       " 'full_response': \"I understand your concern about your doubled water bill! Let me help explain some potential causes based on Encinitas water billing information.\\n\\n**Important Note About Billing Cycle:**\\nThe San Dieguito Water District bills potable (drinking) water customers on a **bi-monthly basis (every two months)** and bills are due and payable upon presentation. This means you might be seeing charges for two months of usage at once, which could explain why your bill appears to have doubled.\\n\\n## Common Reasons for Increased Water Bills:\\n\\n**📅 Billing Cycle Confusion:** If you're comparing to a previous monthly statement or there was a timing difference, this could explain the increase.\\n\\n**💧 Leak Detection:** Undetected leaks can significantly increase water usage and costs. The district offers leak detection services since this is a common issue.\\n\\n**🌱 Seasonal Usage:** Increased outdoor watering, especially during warmer months, can substantially raise your bill.\\n\\n**💰 Rate Changes:** There may have been recent rate adjustments that affected your charges.\\n\\n**🚰 Sewer Charges:** Sewer charges are calculated based upon a percentage of water use at your property, so if your water usage increased, your sewer charges would also increase proportionally.\\n\\n## What You Can Do:\\n\\n**Dispute Process:** If you think your bill is incorrect or want to dispute any services or charges, you must contact the water district office **in writing** with the nature of your concern **within five days** of receipt of your bill.\\n\\n**Payment Assistance:** If you're having difficulty paying your water bill, you may be eligible to request a payment arrangement.\\n\\n## Contact Information:\\n- **San Dieguito Water District**\\n- Address: 160 Calle Magdalena, Encinitas, CA 92024\\n- After-hours emergencies: (760) 633-2922\\n- **Pay online:** https://www.encinitasca.gov/community/pay-water-bill\\n\\nI recommend contacting the San Dieguito Water District directly to review your specific bill and usage history. They can help identify the exact cause of the increase and provide detailed explanations of all charges.\",\n",
       " 'final_answer': \"Your water bill may have doubled due to Encinitas' bi-monthly billing cycle (every two months), potential leaks, increased seasonal usage, rate changes, or higher sewer charges. Contact San Dieguito Water District at 160 Calle Magdalena to review your specific usage and charges. If disputing, contact them in writing within 5 days of receiving your bill.\",\n",
       " 'route_to': 'san_dieguito_water_district'}"
      ]
     },
     "execution_count": 28,
     "metadata": {},
     "output_type": "execute_result"
    }
   ],
   "source": [
    "rsp.model_dump()"
   ]
  },
  {
   "cell_type": "markdown",
   "id": "f161297a",
   "metadata": {},
   "source": [
    "Let's try it with OpenAI\n"
   ]
  },
  {
   "cell_type": "code",
   "execution_count": 29,
   "id": "ac437e32",
   "metadata": {},
   "outputs": [],
   "source": [
    "rsp = synthesize_retrieval(\n",
    "    user_inquiry=_example[\"input\"],\n",
    "    retrieval_response=parsed[\"final_answer\"],\n",
    "    city=\"Encinitas\",\n",
    "    vendor=MODEL_VENDOR.OPENAI,\n",
    "    model=\"gpt-4o-mini\",\n",
    "    model_kwargs={},\n",
    ")\n",
    "# rsp"
   ]
  },
  {
   "cell_type": "code",
   "execution_count": 30,
   "id": "cb3d675c",
   "metadata": {},
   "outputs": [
    {
     "data": {
      "text/plain": [
       "{'chain_of_thought': \"The user's inquiry about a doubled water bill can be addressed by the context provided, which explains potential reasons for a water bill increase. The inquiry specifically falls under the support area of water billing questions, so it should be routed to the San Dieguito Water District.\",\n",
       " 'is_answerable_from_context': True,\n",
       " 'requires_follow_up': True,\n",
       " 'requires_location': False,\n",
       " 'requires_photo_or_video': False,\n",
       " 'requires_user_contact_info': False,\n",
       " 'full_response': 'I understand your concern about your doubled water bill! Based on the Encinitas water billing information, there are several reasons why your bill might have increased:\\n\\n1. **Bi-monthly Billing:** The District bills potable water customers every two months, so you might be seeing charges for two months of usage at once.\\n2. **Leak Detection:** Undetected leaks can significantly increase water usage and costs.\\n3. **Seasonal Usage:** Increased outdoor watering during warmer months can raise your bill.\\n4. **Rate Changes:** Recent rate adjustments might have affected your charges.\\n5. **Sewer Charges:** These are calculated as a percentage of water use, so an increase in usage impacts these charges too.\\n\\nTo dispute the bill or review it in detail, you should contact the San Dieguito Water District directly. You can reach them at:\\n- Address: 160 Calle Magdalena, Encinitas, CA 92024\\n- After-hours emergencies phone: (760) 633-2922\\n\\nAdditionally, you can pay your bill online at: [Pay Water Bill](https://www.encinitasca.gov/community/pay-water-bill)',\n",
       " 'final_answer': 'I understand your concern about your doubled water bill! The increase could be due to bi-monthly billing cycles, undetected leaks, seasonal usage, rate changes, or increased sewer charges. For a detailed review or to dispute the charges, please contact the San Dieguito Water District at 160 Calle Magdalena, Encinitas, CA 92024, or for after-hours emergencies, call (760) 633-2922. You can also pay your bill online at: https://www.encinitasca.gov/community/pay-water-bill',\n",
       " 'route_to': 'san_dieguito_water_district'}"
      ]
     },
     "execution_count": 30,
     "metadata": {},
     "output_type": "execute_result"
    }
   ],
   "source": [
    "rsp.model_dump()"
   ]
  },
  {
   "cell_type": "markdown",
   "id": "9d9c572f",
   "metadata": {},
   "source": [
    "### Customer support task\n",
    "\n",
    "Let's put our entire workflow together under the `ask_customer_support` task.\n"
   ]
  },
  {
   "cell_type": "code",
   "execution_count": 31,
   "id": "8f3b7ec5",
   "metadata": {},
   "outputs": [],
   "source": [
    "@bt.traced()\n",
    "def ask_customer_support(\n",
    "    user_inquiry: str,\n",
    "    city: str,\n",
    "    search_model: str = \"claude-sonnet-4-20250514\",\n",
    "    synthesis_model: str = \"gpt-4o\",\n",
    "    synthesis_vendor: MODEL_VENDOR = MODEL_VENDOR.OPENAI,\n",
    "    search_model_kwargs={\"max_tokens\": 2048, \"thinking\": {\"type\": \"enabled\", \"budget_tokens\": 1024}},\n",
    "    synthesis_model_kwargs: dict = {},\n",
    ") -> CustomerSupportResponse:\n",
    "    \"\"\"Ask the customer support agent a question.\"\"\"\n",
    "\n",
    "    search_results = ac_web_search(user_inquiry, city, model=search_model, model_kwargs=search_model_kwargs)\n",
    "    customer_support_resp = synthesize_retrieval(\n",
    "        user_inquiry=user_inquiry,\n",
    "        retrieval_response=search_results[\"final_answer\"],\n",
    "        city=city,\n",
    "        vendor=synthesis_vendor,\n",
    "        model=synthesis_model,\n",
    "        model_kwargs=synthesis_model_kwargs,\n",
    "    )\n",
    "\n",
    "    return customer_support_resp"
   ]
  },
  {
   "cell_type": "markdown",
   "id": "2dc20a06",
   "metadata": {},
   "source": [
    "Let's test how this works with a few questions\n"
   ]
  },
  {
   "cell_type": "code",
   "execution_count": 32,
   "id": "3dbeccaf",
   "metadata": {},
   "outputs": [
    {
     "data": {
      "text/plain": [
       "55"
      ]
     },
     "execution_count": 32,
     "metadata": {},
     "output_type": "execute_result"
    }
   ],
   "source": [
    "len(test_data)"
   ]
  },
  {
   "cell_type": "code",
   "execution_count": 33,
   "id": "0fef6030",
   "metadata": {},
   "outputs": [],
   "source": [
    "def process_single_request(example):\n",
    "    \"\"\"Process a single customer support request.\"\"\"\n",
    "    city = \"Encinitas\"\n",
    "\n",
    "    with bt.start_span(name=\"request_support_task\") as span:\n",
    "        span.log(input=example[\"input\"])\n",
    "        customer_support_resp = ask_customer_support(\n",
    "            user_inquiry=example[\"input\"],\n",
    "            city=city,\n",
    "            search_model=\"claude-sonnet-4-20250514\",\n",
    "            synthesis_model=\"gpt-4o-mini\",\n",
    "            synthesis_vendor=MODEL_VENDOR.OPENAI,\n",
    "            search_model_kwargs={\"max_tokens\": 2048, \"thinking\": {\"type\": \"enabled\", \"budget_tokens\": 1024}},\n",
    "            synthesis_model_kwargs={},\n",
    "        )\n",
    "\n",
    "        metadata = example.get(\"metadata\", {})\n",
    "        filtered_metadata = {\n",
    "            \"id\": metadata.get(\"id\"),\n",
    "            \"query_source\": metadata.get(\"query_source\"),\n",
    "            \"triage_slug\": metadata.get(\"triage_slug\"),\n",
    "        }\n",
    "\n",
    "        span.log(output=customer_support_resp, metadata=filtered_metadata)\n",
    "        return customer_support_resp"
   ]
  },
  {
   "cell_type": "markdown",
   "id": "5767a354",
   "metadata": {},
   "source": [
    "**Key takeaways**:\n",
    "\n",
    "1. We use `braintrust.start_span()` to manually construct our trace here in the same way for logs as we do with experiments.\n",
    "2. Manually constructing the trace gives us full control over what is logged and where.\n"
   ]
  },
  {
   "cell_type": "code",
   "execution_count": 34,
   "id": "3786536f",
   "metadata": {},
   "outputs": [
    {
     "name": "stdout",
     "output_type": "stream",
     "text": [
      "Processing 55 customer support requests in parallel...\n",
      "Completed processing 55 requests!\n"
     ]
    }
   ],
   "source": [
    "# Run all test data in parallel\n",
    "print(f\"Processing {len(test_data)} customer support requests in parallel...\")\n",
    "timestamp = datetime.now().strftime(\"%Y%m%d_%H%M\")\n",
    "\n",
    "with ThreadPoolExecutor(max_workers=MAX_WORKERS) as executor:\n",
    "    results = list(executor.map(process_single_request, test_data))\n",
    "\n",
    "print(f\"Completed processing {len(results)} requests!\")"
   ]
  },
  {
   "cell_type": "markdown",
   "id": "788364e8",
   "metadata": {},
   "source": [
    "## Curate a dataset of our traces for experimentation (offline evals)\n"
   ]
  },
  {
   "cell_type": "markdown",
   "id": "411cd063",
   "metadata": {},
   "source": [
    "Once we have our traces logged, we can move them into a \"golden [dataset](https://www.braintrust.dev/docs/guides/datasets)\" to build evals on. Creating a dataset for experiments or logs is as easy as selecting all the rows you want to include and clicking \"Add to dataset\"\n",
    "\n",
    "We'll do this in the Braintrust UI and then use this dataset in our initial experiments.\n",
    "\n",
    "<img src=\"./data/curate-dataset.png\" width=\"800\"/>\n"
   ]
  },
  {
   "cell_type": "markdown",
   "id": "3652ce6d",
   "metadata": {},
   "source": [
    "**Key takeaways**:\n",
    "\n",
    "1. Curate datasets from experiments and logs to run your evals on.\n",
    "2. You can configure tags to mark traces that need review or else have been reviewed in your project configuration.\n"
   ]
  },
  {
   "cell_type": "code",
   "execution_count": 35,
   "id": "ab918501",
   "metadata": {},
   "outputs": [
    {
     "name": "stderr",
     "output_type": "stream",
     "text": [
      "Retrying request after error: ('Connection aborted.', RemoteDisconnected('Remote end closed connection without response'))\n",
      "Sleeping for 0.5 seconds\n"
     ]
    }
   ],
   "source": [
    "ds = bt.init_dataset(project=BT_PROJECT_NAME, name=\"initial_error_analysis\")\n",
    "# rows = list(ds)[:5]\n",
    "rows = list(ds)"
   ]
  },
  {
   "cell_type": "markdown",
   "id": "b9b22209",
   "metadata": {},
   "source": [
    "**Key takeaways**:\n",
    "\n",
    "1. Use `braintrust.init_dataset()` to fetch your data from Braintrust.\n",
    "2. Use can use this method as the `data` for your evals (see below).\n"
   ]
  },
  {
   "cell_type": "code",
   "execution_count": 36,
   "id": "524c8e7c",
   "metadata": {},
   "outputs": [
    {
     "name": "stdout",
     "output_type": "stream",
     "text": [
      "55\n"
     ]
    },
    {
     "data": {
      "text/plain": [
       "{'_pagination_key': 'p07530714983148879926',\n",
       " '_xact_id': '1000195501844378445',\n",
       " 'created': '2025-07-24T18:20:16.715Z',\n",
       " 'dataset_id': '234585eb-8164-4909-973a-77c0c2f4491f',\n",
       " 'expected': {'chain_of_thought': \"The user's inquiry is about a noise issue caused by neighbors playing loud music at late hours. This type of complaint falls under the domain of Code Enforcement in the City of Encinitas, which addresses noise complaints. The context discusses how to file a noise complaint and provides links to do so online or contact numbers for immediate assistance, making it directly answerable from the context.\",\n",
       "  'final_answer': \"For the noise issue with your neighbors playing loud music at 2 a.m., you can file a complaint through the City of Encinitas' Code Enforcement. Fill out the [Citizen's Complaint Form](https://www.encinitasca.gov/government/departments/development-services/code-enforcement/filing-a-complaint/citizen-complaint-form) or use the [Code Enforcement Form](https://www.encinitasca.gov/i-want-to/requests-hub/code-enforcement-form-761). For immediate assistance, contact the Encinitas Sheriff Station Dispatch at (858) 565-5200. Be sure to provide detailed information about the noise occurrences.\",\n",
       "  'full_response': \"It sounds like you're dealing with a bothersome noise issue with your neighbors playing loud music at 2 a.m. every weekend. You can address this through the City's Code Enforcement by filing a noise complaint. \\n\\nHere’s how you can do it:\\n\\n1. **File a Noise Complaint**\\n   \\n   - Complete a Citizen's Complaint Form available on the city's website: [Code Enforcement Citizen Complaint Form](https://www.encinitasca.gov/government/departments/development-services/code-enforcement/filing-a-complaint/citizen-complaint-form)\\n   \\n   - Alternatively, submit a complaint through the city's reporting system: [Code Enforcement Form](https://www.encinitasca.gov/i-want-to/requests-hub/code-enforcement-form-761)\\n\\n2. **Immediate Assistance**\\n\\n   - For non-emergency noise issues, contact the Encinitas Sheriff Station Dispatch at (858) 565-5200.\\n\\nPlease provide complete contact information and specific details about the noise disturbances, including times and frequency, to assist in the investigation. If the noise is happening right now and requires urgent action, you may consider these immediate assistance options.\\n\\nThe City of Encinitas takes noise ordinance violations seriously and will investigate your complaint as per their procedures.\",\n",
       "  'is_answerable_from_context': True,\n",
       "  'requires_follow_up': True,\n",
       "  'requires_location': True,\n",
       "  'requires_photo_or_video': False,\n",
       "  'requires_user_contact_info': True,\n",
       "  'route_to': 'code_enforcement'},\n",
       " 'id': '2445ebc1-97ab-43d1-a987-81fb8a9b0888',\n",
       " 'input': 'Neighbors at 2\\u202fa.m. are playing loud music by the pool every weekend.',\n",
       " 'is_root': True,\n",
       " 'metadata': {'id': '20250724_1103_088',\n",
       "  'query_source': 'handcoded',\n",
       "  'triage_slug': 'code_enforcement'},\n",
       " 'origin': {'_xact_id': '1000195501842726417',\n",
       "  'id': '2445ebc1-97ab-43d1-a987-81fb8a9b0888',\n",
       "  'object_id': '2b7e69b4-7ce8-4da6-b956-72a38eaab1ee',\n",
       "  'object_type': 'project_logs'},\n",
       " 'project_id': '2b7e69b4-7ce8-4da6-b956-72a38eaab1ee',\n",
       " 'root_span_id': '2445ebc1-97ab-43d1-a987-81fb8a9b0888',\n",
       " 'span_id': '2445ebc1-97ab-43d1-a987-81fb8a9b0888',\n",
       " 'tags': ['reviewed']}"
      ]
     },
     "execution_count": 36,
     "metadata": {},
     "output_type": "execute_result"
    }
   ],
   "source": [
    "print(len(rows))\n",
    "row = rows[0]\n",
    "row"
   ]
  },
  {
   "cell_type": "markdown",
   "id": "df38b8b0",
   "metadata": {},
   "source": [
    "## Scoring\n",
    "\n",
    "**Objective**: Define function(s) that will return a score for a specific outcome we care about.\n",
    "\n",
    "So we have our `task` and our `data`, all we need now to start building evals is a way to score how well our task did on each input in our dataset.\n",
    "\n",
    "Braintrust comes with several helpful scorers out of the box via our [Autoevals library](https://www.braintrust.dev/docs/reference/autoevals). Fun fact: you can use them outside of Braintrust as well. In addition to these scoring functions, we can define our own, as demonstrated below, where we configure a reference-based scorer to see how well the task predicts the right contact to route the inquiry to (but only if the target route is specified).\n"
   ]
  },
  {
   "cell_type": "code",
   "execution_count": 37,
   "id": "eed0565d",
   "metadata": {},
   "outputs": [],
   "source": [
    "def is_correct_triage_contact(\n",
    "    input: str | None = None,\n",
    "    expected: dict | None = None,\n",
    "    output: CustomerSupportResponse | None = None,\n",
    "    metadata: dict | None = None,\n",
    "    **kwargs,\n",
    ") -> int | None:\n",
    "    if output and metadata and metadata.get(\"triage_slug\"):\n",
    "        return int(output.route_to == metadata.get(\"triage_slug\"))\n",
    "\n",
    "    if output and expected:\n",
    "        return int(expected[\"route_to\"] == output.route_to)\n",
    "\n",
    "    return None"
   ]
  },
  {
   "cell_type": "code",
   "execution_count": 38,
   "id": "591d49ab",
   "metadata": {},
   "outputs": [
    {
     "data": {
      "text/plain": [
       "1"
      ]
     },
     "execution_count": 38,
     "metadata": {},
     "output_type": "execute_result"
    }
   ],
   "source": [
    "is_correct_triage_contact(\n",
    "    input=row.get(\"input\", \"\"),\n",
    "    output=CustomerSupportResponse.model_validate(row.get(\"expected\", {})),\n",
    "    expected=row.get(\"expected\", None),\n",
    "    metadata=row.get(\"metadata\", None),  # type: ignore\n",
    ")"
   ]
  },
  {
   "cell_type": "markdown",
   "id": "c07685fd",
   "metadata": {},
   "source": [
    "**Key takeaways**:\n",
    "\n",
    "1. Scoring functions accept the following arguments: input, expected, output, and metadata.\n",
    "2. You can build custom scoring functions like we did above or use any of the scoring functions provided in our Autoevals library.\n"
   ]
  },
  {
   "cell_type": "markdown",
   "id": "a27232a6",
   "metadata": {},
   "source": [
    "## Evals\n",
    "\n",
    "We now have the 3 things required to run an offline eval, a.k.a. an [experiment](https://www.braintrust.dev/docs/guides/experiments)\n",
    "\n",
    "**Data**: Handcoded and Synthetic customer support requests/inquiries\n",
    "\n",
    "**Task**: A customer support task that uses two subtasks to route and attempt to answer the request\n",
    "\n",
    "**Scorers**: An initial reference-based scorer that scores the response on whether it routed the request to the right contact\n"
   ]
  },
  {
   "cell_type": "code",
   "execution_count": 39,
   "id": "1ffe8eb7",
   "metadata": {},
   "outputs": [
    {
     "name": "stderr",
     "output_type": "stream",
     "text": [
      "Experiment initial_error_analysis_20250724_1121 is running at https://www.braintrust.dev/app/aie-course-2025/p/braintrust-intro/experiments/initial_error_analysis_20250724_1121\n",
      "braintrust-intro [experiment_name=initial_error_analysis_20250724_1121] (data): 55it [00:00, 131221.11it/s]\n",
      "braintrust-intro [experiment_name=initial_error_analysis_20250724_1121] (tasks): 100%|██████████| 55/55 [02:04<00:00,  2.27s/it]  \n"
     ]
    },
    {
     "name": "stdout",
     "output_type": "stream",
     "text": [
      "\n",
      "=========================SUMMARY=========================\n",
      "initial_error_analysis_20250724_1121 compared to add_queries_it_20250724_1103:\n",
      "76.36% 'is_correct_triage_contact' score\n",
      "\n",
      "1753381272.24s start\n",
      "1753381382.45s end\n",
      "69.46s duration\n",
      "20.94s llm_duration\n",
      "12551.55tok prompt_tokens\n",
      "954.93tok completion_tokens\n",
      "13506.47tok total_tokens\n",
      "0.05$ estimated_cost\n",
      "0tok prompt_cached_tokens\n",
      "0tok prompt_cache_creation_tokens\n",
      "\n",
      "See results for initial_error_analysis_20250724_1121 at https://www.braintrust.dev/app/aie-course-2025/p/braintrust-intro/experiments/initial_error_analysis_20250724_1121\n"
     ]
    },
    {
     "data": {
      "text/plain": [
       "EvalResultWithSummary(summary=\"...\", results=[...])"
      ]
     },
     "execution_count": 39,
     "metadata": {},
     "output_type": "execute_result"
    }
   ],
   "source": [
    "timestamp = datetime.now().strftime(\"%Y%m%d_%H%M\")\n",
    "\n",
    "exp_metadata = {\n",
    "    \"city\": \"Encinitas\",\n",
    "    \"search_model\": \"claude-sonnet-4-20250514\",\n",
    "    \"synthesis_model\": \"gpt-4o-mini\",\n",
    "    \"synthesis_vendor\": MODEL_VENDOR.OPENAI,\n",
    "    \"search_model_kwargs\": {\"max_tokens\": 2048, \"thinking\": {\"type\": \"enabled\", \"budget_tokens\": 1024}},\n",
    "    \"synthesis_model_kwargs\": {\"temperature\": 0.75},\n",
    "}\n",
    "await bt.EvalAsync(\n",
    "    name=BT_PROJECT_NAME,\n",
    "    experiment_name=f\"initial_error_analysis_{timestamp}\",\n",
    "    data=rows,  # type: ignore\n",
    "    task=partial(ask_customer_support, **exp_metadata),\n",
    "    metadata=exp_metadata,\n",
    "    scores=[is_correct_triage_contact],  # type: ignore\n",
    ")"
   ]
  },
  {
   "cell_type": "markdown",
   "id": "62270324",
   "metadata": {},
   "source": [
    "We can now start iterating on improving the routing. This can be done in various ways. For example:\n",
    "\n",
    "1. We can change the models and or generation kwargs.\n",
    "2. We can improve the prompts and context provided to our models.\n",
    "3. We can make corrections to our dataset.\n"
   ]
  },
  {
   "cell_type": "code",
   "execution_count": 40,
   "id": "cec2a7f5",
   "metadata": {},
   "outputs": [
    {
     "name": "stderr",
     "output_type": "stream",
     "text": [
      "Retrying request after error: ('Connection aborted.', RemoteDisconnected('Remote end closed connection without response'))\n",
      "Sleeping for 0.5 seconds\n"
     ]
    }
   ],
   "source": [
    "ds = bt.init_dataset(project=BT_PROJECT_NAME, name=\"initial_error_analysis\")\n",
    "rows = list(ds)  # [:5]"
   ]
  },
  {
   "cell_type": "code",
   "execution_count": 41,
   "id": "00b1f7aa",
   "metadata": {},
   "outputs": [
    {
     "name": "stdout",
     "output_type": "stream",
     "text": [
      "55\n"
     ]
    }
   ],
   "source": [
    "print(len(list(ds)))"
   ]
  },
  {
   "cell_type": "code",
   "execution_count": 42,
   "id": "04190b13",
   "metadata": {},
   "outputs": [
    {
     "name": "stderr",
     "output_type": "stream",
     "text": [
      "Experiment initial_error_analysis_20250724_1132 is running at https://www.braintrust.dev/app/aie-course-2025/p/braintrust-intro/experiments/initial_error_analysis_20250724_1132\n",
      "braintrust-intro [experiment_name=initial_error_analysis_20250724_1132] (data): 55it [00:00, 156716.52it/s]\n",
      "braintrust-intro [experiment_name=initial_error_analysis_20250724_1132] (tasks): 100%|██████████| 55/55 [06:30<00:00,  7.10s/it]  \n",
      "Retrying request after error: ('Connection aborted.', RemoteDisconnected('Remote end closed connection without response'))\n",
      "Sleeping for 0.5 seconds\n"
     ]
    },
    {
     "name": "stdout",
     "output_type": "stream",
     "text": [
      "\n",
      "=========================SUMMARY=========================\n",
      "initial_error_analysis_20250724_1132 compared to initial_error_analysis_20250724_1121:\n",
      "85.45% (+09.09%) 'is_correct_triage_contact' score\t(8 improvements, 3 regressions)\n",
      "\n",
      "1753381952.44s start\n",
      "1753382070.01s end\n",
      "76.29s (+682.42%) 'duration'                    \t(19 improvements, 36 regressions)\n",
      "26.84s (+589.84%) 'llm_duration'                \t(22 improvements, 33 regressions)\n",
      "12479.85tok (-7169.09%) 'prompt_tokens'               \t(26 improvements, 29 regressions)\n",
      "972.04tok (+1710.91%) 'completion_tokens'           \t(22 improvements, 33 regressions)\n",
      "13451.89tok (-5458.18%) 'total_tokens'                \t(26 improvements, 29 regressions)\n",
      "0.05$ (+00.00%) 'estimated_cost'              \t(26 improvements, 29 regressions)\n",
      "0tok (-) 'prompt_cached_tokens'        \t(0 improvements, 0 regressions)\n",
      "0tok (-) 'prompt_cache_creation_tokens'\t(0 improvements, 0 regressions)\n",
      "\n",
      "See results for initial_error_analysis_20250724_1132 at https://www.braintrust.dev/app/aie-course-2025/p/braintrust-intro/experiments/initial_error_analysis_20250724_1132\n"
     ]
    },
    {
     "data": {
      "text/plain": [
       "EvalResultWithSummary(summary=\"...\", results=[...])"
      ]
     },
     "execution_count": 42,
     "metadata": {},
     "output_type": "execute_result"
    }
   ],
   "source": [
    "timestamp = datetime.now().strftime(\"%Y%m%d_%H%M\")\n",
    "what_changed = \"fixed incorrect triage_slug in the 'golden' dataset\"\n",
    "\n",
    "exp_metadata = {\n",
    "    \"city\": \"Encinitas\",\n",
    "    \"search_model\": \"claude-sonnet-4-20250514\",\n",
    "    \"synthesis_model\": \"gpt-4o-mini\",\n",
    "    \"synthesis_vendor\": MODEL_VENDOR.OPENAI,\n",
    "    \"search_model_kwargs\": {\"max_tokens\": 2048, \"thinking\": {\"type\": \"enabled\", \"budget_tokens\": 1024}},\n",
    "    \"synthesis_model_kwargs\": {\"temperature\": 0.75},\n",
    "}\n",
    "await bt.EvalAsync(\n",
    "    name=BT_PROJECT_NAME,\n",
    "    experiment_name=f\"initial_error_analysis_{timestamp}\",\n",
    "    data=rows,  # type: ignore\n",
    "    task=partial(ask_customer_support, **exp_metadata),\n",
    "    metadata={**exp_metadata, \"what_changed\": what_changed},\n",
    "    scores=[is_correct_triage_contact],  # type: ignore\n",
    ")"
   ]
  },
  {
   "cell_type": "markdown",
   "id": "ec6d74d7",
   "metadata": {},
   "source": [
    "## Next Steps\n",
    "\n",
    "Keep iterating! Appropraite next steps include:\n",
    "\n",
    "- Review more synthetic queries and run our evals on more data.\n",
    "- Build a reference-free scorer, an LLM-as-Judge, for example, to score routing in both offline and online evaluations.\n",
    "- Work with SME's to better identify other failure modes and iterate to build evals for.\n"
   ]
  },
  {
   "cell_type": "markdown",
   "id": "d2dc182c",
   "metadata": {},
   "source": [
    "## Fin\n"
   ]
  },
  {
   "cell_type": "markdown",
   "id": "8d336b3a",
   "metadata": {},
   "source": []
  }
 ],
 "metadata": {
  "kernelspec": {
   "display_name": ".venv",
   "language": "python",
   "name": "python3"
  },
  "language_info": {
   "codemirror_mode": {
    "name": "ipython",
    "version": 3
   },
   "file_extension": ".py",
   "mimetype": "text/x-python",
   "name": "python",
   "nbconvert_exporter": "python",
   "pygments_lexer": "ipython3",
   "version": "3.12.11"
  }
 },
 "nbformat": 4,
 "nbformat_minor": 5
}
