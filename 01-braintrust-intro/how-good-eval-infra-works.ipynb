{
 "cells": [
  {
   "cell_type": "markdown",
   "id": "d581218e",
   "metadata": {},
   "source": [
    "# How Good Eval Infra Works\n",
    "\n",
    "An introduction to all things Braintrust\n"
   ]
  },
  {
   "cell_type": "code",
   "execution_count": 1,
   "id": "8150e756",
   "metadata": {},
   "outputs": [
    {
     "name": "stderr",
     "output_type": "stream",
     "text": [
      "/Users/wgilliam/development/demos/ai_evals_course_202507/.venv/lib/python3.12/site-packages/tqdm/auto.py:21: TqdmWarning: IProgress not found. Please update jupyter and ipywidgets. See https://ipywidgets.readthedocs.io/en/stable/user_install.html\n",
      "  from .autonotebook import tqdm as notebook_tqdm\n"
     ]
    },
    {
     "data": {
      "text/plain": [
       "True"
      ]
     },
     "execution_count": 1,
     "metadata": {},
     "output_type": "execute_result"
    }
   ],
   "source": [
    "import enum\n",
    "import json\n",
    "import os\n",
    "import random\n",
    "\n",
    "from concurrent.futures import ThreadPoolExecutor\n",
    "from datetime import datetime\n",
    "from functools import partial\n",
    "from textwrap import dedent\n",
    "from typing import Annotated, Literal\n",
    "\n",
    "import anthropic as ac\n",
    "import braintrust as bt\n",
    "import openai as oai\n",
    "import pandas as pd\n",
    "import requests\n",
    "\n",
    "from braintrust import wrap_anthropic, wrap_openai\n",
    "from dotenv import load_dotenv\n",
    "from pydantic import BaseModel, BeforeValidator, Field\n",
    "from thefuzz import process as fuzzy_process\n",
    "\n",
    "load_dotenv(override=True)"
   ]
  },
  {
   "cell_type": "markdown",
   "id": "164a7ed5",
   "metadata": {},
   "source": [
    "## Setup\n",
    "\n",
    "Once you're signed up on [Braintrust](https://www.braintrust.dev/) and have set the appropriate API keys in your `.env` file, you're ready to go! For this particular workflow, you'll need the following keys:\n",
    "\n",
    "- `BRAINTRUST_API_KEY`\n",
    "- `OPENAI_API_KEY`\n",
    "- `ANTHROPIC_API_KEY`\n",
    "\n",
    "With that in place we can create our [Braintrust project](https://www.braintrust.dev/docs/guides/projects) using `braintrust.projects.create()` (this method will create or else return the project if it already exists)\n",
    "\n",
    "We also define Anthropic and OpenAI clients like usual, as well as a \"wrapped\" version of each client. These \"wrapped\" versions automatically capture usage data (e.g., prompt tokens, etc...) in Braintrust when used within the context of a logger or experiement.\n"
   ]
  },
  {
   "cell_type": "code",
   "execution_count": 2,
   "id": "0da9d69a",
   "metadata": {},
   "outputs": [],
   "source": [
    "BT_PROJECT_NAME = \"wayde-ai-evals-course-2025\"\n",
    "MAX_WORKERS = 5\n",
    "\n",
    "bt_project = bt.projects.create(name=BT_PROJECT_NAME)\n",
    "\n",
    "ac_client = ac.Anthropic(api_key=os.getenv(\"ANTHROPIC_API_KEY\"))\n",
    "oai_client = oai.OpenAI(api_key=os.getenv(\"OPENAI_API_KEY\"))\n",
    "\n",
    "wrapped_ac_client = wrap_anthropic(ac_client)\n",
    "wrapped_oai_client = wrap_openai(oai_client)\n"
   ]
  },
  {
   "cell_type": "markdown",
   "id": "911eb962",
   "metadata": {},
   "source": [
    "## Data\n"
   ]
  },
  {
   "cell_type": "markdown",
   "id": "2aba6b01",
   "metadata": {},
   "source": [
    "\"Every error analysis starts with _traces_: the full sequence of inputs, outputs, and actions taken by the pipeline for a given input\"\n",
    "\n",
    "The recommendation is to start with ~ 100 traces of diverse user intents, with preference given to real world data where possible. In this case, we don't have access to such data and so we'll follow the AIE methodology for creating synthetic data. We'll braintrustify this workflow a bit so that it looks like this:\n",
    "\n",
    "1. Define at least 3 \"key dimensions\" (e.g., categories for different parts of a user's query) of the query space.\n",
    "\n",
    "2. For each dimension, define at least 3-4 values\n",
    "\n",
    "3. Use an LLM to generate 10-20 unique combinations of these dimension values (e.g., dimension tuples) for each triage contact\n",
    "\n",
    "4. Remove invalid dimension tuples (human/SME review)\n",
    "\n",
    "5. Demonstrate an approach to building + 20 queries with the help of a SME\n",
    "\n",
    "6. Scale up 100 or more tuples + queries using an LLM\n",
    "\n",
    "7. Remove invalid synthetic queries (human/SME review)\n"
   ]
  },
  {
   "cell_type": "markdown",
   "id": "8d233210",
   "metadata": {},
   "source": [
    "### Step 1: Define Dimensions\n",
    "\n",
    "\"First, before prompting anything, we define key dimensions of the query space .. [to] help us systematically vary different aspects of a user’s request\" \\\n",
    "-- from the course reader\n"
   ]
  },
  {
   "cell_type": "code",
   "execution_count": 3,
   "id": "1c0ca292",
   "metadata": {},
   "outputs": [],
   "source": [
    "class DimensionTuple(BaseModel):\n",
    "    inquiry_type: str = Field(\n",
    "        description=\"What kind of inquiry are they making (e.g. informational_ask, complaint,request_for_action_or_service)\"\n",
    "    )\n",
    "    query_style_and_detail: str = Field(\n",
    "        description=\"The style and detail of the query (e.g. short_keywords_minimal_detail, concise_moderate_detail, verbose_detailed_request)\"\n",
    "    )\n",
    "    customer_persona: str = Field(\n",
    "        description=\"Who is making the request (e.g. business_owner, citizen)\",\n",
    "    )\n",
    "    customer_age: str = Field(\n",
    "        description=\"The age of the person making the request (e.g. senior_over_65, youth_under_18, adult)\",\n",
    "    )\n",
    "\n",
    "\n",
    "class DimensionTuples(BaseModel):\n",
    "    tuples: list[DimensionTuple]"
   ]
  },
  {
   "cell_type": "markdown",
   "id": "af157a53",
   "metadata": {},
   "source": [
    "### Step 2: Define Dimension Values\n"
   ]
  },
  {
   "cell_type": "code",
   "execution_count": 4,
   "id": "07f57b14",
   "metadata": {},
   "outputs": [
    {
     "name": "stdout",
     "output_type": "stream",
     "text": [
      "I am designing a customer support chatbot for the city of Encinitas and I want to test it against a diverse\n",
      "range of inquiries citizens might submit. I have provided you with several dimensions and that constitute the parts of\n",
      "such a queries along with a list of possible values for each dimension.\n",
      "\n",
      "## Instructions\n",
      "\n",
      "Generate 10 unique combinations of dimension values for based on the dimensions provided below. \n",
      "- Each combination should represent a different user scenario. \n",
      "- Ensure balanced coverage across all dimensions - don't over-represent any particular value or combination.\n",
      "- Vary the query styles naturally.\n",
      "- Attempt to make the dimension value combinations as realistic as possible.\n",
      "- Never generate a tuple where the customer_persona is a business_owner and the customer_age is youth_under_18.\n",
      "\n",
      "## Dimensions\n",
      "\n",
      "inquiry_type:\n",
      "- informational_ask\n",
      "- complaint\n",
      "- request_for_action_or_service\n",
      "\n",
      "query_style_and_detail:\n",
      "- concise_moderate_detail: [includes some details relevant to the `inquiry_topic`, e.g., location, names, etc.]\n",
      "- verbose_detailed_request: [includes specific details relevant to the `inquiry_topic`, e.g., location, names, etc.]\n",
      "- short_keywords_minimal_details\n",
      "\n",
      "customer_persona: Who is making the request\n",
      "- business_owner\n",
      "- citizen\n",
      "\n",
      "customer_age: The age of the person making the request\n",
      "- senior_over_65\n",
      "- youth_under_18\n",
      "- adult\n",
      "\n",
      "Generate 10 unique dimension tuples following these patterns. Remember to maintain balanced diversity across all dimensions.\n"
     ]
    }
   ],
   "source": [
    "TUPLES_GEN_PROMPT = \"\"\"\\\n",
    "I am designing a customer support chatbot for the city of Encinitas and I want to test it against a diverse\n",
    "range of inquiries citizens might submit. I have provided you with several dimensions and that constitute the parts of\n",
    "such a queries along with a list of possible values for each dimension.\n",
    "\n",
    "## Instructions\n",
    "\n",
    "Generate {{{num_tuples_to_generate}}} unique combinations of dimension values for based on the dimensions provided below. \n",
    "- Each combination should represent a different user scenario. \n",
    "- Ensure balanced coverage across all dimensions - don't over-represent any particular value or combination.\n",
    "- Vary the query styles naturally.\n",
    "- Attempt to make the dimension value combinations as realistic as possible.\n",
    "- Never generate a tuple where the customer_persona is a business_owner and the customer_age is youth_under_18.\n",
    "\n",
    "## Dimensions\n",
    "\n",
    "inquiry_type:\n",
    "- informational_ask\n",
    "- complaint\n",
    "- request_for_action_or_service\n",
    "\n",
    "query_style_and_detail:\n",
    "- concise_moderate_detail: [includes some details relevant to the `inquiry_topic`, e.g., location, names, etc.]\n",
    "- verbose_detailed_request: [includes specific details relevant to the `inquiry_topic`, e.g., location, names, etc.]\n",
    "- short_keywords_minimal_details\n",
    "\n",
    "customer_persona: Who is making the request\n",
    "- business_owner\n",
    "- citizen\n",
    "\n",
    "customer_age: The age of the person making the request\n",
    "- senior_over_65\n",
    "- youth_under_18\n",
    "- adult\n",
    "\n",
    "Generate {{{num_tuples_to_generate}}} unique dimension tuples following these patterns. Remember to maintain balanced diversity across all dimensions.\"\"\"\n",
    "\n",
    "print(TUPLES_GEN_PROMPT.replace(\"{{{num_tuples_to_generate}}}\", \"10\"))"
   ]
  },
  {
   "cell_type": "markdown",
   "id": "5bf32d0d",
   "metadata": {},
   "source": [
    "Create a versioned prompt and save it to Braintrust.\n"
   ]
  },
  {
   "cell_type": "code",
   "execution_count": 12,
   "id": "42a340f4",
   "metadata": {},
   "outputs": [],
   "source": [
    "tuples_gen_prompt = bt.load_prompt(project=BT_PROJECT_NAME, slug=\"dimension-tuples-gen-prompt\")\n",
    "try:\n",
    "    tuples_gen_prompt.build(num_tuples_to_generate=20)\n",
    "except Exception as e:\n",
    "    bt_tuples_gen_prompt = bt_project.prompts.create(\n",
    "        name=\"DimensionTuplesGenPrompt\",\n",
    "        slug=\"dimension-tuples-gen-prompt\",\n",
    "        description=\"Prompt for generating dimension tuples\",\n",
    "        model=\"claude-4-sonnet-20250514\",\n",
    "        messages=[{\"role\": \"user\", \"content\": TUPLES_GEN_PROMPT}],\n",
    "        if_exists=\"replace\",\n",
    "    )\n",
    "\n",
    "    bt_project.publish()\n",
    "    tuples_gen_prompt = bt.load_prompt(project=BT_PROJECT_NAME, slug=\"dimension-tuples-gen-prompt\")\n"
   ]
  },
  {
   "cell_type": "markdown",
   "id": "82bc0119",
   "metadata": {},
   "source": [
    "With this in place we can actually engage our domain experts in the prompt building process via our [playgrounds](https://www.braintrust.dev/docs/guides/playground) using our eval specific AI assistant, [Loop](https://www.braintrust.dev/docs/guides/loop).\n",
    "\n",
    "We'll prompt Loop to improve our \"prompt\" like this:\n",
    "\n",
    "> \"Help me improve this prompt to capture all the different dimensions a customer support inquiry may have for the city of Encinitas.\n",
    ">\n",
    "> The dimensions and their values should represent realistic aspects of a customer support request they may get\"\n",
    "\n",
    "We can then get our updated prompt, make changes to the structured output definition, and generate some data!\n"
   ]
  },
  {
   "cell_type": "code",
   "execution_count": 41,
   "id": "7cb7ef80",
   "metadata": {},
   "outputs": [
    {
     "name": "stdout",
     "output_type": "stream",
     "text": [
      "I am designing a customer support chatbot for the city of Encinitas and I want to test it against a diverse range of inquiries citizens might submit. I have provided you with several dimensions that constitute the parts of such queries along with a list of possible values for each dimension.\n",
      "\n",
      "## Instructions\n",
      "\n",
      "Generate 20 unique combinations of dimension values based on the dimensions provided below. \n",
      "- Each combination should represent a different user scenario. \n",
      "- Ensure balanced coverage across all dimensions - don't over-represent any particular value or combination.\n",
      "- Vary the query styles naturally.\n",
      "- Attempt to make the dimension value combinations as realistic as possible.\n",
      "- Never generate a tuple where the customer_persona is a business_owner and the customer_age is youth_under_18.\n",
      "\n",
      "## Dimensions\n",
      "\n",
      "inquiry_type:\n",
      "- informational_ask\n",
      "- complaint\n",
      "- request_for_action_or_service\n",
      "- report_or_notification\n",
      "- permit_or_license_inquiry\n",
      "- payment_or_billing_question\n",
      "\n",
      "query_style_and_detail:\n",
      "- concise_moderate_detail: [includes some details relevant to the `inquiry_topic`, e.g., location, names, etc.]\n",
      "- verbose_detailed_request: [includes specific details relevant to the `inquiry_topic`, e.g., location, names, etc.]\n",
      "- short_keywords_minimal_details\n",
      "\n",
      "customer_persona: Who is making the request\n",
      "- business_owner\n",
      "- citizen\n",
      "- property_owner\n",
      "- visitor_tourist\n",
      "- contractor_developer\n",
      "\n",
      "customer_age: The age of the person making the request\n",
      "- senior_over_65\n",
      "- youth_under_18\n",
      "- adult\n",
      "\n",
      "urgency_level: How urgent the customer perceives their issue to be\n",
      "- low_routine_inquiry\n",
      "- medium_timely_response_needed\n",
      "- high_urgent_immediate_attention\n",
      "\n",
      "communication_tone: The emotional tone of the inquiry\n",
      "- neutral_professional\n",
      "- frustrated_annoyed\n",
      "- polite_respectful\n",
      "- demanding_aggressive\n",
      "- confused_seeking_clarification\n",
      "\n",
      "time_sensitivity: When the issue occurred or needs resolution\n",
      "- ongoing_chronic_issue\n",
      "- recent_within_week\n",
      "- immediate_happening_now\n",
      "- future_planning_ahead\n",
      "\n",
      "Generate 20 unique dimension tuples following these patterns. Remember to maintain balanced diversity across all dimensions and ensure realistic combinations that reflect actual city government customer support scenarios.\n"
     ]
    }
   ],
   "source": [
    "_p = tuples_gen_prompt.build(num_tuples_to_generate=20)\n",
    "print(_p[\"messages\"][0][\"content\"])"
   ]
  },
  {
   "cell_type": "code",
   "execution_count": 19,
   "id": "0c7e1e1c",
   "metadata": {},
   "outputs": [],
   "source": [
    "class DimensionTuple(BaseModel):\n",
    "    inquiry_type: str = Field(\n",
    "        description=\"What kind of inquiry are they making (e.g. informational_ask, complaint, request_for_action_or_service, report_or_notification, permit_or_license_inquiry, payment_or_billing_question)\"\n",
    "    )\n",
    "    query_style_and_detail: str = Field(\n",
    "        description=\"The style and detail of the query (e.g. concise_moderate_detail, verbose_detailed_request, short_keywords_minimal_details)\"\n",
    "    )\n",
    "    customer_persona: str = Field(\n",
    "        description=\"Who is making the request (e.g. business_owner, citizen, property_owner, visitor_tourist, contractor_developer)\",\n",
    "    )\n",
    "    customer_age: str = Field(\n",
    "        description=\"The age of the person making the request (e.g. senior_over_65, youth_under_18, adult)\",\n",
    "    )\n",
    "    urgency_level: str = Field(\n",
    "        description=\"How urgent the customer perceives their issue to be (e.g. low_routine_inquiry, medium_timely_response_needed, high_urgent_immediate_attention)\"\n",
    "    )\n",
    "    communication_tone: str = Field(\n",
    "        description=\"The emotional tone of the inquiry (e.g. neutral_professional, frustrated_annoyed, polite_respectful, demanding_aggressive, confused_seeking_clarification)\"\n",
    "    )\n",
    "    time_sensitivity: str = Field(\n",
    "        description=\"When the issue occurred or needs resolution (e.g. ongoing_chronic_issue, recent_within_week, immediate_happening_now, future_planning_ahead)\"\n",
    "    )\n",
    "\n",
    "\n",
    "class DimensionTuples(BaseModel):\n",
    "    tuples: list[DimensionTuple]"
   ]
  },
  {
   "cell_type": "markdown",
   "id": "159ee383",
   "metadata": {},
   "source": [
    "### Step 3: Use an LLM to generate N unique combinations of these dimension values\n"
   ]
  },
  {
   "cell_type": "code",
   "execution_count": 20,
   "id": "848b4c5f",
   "metadata": {},
   "outputs": [],
   "source": [
    "def generate_synth_data_dimension_tuples(num_tuples: int = 20, model: str = \"gpt-4o-mini\", model_kwargs: dict = {}):\n",
    "    \"\"\"Generate a list of dimension tuples based on the provided prompt.\"\"\"\n",
    "    timestamp = datetime.now().strftime(\"%Y%m%d_%H%M\")\n",
    "    prompt = tuples_gen_prompt.build(num_tuples_to_generate=num_tuples)\n",
    "\n",
    "    rsp = oai_client.beta.chat.completions.parse(\n",
    "        model=model,\n",
    "        messages=prompt[\"messages\"],\n",
    "        response_format=DimensionTuples,\n",
    "        **model_kwargs,\n",
    "    )\n",
    "\n",
    "    tuples_list: DimensionTuples = rsp.choices[0].message.parsed  # type: ignore\n",
    "\n",
    "    unique_tuples = []\n",
    "    seen = set()\n",
    "\n",
    "    for tup in tuples_list.tuples:\n",
    "        tuple_str = tup.model_dump_json()\n",
    "        if tuple_str in seen:\n",
    "            continue\n",
    "\n",
    "        seen.add(tuple_str)\n",
    "        unique_tuples.append(tup)\n",
    "\n",
    "    bt_experiment = bt.init(project=BT_PROJECT_NAME, experiment=f\"synth_tuples_it_{timestamp}\")\n",
    "    for uniq_tup in unique_tuples:\n",
    "        with bt_experiment.start_span(name=\"generate_dimension_tuples\") as span:\n",
    "            span.log(input=prompt[\"messages\"], output=uniq_tup, metadata=dict(model=model, model_kwargs=model_kwargs))\n",
    "\n",
    "    summary = bt_experiment.summarize(summarize_scores=False)\n",
    "    return summary, rsp.choices[0].message.parsed"
   ]
  },
  {
   "cell_type": "code",
   "execution_count": 21,
   "id": "1d83c70d",
   "metadata": {},
   "outputs": [
    {
     "name": "stderr",
     "output_type": "stream",
     "text": [
      "Skipping git metadata. This is likely because the repository has not been published to a remote yet. Remote named 'origin' didn't exist\n",
      "Retrying request after error: ('Connection aborted.', RemoteDisconnected('Remote end closed connection without response'))\n",
      "Sleeping for 0.5 seconds\n"
     ]
    },
    {
     "name": "stdout",
     "output_type": "stream",
     "text": [
      "\n",
      "=========================SUMMARY=========================\n",
      "See results for synth_tuples_it_20250718_1510 at https://www.braintrust.dev/app/braintrustdata.com/p/wayde-ai-evals-course-2025/experiments/synth_tuples_it_20250718_1510\n",
      "tuples=[DimensionTuple(inquiry_type='informational_ask', query_style_and_detail='concise_moderate_detail', customer_persona='citizen', customer_age='adult', urgency_level='low_routine_inquiry', communication_tone='neutral_professional', time_sensitivity='future_planning_ahead'), DimensionTuple(inquiry_type='complaint', query_style_and_detail='verbose_detailed_request', customer_persona='citizen', customer_age='adult', urgency_level='high_urgent_immediate_attention', communication_tone='frustrated_annoyed', time_sensitivity='recent_within_week'), DimensionTuple(inquiry_type='request_for_action_or_service', query_style_and_detail='short_keywords_minimal_details', customer_persona='property_owner', customer_age='adult', urgency_level='medium_timely_response_needed', communication_tone='polite_respectful', time_sensitivity='ongoing_chronic_issue'), DimensionTuple(inquiry_type='report_or_notification', query_style_and_detail='concise_moderate_detail', customer_persona='visitor_tourist', customer_age='adult', urgency_level='medium_timely_response_needed', communication_tone='neutral_professional', time_sensitivity='immediate_happening_now'), DimensionTuple(inquiry_type='permit_or_license_inquiry', query_style_and_detail='verbose_detailed_request', customer_persona='contractor_developer', customer_age='adult', urgency_level='medium_timely_response_needed', communication_tone='polite_respectful', time_sensitivity='future_planning_ahead'), DimensionTuple(inquiry_type='payment_or_billing_question', query_style_and_detail='short_keywords_minimal_details', customer_persona='citizen', customer_age='senior_over_65', urgency_level='low_routine_inquiry', communication_tone='confused_seeking_clarification', time_sensitivity='recent_within_week'), DimensionTuple(inquiry_type='complaint', query_style_and_detail='verbose_detailed_request', customer_persona='citizen', customer_age='youth_under_18', urgency_level='high_urgent_immediate_attention', communication_tone='demanding_aggressive', time_sensitivity='recent_within_week'), DimensionTuple(inquiry_type='request_for_action_or_service', query_style_and_detail='concise_moderate_detail', customer_persona='citizen', customer_age='adult', urgency_level='medium_timely_response_needed', communication_tone='polite_respectful', time_sensitivity='future_planning_ahead'), DimensionTuple(inquiry_type='report_or_notification', query_style_and_detail='short_keywords_minimal_details', customer_persona='property_owner', customer_age='adult', urgency_level='low_routine_inquiry', communication_tone='neutral_professional', time_sensitivity='ongoing_chronic_issue'), DimensionTuple(inquiry_type='permit_or_license_inquiry', query_style_and_detail='verbose_detailed_request', customer_persona='business_owner', customer_age='adult', urgency_level='medium_timely_response_needed', communication_tone='confused_seeking_clarification', time_sensitivity='future_planning_ahead'), DimensionTuple(inquiry_type='payment_or_billing_question', query_style_and_detail='concise_moderate_detail', customer_persona='visitor_tourist', customer_age='adult', urgency_level='high_urgent_immediate_attention', communication_tone='frustrated_annoyed', time_sensitivity='recent_within_week'), DimensionTuple(inquiry_type='informational_ask', query_style_and_detail='verbose_detailed_request', customer_persona='contractor_developer', customer_age='adult', urgency_level='low_routine_inquiry', communication_tone='neutral_professional', time_sensitivity='future_planning_ahead'), DimensionTuple(inquiry_type='complaint', query_style_and_detail='short_keywords_minimal_details', customer_persona='citizen', customer_age='adult', urgency_level='high_urgent_immediate_attention', communication_tone='demanding_aggressive', time_sensitivity='immediate_happening_now'), DimensionTuple(inquiry_type='request_for_action_or_service', query_style_and_detail='concise_moderate_detail', customer_persona='property_owner', customer_age='senior_over_65', urgency_level='medium_timely_response_needed', communication_tone='polite_respectful', time_sensitivity='recent_within_week'), DimensionTuple(inquiry_type='report_or_notification', query_style_and_detail='verbose_detailed_request', customer_persona='visitor_tourist', customer_age='adult', urgency_level='medium_timely_response_needed', communication_tone='frustrated_annoyed', time_sensitivity='ongoing_chronic_issue'), DimensionTuple(inquiry_type='permit_or_license_inquiry', query_style_and_detail='short_keywords_minimal_details', customer_persona='contractor_developer', customer_age='adult', urgency_level='low_routine_inquiry', communication_tone='neutral_professional', time_sensitivity='immediate_happening_now'), DimensionTuple(inquiry_type='payment_or_billing_question', query_style_and_detail='verbose_detailed_request', customer_persona='citizen', customer_age='youth_under_18', urgency_level='high_urgent_immediate_attention', communication_tone='confused_seeking_clarification', time_sensitivity='recent_within_week'), DimensionTuple(inquiry_type='informational_ask', query_style_and_detail='short_keywords_minimal_details', customer_persona='business_owner', customer_age='adult', urgency_level='medium_timely_response_needed', communication_tone='neutral_professional', time_sensitivity='future_planning_ahead'), DimensionTuple(inquiry_type='report_or_notification', query_style_and_detail='verbose_detailed_request', customer_persona='property_owner', customer_age='adult', urgency_level='high_urgent_immediate_attention', communication_tone='polite_respectful', time_sensitivity='immediate_happening_now')]\n"
     ]
    },
    {
     "name": "stderr",
     "output_type": "stream",
     "text": [
      "Skipping git metadata. This is likely because the repository has not been published to a remote yet. Remote named 'origin' didn't exist\n",
      "Retrying request after error: ('Connection aborted.', RemoteDisconnected('Remote end closed connection without response'))\n",
      "Sleeping for 0.5 seconds\n"
     ]
    }
   ],
   "source": [
    "exp_summary, dim_tuples = generate_synth_data_dimension_tuples(20)\n",
    "\n",
    "print(exp_summary)\n",
    "print(dim_tuples)"
   ]
  },
  {
   "cell_type": "markdown",
   "id": "91442ec6",
   "metadata": {},
   "source": [
    "### Step 4: Remove invalid dimension tuples (human/SME review)\n",
    "\n",
    "We'll do this in the Braintrust UI\n"
   ]
  },
  {
   "cell_type": "markdown",
   "id": "36b66a28",
   "metadata": {},
   "source": [
    "### Step 5\" Demonstrate an approach to building + 20 queries with the help of a SME\n"
   ]
  },
  {
   "cell_type": "code",
   "execution_count": 23,
   "id": "ca7e6fb9",
   "metadata": {},
   "outputs": [
    {
     "name": "stdout",
     "output_type": "stream",
     "text": [
      "11\n"
     ]
    },
    {
     "data": {
      "text/plain": [
       "['homeless_solutions',\n",
       " 'human_resources',\n",
       " 'traffic_engineering',\n",
       " 'san_diego_county_vector_control',\n",
       " 'code_enforcement',\n",
       " 'public_works',\n",
       " 'general',\n",
       " 'san_diego_humane_society',\n",
       " 'san_dieguito_water_district',\n",
       " 'fire_prevention',\n",
       " 'parks_recreation']"
      ]
     },
     "execution_count": 23,
     "metadata": {},
     "output_type": "execute_result"
    }
   ],
   "source": [
    "dept_support_areas = json.load(open(\"./data/dept_support_areas.json\"))\n",
    "\n",
    "triage_targets = list(set([route[\"slug\"] for route in dept_support_areas]))\n",
    "\n",
    "print(len(triage_targets))\n",
    "triage_targets"
   ]
  },
  {
   "cell_type": "code",
   "execution_count": 24,
   "id": "75e4046e",
   "metadata": {},
   "outputs": [
    {
     "name": "stdout",
     "output_type": "stream",
     "text": [
      "Public Works (public_works)\n",
      "- Deceased animals\n",
      "- Graffiti on public property\n",
      "- Water leak (non-emergency)\n",
      "- Streetlight outages\n",
      "- Pothole repairs\n",
      "-> I saw a dead raccoon on Melba Road today—can someone remove it?\n",
      "-> There’s new graffiti on the sidewalk wall along South Coast Highway.\n",
      "-> A small water leak is pooling near the fire hydrant on Encinitas Blvd.\n",
      "-> The streetlight in front of 450 Quail Gardens Dr has been out for 3 nights.\n",
      "-> There’s a deep pothole on Manchester Ave that's damaging cars.\n",
      "\n",
      "Code Enforcement (code_enforcement)\n",
      "- Abandoned vehicles\n",
      "- Illegal signs or banners\n",
      "- Noise complaints\n",
      "- Trash or junk on private property\n",
      "- Homeless overnight camping\n",
      "-> There’s a broken-down RV parked on Citrus Ave for over two weeks.\n",
      "-> Someone put up a political banner on private property with no permit.\n",
      "-> Neighbors at 2 a.m. are playing loud music by the pool every weekend.\n",
      "-> The vacant lot next to Sunset View has piles of old furniture.\n",
      "-> A homeless encampment is forming under the 101 overpass near Cardiff.\n",
      "\n"
     ]
    }
   ],
   "source": [
    "for idx, triage_point in enumerate(dept_support_areas):\n",
    "    if idx >= 2:\n",
    "        break\n",
    "    print(f\"{triage_point['name']} ({triage_point['slug']})\")\n",
    "    print(\"- \" + \"\\n- \".join(triage_point[\"support_areas\"][:5]))\n",
    "    print(\"-> \" + \"\\n-> \".join(triage_point[\"examples\"][:5]))\n",
    "    print()"
   ]
  },
  {
   "cell_type": "code",
   "execution_count": 25,
   "id": "b5b334a3",
   "metadata": {},
   "outputs": [
    {
     "name": "stdout",
     "output_type": "stream",
     "text": [
      "Total triage targets: 11\n",
      "Total examples: 55\n",
      "First 5 examples for 'public_works': ['I saw a dead raccoon on Melba Road today—can someone remove it?', 'There’s new graffiti on the sidewalk wall along South Coast Highway.', 'A small water leak is pooling near the fire hydrant on Encinitas Blvd.', 'The streetlight in front of 450 Quail Gardens Dr has been out for 3 nights.', \"There’s a deep pothole on Manchester Ave that's damaging cars.\"]\n"
     ]
    }
   ],
   "source": [
    "triage_examples = {}\n",
    "for triage_contact in dept_support_areas:\n",
    "    triage_target = triage_contact[\"slug\"]\n",
    "    if triage_target not in triage_examples:\n",
    "        triage_examples[triage_target] = {\"name\": triage_contact[\"name\"], \"support_areas\": triage_contact[\"support_areas\"], \"examples\": []}\n",
    "    triage_examples[triage_target][\"examples\"].extend(triage_contact[\"examples\"])\n",
    "\n",
    "print(f\"Total triage targets: {len(triage_examples)}\")\n",
    "print(f\"Total examples: {sum(len(data['examples']) for data in triage_examples.values())}\")\n",
    "print(f\"First 5 examples for '{list(triage_examples.keys())[0]}': {triage_examples[list(triage_examples.keys())[0]]['examples'][:5]}\")"
   ]
  },
  {
   "cell_type": "markdown",
   "id": "2c16b0eb",
   "metadata": {},
   "source": [
    "### Step 6. Scale up 100 or more tuples + queries using an LLM\n",
    "\n",
    "We can use the \"BTQL Sandbox\" to help us construct a query to get the \"good\" dimension tuples from our annotation exercise, and then use that query to get those records to build some synthetic queries\n"
   ]
  },
  {
   "cell_type": "code",
   "execution_count": 26,
   "id": "f1645afd",
   "metadata": {},
   "outputs": [
    {
     "name": "stdout",
     "output_type": "stream",
     "text": [
      "17\n"
     ]
    },
    {
     "data": {
      "text/plain": [
       "[{'communication_tone': 'polite_respectful',\n",
       "  'customer_age': 'adult',\n",
       "  'customer_persona': 'property_owner',\n",
       "  'inquiry_type': 'report_or_notification',\n",
       "  'query_style_and_detail': 'verbose_detailed_request',\n",
       "  'time_sensitivity': 'immediate_happening_now',\n",
       "  'urgency_level': 'high_urgent_immediate_attention'},\n",
       " {'communication_tone': 'neutral_professional',\n",
       "  'customer_age': 'adult',\n",
       "  'customer_persona': 'business_owner',\n",
       "  'inquiry_type': 'informational_ask',\n",
       "  'query_style_and_detail': 'short_keywords_minimal_details',\n",
       "  'time_sensitivity': 'future_planning_ahead',\n",
       "  'urgency_level': 'medium_timely_response_needed'},\n",
       " {'communication_tone': 'neutral_professional',\n",
       "  'customer_age': 'adult',\n",
       "  'customer_persona': 'contractor_developer',\n",
       "  'inquiry_type': 'permit_or_license_inquiry',\n",
       "  'query_style_and_detail': 'short_keywords_minimal_details',\n",
       "  'time_sensitivity': 'immediate_happening_now',\n",
       "  'urgency_level': 'low_routine_inquiry'},\n",
       " {'communication_tone': 'frustrated_annoyed',\n",
       "  'customer_age': 'adult',\n",
       "  'customer_persona': 'visitor_tourist',\n",
       "  'inquiry_type': 'report_or_notification',\n",
       "  'query_style_and_detail': 'verbose_detailed_request',\n",
       "  'time_sensitivity': 'ongoing_chronic_issue',\n",
       "  'urgency_level': 'medium_timely_response_needed'},\n",
       " {'communication_tone': 'polite_respectful',\n",
       "  'customer_age': 'senior_over_65',\n",
       "  'customer_persona': 'property_owner',\n",
       "  'inquiry_type': 'request_for_action_or_service',\n",
       "  'query_style_and_detail': 'concise_moderate_detail',\n",
       "  'time_sensitivity': 'recent_within_week',\n",
       "  'urgency_level': 'medium_timely_response_needed'}]"
      ]
     },
     "execution_count": 26,
     "metadata": {},
     "output_type": "execute_result"
    }
   ],
   "source": [
    "def get_valid_dimension_tuples():\n",
    "    cursor = None\n",
    "    while True:\n",
    "        response = requests.post(\n",
    "            \"https://staging-api.braintrust.dev/btql\",\n",
    "            json={\n",
    "                \"query\": dedent(\"\"\"\n",
    "                        select: output\n",
    "                        from: experiment('36b63064-7f4e-46a4-9673-5533fa327dc5')\n",
    "                        filter: scores.\"is_good\" = 1\n",
    "                \"\"\")\n",
    "                + (f\" | cursor: '{cursor}'\" if cursor else \"\"),\n",
    "                \"use_brainstore\": True,\n",
    "                \"brainstore_realtime\": True,  # Include the latest realtime data, but a bit slower.\n",
    "            },\n",
    "            headers={\"Authorization\": \"Bearer \" + os.environ[\"BRAINTRUST_API_KEY\"]},\n",
    "        )\n",
    "        response.raise_for_status()\n",
    "        response_json = response.json()\n",
    "        data = response_json.get(\"data\", [])\n",
    "        cursor = response_json.get(\"cursor\")\n",
    "\n",
    "        return [row[\"output\"] for row in data]\n",
    "\n",
    "\n",
    "valid_dim_tuples = get_valid_dimension_tuples()\n",
    "\n",
    "print(len(valid_dim_tuples))\n",
    "valid_dim_tuples[:5]"
   ]
  },
  {
   "cell_type": "markdown",
   "id": "62bfc2bb",
   "metadata": {},
   "source": [
    "Create a versioned prompt and save it to Braintrust.\n"
   ]
  },
  {
   "cell_type": "code",
   "execution_count": 29,
   "id": "2c14d137",
   "metadata": {},
   "outputs": [
    {
     "name": "stdout",
     "output_type": "stream",
     "text": [
      "I am designing a customer support chatbot for the city of Encinitas and I want to test it against a diverse\n",
      "range of realistic inquiries citizens that would appropriately be routed to this contact:\n",
      "\n",
      "Contact: Public Works\n",
      "Support Areas: Deceased animals, Graffiti on public property, Water leak (non-emergency), Streetlight outages, Pothole repairs\n",
      "\n",
      "## Objective\n",
      "\n",
      "Produce 4 additional natural language customer support requests using a sample of actual customer support requests \n",
      "below, but augmented to have one of the characteristics listed below:\n",
      "\n",
      "==== Inquiry Characteristics =====\n",
      "[\n",
      "  {\n",
      "    \"communication_tone\": \"polite_respectful\",\n",
      "    \"customer_age\": \"adult\",\n",
      "    \"customer_persona\": \"property_owner\",\n",
      "    \"inquiry_type\": \"report_or_notification\",\n",
      "    \"query_style_and_detail\": \"verbose_detailed_request\",\n",
      "    \"time_sensitivity\": \"immediate_happening_now\",\n",
      "    \"urgency_level\": \"high_urgent_immediate_attention\"\n",
      "  },\n",
      "  {\n",
      "    \"communication_tone\": \"neutral_professional\",\n",
      "    \"customer_age\": \"adult\",\n",
      "    \"customer_persona\": \"business_owner\",\n",
      "    \"inquiry_type\": \"informational_ask\",\n",
      "    \"query_style_and_detail\": \"short_keywords_minimal_details\",\n",
      "    \"time_sensitivity\": \"future_planning_ahead\",\n",
      "    \"urgency_level\": \"medium_timely_response_needed\"\n",
      "  },\n",
      "  {\n",
      "    \"communication_tone\": \"neutral_professional\",\n",
      "    \"customer_age\": \"adult\",\n",
      "    \"customer_persona\": \"contractor_developer\",\n",
      "    \"inquiry_type\": \"permit_or_license_inquiry\",\n",
      "    \"query_style_and_detail\": \"short_keywords_minimal_details\",\n",
      "    \"time_sensitivity\": \"immediate_happening_now\",\n",
      "    \"urgency_level\": \"low_routine_inquiry\"\n",
      "  },\n",
      "  {\n",
      "    \"communication_tone\": \"frustrated_annoyed\",\n",
      "    \"customer_age\": \"adult\",\n",
      "    \"customer_persona\": \"visitor_tourist\",\n",
      "    \"inquiry_type\": \"report_or_notification\",\n",
      "    \"query_style_and_detail\": \"verbose_detailed_request\",\n",
      "    \"time_sensitivity\": \"ongoing_chronic_issue\",\n",
      "    \"urgency_level\": \"medium_timely_response_needed\"\n",
      "  }\n",
      "]\n",
      "\n",
      "===== Example Inquiries =====\n",
      "- I saw a dead raccoon on Melba Road today—can someone remove it?\n",
      "- There’s new graffiti on the sidewalk wall along South Coast Highway.\n",
      "- A small water leak is pooling near the fire hydrant on Encinitas Blvd.\n",
      "- The streetlight in front of 450 Quail Gardens Dr has been out for 3 nights.\n",
      "- There’s a deep pothole on Manchester Ave that's damaging cars.\n",
      "\n",
      "## Instructions\n",
      "To produce each inquiry, follow these steps:\n",
      "1. Choose a random example from the list of example inquiries above.\n",
      "2. Choose a random record from the list of inquiry characteristics above.\n",
      "3. Augment the example inquiry to have the chosen characteristic of that record.\n",
      "4. Return the augmented inquiry.\n",
      "\n",
      "The queries should:\n",
      "1. Sound like real users asking for assistance\n",
      "2. Naturally incorporate all the dimension values\n",
      "3. Vary in style and detail level\n",
      "4. Be realistic and practical\n",
      "5. Change any named entities (locations, addresses, street names, person names, etc...) to diversify the content\n",
      "5. Include natural variations in typing style, such as:\n",
      "   - Some queries in all lowercase\n",
      "   - Some with random capitalization\n",
      "   - Some with common typos\n",
      "   - Some with missing punctuation\n",
      "   - Some with extra spaces or missing spaces\n",
      "   - Some with emojis or text speak\n",
      "\n",
      "Here are examples of realistic query variations for a request to get a pothole fixed from \n",
      "an adult, business_owner, concise_moderate_detail:\n",
      "\n",
      "Proper formatting:\n",
      "- \"There is a huge pothole on the corner of 123 Main St. It's been there for weeks affecting customers trying to park nearby\"\n",
      "- \"Can someone please fix the pothole on 123 Main St.\"\n",
      "\n",
      "All lowercase:\n",
      "- \"need someone to fix the pothole on 123 main st.\"\n",
      "- \"can a crew come out and fix the pothole on the corner of 123 main st. and grand ave.\"\n",
      "\n",
      "Random caps:\n",
      "- \"NEED someone to fix the pothole on 123 main st. ASAP\"\n",
      "- \"can a crew come out and fix the pothole on the corner of 123 main st. and grand ave??? It needs to happen NOW! Like today!\"\n",
      "\n",
      "Common typos:\n",
      "- \"need someone to fx the pothol on 123 main st. asap pleze!!!\"\n",
      "- \"Can a crew come out and fx the pothole on the corner of 123 main st. & grand ave??? thx much!\"\n",
      "\n",
      "Missing punctuation:\n",
      "- \"need someone to fx the pothole on 123 main st asap plz\"\n",
      "- \"Can a crew come out and fix the pothole on the corner of 123 main st & grand ave ... thx much\"\n",
      "\n",
      "With emojis/text speak:\n",
      "- \"the pothole needs to be fixed now on 123 main st. and grand ave! 🥗\"\n",
      "- \"pls help get the pothole on 123 main st. & grand ave fixed thx\"\n",
      "\n",
      "Generate 4 unique queries,varying the text style naturally.\n"
     ]
    }
   ],
   "source": [
    "SYNTH_DATA_GEN_PROMPT = \"\"\"\\\n",
    "I am designing a customer support chatbot for the city of Encinitas and I want to test it against a diverse\n",
    "range of realistic inquiries citizens that would appropriately be routed to this contact:\n",
    "\n",
    "Contact: {{{contact_name}}}\n",
    "Support Areas: {{{support_areas}}}\n",
    "\n",
    "## Objective\n",
    "\n",
    "Produce {{{num_queries_to_generate}}} additional natural language customer support requests using a sample of actual customer support requests \n",
    "below, but augmented to have one of the characteristics listed below:\n",
    "\n",
    "==== Inquiry Characteristics =====\n",
    "{{{dimension_tuple_json}}}\n",
    "\n",
    "===== Example Inquiries =====\n",
    "{{{example_inquiries}}}\n",
    "\n",
    "## Instructions\n",
    "To produce each inquiry, follow these steps:\n",
    "1. Choose a random example from the list of example inquiries above.\n",
    "2. Choose a random record from the list of inquiry characteristics above.\n",
    "3. Augment the example inquiry to have the chosen characteristic of that record.\n",
    "4. Return the augmented inquiry.\n",
    "\n",
    "The queries should:\n",
    "1. Sound like real users asking for assistance\n",
    "2. Naturally incorporate all the dimension values\n",
    "3. Vary in style and detail level\n",
    "4. Be realistic and practical\n",
    "5. Change any named entities (locations, addresses, street names, person names, etc...) to diversify the content\n",
    "5. Include natural variations in typing style, such as:\n",
    "   - Some queries in all lowercase\n",
    "   - Some with random capitalization\n",
    "   - Some with common typos\n",
    "   - Some with missing punctuation\n",
    "   - Some with extra spaces or missing spaces\n",
    "   - Some with emojis or text speak\n",
    "\n",
    "Here are examples of realistic query variations for a request to get a pothole fixed from \n",
    "an adult, business_owner, concise_moderate_detail:\n",
    "\n",
    "Proper formatting:\n",
    "- \"There is a huge pothole on the corner of 123 Main St. It's been there for weeks affecting customers trying to park nearby\"\n",
    "- \"Can someone please fix the pothole on 123 Main St.\"\n",
    "\n",
    "All lowercase:\n",
    "- \"need someone to fix the pothole on 123 main st.\"\n",
    "- \"can a crew come out and fix the pothole on the corner of 123 main st. and grand ave.\"\n",
    "\n",
    "Random caps:\n",
    "- \"NEED someone to fix the pothole on 123 main st. ASAP\"\n",
    "- \"can a crew come out and fix the pothole on the corner of 123 main st. and grand ave??? It needs to happen NOW! Like today!\"\n",
    "\n",
    "Common typos:\n",
    "- \"need someone to fx the pothol on 123 main st. asap pleze!!!\"\n",
    "- \"Can a crew come out and fx the pothole on the corner of 123 main st. & grand ave??? thx much!\"\n",
    "\n",
    "Missing punctuation:\n",
    "- \"need someone to fx the pothole on 123 main st asap plz\"\n",
    "- \"Can a crew come out and fix the pothole on the corner of 123 main st & grand ave ... thx much\"\n",
    "\n",
    "With emojis/text speak:\n",
    "- \"the pothole needs to be fixed now on 123 main st. and grand ave! 🥗\"\n",
    "- \"pls help get the pothole on 123 main st. & grand ave fixed thx\"\n",
    "\n",
    "Generate {{{num_queries_to_generate}}} unique queries,varying the text style naturally.\"\"\"\n",
    "\n",
    "\n",
    "print(\n",
    "    (\n",
    "        SYNTH_DATA_GEN_PROMPT.replace(\"{{{num_queries_to_generate}}}\", \"4\")\n",
    "        .replace(\"{{{dimension_tuple_json}}}\", json.dumps(valid_dim_tuples[:4], indent=2))\n",
    "        .replace(\"{{{example_inquiries}}}\", \"- \" + \"\\n- \".join(triage_examples[\"public_works\"][\"examples\"][:5]))\n",
    "        .replace(\"{{{contact_name}}}\", triage_examples[\"public_works\"][\"name\"])\n",
    "        .replace(\"{{{support_areas}}}\", \", \".join(triage_examples[\"public_works\"][\"support_areas\"]))\n",
    "    )\n",
    ")"
   ]
  },
  {
   "cell_type": "code",
   "execution_count": 37,
   "id": "123dc96f",
   "metadata": {},
   "outputs": [],
   "source": [
    "synth_query_gen_prompt = bt.load_prompt(project=BT_PROJECT_NAME, slug=\"synth-query-gen-prompt\")\n",
    "try:\n",
    "    synth_query_gen_prompt.prompt\n",
    "except Exception as e:\n",
    "    bt_syth_query_gen_prompt = bt_project.prompts.create(\n",
    "        name=\"SynthQueryGenPrompt\",\n",
    "        slug=\"synth-query-gen-prompt\",\n",
    "        description=\"Prompt for generating synthetic queries\",\n",
    "        model=\"claude-4-sonnet-20250514\",\n",
    "        messages=[{\"role\": \"user\", \"content\": SYNTH_DATA_GEN_PROMPT}],\n",
    "        if_exists=\"replace\",\n",
    "    )\n",
    "\n",
    "    bt_project.publish()\n",
    "    synth_query_gen_prompt = bt.load_prompt(project=BT_PROJECT_NAME, slug=\"synth-query-gen-prompt\")\n"
   ]
  },
  {
   "cell_type": "code",
   "execution_count": 38,
   "id": "37924943",
   "metadata": {},
   "outputs": [],
   "source": [
    "_p = synth_query_gen_prompt.build(\n",
    "    num_queries_to_generate=4,\n",
    "    dimension_tuple_json=json.dumps(valid_dim_tuples[:4], indent=2),\n",
    "    example_inquiries=\"- \" + \"\\n- \".join(triage_examples[\"public_works\"][\"examples\"][:5]),\n",
    "    contact_name=triage_examples[\"public_works\"][\"name\"],\n",
    "    support_areas=\", \".join(triage_examples[\"public_works\"][\"support_areas\"]),\n",
    ")"
   ]
  },
  {
   "cell_type": "code",
   "execution_count": 42,
   "id": "077da744",
   "metadata": {},
   "outputs": [],
   "source": [
    "class QueryList(BaseModel):\n",
    "    queries: list[str]"
   ]
  },
  {
   "cell_type": "code",
   "execution_count": 43,
   "id": "133d104a",
   "metadata": {},
   "outputs": [],
   "source": [
    "def generate_synth_queries(triage_slug: str, num_queries: int = 10, model: str = \"gpt-4o-mini\", model_kwargs: dict = {}) -> dict:\n",
    "    random_dim_tuples = random.sample(valid_dim_tuples, min(num_queries, len(valid_dim_tuples)))\n",
    "\n",
    "    prompt = synth_query_gen_prompt.build(\n",
    "        num_queries_to_generate=num_queries,\n",
    "        dimension_tuple_json=json.dumps(random_dim_tuples, indent=2),\n",
    "        example_inquiries=\"- \" + \"\\n- \".join(triage_examples[triage_slug][\"examples\"][:5]),\n",
    "        contact_name=triage_examples[triage_slug][\"name\"],\n",
    "        support_areas=\", \".join(triage_examples[triage_slug][\"support_areas\"]),\n",
    "    )\n",
    "\n",
    "    rsp = oai_client.beta.chat.completions.parse(\n",
    "        model=model,\n",
    "        messages=prompt[\"messages\"],\n",
    "        response_format=QueryList,\n",
    "        **model_kwargs,\n",
    "    )\n",
    "\n",
    "    query_list: QueryList = rsp.choices[0].message.parsed  # type: ignore\n",
    "\n",
    "    return {\n",
    "        \"prompt\": prompt[\"messages\"],\n",
    "        \"triage_slug\": triage_slug,\n",
    "        \"sampled_dim_tuples\": random_dim_tuples,\n",
    "        \"handcoded_queries\": triage_examples[triage_slug][\"examples\"],\n",
    "        \"synth_queries\": query_list.queries,\n",
    "    }"
   ]
  },
  {
   "cell_type": "code",
   "execution_count": 44,
   "id": "5d7432cf",
   "metadata": {},
   "outputs": [],
   "source": [
    "# rsp = generate_synth_queries(\"public_works\", num_queries=10)\n",
    "\n",
    "# for q in rsp[\"handcoded_queries\"]:\n",
    "#     print(q)\n",
    "\n",
    "# print(\"-\" * 100)\n",
    "\n",
    "# for q in rsp[\"synth_queries\"]:\n",
    "#     print(q)"
   ]
  },
  {
   "cell_type": "code",
   "execution_count": 45,
   "id": "61b6015a",
   "metadata": {},
   "outputs": [],
   "source": [
    "def generate_queries_parallel(triage_targets: list[str], num_queries: int = 10, model: str = \"gpt-4o-mini\", model_kwargs: dict = {}):\n",
    "    \"\"\"Generate queries in parallel for all dimension tuples.\"\"\"\n",
    "    timestamp = datetime.now().strftime(\"%Y%m%d_%H%M\")\n",
    "\n",
    "    print(f\"Generating {num_queries} queries each for {len(triage_targets)} triage targets...\")\n",
    "    # Run in parallel\n",
    "    worker = partial(generate_synth_queries, num_queries=num_queries, model=model, model_kwargs=model_kwargs)\n",
    "    responses = list(ThreadPoolExecutor(max_workers=MAX_WORKERS).map(worker, triage_targets))\n",
    "\n",
    "    # Add query items\n",
    "    all_queries = []\n",
    "    for response in responses:\n",
    "        prompt = response[\"prompt\"]\n",
    "        triage_slug = response[\"triage_slug\"]\n",
    "\n",
    "        queries = [{\"prompt\": prompt, \"triage_slug\": triage_slug, \"query\": q, \"query_source\": \"synth\"} for q in response[\"synth_queries\"]]\n",
    "        queries.extend(\n",
    "            [{\"prompt\": prompt, \"triage_slug\": triage_slug, \"query\": q, \"query_source\": \"handcoded\"} for q in response[\"handcoded_queries\"]]\n",
    "        )\n",
    "\n",
    "        all_queries.extend(queries)\n",
    "\n",
    "    # Add to experiment\n",
    "    bt_experiment = bt.init(project=BT_PROJECT_NAME, experiment=f\"add_queries_it_{timestamp}\")\n",
    "    query_id = 1\n",
    "\n",
    "    for query_item in all_queries:\n",
    "        qid = f\"{timestamp}_{query_id:03d}\"\n",
    "        query_id += 1\n",
    "\n",
    "        with bt_experiment.start_span(name=\"add_query\") as span:\n",
    "            span.log(\n",
    "                input=query_item[\"prompt\"],\n",
    "                output=query_item[\"query\"],\n",
    "                metadata={\n",
    "                    \"id\": qid,\n",
    "                    \"triage_slug\": query_item[\"triage_slug\"],\n",
    "                    \"query_source\": query_item[\"query_source\"],\n",
    "                    \"model\": model,\n",
    "                    \"model_kwargs\": model_kwargs,\n",
    "                },\n",
    "            )\n",
    "\n",
    "    summary = bt_experiment.summarize(summarize_scores=False)\n",
    "    return summary, queries"
   ]
  },
  {
   "cell_type": "code",
   "execution_count": 46,
   "id": "b212eb34",
   "metadata": {},
   "outputs": [
    {
     "name": "stdout",
     "output_type": "stream",
     "text": [
      "Generating 10 queries each for 11 triage targets...\n",
      "15\n",
      "\n",
      "=========================SUMMARY=========================\n",
      "See results for add_queries_it_20250718_1530 at https://www.braintrust.dev/app/braintrustdata.com/p/wayde-ai-evals-course-2025/experiments/add_queries_it_20250718_1530\n"
     ]
    }
   ],
   "source": [
    "summary, queries = generate_queries_parallel(triage_targets, num_queries=10, model=\"gpt-4o-mini\")\n",
    "# summary, queries = generate_queries_parallel(triage_targets[:2], num_queries=10, model=\"gpt-4o-mini\")\n",
    "\n",
    "print(len(queries))\n",
    "print(summary)"
   ]
  },
  {
   "cell_type": "markdown",
   "id": "0981281b",
   "metadata": {},
   "source": [
    "### Step 7. Remove invalid queries (human/SME review)\n",
    "\n",
    "We'll do this in the Braintrust UI\n"
   ]
  },
  {
   "cell_type": "markdown",
   "id": "679bde21",
   "metadata": {},
   "source": [
    "## Tasks\n",
    "\n",
    "Lets use our \"good\" synthetic and handcoded queries to build a real-world customer support bot with two key pieces:\n",
    "\n",
    "1. A web search retrieval task to get context w/r/t answering and routing requests\n",
    "2. A retrieval synthesis task that takes the output from the retrieval tasks to finalize where the support should get routed, what information is needed to resolve the request, and an answer of some sort to provide the user\n",
    "\n",
    "To make this happen, we'll define some tasks and [log](https://www.braintrust.dev/docs/guides/logs) them to Braintrust.\n"
   ]
  },
  {
   "cell_type": "code",
   "execution_count": 3,
   "id": "5e52f8f5",
   "metadata": {},
   "outputs": [],
   "source": [
    "bt_logger = bt.init_logger(project=BT_PROJECT_NAME)\n",
    "\n",
    "dept_support_areas = json.load(open(\"./data/dept_support_areas.json\"))\n",
    "\n",
    "triage_targets = list(set([route[\"slug\"] for route in dept_support_areas]))"
   ]
  },
  {
   "cell_type": "markdown",
   "id": "c437438e",
   "metadata": {},
   "source": [
    "Let's use our old friend, the \"BTQL Sandbox\" to build a query to get only the queries marked as good from the human review above.\n"
   ]
  },
  {
   "cell_type": "code",
   "execution_count": 4,
   "id": "a696a667",
   "metadata": {},
   "outputs": [
    {
     "name": "stdout",
     "output_type": "stream",
     "text": [
      "56\n"
     ]
    },
    {
     "data": {
      "text/plain": [
       "[{'input': 'An officer at the parking kiosk at Cottonwood Creek was rude to me.',\n",
       "  'metadata': {'id': '20250716_1728_101',\n",
       "   'model': 'gpt-4o-mini',\n",
       "   'model_kwargs': {},\n",
       "   'query_source': 'handcoded',\n",
       "   'triage_slug': 'human_resources'}},\n",
       " {'input': 'Do you offer fire‑safe yard workshops or materials for residents?',\n",
       "  'metadata': {'id': '20250716_1728_090',\n",
       "   'model': 'gpt-4o-mini',\n",
       "   'model_kwargs': {},\n",
       "   'query_source': 'handcoded',\n",
       "   'triage_slug': 'fire_prevention'}},\n",
       " {'input': 'Can I book a fire safety inspection for my new event space on Vulcan Ave?',\n",
       "  'metadata': {'id': '20250716_1728_089',\n",
       "   'model': 'gpt-4o-mini',\n",
       "   'model_kwargs': {},\n",
       "   'query_source': 'handcoded',\n",
       "   'triage_slug': 'fire_prevention'}},\n",
       " {'input': 'Neighbors built a wood storage lean‑to less than 5\\u202fft from their house.',\n",
       "  'metadata': {'id': '20250716_1728_088',\n",
       "   'model': 'gpt-4o-mini',\n",
       "   'model_kwargs': {},\n",
       "   'query_source': 'handcoded',\n",
       "   'triage_slug': 'fire_prevention'}},\n",
       " {'input': 'I saw sparks from a grill left near dry vegetation—possible hazard.',\n",
       "  'metadata': {'id': '20250716_1728_087',\n",
       "   'model': 'gpt-4o-mini',\n",
       "   'model_kwargs': {},\n",
       "   'query_source': 'handcoded',\n",
       "   'triage_slug': 'fire_prevention'}}]"
      ]
     },
     "execution_count": 4,
     "metadata": {},
     "output_type": "execute_result"
    }
   ],
   "source": [
    "def get_test_data():\n",
    "    cursor = None\n",
    "    while True:\n",
    "        response = requests.post(\n",
    "            \"https://staging-api.braintrust.dev/btql\",\n",
    "            json={\n",
    "                \"query\": dedent(\"\"\"\n",
    "                        select: output, metadata\n",
    "                        from: experiment('b715cf02-86f6-4471-bc10-cef617e128ec')\n",
    "                        filter: scores.\"is_good\" = 1\n",
    "                \"\"\")\n",
    "                + (f\" | cursor: '{cursor}'\" if cursor else \"\"),\n",
    "                \"use_brainstore\": True,\n",
    "                \"brainstore_realtime\": True,  # Include the latest realtime data, but a bit slower.\n",
    "            },\n",
    "            headers={\"Authorization\": \"Bearer \" + os.environ[\"BRAINTRUST_API_KEY\"]},\n",
    "        )\n",
    "        response.raise_for_status()\n",
    "        response_json = response.json()\n",
    "        data = response_json.get(\"data\", [])\n",
    "        cursor = response_json.get(\"cursor\")\n",
    "\n",
    "        return [{\"input\": row[\"output\"], \"metadata\": row[\"metadata\"]} for row in data]\n",
    "\n",
    "\n",
    "test_data = get_test_data()\n",
    "\n",
    "print(len(test_data))\n",
    "test_data[:5]"
   ]
  },
  {
   "cell_type": "markdown",
   "id": "194b6923",
   "metadata": {},
   "source": [
    "### Retrieval\n"
   ]
  },
  {
   "cell_type": "markdown",
   "id": "d588a79d",
   "metadata": {},
   "source": [
    "#### Prompt\n"
   ]
  },
  {
   "cell_type": "code",
   "execution_count": 5,
   "id": "0b7fd46b",
   "metadata": {},
   "outputs": [],
   "source": [
    "WEB_SEARCH_SYSTEM_PROMPT = dedent(\"\"\"\\\n",
    "    Your name is Sunny and you are in charge of answering question about the city of {{{city}}} and routing requests to the correct departments for triage.\n",
    "    You are given access to a web search retrieval tool to use in an attempt to answer satisfy the user's inquiry.\n",
    "    \n",
    "    ## Instructions\n",
    "    - Always include any relevant links in your response! Never respond with a generic link placeholder like '(Note: The specific registration link would be on the city's website)'     \n",
    "    - If you cannot find the information you need or fulfill the request, make sure to tell the user that in the final answer\n",
    "\"\"\")"
   ]
  },
  {
   "cell_type": "code",
   "execution_count": 6,
   "id": "0bdfee0b",
   "metadata": {},
   "outputs": [
    {
     "data": {
      "text/plain": [
       "{'status': 'success'}"
      ]
     },
     "execution_count": 6,
     "metadata": {},
     "output_type": "execute_result"
    }
   ],
   "source": [
    "bt_web_search_prompt = bt_project.prompts.create(\n",
    "    name=\"WebSearchPrompt\",\n",
    "    slug=\"web-search-prompt\",\n",
    "    description=\"Prompt for retrieving context from the web\",\n",
    "    model=\"claude-sonnet-4-20250514\",\n",
    "    messages=[\n",
    "        {\"role\": \"system\", \"content\": WEB_SEARCH_SYSTEM_PROMPT},\n",
    "        {\"role\": \"user\", \"content\": \"{{{query}}}\"},\n",
    "    ],\n",
    "    if_exists=\"replace\",\n",
    ")\n",
    "\n",
    "bt_project.publish()"
   ]
  },
  {
   "cell_type": "code",
   "execution_count": 7,
   "id": "fd029242",
   "metadata": {},
   "outputs": [
    {
     "data": {
      "text/plain": [
       "{'model': 'claude-sonnet-4-20250514',\n",
       " 'span_info': {'metadata': {'prompt': {'variables': {'city': 'Encinitas',\n",
       "     'query': 'What is the weather in Encinitas?'},\n",
       "    'id': '77c412bb-4403-4002-84e1-03c70b89bf2d',\n",
       "    'project_id': 'b3adadab-154b-4474-ad2d-820167938213',\n",
       "    'version': '1000195469107564590'}}},\n",
       " 'messages': [{'content': \"Your name is Sunny and you are in charge of answering question about the city of Encinitas and routing requests to the correct departments for triage.\\nYou are given access to a web search retrieval tool to use in an attempt to answer satisfy the user's inquiry.\\n\\n## Instructions\\n- Always include any relevant links in your response! Never respond with a generic link placeholder like '(Note: The specific registration link would be on the city's website)'     \\n- If you cannot find the information you need or fulfill the request, make sure to tell the user that in the final answer\\n\",\n",
       "   'role': 'system'},\n",
       "  {'content': 'What is the weather in Encinitas?', 'role': 'user'}]}"
      ]
     },
     "execution_count": 7,
     "metadata": {},
     "output_type": "execute_result"
    }
   ],
   "source": [
    "web_search_prompt = bt.load_prompt(project=BT_PROJECT_NAME, slug=\"web-search-prompt\")\n",
    "web_search_prompt.build(city=\"Encinitas\", query=\"What is the weather in Encinitas?\")"
   ]
  },
  {
   "cell_type": "markdown",
   "id": "b0d0e132",
   "metadata": {},
   "source": [
    "#### Config\n"
   ]
  },
  {
   "cell_type": "code",
   "execution_count": 8,
   "id": "c92a6a8e",
   "metadata": {},
   "outputs": [],
   "source": [
    "# limit the number of searches per request\n",
    "N_SEARCHES = 1\n",
    "\n",
    "# To limit the scope of the search to specific domains\n",
    "RETRIEVAL_WEB_SEARCH_ALLOWED_DOMAINS = [\n",
    "    \"encinitasca.gov\",\n",
    "    # \"anc.apm.activecommunities.com/encinitasparksandrec\",  # P&R activity registration\n",
    "    # \"/issuu.com/encinitasca.gov/\",  # P&R activty guides\n",
    "]\n",
    "\n",
    "# To localize search results based on user's location\n",
    "USER_LOCATION = {\n",
    "    \"type\": \"approximate\",\n",
    "    \"city\": \"Encinitas\",\n",
    "    \"region\": \"California\",\n",
    "    \"country\": \"US\",\n",
    "    \"timezone\": \"America/Los_Angeles\",\n",
    "}"
   ]
  },
  {
   "cell_type": "markdown",
   "id": "f8d6ae37",
   "metadata": {},
   "source": [
    "#### Task\n"
   ]
  },
  {
   "cell_type": "code",
   "execution_count": 9,
   "id": "6284ed6a",
   "metadata": {},
   "outputs": [],
   "source": [
    "@bt.traced()\n",
    "def ac_web_search(query: str, city: str, model=\"claude-sonnet-4-20250514\", model_kwargs={}):\n",
    "    \"\"\"Search the web for the given query.\"\"\"\n",
    "\n",
    "    prompt = web_search_prompt.build(city=city, query=query)\n",
    "\n",
    "    rsp = wrapped_ac_client.messages.create(\n",
    "        model=model,\n",
    "        system=prompt[\"messages\"].pop(0)[\"content\"],\n",
    "        messages=prompt[\"messages\"],\n",
    "        tools=[\n",
    "            {\n",
    "                \"type\": \"web_search_20250305\",\n",
    "                \"name\": \"web_search\",\n",
    "                \"max_uses\": N_SEARCHES,\n",
    "                \"allowed_domains\": RETRIEVAL_WEB_SEARCH_ALLOWED_DOMAINS,\n",
    "                \"user_location\": USER_LOCATION,\n",
    "            }  # type: ignore\n",
    "        ],\n",
    "        **model_kwargs,\n",
    "    )\n",
    "    return rsp\n"
   ]
  },
  {
   "cell_type": "code",
   "execution_count": 10,
   "id": "46f1a1c0",
   "metadata": {},
   "outputs": [
    {
     "data": {
      "text/plain": [
       "{'input': 'An officer at the parking kiosk at Cottonwood Creek was rude to me.',\n",
       " 'metadata': {'id': '20250716_1728_101',\n",
       "  'model': 'gpt-4o-mini',\n",
       "  'model_kwargs': {},\n",
       "  'query_source': 'handcoded',\n",
       "  'triage_slug': 'human_resources'}}"
      ]
     },
     "execution_count": 10,
     "metadata": {},
     "output_type": "execute_result"
    }
   ],
   "source": [
    "_example = test_data[0]\n",
    "_example"
   ]
  },
  {
   "cell_type": "code",
   "execution_count": 11,
   "id": "cb2d6ca9",
   "metadata": {},
   "outputs": [
    {
     "data": {
      "text/plain": [
       "Message(id='msg_016TLPyuR3H8ZTM95eWeJdZi', content=[ThinkingBlock(signature='Er0ECkYIBRgCKkB/4X+mbyW8aM4KW0D9/5mJIA+ihBd5Y9k0YWcVHAt33yvVZK4mB1CqnVdYJ+BVaBmUQTKjw2F6bmxqMqzevsRoEgyY6KA7LlHzOy0e9AsaDIo9pMGkOL2v9/JYmCIwEqxwaFbr8v0cY2GRB5nexaP+kYucFlTixYEi/SAXDadWpCWtTMjJNXIsi/XK4vXxKqQD8nZlOhhfbKidWgYJ7Pk9oBiLLjZkbXZCnyjS7HK1Y91my6mxK0mvr0sZC1yfysC9uoT0v2bv3KfJbyrC2RM9wig24iBWDMLYVc/eHNY6fBNe2Z2A9Z0ghsRnJk4jz1JPzVOyWtRN3pdVWjntkKTCKOYVT0VKugEUVoPRxVUZoblTJz0jrZeHq5c4gqfzmbeaJzk+itzeYO+OXt8HIcAml49kcdedRpuDyw3gEPTnk6S1cCtsyDd7HioIwAcxVt3wCMP1eELHKrD0n/wHx9GbdBqksPf2mZD83zZEBj6POe8EWbKndKtZpfcpg/aQNE3ACGpkLmMhIsMxRcfu7IQ61pZLuhFrTlbh4tqgs69tuofHVSCQgste/ZQKVNGn8RvIref2pJqxRUC9yr0f4Wns+dhm+qk+h+kwOct6UFdxvm/qmMSAzGs3/y/whnLfF2aeprLM51NVOUKYXZZgUO/PUuXqwRoP1QKUlLcTxlojTmG4gfL3A1PzTw7Edg4y1nb4J+1RSyLstzkIlLwkQfrPoT5n9MQBk1f4ucCwxsa16u/jYabCGAE=', thinking=\"The user is reporting an incident about a rude officer at a parking kiosk at Cottonwood Creek in Encinitas. This is a complaint about city services/personnel that needs to be addressed. I should help them understand how to file a complaint with the appropriate department. I'll need to search for information about how to file complaints about city employees or parking enforcement officers in Encinitas.\", type='thinking'), ServerToolUseBlock(id='srvtoolu_01C8dx6Ux8otrNSzYqS1QKmc', input={'query': 'Encinitas complaint parking enforcement officer'}, name='web_search', type='server_tool_use'), WebSearchToolResultBlock(content=[WebSearchResultBlock(encrypted_content='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', page_age=None, title='Second Level Appeal | City of Encinitas', type='web_search_result', url='https://www.encinitasca.gov/government/departments/development-services/code-enforcement/parking-citations-appeals/second-level-appeal'), WebSearchResultBlock(encrypted_content='EooNCioIBRgCIiQyNzc5NjY2OC03MzUxLTQwYWMtYWNjNC0wMjRhZWU4OTk1YTUSDH8FefH5ujoVoN9bXxoMzOJIalYwiIK91hecIjDWCPzCsVTMRnvy2FY2M8gvwe9zoZC5hUUMgpBmunrNyTlE3KZ9pupAYcbC0uOy81cqjQyPeT2AAubRPmQ+4mXkTQfwYNWvCPBLEUbazr6fRPzn5KJrhhmWClTROvBUPfjTZlt6EgOvZK5/nYsmyGJqDEZNzWQhCMFU/I93kc9eZJpcUqQ4BTzi02zylrCHX5TJODNb0AU79vTyMEdA/w88MlHH/FVtUDakPuMqOLidUXL8JHsgE8zwBCOQRWhPtCITcnhQsgV6qTk+oEK/+cAD9zYCS3ZPny/S1Dg8htypJdlIKdxuczE8aMBpri3Mg1CPZHTRrZcYBQmbE/3GnOu2PeN1+XjeyFWGBWRh+kc4KKHbybmL9QriidvI9Bld01fpmYonBY7IZ8lf/a9qn7grze0EATPkF6SW+4X0z+48sT7CKVGQ/MHYSDquRRVfLfx6/ktcgy5b2yxe4b5OYzCLhJZvS2BVrgis86lyyp9PcP/gkjBufSGkfy0xBZt7taq//XGBaqWvPki87o0jDGZaUUb7337NGE05ON/TAjvTyLrw0NnSE7AWHQP6V24ISpHFgMvgZPWTlFwArLGfLFoxJiQyIjND/8BHqg7AFPdDRBtwmP5mCS6EYkOEC2kRmPeEo1mnsc+YuBDySooP0lvHs0EJLEkEu7yoToBVN6vDvAcb53jwR94Er+WfGGW6lmXceG8UAfoPI2OeXswl274vs3DI+kB1whV9MG4QE62yJwoOcjmgUi2SiaSEDhKMQgFlymQuQ8s77UKizH5N++q0kBs5FrcgdSCJfxQYjfJjK2xrMxKf6SJvEVXTUlzmaliHoaiu2o+AyBy1XJZdce3OviCDXC55GrrVjkQXn/I5TD0GnP44OVGma0IZ5iuK8y/MvASd6btB4BvTSVBQYhCfFx/91RPebtn+WKJQOzmqmow5fPQAw5WC5YX9wX9AppilIidppVBz40I1aKZ+2es8PUz37ox8dKsiuHpXHUEEcjmtfNxrSxSdhzSCUv6MNIAwAulSzq5VT6iwEnnTSDsnMVxzgQ5yqNHKOSfUGQ8RaKZkC4Xc1vrtcaskXMMvWemrQcG9gonlE+sXwmFVjFrcXhyMuqF3qWg55FtP5k5HhT4RhEleuFDN30BkJ5bpMz2gyA8Bv/u9IfGD6PCzGq0gY3vvWWFGNHy1/J8klp2uLlQ6unAhk5ngUBVWM7xyQGqoHnhJ9+sC0qxD4SCyj3q7G3tBNOknUML0qaSwdkdK1K8YZWt3IHlyId3TIsO7VpAVoNqVNkU6OPx0Bf81kAzZqHO2vx9SkJ59/V83BSsxX0O/4AKD472v1dQJdioVTlH6DSS70D+enQWDdOAhRns4vL5pnnjRcclLqXqynX69xI564FyY7LQUPsHT+g4GQaCkG+mOCfjGqRDMnh2EAjwshAhVhTJSrVtaxmMYLNDteOcQ0nnXUoBNccvoImYshaDEwN0oMw3RhkgGBHKkUupaiBFyT1t7poOD3QLOfjGvPp8uUqaXgxfkHLjH7ppOij5UMTLd4bonawzeQYK2O7dzek5GFB542MaZ9Rdz9btU8RKQckcabMK581sbQEPyjCE96G1TjLeaHjBZGUoF40r887EPhuAox0pd0qRO17V1uG5y/kF9eWxmwtwMMO/aNvisnu+8mb16+nueZjtFTkqop43K1jThGtiFrMnhcszbv+jTtlYxFj9pVkf87uMf4VdF/V2xqMqI3pz5/kcbjB5tUJJ4H22Z8MFwrRASK7riqHgFBKe57QUpEZ2PkQPc1kEHkgmQ+vJy9x2Gj854sFgzFHyYqg6WOXlkHHgNzT+AUqi1X1cuTOTdjlhMQ0nhj3LviZFwrbep3PcYEA/a3QkRW2N/VgZg/dgvGoo1urighyT2J6nLdDxLgbIJyV2dHi6gd6AXSMULD3A+YzyhBeXxZ7kKLeal4cwQPE+O0s3mvW9v2HH15zqGJgIePwtNqE5x36G24MBOZyz8LxBLO9UjXipxrp5AlWVfcDCYufWq6hELjwFpKQByGlLmvv4Olz0kJaH0XHaq9i1VN2j1+SO1I0v1drHiDG1ggjnD9WTthOWKPbWvx1KBiKxliIkVSjYqbahgtkRqowSJuJ1/mUCFGAM=', page_age=None, title='Disabled Parking Violations | City of Encinitas', type='web_search_result', url='https://www.encinitasca.gov/government/departments/development-services/code-enforcement/parking-citations-appeals/disabled-parking-violations'), WebSearchResultBlock(encrypted_content='EpEKCioIBRgCIiQyNzc5NjY2OC03MzUxLTQwYWMtYWNjNC0wMjRhZWU4OTk1YTUSDD3MDxeSYUQnXBv8AhoM1OrPd3ikSbTZPwFOIjD5qIBdy7kBs2Op0K/EMdoT36fubWuZXAUGNkiXdQvZLhFWnvolWUD7lwwV+WL56mAqlAkJIcxnDs+jU18TfuY3n1c3iawNWZqyntf6jCKne6UTlWkvmTGCZW+YyKcEbnikwvhyvW1LO9seek6vjO3M4ozI1FZkk/yrPDxMlOK/jVjHPemg94hQC6T0OCRgqOXgGx8V243RAns9y5K0cFiWnSScRkiZNZYry1OhJCLlQc5g54w+3ewcpRI90niCh8iDyIOpcOxIgbsQcJCFfdqBFsMH/H5O6lVpKXNKugkq5N5i9s7uH+cd2IaoBouR5OvG6KE1O2p0qzmJlBf/O9uUz04zU7fUMjgYbhebL3asr1WZsIFooqw5t5gI2Y+oSAM61mlbiXFZPamCgOUuik1wUVZtXwlSqaAiKu6Mp+O4h696aYEKCrpODZ/YDitS0kRHUhmlBgiSlgCVLZCSrSgUF8AQCzwwjD60IJe1uKVYpLr2hBQhdNpk+wOBu4rVd1TXHp7G6oaqhU+5AhTXSEf8RzQeIWP1fJhI9hoPrKJdkcLYRsAqOu2m/e/Dako4gOrBOYmwf/HGAv4CeYIowWW4Gp3YfJXw+AK4wZyuh/Ckhx42MwPZ/C3AEUTXOujKv+R0G7WG6JM03UUTQg9/iYIn26fk+FiELTBAl622s/zMT7dgAAGNKK0/zMVefX+U7hOk2Okx917CWcsdl8fmxhBirbM0HuBQSFKQRDwG8O17B1gO0VBiXjiRwX02im/nDrvBHsk9KPSGYoGQyh5NRK++7ne4oIEO1BH5JVL0Ob5FXLXPgenFqYMXDu7IowIGSDgAkrZzdLW/gNDzGFxczWRchWWlFqfkhKqRTDiuDsIcCqq7R10J9VKqpn/mX/2Ma9wn1kiGVJ+3txwuUgFPAmzXcT2DtH6z9spVo9I0V1dkEmrotiyGS2Kkj4XfYyU5ZpLGvq2ODPU237jdfWsblA1Mf0JNRIy0nP4oVn7giebhPE+SXj+JTCDsVAHs6W246Qd/sQk5kANRQ0x5ygLKGhcqwC22BSjAOUeSB9/0z+FTMCSGNaMccSvPIw4tkNAhhWSNxT18gVhj6HzDGobmJGw+ncwIQP+4A+f3qJNl+ggW0Mc7MweeyJTES1hKg8JZ/NzvsIetdeEzZ7ynqiZIKWlBoxcEm4NsF3HmF52e+bPf/ds1/GtTHGFa56EOIHVp3W6AewAE6FPS46cnReFzgrj8AB54nDTn80xCk6K1ykRraqD+E4ag/eb5szsYRwbwEMQvYRrNWPdE5HvcSRr/f0RKLTb1ZYQWr5xJ60slitPFzXHCWaRFyz5UgCudHPVbIR2Ki8Alirko9WAJmHD6u+HoZqrEWyUS+FfS974NO0i/SpCYaLw3gjDC7pOGPaHqysy+i2kU/r581GfI+6+bj252q4YTZQoz0skLDLFcY5DWY08wPiSzkCf9Q46TiXXwRY0zcEjbLOc9l2+nMZ/c2MmgTrp09v8W6PUDnbu64fy0YbhXkpE+wNZen+h+qYhqoV5yx/FwZtnR/ExrD2E+yetYbvo2mYLx3W+jhBdNx1RDvQQok52PzsMdS3pMqV/cc3Heb5Ads1R3jTxZxD0xwKR6fDBNOxfQ+BgD', page_age=None, title='ACE Parking - Downtown & Business District Parking Citations | City of Encinitas', type='web_search_result', url='https://www.encinitasca.gov/government/departments/development-services/code-enforcement/ace-parking-downtown-business-district-parking-citations'), WebSearchResultBlock(encrypted_content='EugFCioIBRgCIiQyNzc5NjY2OC03MzUxLTQwYWMtYWNjNC0wMjRhZWU4OTk1YTUSDFoT5nmci2qaHRCTjhoMp7GluOz5gwrx/rCsIjBlxWYWYEWi2m7vdcv3eNBG8fanOuNFPXUsNxhTz2zBg3++QiYGNoDd92mNQWZ9OBwq6wRYEffLX3obn2rsrnb32dtFLfD37+AHDMMJRcsIow0bE9EmoX2AmBitzV6doK1kSDlO/HyxN3SKQLazMdYxh1ErwTyyo7eBLXcsJTzyZNmbFwqUEr5rJVdk5bIuV4aJclMHlDxPEsYj2aOXV7VW6YZ1fHwVajVFUPFxonnPRh0jvJjmYEMx03aJ1H/IVm0I2noZl/mARFaoduQdWSIscL4fPDW6WKvm4oNVIBbr6qq8bbvFY4iZ9nJkPSgRRVA5exxBLLyzV0fVH45voXY7isMLh0JD2JAZAXmGm9wrFDRfQbZlhPK6rCe4h5KQJBdRW3BBXyTb1JvNPhY88esn62XRO6Wr0T1CKZNZxP6zhZQylQXrAzY4FzRW9ksDkl332WXQ+0EvVXNS0yLmoWXTMcFwKLRtJHLstIi4SkrVpNq3EBGRRByXK6a2Zq2c7mkkOm1b7g26t/5vfivWa0UwE4rmL5kJYMIT+BpVMPGuasn8Lvdz6eBGJV7/PPP57QjhNhcN+rtjyWRmJF1N/5ajQZbTy4Uuiy4IspFSOW+fetpoKvQ4jnuXoKUbfySnpZ4cZV3Pbxa0pET/VhAPBzV7ZTSS1yRox5eo7enap37uO022ucctf0wGoAc++bmQBv7tkGyF/KlzmkJSHyqVqGS3L2S5Z4vr0w2teOXdv5aBJjsawWbwr36iCP8gBkQbW2rjx1gHWxiASkeqjHlUvTBLUGmdXRegoXbd5tCNSssI8KOmO/M//Gk9gI8SsHMQazNrEbUy8a2tg/vxVVmFsMMlGvI/xma1CIwQQZ5fCVq5eP86J0phqJ5UyHfE1XR+GAM=', page_age=None, title='Filing a Complaint | City of Encinitas', type='web_search_result', url='https://www.encinitasca.gov/government/departments/development-services/code-enforcement/filing-a-complaint'), WebSearchResultBlock(encrypted_content='ErkDCioIBRgCIiQyNzc5NjY2OC03MzUxLTQwYWMtYWNjNC0wMjRhZWU4OTk1YTUSDNTjcsOA1CTP8W/OAxoMq7u4qxfE305wOnnlIjD/m0yKgJqY+naMQbu6U5RgsILc5bzJvGt/3pf07M0+UClSY7J8GREEuISc8fjQ3wIqvALYkwX5otqodJS1FDQb6P4vBe2+3sM7z5QyLEa0YaOJGCSNP3RDKjS3PPhu4s/DO8+aPtiCvRYkXhEjoinqflYhUxGPw9iDCPdyNYJ/UQ5uuj8jrvTIxeH+nihKMTvP46XwPiyZn9pGaWRs2JukIL3Y46539bvAgDr3fFzX3MvkNcFDFNusq5Lr8tl9xdg7FDEtRn/ki9H1a/qC7S77yW0CV4fy2agNBtP/WCpXeGeBhLZ1p+u66Cnf5AGrrWvOeBdW4YVmUZW44Zji3NcJbSkZgPU7OfejdzkXhZgqLjpb/bSYOe22Ij48x8p319aBFTv/iC7IxkszLnqlegFT3bkXbwgMf8DwB39vJ11Hmt1u/UUY1YlD6z2ZdwdcEQwY6gPrhjDoJOsxuDcI33E17gxfjJ4LuHff1o3aOLNHGAM=', page_age=None, title='Code Enforcement | City of Encinitas', type='web_search_result', url='https://www.encinitasca.gov/i-want-to/requests-hub/code-enforcement-form-761'), WebSearchResultBlock(encrypted_content='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', page_age=None, title='Proof of Correction Violations | City of Encinitas', type='web_search_result', url='https://www.encinitasca.gov/government/departments/development-services/code-enforcement/parking-citations-appeals/proof-of-correction-violations'), WebSearchResultBlock(encrypted_content='Er0KCioIBRgCIiQyNzc5NjY2OC03MzUxLTQwYWMtYWNjNC0wMjRhZWU4OTk1YTUSDLfe3UUbN5vQPxsNCRoMqupfXbGottgDh3aTIjClOZk+gZaHZFGhVpnubabqCiwLe1NyqU6SzbSJBrF08h71v2KbHCWulab/vXYZVXIqwAkZB/lyfh8ybX+wF3d+VIrHWfmCl2xi2C866IVc4PCYSMl009olTG+4lNhvI6Iq7HLjJ92C7YS15Ay/KfaC23oVTkQ11xU78jxFFuSisUCgVZkwly5m6ca4DTSzRRmymUvGnY6WzYB0Uc5jOCjqQeB+DmIf+0/3omPZ4lcTGl2IbT76Yt8tTiotpwD+BB9gYqz4d1pJpzQUJbrVrC8tVIde4Pr/SyKCkqHT+oseMWWKukaug06Kmc6oJt///PDiFEjJxYwGOLLX1zH/HujmCvClmkQXzjc/fYTlewqcVLxFWEsJbJD2Y9i06mqCCWkzMGY8gIJBU1rKe/ScVoGTbqNUdOTfTSVPiYZqkl86sN8sWMiLi1bW+Jf8rtPmvcxpbOIzD4PdLdrFAocYEuon+MVFebmMGAiM6NhprBFRBUMErOrSKROYQOBelCnYStL04/T9qFDqH9/Z/g/i12UklMKkJ7Aob7YKJQV9A8cUycW0vHCBp9J8i+VQ4yBvoHAPzcs1BaSPKesXDErZzy1b8AbEYncCZzCFZQofoFlLmKuQy5ExaaCEedoJJZxAOhj7XYCEMIYxUsXS4jauPDA9I0WYxNPxDaUJfHvX3r5XVxuqD4P1R9GwbX7XdalLHBUAMZljZIX4Oq+Xe0xIqkPUS9XlNj/XUxBsGuT5L6SNgyL03wUe30xQK0MHYcYMn4OkRBQguW0qs5WyAOia7BvBPfiokVnbMbrswjBK7xycbASbXsMZFtlgkHSr/Qo5zzs6Iby8HLUK7MVQmQgMBpXcnSfMpU48DuLYRb0jHP2qGLjpLqzphKjTa7qO6FweMHQPapmuy+RDNSFYaThmwbdISjnW/FeDx5vtFAMZgVpyqX7NVYFAYzAbbYin2Wyn9bedWV8VS0kFksE1YmSDPMRkm5FIouh0Af9snz/CwS1ys/WUwTCKygoYMZ5lPaNmbr6yHnoSIhQJ/fKjcGanKxLgGJJcpwFuPLIbEy645eycweO4+3PhpIWRiBV9kMsC9kZoAov1WivdVgbiEUoVfOlUKQ4A71YV16w2iKyTEbgSr8BPtBrYIM3AwcTF6kYTJA8wRbNj57N84/oXiUEf2xw9DSfSJ5IWDBXo4ocZOV9dv5ipVm5zgVK209+PeGkt+iO0X7KTo/4A6zMV1l8LfpH1p4cOScMr5U2zginmK1ul+Cq9eqRoiffn34T0J0DrC2JJJ/Yoj9q821/j9xosqi+euoLiE+L1NO2Rn6A9keIpeSF69/JeNA3v5ywg+pr0KsrtURmlFRorHjc3lQVvasf+wmfo5DZ32fxYA9MR/mx20lflfElZBW8mRmeOEM+OyT9ys6bIThnlmwpoFaaw0xgXCDG1sM2PCw4A/B3nI4XXy57un4pAo3AZDiWeYeDFEFPFi3LQRGexOdO+s0mJ4m4h1XQ9rw5TWKzXfTLjjp1hmhRagaXBYovq6Qjnujptk0e0Ur9m7bkXR/sMA4RtM6LkO3Cm0OQztqWcnnVi9En0CeZ3E93e81V5BUeoKpfSBXKhEyvblwfNACFQY0dQYoxEyhAQeHqXVCk3ty8PQLqArxDQeRVoaVSNTtm/7VAyfK1y7hpl4U3T1PTkFmX+sC64zKG4GAM=', page_age=None, title='First Level Appeal | City of Encinitas', type='web_search_result', url='https://www.encinitasca.gov/government/departments/development-services/code-enforcement/parking-citations-appeals/first-level-appeal'), WebSearchResultBlock(encrypted_content='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', page_age=None, title='Parking Citations & Appeals | City of Encinitas', type='web_search_result', url='https://www.encinitasca.gov/services/learn-more-about/parking-citations-appeals'), WebSearchResultBlock(encrypted_content='EogKCioIBRgCIiQyNzc5NjY2OC03MzUxLTQwYWMtYWNjNC0wMjRhZWU4OTk1YTUSDDdc3Unex2CoxN5PuRoM1ZLNYZvS9w/KHdNKIjA+mncaVchAST4AA90zKoQ/OBbDaEQ+Cukb10V1x/Dwd7wGsNmVP/f/2rJKJAJ1Z3kqiwla6Cq5f3/lSETXu2mQ3WaxZZG2FUwiIAuFY/nF3boOiDS3RRLjMgnJwcXwNzrJqAvcwFNXGZZ70rXsM2OiC2yeldB1Qmw+UJsPAfPCW5n9Sj0j6fKJ52zR/jkpj/7MnAQOut0Hi9zMj4iwVEUTEmOmyVD8B2erQvhMWUmVNujA0P/cLcHGpGSrqRwdrN9KpXey3n3iw2Gge4li/AXWHlaKjWS95XvbnA2PKjbzHn+Hc1EDnEA7PV9jqVaKLsPlz3Z3/S5O67mIed/Yj7M6/oDuG77vdXNJ9MYyv+pbHesMZppbgB0M8TETRvnTBc1p5mGPCiTCbS+lAKERoIOBDWDlOEXk/xQZXt+b+0JCr45v9Y6uq22F5LhzmcYl05rXeY1Z9lBCeHQreatDWqums5cZM5YHhkhh8n5LlxkxNVWMrE+ETNQZFXpviMA5qt1wP/8llquHYBQtEjXjHpyHElRQTCLhEWRvWe0lbn0e7sdMlfrY+eaTSpEaVeF1EVVBdZpY8OmI8I0X/N8uXmcPBmQxfSGuhATbDGpOQA+Oj4aASBz88SouY8Ua5g5FDqJBbcUOT/H/1k87jdxY57UFAZFBNu4eRs9Djezul2DVWuTZ4FFPCXRsjb5aTXL1guEK5YCJOkzVcIYxowHxPJam6UeU2RJmEzP8uZcWfyaG0SUSdk9dqw16zNjibWbl1TkYnL6sYwGUF18hEEAf54nhH7FXceUOGAMtRkz1s5S0dicHnnElQXc/hPrf6e/nIgsoghY6zECKeuIvrp9gDYXlfZXlgaqiw+6aFZwiECnyT+66GJS2r0rMD3kFASrt/65OqNXXhCr+bVYM7+XDCWd5v6G6FGvcYvaQz9yah9gR5ib3vg9ZZP2JxJj/ei9P5mB5yWvoEBG05RzkcPvRP99QwQtXDFc3Ps8kasN+QXMjyb9cZc/ctzXX4ZwYl2XyuB3CZAYR//1I3fnIfMvBhg9QP/olmzFTHc5b84WIiEZm+4fMF5CDhjWgnSxJULiDgWTJgD0dnTP/pFPdwYGpda6l61dVItS3+BPDX5wzGa0I1hIho9y0VuaSA+xb2Qnbie26DL1dJsbyPurfqy3SyA1H4qcO3LOfIUn/ojXn7QPuqOMcUuvgq4wXhxyL5WwRWlqf9RxrfwYzxGL8ZPukGRBgzHLWAElJz61GhI74Z/eNNCTMHErknTWN9YL/ys7I7xoJD7HUbJmjio+FH2tyeK+pizy3PaHvl6EjaeczVbq23erS8TpqTpCdeklIPDOYAxE4D7Zt21c12K38uhuE1xvan/Zzryi8tSCqlMWZNFmNUtk5l52d99cuWMzIvoxrHIhDi/0BN81hCvtNhrzjtUyuDzGBiwdsQuMZIe4V0QJ7ba7YkuZrRtACDXCsQW6NSiuKdRVAdYG+MiukpNVpgj96+m6Fow8J81hkawW/NT/zug4t1KNEQRNJoyCfxTgdfDNtv8uJJrigwcHeBw8zAIpsr7i82dMqBFko07PbXJLdyNFtJg4A3QQMd0Gyj4N/QeNiISX6eqZEQWn8RJAZaxgD', page_age=None, title='Residential Parking Permits | City of Encinitas', type='web_search_result', url='https://www.encinitasca.gov/government/departments/engineering/traffic-engineering/residential-parking-permits'), WebSearchResultBlock(encrypted_content='EqAECioIBRgCIiQyNzc5NjY2OC03MzUxLTQwYWMtYWNjNC0wMjRhZWU4OTk1YTUSDJMbbJ3wdyJgDwtWDRoMIKmcasRP1fIHpZV6IjD5j8n195LxDblarIe3/PgSg6y0Hm69BEtuQ4vRosAlK01GlFTWzCcFajs5699ImgUqowPG1i8l3boCEWWB0LLZHB/EUfQLmjtgROtAdHxNVtqajz1vYDA2QpXoY3/A6ZqPh9CItChPQyHMYeRowZvFh5Q1SwLnq7pqCjtTNdqPZDWCFzu3RqwtghRVJpDH+jl0SAGXbTzK1O7I1t7VD8eGpwNrj/MtVs292DJAndd7qxbTGaEecBUqqnOTCUvSNZS2u/fOGTeK02r3D8UW2srrmgrwqQM1MHpQd/CWvc0J/VCsmUtAZoXCVUglvRQ9Daq4dEXt+70MCfF5SVvzyP5gY0+EgSkdb36+Ok311yOiIwkX0uDDhS6xTYm95fibMHt9BOAi1/tWTIyxuB2vk3NPTqebQYCt7xPNbjoY7PgzEDJyEBSZQLl4WqqniW+3roEivkuPlDpaAYFu2knQdM1/pbnB6wpfuDBFopQBed9yIqHktZAXSupFi4Y2r8OIeO75azdG4rrqbG07selDImtKjC4s2ooCz6Lr1pUjuGY1F11m3YMoNPipx8M9eJU4UDpN+rbqO7VKdrJTkH9nbh5wJUqz5Bz5/j3omUYNWbqwWyMWs39/sRgD', page_age=None, title='Citizen Complaint Form | City of Encinitas', type='web_search_result', url='https://www.encinitasca.gov/government/departments/development-services/code-enforcement/filing-a-complaint/citizen-complaint-form')], tool_use_id='srvtoolu_01C8dx6Ux8otrNSzYqS1QKmc', type='web_search_tool_result'), TextBlock(citations=None, text=\"I'm sorry to hear about your negative experience with the officer at the parking kiosk at Cottonwood Creek. This type of conduct is certainly not acceptable, and the city should be made aware of this issue.\\n\\nTo file a complaint about the officer's behavior, here are your options:\\n\\n**For Code Enforcement/Parking Officer Complaints:**\\n\", type='text'), TextBlock(citations=[CitationsWebSearchResultLocation(cited_text='Code Enforcement 505 S. Vulcan Ave. Encinitas, CA 92024 (760) 633-2685 Email ... Code Enforcement has the responsibility of ensuring compliance with t...', encrypted_index='Eo8BCioIBRgCIiQyNzc5NjY2OC03MzUxLTQwYWMtYWNjNC0wMjRhZWU4OTk1YTUSDAfsB0yZGeAuOSl/OxoMDhxiw6k+iI4p7G5BIjAsLSXuxOYx2f3qGXW5SLk5eDqolUvrko0WK/4VOJmBETyyAmnEXrLjaOXiCxnSo6kqEyj85AXipP8OyAXfLaovZX/WCd0YBA==', title='Code Enforcement | City of Encinitas', type='web_search_result_location', url='https://www.encinitasca.gov/i-want-to/requests-hub/code-enforcement-form-761')], text='Contact Code Enforcement at 505 S. Vulcan Ave. Encinitas, CA 92024 or call (760) 633-2685', type='text'), TextBlock(citations=None, text=', or you can email them directly.\\n\\n**Filing a Citizen Complaint:**\\nYou can also ', type='text'), TextBlock(citations=[CitationsWebSearchResultLocation(cited_text='Code Enforcement responds to issues involving the following: ... Air pollution: Contact the San Diego County Air Pollution Control District for assist...', encrypted_index='Eo8BCioIBRgCIiQyNzc5NjY2OC03MzUxLTQwYWMtYWNjNC0wMjRhZWU4OTk1YTUSDKuRPy2dVAUqbY5sYRoMF8C2jQ3JIv04VYp3IjD8yYlsG3miFUt6CReWmlSd3DhyyNlMA81zc5FlNSR0F5DdWaBfnRF4dyZXVQMl28cqEzQj5rttqU/2FggdEFkbyMEbpDAYBA==', title='Filing a Complaint | City of Encinitas', type='web_search_result_location', url='https://www.encinitasca.gov/government/departments/development-services/code-enforcement/filing-a-complaint'), CitationsWebSearchResultLocation(cited_text='Government » Departments » Development Services » Code Enforcement » Filing a Complaint · Please resolve the captcha', encrypted_index='EpABCioIBRgCIiQyNzc5NjY2OC03MzUxLTQwYWMtYWNjNC0wMjRhZWU4OTk1YTUSDE7Aa2dtLuy8D5byFRoMSHfjODO3TzdGHxd4IjDrrXJoTgbeROyweqvWNFnDa2nJBVqGsWcUP7JcEM/0BJxYi8j3ygZg5GYl8hu824MqFNyVhuZPvQMvsZkR+eKuhHL1cINAGAQ=', title='Citizen Complaint Form | City of Encinitas', type='web_search_result_location', url='https://www.encinitasca.gov/government/departments/development-services/code-enforcement/filing-a-complaint/citizen-complaint-form')], text=\"file a complaint through the City's Code Enforcement complaint process\", type='text'), TextBlock(citations=None, text=\". There's a Citizen Complaint Form available on the city's website at: https://www.encinitasca.gov/government/departments/development-services/code-enforcement/filing-a-complaint/citizen-complaint-form\\n\\n**Additional Contact Information:**\\n- Phone: \", type='text'), TextBlock(citations=[CitationsWebSearchResultLocation(cited_text='** **If you do not receive an Initial Review Decision letter via mail or email after (2) weeks of submission, please call (760) 943-2299. ', encrypted_index='Eo8BCioIBRgCIiQyNzc5NjY2OC03MzUxLTQwYWMtYWNjNC0wMjRhZWU4OTk1YTUSDNvqx02i4STkMIPifhoMcChkSqSttU+cSJrhIjCJto++8FEJQvErncFZxqhbqRXxE0Rj3e45XWdX8UBK8tUlv2cVB7K4Hg9m30c3hNEqE+FpxQJfpjMFmIPD2BdUqRmk3G0YBA==', title='First Level Appeal | City of Encinitas', type='web_search_result_location', url='https://www.encinitasca.gov/government/departments/development-services/code-enforcement/parking-citations-appeals/first-level-appeal'), CitationsWebSearchResultLocation(cited_text='To find out if you have any delinquent parking citation fees, contact Code at (760) 943-2299. ', encrypted_index='Eo8BCioIBRgCIiQyNzc5NjY2OC03MzUxLTQwYWMtYWNjNC0wMjRhZWU4OTk1YTUSDKHeF+14CS6czpf1+BoM170e8EAldMgXDMLyIjAzI/IoZjDe7a7B5t5fgBv8IsWTJq9sgzoLqh1m9Gu5DApsXbMcdoYgi28Vs+Td7IgqE0zLkHwwTvh5wnlVm7HgrmYB4YcYBA==', title='Parking Citations & Appeals | City of Encinitas', type='web_search_result_location', url='https://www.encinitasca.gov/services/learn-more-about/parking-citations-appeals')], text='(760) 943-2299', type='text'), TextBlock(citations=None, text=' (this number is used for parking citation inquiries but may also help route your complaint)\\n- Address: ', type='text'), TextBlock(citations=[CitationsWebSearchResultLocation(cited_text='To request a review of a parking citation, fill out the Initial Review Request form and mail it to City of Encinitas, Attention: Code Enforcement, 505...', encrypted_index='Eo8BCioIBRgCIiQyNzc5NjY2OC03MzUxLTQwYWMtYWNjNC0wMjRhZWU4OTk1YTUSDBlkDl1VEcXKfpg1zxoMYfQYmqR35gIvHEoqIjDUVk3jI2ERESPbtEjfCz87ksI1RgJEjPqVUOVVCO0n9qqN9G7lSrkThlWOk0y7MNAqE6fYHU6uLJTh1Y2M40ckeZh1RIcYBA==', title='Parking Citations & Appeals | City of Encinitas', type='web_search_result_location', url='https://www.encinitasca.gov/services/learn-more-about/parking-citations-appeals')], text='City of Encinitas, Attention: Code Enforcement, 505 S Vulcan Avenue, Encinitas, CA 92024', type='text'), TextBlock(citations=None, text=\"\\n\\nWhen filing your complaint, be sure to include:\\n- Date and time of the incident\\n- Location (Cottonwood Creek parking kiosk)\\n- Description of what happened and the officer's behavior\\n- Any other relevant details that might help with the investigation\\n\\nThe city takes these matters seriously and should investigate your complaint to ensure proper conduct by their personnel. I recommend filing the complaint as soon as possible while the details are fresh in your memory.\", type='text')], model='claude-sonnet-4-20250514', role='assistant', stop_reason='end_turn', stop_sequence=None, type='message', usage=Usage(cache_creation_input_tokens=0, cache_read_input_tokens=0, input_tokens=10853, output_tokens=592, server_tool_use=ServerToolUsage(web_search_requests=1), service_tier='standard'))"
      ]
     },
     "execution_count": 11,
     "metadata": {},
     "output_type": "execute_result"
    }
   ],
   "source": [
    "# with bt_logger.start_span(name=\"web_search\") as trace:\n",
    "rsp = ac_web_search(\n",
    "    _example[\"input\"],\n",
    "    \"Encinitas\",\n",
    "    model_kwargs={\"max_tokens\": 2048, \"thinking\": {\"type\": \"enabled\", \"budget_tokens\": 1024}},\n",
    ")\n",
    "\n",
    "rsp\n",
    "# rsp.model_dump()"
   ]
  },
  {
   "cell_type": "markdown",
   "id": "f3db196e",
   "metadata": {},
   "source": [
    "#### Parse Utility\n"
   ]
  },
  {
   "cell_type": "code",
   "execution_count": 12,
   "id": "f1fb13cb",
   "metadata": {},
   "outputs": [],
   "source": [
    "def parse_ac_web_search_response(message):\n",
    "    \"\"\"\n",
    "    Parse a web search response message to extract searches, results, citations, and final answers.\n",
    "\n",
    "    Args:\n",
    "        message: The message object from Anthropic's web search tool\n",
    "\n",
    "    Returns:\n",
    "        dict: Contains 'searches', 'results', 'citations', and 'final_answer'\n",
    "    \"\"\"\n",
    "\n",
    "    searches = []\n",
    "    results = []\n",
    "    citations = []\n",
    "    final_answer_parts = []\n",
    "\n",
    "    # Iterate through all content blocks\n",
    "    for block in message.content:\n",
    "        # Extract search queries\n",
    "        if hasattr(block, \"type\") and block.type == \"server_tool_use\":\n",
    "            if hasattr(block, \"name\") and block.name == \"web_search\":\n",
    "                search_query = block.input.get(\"query\", \"No query found\")\n",
    "                searches.append({\"id\": block.id, \"query\": search_query, \"input\": block.input})\n",
    "\n",
    "        # Extract search results\n",
    "        elif hasattr(block, \"type\") and block.type == \"web_search_tool_result\":\n",
    "            for result_block in block.content:\n",
    "                if hasattr(result_block, \"type\") and result_block.type == \"web_search_result\":\n",
    "                    results.append(\n",
    "                        {\n",
    "                            \"title\": result_block.title,\n",
    "                            \"url\": result_block.url,\n",
    "                            \"encrypted_content\": result_block.encrypted_content,\n",
    "                            \"page_age\": getattr(result_block, \"page_age\", None),\n",
    "                        }\n",
    "                    )\n",
    "\n",
    "        # Extract final answer text blocks (with or without citations)\n",
    "        elif hasattr(block, \"type\") and block.type == \"text\":\n",
    "            text_content = block.text\n",
    "            block_citations = getattr(block, \"citations\", None)\n",
    "\n",
    "            # Add to final answer\n",
    "            final_answer_parts.append(text_content)\n",
    "\n",
    "            # If this text block has citations, extract them\n",
    "            if block_citations:\n",
    "                for citation in block_citations:\n",
    "                    citations.append(\n",
    "                        {\"cited_text\": citation.cited_text, \"title\": citation.title, \"url\": citation.url, \"type\": citation.type}\n",
    "                    )\n",
    "\n",
    "    return {\"searches\": searches, \"results\": results, \"citations\": citations, \"final_answer\": \"\".join(final_answer_parts)}\n"
   ]
  },
  {
   "cell_type": "code",
   "execution_count": 13,
   "id": "927cd55d",
   "metadata": {},
   "outputs": [
    {
     "name": "stdout",
     "output_type": "stream",
     "text": [
      "=== SEARCHES ===\n",
      "1. Query: Encinitas complaint parking enforcement officer\n",
      "   ID: srvtoolu_01C8dx6Ux8otrNSzYqS1QKmc\n",
      "\n",
      "=== RESULTS ===\n",
      "1. Second Level Appeal | City of Encinitas\n",
      "   URL: https://www.encinitasca.gov/government/departments/development-services/code-enforcement/parking-citations-appeals/second-level-appeal\n",
      "   Page Age: None\n",
      "\n",
      "2. Disabled Parking Violations | City of Encinitas\n",
      "   URL: https://www.encinitasca.gov/government/departments/development-services/code-enforcement/parking-citations-appeals/disabled-parking-violations\n",
      "   Page Age: None\n",
      "\n",
      "3. ACE Parking - Downtown & Business District Parking Citations | City of Encinitas\n",
      "   URL: https://www.encinitasca.gov/government/departments/development-services/code-enforcement/ace-parking-downtown-business-district-parking-citations\n",
      "   Page Age: None\n",
      "\n",
      "4. Filing a Complaint | City of Encinitas\n",
      "   URL: https://www.encinitasca.gov/government/departments/development-services/code-enforcement/filing-a-complaint\n",
      "   Page Age: None\n",
      "\n",
      "5. Code Enforcement | City of Encinitas\n",
      "   URL: https://www.encinitasca.gov/i-want-to/requests-hub/code-enforcement-form-761\n",
      "   Page Age: None\n",
      "\n",
      "6. Proof of Correction Violations | City of Encinitas\n",
      "   URL: https://www.encinitasca.gov/government/departments/development-services/code-enforcement/parking-citations-appeals/proof-of-correction-violations\n",
      "   Page Age: None\n",
      "\n",
      "7. First Level Appeal | City of Encinitas\n",
      "   URL: https://www.encinitasca.gov/government/departments/development-services/code-enforcement/parking-citations-appeals/first-level-appeal\n",
      "   Page Age: None\n",
      "\n",
      "8. Parking Citations & Appeals | City of Encinitas\n",
      "   URL: https://www.encinitasca.gov/services/learn-more-about/parking-citations-appeals\n",
      "   Page Age: None\n",
      "\n",
      "9. Residential Parking Permits | City of Encinitas\n",
      "   URL: https://www.encinitasca.gov/government/departments/engineering/traffic-engineering/residential-parking-permits\n",
      "   Page Age: None\n",
      "\n",
      "10. Citizen Complaint Form | City of Encinitas\n",
      "   URL: https://www.encinitasca.gov/government/departments/development-services/code-enforcement/filing-a-complaint/citizen-complaint-form\n",
      "   Page Age: None\n",
      "\n",
      "=== CITATIONS ===\n",
      "1. Cited Text: Code Enforcement 505 S. Vulcan Ave. Encinitas, CA 92024 (760) 633-2685 Email ... Code Enforcement ha...\n",
      "   Title: Code Enforcement | City of Encinitas\n",
      "   URL: https://www.encinitasca.gov/i-want-to/requests-hub/code-enforcement-form-761\n",
      "\n",
      "2. Cited Text: Code Enforcement responds to issues involving the following: ... Air pollution: Contact the San Dieg...\n",
      "   Title: Filing a Complaint | City of Encinitas\n",
      "   URL: https://www.encinitasca.gov/government/departments/development-services/code-enforcement/filing-a-complaint\n",
      "\n",
      "3. Cited Text: Government » Departments » Development Services » Code Enforcement » Filing a Complaint · Please res...\n",
      "   Title: Citizen Complaint Form | City of Encinitas\n",
      "   URL: https://www.encinitasca.gov/government/departments/development-services/code-enforcement/filing-a-complaint/citizen-complaint-form\n",
      "\n",
      "4. Cited Text: ** **If you do not receive an Initial Review Decision letter via mail or email after (2) weeks of su...\n",
      "   Title: First Level Appeal | City of Encinitas\n",
      "   URL: https://www.encinitasca.gov/government/departments/development-services/code-enforcement/parking-citations-appeals/first-level-appeal\n",
      "\n",
      "5. Cited Text: To find out if you have any delinquent parking citation fees, contact Code at (760) 943-2299. ...\n",
      "   Title: Parking Citations & Appeals | City of Encinitas\n",
      "   URL: https://www.encinitasca.gov/services/learn-more-about/parking-citations-appeals\n",
      "\n",
      "6. Cited Text: To request a review of a parking citation, fill out the Initial Review Request form and mail it to C...\n",
      "   Title: Parking Citations & Appeals | City of Encinitas\n",
      "   URL: https://www.encinitasca.gov/services/learn-more-about/parking-citations-appeals\n",
      "\n",
      "=== FINAL ANSWER ===\n",
      "I'm sorry to hear about your negative experience with the officer at the parking kiosk at Cottonwood Creek. This type of conduct is certainly not acceptable, and the city should be made aware of this issue.\n",
      "\n",
      "To file a complaint about the officer's behavior, here are your options:\n",
      "\n",
      "**For Code Enforcement/Parking Officer Complaints:**\n",
      "Contact Code Enforcement at 505 S. Vulcan Ave. Encinitas, CA 92024 or call (760) 633-2685, or you can email them directly.\n",
      "\n",
      "**Filing a Citizen Complaint:**\n",
      "You can also file a complaint through the City's Code Enforcement complaint process. There's a Citizen Complaint Form available on the city's website at: https://www.encinitasca.gov/government/departments/development-services/code-enforcement/filing-a-complaint/citizen-complaint-form\n",
      "\n",
      "**Additional Contact Information:**\n",
      "- Phone: (760) 943-2299 (this number is used for parking citation inquiries but may also help route your complaint)\n",
      "- Address: City of Encinitas, Attention: Code Enforcement, 505 S Vulcan Avenue, Encinitas, CA 92024\n",
      "\n",
      "When filing your complaint, be sure to include:\n",
      "- Date and time of the incident\n",
      "- Location (Cottonwood Creek parking kiosk)\n",
      "- Description of what happened and the officer's behavior\n",
      "- Any other relevant details that might help with the investigation\n",
      "\n",
      "The city takes these matters seriously and should investigate your complaint to ensure proper conduct by their personnel. I recommend filing the complaint as soon as possible while the details are fresh in your memory.\n"
     ]
    }
   ],
   "source": [
    "# Test the parsing function with the existing response\n",
    "parsed = parse_ac_web_search_response(rsp)\n",
    "\n",
    "print(\"=== SEARCHES ===\")\n",
    "for i, search in enumerate(parsed[\"searches\"], 1):\n",
    "    print(f\"{i}. Query: {search['query']}\")\n",
    "    print(f\"   ID: {search['id']}\")\n",
    "    print()\n",
    "\n",
    "print(\"=== RESULTS ===\")\n",
    "for i, result in enumerate(parsed[\"results\"], 1):\n",
    "    print(f\"{i}. {result['title']}\")\n",
    "    print(f\"   URL: {result['url']}\")\n",
    "    print(f\"   Page Age: {result['page_age']}\")\n",
    "    print()\n",
    "\n",
    "print(\"=== CITATIONS ===\")\n",
    "for i, citation in enumerate(parsed[\"citations\"], 1):\n",
    "    print(f\"{i}. Cited Text: {citation['cited_text'][:100]}...\")\n",
    "    print(f\"   Title: {citation['title']}\")\n",
    "    print(f\"   URL: {citation['url']}\")\n",
    "    print()\n",
    "\n",
    "print(\"=== FINAL ANSWER ===\")\n",
    "print(parsed[\"final_answer\"])  # [:500] + \"...\" if len(parsed[\"final_answer\"]) > 500 else parsed[\"final_answer\"])\n"
   ]
  },
  {
   "cell_type": "markdown",
   "id": "a49a57d8",
   "metadata": {},
   "source": [
    "#### Task (v2)\n"
   ]
  },
  {
   "cell_type": "code",
   "execution_count": 14,
   "id": "cd2c7c81",
   "metadata": {},
   "outputs": [],
   "source": [
    "@bt.traced()\n",
    "def ac_web_search(query: str, city: str, model=\"claude-sonnet-4-20250514\", model_kwargs={}):\n",
    "    \"\"\"Search the web for the given query.\"\"\"\n",
    "\n",
    "    prompt = web_search_prompt.build(city=city, query=query)\n",
    "\n",
    "    rsp = wrapped_ac_client.messages.create(\n",
    "        model=model,\n",
    "        system=prompt[\"messages\"].pop(0)[\"content\"],\n",
    "        messages=prompt[\"messages\"],\n",
    "        **model_kwargs,\n",
    "        tools=[\n",
    "            {\n",
    "                \"type\": \"web_search_20250305\",\n",
    "                \"name\": \"web_search\",\n",
    "                \"max_uses\": N_SEARCHES,\n",
    "                \"allowed_domains\": RETRIEVAL_WEB_SEARCH_ALLOWED_DOMAINS,\n",
    "                \"user_location\": USER_LOCATION,\n",
    "            }  # type: ignore\n",
    "        ],\n",
    "    )\n",
    "\n",
    "    # return rsp\n",
    "    parsed = parse_ac_web_search_response(rsp)\n",
    "    return {\"citations\": parsed[\"citations\"], \"final_answer\": parsed[\"final_answer\"]}"
   ]
  },
  {
   "cell_type": "code",
   "execution_count": 15,
   "id": "cc8025bb",
   "metadata": {},
   "outputs": [
    {
     "data": {
      "text/plain": [
       "{'citations': [{'cited_text': 'Code Enforcement 505 S. Vulcan Ave. Encinitas, CA 92024 (760) 633-2685 Email ... Code Enforcement has the responsibility of ensuring compliance with t...',\n",
       "   'title': 'Code Enforcement | City of Encinitas',\n",
       "   'url': 'https://www.encinitasca.gov/i-want-to/requests-hub/code-enforcement-form-761',\n",
       "   'type': 'web_search_result_location'},\n",
       "  {'cited_text': 'Code Enforcement 505 S. Vulcan Ave. Encinitas, CA 92024 (760) 633-2685 Email · Code Enforcement Guide · Campaign Signs FAQ · Parking Citations & Appea...',\n",
       "   'title': 'Code Enforcement | City of Encinitas',\n",
       "   'url': 'https://www.encinitasca.gov/i-want-to/requests-hub/code-enforcement-form-761',\n",
       "   'type': 'web_search_result_location'},\n",
       "  {'cited_text': 'If you witness a violation, please notify Code Enforcement staff by completing an online complaint form. ',\n",
       "   'title': 'Code Enforcement | City of Encinitas',\n",
       "   'url': 'https://www.encinitasca.gov/i-want-to/requests-hub/code-enforcement-form-761',\n",
       "   'type': 'web_search_result_location'},\n",
       "  {'cited_text': '505 S. Vulcan Avenue Encinitas, CA 92024 (760) 633-2600 · Hours: 7:30 A.M. - 5:30 P.M. Mon-Thu 7:30 A.M. - 4:30 P.M. Fri (Alternating Fridays Closed) ...',\n",
       "   'title': 'Hours & Locations | City of Encinitas',\n",
       "   'url': 'https://www.encinitasca.gov/services/contact',\n",
       "   'type': 'web_search_result_location'},\n",
       "  {'cited_text': '505 S. Vulcan Avenue Encinitas, CA 92024 (760) 633-2600 · Hours: 7:30 A.M. - 5:30 P.M. Mon-Thu 7:30 A.M. - 4:30 P.M. Fri (Alternating Fridays Closed) ...',\n",
       "   'title': 'Hours & Locations | City of Encinitas',\n",
       "   'url': 'https://www.encinitasca.gov/services/contact',\n",
       "   'type': 'web_search_result_location'},\n",
       "  {'cited_text': 'You may also contact ACE Parking by phone at 1-800-925-7275. ',\n",
       "   'title': 'ACE Parking - Downtown & Business District Parking Citations | City of Encinitas',\n",
       "   'url': 'https://www.encinitasca.gov/government/departments/development-services/code-enforcement/ace-parking-downtown-business-district-parking-citations',\n",
       "   'type': 'web_search_result_location'},\n",
       "  {'cited_text': 'Once received, staff will respond to the compliant pursuant to the standards and procedures described in the Code Enforcement Guide.',\n",
       "   'title': 'Code Enforcement | City of Encinitas',\n",
       "   'url': 'https://www.encinitasca.gov/i-want-to/requests-hub/code-enforcement-form-761',\n",
       "   'type': 'web_search_result_location'}],\n",
       " 'final_answer': \"I'm sorry to hear about your negative experience with the parking officer at Cottonwood Creek. I can help you file a complaint about this incident.\\n\\nBased on the information I found, here's how you can address this issue:\\n\\n**For Parking-Related Complaints:**\\nYou should contact Code Enforcement at the City of Encinitas, located at 505 S. Vulcan Ave. Encinitas, CA 92024. You can reach them at (760) 633-2685 or by email.\\n\\n**How to File a Complaint:**\\nYou can notify Code Enforcement staff by completing an online complaint form, which can be found on the City's website at https://www.encinitasca.gov/i-want-to/requests-hub/code-enforcement-form-761.\\n\\n**Alternative Contact Methods:**\\n- **Phone:** (760) 633-2600 for City Hall\\n- **In-Person:** Visit City Hall during business hours: 7:30 A.M. - 5:30 P.M. Mon-Thu and 7:30 A.M. - 4:30 P.M. Fri (Alternating Fridays Closed)\\n\\nSince parking enforcement in certain areas is handled by ACE Parking (a contractor), you may also want to contact ACE Parking directly at 1-800-925-7275 if the incident involved their personnel.\\n\\nWhen filing your complaint, be sure to include:\\n- The date, time, and exact location of the incident\\n- A description of what happened\\n- Any witness information if available\\n- The officer's badge number or identifying information if you observed it\\n\\nOnce your complaint is received, staff will respond pursuant to the standards and procedures described in the Code Enforcement Guide.\\n\\nWould you like me to help you find any additional information about filing this complaint?\"}"
      ]
     },
     "execution_count": 15,
     "metadata": {},
     "output_type": "execute_result"
    }
   ],
   "source": [
    "rsp = ac_web_search(\n",
    "    _example[\"input\"],\n",
    "    \"Encinitas\",\n",
    "    model_kwargs={\"max_tokens\": 2048, \"thinking\": {\"type\": \"enabled\", \"budget_tokens\": 1024}},\n",
    ")\n",
    "\n",
    "rsp\n",
    "# rsp.model_dump()"
   ]
  },
  {
   "cell_type": "markdown",
   "id": "2a871b5d",
   "metadata": {},
   "source": [
    "### Retrieval Synthesiss\n"
   ]
  },
  {
   "cell_type": "markdown",
   "id": "d79215b2",
   "metadata": {},
   "source": [
    "#### Prompt\n"
   ]
  },
  {
   "cell_type": "code",
   "execution_count": 16,
   "id": "512435eb",
   "metadata": {},
   "outputs": [
    {
     "name": "stdout",
     "output_type": "stream",
     "text": [
      "Public Works\n",
      "- Deceased animals\n",
      "- Graffiti on public property\n",
      "- Water leak (non-emergency)\n",
      "- Streetlight outages\n",
      "- Pothole repairs\n",
      "-> I saw a dead raccoon on Melba Road today—can someone remove it?\n",
      "-> There’s new graffiti on the sidewalk wall along South Coast Highway.\n",
      "-> A small water leak is pooling near the fire hydrant on Encinitas Blvd.\n",
      "-> The streetlight in front of 450 Quail Gardens Dr has been out for 3 nights.\n",
      "-> There’s a deep pothole on Manchester Ave that's damaging cars.\n",
      "\n",
      "Code Enforcement\n",
      "- Abandoned vehicles\n",
      "- Illegal signs or banners\n",
      "- Noise complaints\n",
      "- Trash or junk on private property\n",
      "- Homeless overnight camping\n",
      "-> There’s a broken-down RV parked on Citrus Ave for over two weeks.\n",
      "-> Someone put up a political banner on private property with no permit.\n",
      "-> Neighbors at 2 a.m. are playing loud music by the pool every weekend.\n",
      "-> The vacant lot next to Sunset View has piles of old furniture.\n",
      "-> A homeless encampment is forming under the 101 overpass near Cardiff.\n",
      "\n",
      "Parks & Recreation\n",
      "- Playground issues\n",
      "- Gate issues in parks\n",
      "- Graffiti in park sites\n",
      "- Trail maintenance\n",
      "- Trash or junk in park sites\n",
      "-> The swing set at Moonlight Beach park is missing a chain.\n",
      "-> The main gate at Cottonwood Creek Park isn’t closing properly.\n",
      "-> Graffiti appeared overnight on the restroom wall at Flora Vista Park.\n",
      "-> The trail between Encinitas Community Park and city hall has large roots blocking it.\n",
      "-> Overflowing trash cans at the lower park near the lagoon are attracting birds.\n",
      "\n",
      "Homeless Solutions\n",
      "- Homeless encampments in parks or beaches\n",
      "- Homeless encampments on private property\n",
      "- General inquiries about individuals experiencing homelessness\n",
      "- Reporting aggressive behavior\n",
      "- Need outreach services\n",
      "-> There’s a tent camp on the bluff above Moonlight Beach.\n",
      "-> A homeless individual is sleeping in the courtyard of my business on Hwy 101.\n",
      "-> I’d like to know what services are available to someone I saw panhandling downtown.\n",
      "-> Someone yelling aggressively at passersby under the highway off-ramp.\n",
      "-> This person seems mentally distressed near Encinitas Library—can outreach help?\n",
      "\n",
      "Fire Prevention\n",
      "- Fire hazard reporting\n",
      "- Concerns about brush clearance\n",
      "- Fire code violations\n",
      "- Inspection requests\n",
      "- Education requests\n",
      "-> There’s dry brush up the canyon behind my house on Quail Gardens Dr.\n",
      "-> I saw sparks from a grill left near dry vegetation—possible hazard.\n",
      "-> Neighbors built a wood storage lean‑to less than 5 ft from their house.\n",
      "-> Can I book a fire safety inspection for my new event space on Vulcan Ave?\n",
      "-> Do you offer fire‑safe yard workshops or materials for residents?\n",
      "\n",
      "Traffic Engineering\n",
      "- Crosswalk safety\n",
      "- Traffic signal malfunctions\n",
      "- Speeding requests\n",
      "- Parking restrictions\n",
      "- Traffic calming\n",
      "-> Can a high‑visibility crosswalk be installed at Santa Fe Dr and Orpheus Ave?\n",
      "-> The light at El Camino Real and Leucadia Blvd is stuck on red.\n",
      "-> Cars speed down Leucadia Blvd—can we get a speed feedback sign?\n",
      "-> My business needs loading zone parking on Coast Hwy but it's never enforced.\n",
      "-> Requesting speed bump or traffic calming on Caminito Lucido—too many cut‑through vehicles.\n",
      "\n",
      "San Dieguito Water District\n",
      "- Water billing questions\n",
      "- Emergency leaks\n",
      "- Conservation inquiries\n",
      "- Service maintenance requests\n",
      "- District operations\n",
      "-> My water bill doubled this month—can you explain the charges?\n",
      "-> There’s water gushing from a broken pipe in the street in front of my house.\n",
      "-> How can I apply for a rebate on drought‑tolerant landscaping?\n",
      "-> The meter at my commercial property isn’t registering usage.\n",
      "-> Is there a planned shutdown tomorrow for maintenance in south Encinitas?\n",
      "\n",
      "San Diego Humane Society\n",
      "- Injured animal reports\n",
      "- Lost and found pets\n",
      "- Off-leash animal reports\n",
      "- Animal cruelty concerns\n",
      "- Wildlife entanglement\n",
      "-> Found an injured pelican on the beach near 13th St.\n",
      "-> My dog Fluffy escaped at Moonlight Beach—found wandering around.\n",
      "-> A group of dogs is running off‑leash near San Dieguito Lagoon.\n",
      "-> I hear consistent signs of animal abuse in the unit next door.\n",
      "-> A hawk seems stuck in fishing line at Beacon’s Beach cliffside.\n",
      "\n",
      "San Diego County Vector Control\n",
      "- Rodent infestations\n",
      "- Mosquito problems\n",
      "- Pest management info\n",
      "- Vector control advice\n",
      "- Standing water hazards\n",
      "-> I see rats in the alley behind my store on South Coast Hwy.\n",
      "-> Mosquitoes are breeding in stagnant water in the park fountain at Encinitas Community Park.\n",
      "-> Can you recommend safe pest control for ants in my backyard?\n",
      "-> What should I do about a rodent problem in my restaurant kitchen?\n",
      "-> The drainage pond near my home isn’t moving—mosquito larvae everywhere.\n",
      "\n",
      "General\n",
      "- General informational inquiries\n",
      "- How‑to questions\n",
      "- Uncategorized issues\n",
      "- City event info\n",
      "- Municipal code questions\n",
      "-> When is the next Encinitas City Council meeting?\n",
      "-> How do I apply for a temporary special event permit on the beach?\n",
      "-> Who should I contact about filming a documentary at the lagoon?\n",
      "-> What are the hours of the Cardiff Community Center?\n",
      "-> Can you explain the parking restrictions on Amphitheatre Dr?\n",
      "\n",
      "Human Resources\n",
      "- Complaints about city staff\n",
      "- Customer service feedback\n",
      "- Unprofessional conduct reports\n",
      "- Employment inquiries\n",
      "- Harassment/discrimination complaints\n",
      "-> An officer at the parking kiosk at Cottonwood Creek was rude to me.\n",
      "-> The receptionist at City Hall hung up when I asked for permit info.\n",
      "-> Can I file a complaint about a planning staff member ignoring ADA needs?\n",
      "-> Are there any job openings in the city’s IT department?\n",
      "-> I’d like to report discrimination I experienced during a public works inspection.\n",
      "\n"
     ]
    }
   ],
   "source": [
    "for dept in dept_support_areas:\n",
    "    print(dept[\"name\"])\n",
    "    print(\"- \" + \"\\n- \".join(dept[\"support_areas\"]))\n",
    "    print(\"-> \" + \"\\n-> \".join(dept[\"examples\"]))\n",
    "    print()"
   ]
  },
  {
   "cell_type": "code",
   "execution_count": 17,
   "id": "6a92ab12",
   "metadata": {},
   "outputs": [
    {
     "data": {
      "text/plain": [
       "['traffic_engineering',\n",
       " 'general',\n",
       " 'parks_recreation',\n",
       " 'human_resources',\n",
       " 'san_dieguito_water_district',\n",
       " 'homeless_solutions',\n",
       " 'public_works',\n",
       " 'san_diego_county_vector_control',\n",
       " 'fire_prevention',\n",
       " 'san_diego_humane_society',\n",
       " 'code_enforcement']"
      ]
     },
     "execution_count": 17,
     "metadata": {},
     "output_type": "execute_result"
    }
   ],
   "source": [
    "triage_targets"
   ]
  },
  {
   "cell_type": "code",
   "execution_count": 18,
   "id": "aba54a53",
   "metadata": {},
   "outputs": [],
   "source": [
    "def build_triage_route_details() -> str:\n",
    "    output = \"=\" * 10 + \"\\n\"\n",
    "    for dept in dept_support_areas:\n",
    "        output += f\"Triage Target: {dept['slug']}\\n\"\n",
    "        output += f\"Triage Name: {dept['name']}\\n\"\n",
    "        output += f\"Support Areas: {','.join(dept['support_areas'])}\"\n",
    "        output += \"\\n\" + \"=\" * 10 + \"\\n\"\n",
    "\n",
    "    return output.strip()\n"
   ]
  },
  {
   "cell_type": "code",
   "execution_count": 19,
   "id": "9b2b130b",
   "metadata": {},
   "outputs": [
    {
     "name": "stdout",
     "output_type": "stream",
     "text": [
      "==========\n",
      "Triage Target: public_works\n",
      "Triage Name: Public Works\n",
      "Support Areas: Deceased animals,Graffiti on public property,Water leak (non-emergency),Streetlight outages,Pothole repairs\n",
      "==========\n",
      "Triage Target: code_enforcement\n",
      "Triage Name: Code Enforcement\n",
      "Support Areas: Abandoned vehicles,Illegal signs or banners,Noise complaints,Trash or junk on private property,Homeless overnight camping\n",
      "==========\n",
      "Triage Target: parks_recreation\n",
      "Triage Name: Parks & Recreation\n",
      "Support Areas: Playground issues,Gate issues in parks,Graffiti in park sites,Trail maintenance,Trash or junk in park sites\n",
      "==========\n",
      "Triage Target: homeless_solutions\n",
      "Triage Name: Homeless Solutions\n",
      "Support Areas: Homeless encampments in parks or beaches,Homeless encampments on private property,General inquiries about individuals experiencing homelessness,Reporting aggressive behavior,Need outreach services\n",
      "==========\n",
      "Triage Target: fire_prevention\n",
      "Triage Name: Fire Prevention\n",
      "Support Areas: Fire hazard reporting,Concerns about brush clearance,Fire code violations,Inspection requests,Education requests\n",
      "==========\n",
      "Triage Target: traffic_engineering\n",
      "Triage Name: Traffic Engineering\n",
      "Support Areas: Crosswalk safety,Traffic signal malfunctions,Speeding requests,Parking restrictions,Traffic calming\n",
      "==========\n",
      "Triage Target: san_dieguito_water_district\n",
      "Triage Name: San Dieguito Water District\n",
      "Support Areas: Water billing questions,Emergency leaks,Conservation inquiries,Service maintenance requests,District operations\n",
      "==========\n",
      "Triage Target: san_diego_humane_society\n",
      "Triage Name: San Diego Humane Society\n",
      "Support Areas: Injured animal reports,Lost and found pets,Off-leash animal reports,Animal cruelty concerns,Wildlife entanglement\n",
      "==========\n",
      "Triage Target: san_diego_county_vector_control\n",
      "Triage Name: San Diego County Vector Control\n",
      "Support Areas: Rodent infestations,Mosquito problems,Pest management info,Vector control advice,Standing water hazards\n",
      "==========\n",
      "Triage Target: general\n",
      "Triage Name: General\n",
      "Support Areas: General informational inquiries,How‑to questions,Uncategorized issues,City event info,Municipal code questions\n",
      "==========\n",
      "Triage Target: human_resources\n",
      "Triage Name: Human Resources\n",
      "Support Areas: Complaints about city staff,Customer service feedback,Unprofessional conduct reports,Employment inquiries,Harassment/discrimination complaints\n",
      "==========\n"
     ]
    }
   ],
   "source": [
    "print(build_triage_route_details())"
   ]
  },
  {
   "cell_type": "code",
   "execution_count": 20,
   "id": "9101c43f",
   "metadata": {},
   "outputs": [],
   "source": [
    "SYNTHESIZE_RETRIEVAL_SYSTEM_PROMPT = f\"\"\"\\\n",
    "Your name is Sunny and you are an expert in providing responses to customer support responses for the city of {{{{city}}}} based on the original user inquiry, \n",
    "triage route descriptions, and the context provided.\n",
    "\n",
    "## Instructions\n",
    "- Provide a final answer to the user inquiry ONLY if it is answerable from the \"Context\" provided below.\n",
    "- Using the user's inquiry and the \"Context\" provided below, choose the most specific triage target to route the user to based on the \"Triage Options\" defined below.\n",
    "- If provided, make sure you include any relevant links, phone numbers, emails, or other information from the \"Context\" and how the user can use them to get the information they need.\n",
    "- Use markdown formatting for the full response.\n",
    "- Always direct complaints about personnel to \"human_resources\"\n",
    "\n",
    "## Triage Options    \n",
    "{build_triage_route_details()}\n",
    "\n",
    "## Context\n",
    "{{{{context}}}}\"\"\""
   ]
  },
  {
   "cell_type": "code",
   "execution_count": 21,
   "id": "3f183edb",
   "metadata": {},
   "outputs": [
    {
     "data": {
      "text/plain": [
       "{'status': 'success'}"
      ]
     },
     "execution_count": 21,
     "metadata": {},
     "output_type": "execute_result"
    }
   ],
   "source": [
    "bt_retieval_synthesis_prompt = bt_project.prompts.create(\n",
    "    name=\"WebSearchRetrievalSynthesis\",\n",
    "    slug=\"web-search-retrieval-synthesis\",\n",
    "    description=\"Prompt for synthesizing the retrieval results into a final answer\",\n",
    "    model=\"claude-4-sonnet-20250514\",\n",
    "    messages=[\n",
    "        {\"role\": \"system\", \"content\": SYNTHESIZE_RETRIEVAL_SYSTEM_PROMPT},\n",
    "        {\"role\": \"user\", \"content\": \"User Inquiry: {{{user_inquiry}}}\"},\n",
    "    ],\n",
    "    if_exists=\"replace\",\n",
    ")\n",
    "\n",
    "bt_project.publish()"
   ]
  },
  {
   "cell_type": "code",
   "execution_count": 22,
   "id": "03f590a1",
   "metadata": {},
   "outputs": [
    {
     "data": {
      "text/plain": [
       "{'model': 'claude-4-sonnet-20250514',\n",
       " 'span_info': {'metadata': {'prompt': {'variables': {'city': 'Encinitas',\n",
       "     'user_inquiry': 'An officer at the parking kiosk at Cottonwood Creek was rude to me.',\n",
       "     'context': {'citations': [{'cited_text': 'Code Enforcement 505 S. Vulcan Ave. Encinitas, CA 92024 (760) 633-2685 Email ... Code Enforcement has the responsibility of ensuring compliance with t...',\n",
       "        'title': 'Code Enforcement | City of Encinitas',\n",
       "        'url': 'https://www.encinitasca.gov/i-want-to/requests-hub/code-enforcement-form-761',\n",
       "        'type': 'web_search_result_location'},\n",
       "       {'cited_text': 'Code Enforcement 505 S. Vulcan Ave. Encinitas, CA 92024 (760) 633-2685 Email · Code Enforcement Guide · Campaign Signs FAQ · Parking Citations & Appea...',\n",
       "        'title': 'Code Enforcement | City of Encinitas',\n",
       "        'url': 'https://www.encinitasca.gov/i-want-to/requests-hub/code-enforcement-form-761',\n",
       "        'type': 'web_search_result_location'},\n",
       "       {'cited_text': 'If you witness a violation, please notify Code Enforcement staff by completing an online complaint form. ',\n",
       "        'title': 'Code Enforcement | City of Encinitas',\n",
       "        'url': 'https://www.encinitasca.gov/i-want-to/requests-hub/code-enforcement-form-761',\n",
       "        'type': 'web_search_result_location'},\n",
       "       {'cited_text': '505 S. Vulcan Avenue Encinitas, CA 92024 (760) 633-2600 · Hours: 7:30 A.M. - 5:30 P.M. Mon-Thu 7:30 A.M. - 4:30 P.M. Fri (Alternating Fridays Closed) ...',\n",
       "        'title': 'Hours & Locations | City of Encinitas',\n",
       "        'url': 'https://www.encinitasca.gov/services/contact',\n",
       "        'type': 'web_search_result_location'},\n",
       "       {'cited_text': '505 S. Vulcan Avenue Encinitas, CA 92024 (760) 633-2600 · Hours: 7:30 A.M. - 5:30 P.M. Mon-Thu 7:30 A.M. - 4:30 P.M. Fri (Alternating Fridays Closed) ...',\n",
       "        'title': 'Hours & Locations | City of Encinitas',\n",
       "        'url': 'https://www.encinitasca.gov/services/contact',\n",
       "        'type': 'web_search_result_location'},\n",
       "       {'cited_text': 'You may also contact ACE Parking by phone at 1-800-925-7275. ',\n",
       "        'title': 'ACE Parking - Downtown & Business District Parking Citations | City of Encinitas',\n",
       "        'url': 'https://www.encinitasca.gov/government/departments/development-services/code-enforcement/ace-parking-downtown-business-district-parking-citations',\n",
       "        'type': 'web_search_result_location'},\n",
       "       {'cited_text': 'Once received, staff will respond to the compliant pursuant to the standards and procedures described in the Code Enforcement Guide.',\n",
       "        'title': 'Code Enforcement | City of Encinitas',\n",
       "        'url': 'https://www.encinitasca.gov/i-want-to/requests-hub/code-enforcement-form-761',\n",
       "        'type': 'web_search_result_location'}],\n",
       "      'final_answer': \"I'm sorry to hear about your negative experience with the parking officer at Cottonwood Creek. I can help you file a complaint about this incident.\\n\\nBased on the information I found, here's how you can address this issue:\\n\\n**For Parking-Related Complaints:**\\nYou should contact Code Enforcement at the City of Encinitas, located at 505 S. Vulcan Ave. Encinitas, CA 92024. You can reach them at (760) 633-2685 or by email.\\n\\n**How to File a Complaint:**\\nYou can notify Code Enforcement staff by completing an online complaint form, which can be found on the City's website at https://www.encinitasca.gov/i-want-to/requests-hub/code-enforcement-form-761.\\n\\n**Alternative Contact Methods:**\\n- **Phone:** (760) 633-2600 for City Hall\\n- **In-Person:** Visit City Hall during business hours: 7:30 A.M. - 5:30 P.M. Mon-Thu and 7:30 A.M. - 4:30 P.M. Fri (Alternating Fridays Closed)\\n\\nSince parking enforcement in certain areas is handled by ACE Parking (a contractor), you may also want to contact ACE Parking directly at 1-800-925-7275 if the incident involved their personnel.\\n\\nWhen filing your complaint, be sure to include:\\n- The date, time, and exact location of the incident\\n- A description of what happened\\n- Any witness information if available\\n- The officer's badge number or identifying information if you observed it\\n\\nOnce your complaint is received, staff will respond pursuant to the standards and procedures described in the Code Enforcement Guide.\\n\\nWould you like me to help you find any additional information about filing this complaint?\"}},\n",
       "    'id': '61ecb578-29f1-437a-be9d-f870cd11e03d',\n",
       "    'project_id': 'b3adadab-154b-4474-ad2d-820167938213',\n",
       "    'version': '1000195469112043768'}}},\n",
       " 'messages': [{'content': 'Your name is Sunny and you are an expert in providing responses to customer support responses for the city of Encinitas based on the original user inquiry, \\ntriage route descriptions, and the context provided.\\n\\n## Instructions\\n- Provide a final answer to the user inquiry ONLY if it is answerable from the \"Context\" provided below.\\n- Using the user\\'s inquiry and the \"Context\" provided below, choose the most specific triage target to route the user to based on the \"Triage Options\" defined below.\\n- If provided, make sure you include any relevant links, phone numbers, emails, or other information from the \"Context\" and how the user can use them to get the information they need.\\n- Use markdown formatting for the full response.\\n- Always direct complaints about personnel to \"human_resources\"\\n\\n## Triage Options    \\n==========\\nTriage Target: public_works\\nTriage Name: Public Works\\nSupport Areas: Deceased animals,Graffiti on public property,Water leak (non-emergency),Streetlight outages,Pothole repairs\\n==========\\nTriage Target: code_enforcement\\nTriage Name: Code Enforcement\\nSupport Areas: Abandoned vehicles,Illegal signs or banners,Noise complaints,Trash or junk on private property,Homeless overnight camping\\n==========\\nTriage Target: parks_recreation\\nTriage Name: Parks & Recreation\\nSupport Areas: Playground issues,Gate issues in parks,Graffiti in park sites,Trail maintenance,Trash or junk in park sites\\n==========\\nTriage Target: homeless_solutions\\nTriage Name: Homeless Solutions\\nSupport Areas: Homeless encampments in parks or beaches,Homeless encampments on private property,General inquiries about individuals experiencing homelessness,Reporting aggressive behavior,Need outreach services\\n==========\\nTriage Target: fire_prevention\\nTriage Name: Fire Prevention\\nSupport Areas: Fire hazard reporting,Concerns about brush clearance,Fire code violations,Inspection requests,Education requests\\n==========\\nTriage Target: traffic_engineering\\nTriage Name: Traffic Engineering\\nSupport Areas: Crosswalk safety,Traffic signal malfunctions,Speeding requests,Parking restrictions,Traffic calming\\n==========\\nTriage Target: san_dieguito_water_district\\nTriage Name: San Dieguito Water District\\nSupport Areas: Water billing questions,Emergency leaks,Conservation inquiries,Service maintenance requests,District operations\\n==========\\nTriage Target: san_diego_humane_society\\nTriage Name: San Diego Humane Society\\nSupport Areas: Injured animal reports,Lost and found pets,Off-leash animal reports,Animal cruelty concerns,Wildlife entanglement\\n==========\\nTriage Target: san_diego_county_vector_control\\nTriage Name: San Diego County Vector Control\\nSupport Areas: Rodent infestations,Mosquito problems,Pest management info,Vector control advice,Standing water hazards\\n==========\\nTriage Target: general\\nTriage Name: General\\nSupport Areas: General informational inquiries,How‑to questions,Uncategorized issues,City event info,Municipal code questions\\n==========\\nTriage Target: human_resources\\nTriage Name: Human Resources\\nSupport Areas: Complaints about city staff,Customer service feedback,Unprofessional conduct reports,Employment inquiries,Harassment/discrimination complaints\\n==========\\n\\n## Context\\n{\\'citations\\': [{\\'cited_text\\': \\'Code Enforcement 505 S. Vulcan Ave. Encinitas, CA 92024 (760) 633-2685 Email ... Code Enforcement has the responsibility of ensuring compliance with t...\\', \\'title\\': \\'Code Enforcement | City of Encinitas\\', \\'url\\': \\'https://www.encinitasca.gov/i-want-to/requests-hub/code-enforcement-form-761\\', \\'type\\': \\'web_search_result_location\\'}, {\\'cited_text\\': \\'Code Enforcement 505 S. Vulcan Ave. Encinitas, CA 92024 (760) 633-2685 Email · Code Enforcement Guide · Campaign Signs FAQ · Parking Citations &amp; Appea...\\', \\'title\\': \\'Code Enforcement | City of Encinitas\\', \\'url\\': \\'https://www.encinitasca.gov/i-want-to/requests-hub/code-enforcement-form-761\\', \\'type\\': \\'web_search_result_location\\'}, {\\'cited_text\\': \\'If you witness a violation, please notify Code Enforcement staff by completing an online complaint form. \\', \\'title\\': \\'Code Enforcement | City of Encinitas\\', \\'url\\': \\'https://www.encinitasca.gov/i-want-to/requests-hub/code-enforcement-form-761\\', \\'type\\': \\'web_search_result_location\\'}, {\\'cited_text\\': \\'505 S. Vulcan Avenue Encinitas, CA 92024 (760) 633-2600 · Hours: 7:30 A.M. - 5:30 P.M. Mon-Thu 7:30 A.M. - 4:30 P.M. Fri (Alternating Fridays Closed) ...\\', \\'title\\': \\'Hours &amp; Locations | City of Encinitas\\', \\'url\\': \\'https://www.encinitasca.gov/services/contact\\', \\'type\\': \\'web_search_result_location\\'}, {\\'cited_text\\': \\'505 S. Vulcan Avenue Encinitas, CA 92024 (760) 633-2600 · Hours: 7:30 A.M. - 5:30 P.M. Mon-Thu 7:30 A.M. - 4:30 P.M. Fri (Alternating Fridays Closed) ...\\', \\'title\\': \\'Hours &amp; Locations | City of Encinitas\\', \\'url\\': \\'https://www.encinitasca.gov/services/contact\\', \\'type\\': \\'web_search_result_location\\'}, {\\'cited_text\\': \\'You may also contact ACE Parking by phone at 1-800-925-7275. \\', \\'title\\': \\'ACE Parking - Downtown &amp; Business District Parking Citations | City of Encinitas\\', \\'url\\': \\'https://www.encinitasca.gov/government/departments/development-services/code-enforcement/ace-parking-downtown-business-district-parking-citations\\', \\'type\\': \\'web_search_result_location\\'}, {\\'cited_text\\': \\'Once received, staff will respond to the compliant pursuant to the standards and procedures described in the Code Enforcement Guide.\\', \\'title\\': \\'Code Enforcement | City of Encinitas\\', \\'url\\': \\'https://www.encinitasca.gov/i-want-to/requests-hub/code-enforcement-form-761\\', \\'type\\': \\'web_search_result_location\\'}], \\'final_answer\\': &quot;I\\'m sorry to hear about your negative experience with the parking officer at Cottonwood Creek. I can help you file a complaint about this incident.\\\\n\\\\nBased on the information I found, here\\'s how you can address this issue:\\\\n\\\\n**For Parking-Related Complaints:**\\\\nYou should contact Code Enforcement at the City of Encinitas, located at 505 S. Vulcan Ave. Encinitas, CA 92024. You can reach them at (760) 633-2685 or by email.\\\\n\\\\n**How to File a Complaint:**\\\\nYou can notify Code Enforcement staff by completing an online complaint form, which can be found on the City\\'s website at https://www.encinitasca.gov/i-want-to/requests-hub/code-enforcement-form-761.\\\\n\\\\n**Alternative Contact Methods:**\\\\n- **Phone:** (760) 633-2600 for City Hall\\\\n- **In-Person:** Visit City Hall during business hours: 7:30 A.M. - 5:30 P.M. Mon-Thu and 7:30 A.M. - 4:30 P.M. Fri (Alternating Fridays Closed)\\\\n\\\\nSince parking enforcement in certain areas is handled by ACE Parking (a contractor), you may also want to contact ACE Parking directly at 1-800-925-7275 if the incident involved their personnel.\\\\n\\\\nWhen filing your complaint, be sure to include:\\\\n- The date, time, and exact location of the incident\\\\n- A description of what happened\\\\n- Any witness information if available\\\\n- The officer\\'s badge number or identifying information if you observed it\\\\n\\\\nOnce your complaint is received, staff will respond pursuant to the standards and procedures described in the Code Enforcement Guide.\\\\n\\\\nWould you like me to help you find any additional information about filing this complaint?&quot;}',\n",
       "   'role': 'system'},\n",
       "  {'content': 'User Inquiry: An officer at the parking kiosk at Cottonwood Creek was rude to me.',\n",
       "   'role': 'user'}]}"
      ]
     },
     "execution_count": 22,
     "metadata": {},
     "output_type": "execute_result"
    }
   ],
   "source": [
    "retrieval_synth_prompt = bt.load_prompt(project=BT_PROJECT_NAME, slug=\"web-search-retrieval-synthesis\")\n",
    "\n",
    "_p = retrieval_synth_prompt.build(city=\"Encinitas\", user_inquiry=_example[\"input\"], context=rsp)\n",
    "_p"
   ]
  },
  {
   "cell_type": "code",
   "execution_count": 23,
   "id": "d0f02770",
   "metadata": {},
   "outputs": [
    {
     "name": "stdout",
     "output_type": "stream",
     "text": [
      "Your name is Sunny and you are an expert in providing responses to customer support responses for the city of Encinitas based on the original user inquiry, \n",
      "triage route descriptions, and the context provided.\n",
      "\n",
      "## Instructions\n",
      "- Provide a final answer to the user inquiry ONLY if it is answerable from the \"Context\" provided below.\n",
      "- Using the user's inquiry and the \"Context\" provided below, choose the most specific triage target to route the user to based on the \"Triage Options\" defined below.\n",
      "- If provided, make sure you include any relevant links, phone numbers, emails, or other information from the \"Context\" and how the user can use them to get the information they need.\n",
      "- Use markdown formatting for the full response.\n",
      "- Always direct complaints about personnel to \"human_resources\"\n",
      "\n",
      "## Triage Options    \n",
      "==========\n",
      "Triage Target: public_works\n",
      "Triage Name: Public Works\n",
      "Support Areas: Deceased animals,Graffiti on public property,Water leak (non-emergency),Streetlight outages,Pothole repairs\n",
      "==========\n",
      "Triage Target: code_enforcement\n",
      "Triage Name: Code Enforcement\n",
      "Support Areas: Abandoned vehicles,Illegal signs or banners,Noise complaints,Trash or junk on private property,Homeless overnight camping\n",
      "==========\n",
      "Triage Target: parks_recreation\n",
      "Triage Name: Parks & Recreation\n",
      "Support Areas: Playground issues,Gate issues in parks,Graffiti in park sites,Trail maintenance,Trash or junk in park sites\n",
      "==========\n",
      "Triage Target: homeless_solutions\n",
      "Triage Name: Homeless Solutions\n",
      "Support Areas: Homeless encampments in parks or beaches,Homeless encampments on private property,General inquiries about individuals experiencing homelessness,Reporting aggressive behavior,Need outreach services\n",
      "==========\n",
      "Triage Target: fire_prevention\n",
      "Triage Name: Fire Prevention\n",
      "Support Areas: Fire hazard reporting,Concerns about brush clearance,Fire code violations,Inspection requests,Education requests\n",
      "==========\n",
      "Triage Target: traffic_engineering\n",
      "Triage Name: Traffic Engineering\n",
      "Support Areas: Crosswalk safety,Traffic signal malfunctions,Speeding requests,Parking restrictions,Traffic calming\n",
      "==========\n",
      "Triage Target: san_dieguito_water_district\n",
      "Triage Name: San Dieguito Water District\n",
      "Support Areas: Water billing questions,Emergency leaks,Conservation inquiries,Service maintenance requests,District operations\n",
      "==========\n",
      "Triage Target: san_diego_humane_society\n",
      "Triage Name: San Diego Humane Society\n",
      "Support Areas: Injured animal reports,Lost and found pets,Off-leash animal reports,Animal cruelty concerns,Wildlife entanglement\n",
      "==========\n",
      "Triage Target: san_diego_county_vector_control\n",
      "Triage Name: San Diego County Vector Control\n",
      "Support Areas: Rodent infestations,Mosquito problems,Pest management info,Vector control advice,Standing water hazards\n",
      "==========\n",
      "Triage Target: general\n",
      "Triage Name: General\n",
      "Support Areas: General informational inquiries,How‑to questions,Uncategorized issues,City event info,Municipal code questions\n",
      "==========\n",
      "Triage Target: human_resources\n",
      "Triage Name: Human Resources\n",
      "Support Areas: Complaints about city staff,Customer service feedback,Unprofessional conduct reports,Employment inquiries,Harassment/discrimination complaints\n",
      "==========\n",
      "\n",
      "## Context\n",
      "{'citations': [{'cited_text': 'Code Enforcement 505 S. Vulcan Ave. Encinitas, CA 92024 (760) 633-2685 Email ... Code Enforcement has the responsibility of ensuring compliance with t...', 'title': 'Code Enforcement | City of Encinitas', 'url': 'https://www.encinitasca.gov/i-want-to/requests-hub/code-enforcement-form-761', 'type': 'web_search_result_location'}, {'cited_text': 'Code Enforcement 505 S. Vulcan Ave. Encinitas, CA 92024 (760) 633-2685 Email · Code Enforcement Guide · Campaign Signs FAQ · Parking Citations &amp; Appea...', 'title': 'Code Enforcement | City of Encinitas', 'url': 'https://www.encinitasca.gov/i-want-to/requests-hub/code-enforcement-form-761', 'type': 'web_search_result_location'}, {'cited_text': 'If you witness a violation, please notify Code Enforcement staff by completing an online complaint form. ', 'title': 'Code Enforcement | City of Encinitas', 'url': 'https://www.encinitasca.gov/i-want-to/requests-hub/code-enforcement-form-761', 'type': 'web_search_result_location'}, {'cited_text': '505 S. Vulcan Avenue Encinitas, CA 92024 (760) 633-2600 · Hours: 7:30 A.M. - 5:30 P.M. Mon-Thu 7:30 A.M. - 4:30 P.M. Fri (Alternating Fridays Closed) ...', 'title': 'Hours &amp; Locations | City of Encinitas', 'url': 'https://www.encinitasca.gov/services/contact', 'type': 'web_search_result_location'}, {'cited_text': '505 S. Vulcan Avenue Encinitas, CA 92024 (760) 633-2600 · Hours: 7:30 A.M. - 5:30 P.M. Mon-Thu 7:30 A.M. - 4:30 P.M. Fri (Alternating Fridays Closed) ...', 'title': 'Hours &amp; Locations | City of Encinitas', 'url': 'https://www.encinitasca.gov/services/contact', 'type': 'web_search_result_location'}, {'cited_text': 'You may also contact ACE Parking by phone at 1-800-925-7275. ', 'title': 'ACE Parking - Downtown &amp; Business District Parking Citations | City of Encinitas', 'url': 'https://www.encinitasca.gov/government/departments/development-services/code-enforcement/ace-parking-downtown-business-district-parking-citations', 'type': 'web_search_result_location'}, {'cited_text': 'Once received, staff will respond to the compliant pursuant to the standards and procedures described in the Code Enforcement Guide.', 'title': 'Code Enforcement | City of Encinitas', 'url': 'https://www.encinitasca.gov/i-want-to/requests-hub/code-enforcement-form-761', 'type': 'web_search_result_location'}], 'final_answer': &quot;I'm sorry to hear about your negative experience with the parking officer at Cottonwood Creek. I can help you file a complaint about this incident.\\n\\nBased on the information I found, here's how you can address this issue:\\n\\n**For Parking-Related Complaints:**\\nYou should contact Code Enforcement at the City of Encinitas, located at 505 S. Vulcan Ave. Encinitas, CA 92024. You can reach them at (760) 633-2685 or by email.\\n\\n**How to File a Complaint:**\\nYou can notify Code Enforcement staff by completing an online complaint form, which can be found on the City's website at https://www.encinitasca.gov/i-want-to/requests-hub/code-enforcement-form-761.\\n\\n**Alternative Contact Methods:**\\n- **Phone:** (760) 633-2600 for City Hall\\n- **In-Person:** Visit City Hall during business hours: 7:30 A.M. - 5:30 P.M. Mon-Thu and 7:30 A.M. - 4:30 P.M. Fri (Alternating Fridays Closed)\\n\\nSince parking enforcement in certain areas is handled by ACE Parking (a contractor), you may also want to contact ACE Parking directly at 1-800-925-7275 if the incident involved their personnel.\\n\\nWhen filing your complaint, be sure to include:\\n- The date, time, and exact location of the incident\\n- A description of what happened\\n- Any witness information if available\\n- The officer's badge number or identifying information if you observed it\\n\\nOnce your complaint is received, staff will respond pursuant to the standards and procedures described in the Code Enforcement Guide.\\n\\nWould you like me to help you find any additional information about filing this complaint?&quot;}\n"
     ]
    }
   ],
   "source": [
    "print(_p[\"messages\"][0][\"content\"])"
   ]
  },
  {
   "cell_type": "markdown",
   "id": "f5ac94a1",
   "metadata": {},
   "source": [
    "#### Structured Output Definition\n"
   ]
  },
  {
   "cell_type": "code",
   "execution_count": 24,
   "id": "87a81171",
   "metadata": {},
   "outputs": [],
   "source": [
    "class CustomerSupportResponse(BaseModel):\n",
    "    \"\"\"The response from the customer support agent.\"\"\"\n",
    "\n",
    "    def convert_str_to_triage_target(v: str) -> str:  # type: ignore\n",
    "        \"\"\"Ensure entity type is a valid enum.\"\"\"\n",
    "        if v in triage_targets:\n",
    "            return v\n",
    "        else:\n",
    "            try:\n",
    "                match, score = fuzzy_process.extractOne(v.upper(), [s.upper() for s in triage_targets])  # type: ignore\n",
    "                return match if score >= 80 else \"General\"\n",
    "            except ValueError:\n",
    "                return \"General\"\n",
    "\n",
    "    chain_of_thought: str = Field(\n",
    "        ...,\n",
    "        description=\"Explain your decision about whether this question is answerable and why you chose to route it to the triage contact you chose\",\n",
    "    )\n",
    "    is_answerable_from_context: bool = Field(\n",
    "        ..., description=\"Whether the given response can answer the question from the context provided\"\n",
    "    )\n",
    "    requires_follow_up: bool = Field(\n",
    "        ...,\n",
    "        description=\"Whether the inquiry requires follow-up from the triage contact\",\n",
    "    )\n",
    "    requires_location: bool = Field(\n",
    "        ...,\n",
    "        description=\"Whether the inquiry requires the user to provide their location to be resolved by the triage contact\",\n",
    "    )\n",
    "    requires_photo_or_video: bool = Field(\n",
    "        ...,\n",
    "        description=\"Whether the inquiry requires the user to provide a photo or video to be resolved by the triage contact\",\n",
    "    )\n",
    "    requires_user_contact_info: bool = Field(\n",
    "        ...,\n",
    "        description=\"Whether the inquiry requires the user to provide their contact information to be resolved by the triage contact\",\n",
    "    )\n",
    "    full_response: str = Field(\n",
    "        ...,\n",
    "        description=\"The detailed answer to the question based on the context provided\",\n",
    "    )\n",
    "    final_answer: str = Field(\n",
    "        ...,\n",
    "        description=\"A succinct and concise answer to the question based on the context provided\",\n",
    "    )\n",
    "    route_to: Annotated[Literal[*triage_targets], BeforeValidator(convert_str_to_triage_target)]  # type: ignore\n"
   ]
  },
  {
   "cell_type": "markdown",
   "id": "b2ca595a",
   "metadata": {},
   "source": [
    "#### Task\n"
   ]
  },
  {
   "cell_type": "code",
   "execution_count": 25,
   "id": "f358201b",
   "metadata": {},
   "outputs": [],
   "source": [
    "class MODEL_VENDOR(str, enum.Enum):\n",
    "    ANTHROPIC = \"anthropic\"\n",
    "    OPENAI = \"openai\""
   ]
  },
  {
   "cell_type": "code",
   "execution_count": 26,
   "id": "9a4eabdd",
   "metadata": {},
   "outputs": [],
   "source": [
    "@bt.traced()\n",
    "def synthesize_retrieval(\n",
    "    user_inquiry: str,\n",
    "    retrieval_response: str,\n",
    "    city: str,\n",
    "    vendor: MODEL_VENDOR = MODEL_VENDOR.ANTHROPIC,\n",
    "    model=\"claude-sonnet-4-20250514\",\n",
    "    model_kwargs={},\n",
    ") -> CustomerSupportResponse:\n",
    "    \"\"\"Synthesize the retrieval results into a final answer.\"\"\"\n",
    "\n",
    "    prompt = retrieval_synth_prompt.build(city=city, user_inquiry=user_inquiry, context=retrieval_response)\n",
    "\n",
    "    rsp = None\n",
    "    if vendor == MODEL_VENDOR.ANTHROPIC:\n",
    "        tools = [\n",
    "            {\n",
    "                \"name\": \"customer_support_response\",\n",
    "                \"description\": \"Build CustomerSupportResponse object\",\n",
    "                \"input_schema\": CustomerSupportResponse.model_json_schema(),\n",
    "            }\n",
    "        ]\n",
    "        rsp = wrapped_ac_client.messages.create(\n",
    "            model=model,\n",
    "            system=prompt[\"messages\"].pop(0)[\"content\"],  # type: ignore\n",
    "            messages=prompt[\"messages\"],\n",
    "            tools=tools,\n",
    "            tool_choice={\"type\": \"tool\", \"name\": \"customer_support_response\"},\n",
    "            **model_kwargs,\n",
    "        )\n",
    "        return CustomerSupportResponse(**rsp.content[0].input)\n",
    "\n",
    "    elif vendor == MODEL_VENDOR.OPENAI:\n",
    "        result = wrapped_oai_client.beta.chat.completions.parse(\n",
    "            model=\"gpt-4o\",\n",
    "            messages=prompt[\"messages\"],\n",
    "            response_format=CustomerSupportResponse,\n",
    "            **model_kwargs,\n",
    "        )\n",
    "        return result.choices[0].message.parsed\n",
    "\n",
    "    else:\n",
    "        raise ValueError(f\"Invalid vendor: {vendor}\")\n"
   ]
  },
  {
   "cell_type": "code",
   "execution_count": 27,
   "id": "771d21b2",
   "metadata": {},
   "outputs": [
    {
     "data": {
      "text/plain": [
       "\"I'm sorry to hear about your negative experience with the officer at the parking kiosk at Cottonwood Creek. This type of conduct is certainly not acceptable, and the city should be made aware of this issue.\\n\\nTo file a complaint about the officer's behavior, here are your options:\\n\\n**For Code Enforcement/Parking Officer Complaints:**\\nContact Code Enforcement at 505 S. Vulcan Ave. Encinitas, CA 92024 or call (760) 633-2685, or you can email them directly.\\n\\n**Filing a Citizen Complaint:**\\nYou can also file a complaint through the City's Code Enforcement complaint process. There's a Citizen Complaint Form available on the city's website at: https://www.encinitasca.gov/government/departments/development-services/code-enforcement/filing-a-complaint/citizen-complaint-form\\n\\n**Additional Contact Information:**\\n- Phone: (760) 943-2299 (this number is used for parking citation inquiries but may also help route your complaint)\\n- Address: City of Encinitas, Attention: Code Enforcement, 505 S Vulcan Avenue, Encinitas, CA 92024\\n\\nWhen filing your complaint, be sure to include:\\n- Date and time of the incident\\n- Location (Cottonwood Creek parking kiosk)\\n- Description of what happened and the officer's behavior\\n- Any other relevant details that might help with the investigation\\n\\nThe city takes these matters seriously and should investigate your complaint to ensure proper conduct by their personnel. I recommend filing the complaint as soon as possible while the details are fresh in your memory.\""
      ]
     },
     "execution_count": 27,
     "metadata": {},
     "output_type": "execute_result"
    }
   ],
   "source": [
    "parsed[\"final_answer\"]"
   ]
  },
  {
   "cell_type": "markdown",
   "id": "635944e7",
   "metadata": {},
   "source": [
    "Let's try it with Anthropic\n"
   ]
  },
  {
   "cell_type": "code",
   "execution_count": 28,
   "id": "10b1cab1",
   "metadata": {},
   "outputs": [
    {
     "data": {
      "text/plain": [
       "CustomerSupportResponse(chain_of_thought='This inquiry involves a complaint about the conduct of a city officer (parking enforcement officer). The user is reporting rude behavior from an officer at the Cottonwood Creek parking kiosk. According to the instructions, complaints about personnel should always be directed to \"human_resources\". The context provided contains detailed information about how to file complaints about officer behavior, including specific contact information and forms, making this inquiry fully answerable from the context.', is_answerable_from_context=True, requires_follow_up=True, requires_location=False, requires_photo_or_video=False, requires_user_contact_info=False, full_response=\"I'm sorry to hear about your negative experience with the officer at the parking kiosk at Cottonwood Creek. This type of conduct is certainly not acceptable, and the city should be made aware of this issue.\\n\\nTo file a complaint about the officer's behavior, here are your options:\\n\\n**For Code Enforcement/Parking Officer Complaints:**\\nContact Code Enforcement at 505 S. Vulcan Ave. Encinitas, CA 92024 or call (760) 633-2685, or you can email them directly.\\n\\n**Filing a Citizen Complaint:**\\nYou can also file a complaint through the City's Code Enforcement complaint process. There's a Citizen Complaint Form available on the city's website at: https://www.encinitasca.gov/government/departments/development-services/code-enforcement/filing-a-complaint/citizen-complaint-form\\n\\n**Additional Contact Information:**\\n- Phone: (760) 943-2299 (this number is used for parking citation inquiries but may also help route your complaint)\\n- Address: City of Encinitas, Attention: Code Enforcement, 505 S Vulcan Avenue, Encinitas, CA 92024\\n\\nWhen filing your complaint, be sure to include:\\n- Date and time of the incident\\n- Location (Cottonwood Creek parking kiosk)\\n- Description of what happened and the officer's behavior\\n- Any other relevant details that might help with the investigation\\n\\nThe city takes these matters seriously and should investigate your complaint to ensure proper conduct by their personnel. I recommend filing the complaint as soon as possible while the details are fresh in your memory.\", final_answer=\"You can file a complaint about the rude officer through Code Enforcement at (760) 633-2685 or using the Citizen Complaint Form at https://www.encinitasca.gov/government/departments/development-services/code-enforcement/filing-a-complaint/citizen-complaint-form. Include details about the date, time, location, and the officer's behavior when filing your complaint.\", route_to='human_resources')"
      ]
     },
     "execution_count": 28,
     "metadata": {},
     "output_type": "execute_result"
    }
   ],
   "source": [
    "rsp = synthesize_retrieval(\n",
    "    user_inquiry=_example[\"input\"],\n",
    "    retrieval_response=parsed[\"final_answer\"],\n",
    "    city=\"Encinitas\",\n",
    "    model_kwargs={\"max_tokens\": 1024},\n",
    ")\n",
    "rsp"
   ]
  },
  {
   "cell_type": "code",
   "execution_count": 29,
   "id": "c3034118",
   "metadata": {},
   "outputs": [
    {
     "data": {
      "text/plain": [
       "{'chain_of_thought': 'This inquiry involves a complaint about the conduct of a city officer (parking enforcement officer). The user is reporting rude behavior from an officer at the Cottonwood Creek parking kiosk. According to the instructions, complaints about personnel should always be directed to \"human_resources\". The context provided contains detailed information about how to file complaints about officer behavior, including specific contact information and forms, making this inquiry fully answerable from the context.',\n",
       " 'is_answerable_from_context': True,\n",
       " 'requires_follow_up': True,\n",
       " 'requires_location': False,\n",
       " 'requires_photo_or_video': False,\n",
       " 'requires_user_contact_info': False,\n",
       " 'full_response': \"I'm sorry to hear about your negative experience with the officer at the parking kiosk at Cottonwood Creek. This type of conduct is certainly not acceptable, and the city should be made aware of this issue.\\n\\nTo file a complaint about the officer's behavior, here are your options:\\n\\n**For Code Enforcement/Parking Officer Complaints:**\\nContact Code Enforcement at 505 S. Vulcan Ave. Encinitas, CA 92024 or call (760) 633-2685, or you can email them directly.\\n\\n**Filing a Citizen Complaint:**\\nYou can also file a complaint through the City's Code Enforcement complaint process. There's a Citizen Complaint Form available on the city's website at: https://www.encinitasca.gov/government/departments/development-services/code-enforcement/filing-a-complaint/citizen-complaint-form\\n\\n**Additional Contact Information:**\\n- Phone: (760) 943-2299 (this number is used for parking citation inquiries but may also help route your complaint)\\n- Address: City of Encinitas, Attention: Code Enforcement, 505 S Vulcan Avenue, Encinitas, CA 92024\\n\\nWhen filing your complaint, be sure to include:\\n- Date and time of the incident\\n- Location (Cottonwood Creek parking kiosk)\\n- Description of what happened and the officer's behavior\\n- Any other relevant details that might help with the investigation\\n\\nThe city takes these matters seriously and should investigate your complaint to ensure proper conduct by their personnel. I recommend filing the complaint as soon as possible while the details are fresh in your memory.\",\n",
       " 'final_answer': \"You can file a complaint about the rude officer through Code Enforcement at (760) 633-2685 or using the Citizen Complaint Form at https://www.encinitasca.gov/government/departments/development-services/code-enforcement/filing-a-complaint/citizen-complaint-form. Include details about the date, time, location, and the officer's behavior when filing your complaint.\",\n",
       " 'route_to': 'human_resources'}"
      ]
     },
     "execution_count": 29,
     "metadata": {},
     "output_type": "execute_result"
    }
   ],
   "source": [
    "rsp.model_dump()"
   ]
  },
  {
   "cell_type": "markdown",
   "id": "f161297a",
   "metadata": {},
   "source": [
    "Let's try it with OpenAI\n"
   ]
  },
  {
   "cell_type": "code",
   "execution_count": 30,
   "id": "ac437e32",
   "metadata": {},
   "outputs": [
    {
     "data": {
      "text/plain": [
       "CustomerSupportResponse(chain_of_thought=\"The inquiry relates to a complaint about the behavior of a city staff member, which falls under the jurisdiction of Code Enforcement. The context provides detailed guidance on how to file a complaint regarding an officer's behavior at the parking kiosk.\", is_answerable_from_context=True, requires_follow_up=True, requires_location=False, requires_photo_or_video=False, requires_user_contact_info=True, full_response=\"I'm sorry to hear about your negative experience with the officer at the parking kiosk at Cottonwood Creek. Such conduct is certainly not acceptable, and the city should be made aware of this issue.\\n\\nTo file a complaint about the officer's behavior, you have a few options:\\n\\n1. **Contact Code Enforcement:**\\n   - Address: 505 S. Vulcan Ave., Encinitas, CA 92024\\n   - Phone: (760) 633-2685\\n   - Email: [Code Enforcement Email] (Contact information can be found on their website)\\n\\n2. **Filing a Citizen Complaint:**\\n   - Use the Citizen Complaint Form available on the city's website: [Citizen Complaint Form](https://www.encinitasca.gov/government/departments/development-services/code-enforcement/filing-a-complaint/citizen-complaint-form)\\n\\n3. **Additional Contact Information:**\\n   - Phone: (760) 943-2299 (this number is used for parking citation inquiries but may also route your complaint)\\n   - Mailing Address: City of Encinitas, Attention: Code Enforcement, 505 S Vulcan Avenue, Encinitas, CA 92024\\n\\nWhen filing your complaint, be sure to include details like the date and time of the incident, location, a description of what happened, and any other relevant details that might help with the investigation.\\n\\nThis situation requires a follow-up, and your contact information is necessary for the city to further address the complaint.\", final_answer=\"To file a complaint about the officer at Cottonwood Creek, contact Code Enforcement at (760) 633-2685 or use the Citizen Complaint Form on the city's website.\", route_to='code_enforcement')"
      ]
     },
     "execution_count": 30,
     "metadata": {},
     "output_type": "execute_result"
    }
   ],
   "source": [
    "rsp = synthesize_retrieval(\n",
    "    user_inquiry=_example[\"input\"],\n",
    "    retrieval_response=parsed[\"final_answer\"],\n",
    "    city=\"Encinitas\",\n",
    "    vendor=MODEL_VENDOR.OPENAI,\n",
    "    model=\"gpt-4o-mini\",\n",
    "    model_kwargs={},\n",
    ")\n",
    "rsp"
   ]
  },
  {
   "cell_type": "code",
   "execution_count": 31,
   "id": "cb3d675c",
   "metadata": {},
   "outputs": [
    {
     "data": {
      "text/plain": [
       "{'chain_of_thought': \"The inquiry relates to a complaint about the behavior of a city staff member, which falls under the jurisdiction of Code Enforcement. The context provides detailed guidance on how to file a complaint regarding an officer's behavior at the parking kiosk.\",\n",
       " 'is_answerable_from_context': True,\n",
       " 'requires_follow_up': True,\n",
       " 'requires_location': False,\n",
       " 'requires_photo_or_video': False,\n",
       " 'requires_user_contact_info': True,\n",
       " 'full_response': \"I'm sorry to hear about your negative experience with the officer at the parking kiosk at Cottonwood Creek. Such conduct is certainly not acceptable, and the city should be made aware of this issue.\\n\\nTo file a complaint about the officer's behavior, you have a few options:\\n\\n1. **Contact Code Enforcement:**\\n   - Address: 505 S. Vulcan Ave., Encinitas, CA 92024\\n   - Phone: (760) 633-2685\\n   - Email: [Code Enforcement Email] (Contact information can be found on their website)\\n\\n2. **Filing a Citizen Complaint:**\\n   - Use the Citizen Complaint Form available on the city's website: [Citizen Complaint Form](https://www.encinitasca.gov/government/departments/development-services/code-enforcement/filing-a-complaint/citizen-complaint-form)\\n\\n3. **Additional Contact Information:**\\n   - Phone: (760) 943-2299 (this number is used for parking citation inquiries but may also route your complaint)\\n   - Mailing Address: City of Encinitas, Attention: Code Enforcement, 505 S Vulcan Avenue, Encinitas, CA 92024\\n\\nWhen filing your complaint, be sure to include details like the date and time of the incident, location, a description of what happened, and any other relevant details that might help with the investigation.\\n\\nThis situation requires a follow-up, and your contact information is necessary for the city to further address the complaint.\",\n",
       " 'final_answer': \"To file a complaint about the officer at Cottonwood Creek, contact Code Enforcement at (760) 633-2685 or use the Citizen Complaint Form on the city's website.\",\n",
       " 'route_to': 'code_enforcement'}"
      ]
     },
     "execution_count": 31,
     "metadata": {},
     "output_type": "execute_result"
    }
   ],
   "source": [
    "rsp.model_dump()"
   ]
  },
  {
   "cell_type": "markdown",
   "id": "9d9c572f",
   "metadata": {},
   "source": [
    "### Customer Support Task\n",
    "\n",
    "Let's put our entire workflow together under the `ask_customer_support` task\n"
   ]
  },
  {
   "cell_type": "code",
   "execution_count": 32,
   "id": "8f3b7ec5",
   "metadata": {},
   "outputs": [],
   "source": [
    "@bt.traced()\n",
    "def ask_customer_support(\n",
    "    user_inquiry: str,\n",
    "    city: str,\n",
    "    search_model: str = \"claude-sonnet-4-20250514\",\n",
    "    synthesis_model: str = \"gpt-4o\",\n",
    "    synthesis_vendor: MODEL_VENDOR = MODEL_VENDOR.OPENAI,\n",
    "    search_model_kwargs={\"max_tokens\": 2048, \"thinking\": {\"type\": \"enabled\", \"budget_tokens\": 1024}},\n",
    "    synthesis_model_kwargs: dict = {},\n",
    ") -> CustomerSupportResponse:\n",
    "    \"\"\"Ask the customer support agent a question.\"\"\"\n",
    "\n",
    "    search_results = ac_web_search(user_inquiry, city, model=search_model, model_kwargs=search_model_kwargs)\n",
    "    customer_support_resp = synthesize_retrieval(\n",
    "        user_inquiry=user_inquiry,\n",
    "        retrieval_response=search_results[\"final_answer\"],\n",
    "        city=city,\n",
    "        vendor=synthesis_vendor,\n",
    "        model=synthesis_model,\n",
    "        model_kwargs=synthesis_model_kwargs,\n",
    "    )\n",
    "\n",
    "    return customer_support_resp"
   ]
  },
  {
   "cell_type": "markdown",
   "id": "2dc20a06",
   "metadata": {},
   "source": [
    "Let's test how this works with a few questions\n"
   ]
  },
  {
   "cell_type": "code",
   "execution_count": 33,
   "id": "3dbeccaf",
   "metadata": {},
   "outputs": [
    {
     "data": {
      "text/plain": [
       "56"
      ]
     },
     "execution_count": 33,
     "metadata": {},
     "output_type": "execute_result"
    }
   ],
   "source": [
    "len(test_data)"
   ]
  },
  {
   "cell_type": "code",
   "execution_count": 34,
   "id": "0fef6030",
   "metadata": {},
   "outputs": [],
   "source": [
    "def process_single_request(example):\n",
    "    \"\"\"Process a single customer support request.\"\"\"\n",
    "    city = \"Encinitas\"\n",
    "\n",
    "    with bt.start_span(name=\"request_support_task\") as span:\n",
    "        span.log(input=example[\"input\"])\n",
    "        customer_support_resp = ask_customer_support(\n",
    "            user_inquiry=example[\"input\"],\n",
    "            city=city,\n",
    "            search_model=\"claude-sonnet-4-20250514\",\n",
    "            synthesis_model=\"gpt-4o-mini\",\n",
    "            synthesis_vendor=MODEL_VENDOR.OPENAI,\n",
    "            search_model_kwargs={\"max_tokens\": 2048, \"thinking\": {\"type\": \"enabled\", \"budget_tokens\": 1024}},\n",
    "            synthesis_model_kwargs={},\n",
    "        )\n",
    "\n",
    "        metadata = example.get(\"metadata\", {})\n",
    "        filtered_metadata = {\n",
    "            \"id\": metadata.get(\"id\"),\n",
    "            \"query_source\": metadata.get(\"query_source\"),\n",
    "            \"triage_slug\": metadata.get(\"triage_slug\"),\n",
    "        }\n",
    "\n",
    "        span.log(output=customer_support_resp, metadata=filtered_metadata)\n",
    "        return customer_support_resp"
   ]
  },
  {
   "cell_type": "code",
   "execution_count": 35,
   "id": "3786536f",
   "metadata": {},
   "outputs": [
    {
     "name": "stdout",
     "output_type": "stream",
     "text": [
      "Processing 56 customer support requests in parallel...\n",
      "Completed processing 5 requests!\n"
     ]
    }
   ],
   "source": [
    "# Run all test data in parallel\n",
    "print(f\"Processing {len(test_data)} customer support requests in parallel...\")\n",
    "timestamp = datetime.now().strftime(\"%Y%m%d_%H%M\")\n",
    "\n",
    "with ThreadPoolExecutor(max_workers=MAX_WORKERS) as executor:\n",
    "    results = list(executor.map(process_single_request, test_data[:5]))\n",
    "\n",
    "print(f\"Completed processing {len(results)} requests!\")"
   ]
  },
  {
   "cell_type": "markdown",
   "id": "411cd063",
   "metadata": {},
   "source": [
    "Once we have our traces logged we can move them into a \"golden [dataset](https://www.braintrust.dev/docs/guides/datasets)\" for the purpose of building evals on.\n",
    "\n",
    "We'll do this in the Braintrust UI and then fetch it to use here ...\n"
   ]
  },
  {
   "cell_type": "code",
   "execution_count": 36,
   "id": "ab918501",
   "metadata": {},
   "outputs": [],
   "source": [
    "ds = bt.init_dataset(project=BT_PROJECT_NAME, name=\"initial_error_analysis\")\n",
    "rows = list(ds)[:5]"
   ]
  },
  {
   "cell_type": "code",
   "execution_count": 37,
   "id": "524c8e7c",
   "metadata": {},
   "outputs": [
    {
     "data": {
      "text/plain": [
       "{'_pagination_key': 'p07528570527535661060',\n",
       " '_xact_id': '1000195469122582589',\n",
       " 'created': '2025-07-18T23:38:41.580Z',\n",
       " 'dataset_id': '6f23f7c5-79ce-413b-ad2f-5464221e0f14',\n",
       " 'expected': {'chain_of_thought': 'The inquiry involves potential fire hazards related to sparks from a grill near dry vegetation. This is a fire prevention issue, and the provided context specifically outlines options for reporting fire hazards.',\n",
       "  'final_answer': 'Please report the potential fire hazard with sparks from a grill to Encinitas Fire Prevention by using the MyEncinitas App, the web portal, or calling (760) 633-2820 for immediate attention.',\n",
       "  'full_response': \"Thank you for reporting this potential fire hazard. Since you've noticed sparks from a grill near dry vegetation, it is essential to address this promptly. Please report this fire hazard using the following options for the quickest response:\\n\\n1. **MyEncinitas App**: You can download the app from the Google Play or App Store to report directly.\\n2. **Web Portal**: Submit the report via the city's website.\\n3. **Direct Call**: Contact Encinitas Fire Prevention directly at (760) 633-2820 or email fireprevention@encinitasca.gov for immediate attention.\\n\\nEnsuring prompt attention to such hazards is crucial, especially given current fire conditions in Southern California. Thank you for being vigilant about fire safety in our community!\",\n",
       "  'is_answerable_from_context': True,\n",
       "  'requires_follow_up': True,\n",
       "  'requires_location': True,\n",
       "  'requires_photo_or_video': False,\n",
       "  'requires_user_contact_info': False,\n",
       "  'route_to': 'fire_prevention'},\n",
       " 'id': 'f4ae8950-5603-41ea-bcc4-68a2121a602b',\n",
       " 'input': 'I saw sparks from a grill left near dry vegetation—possible hazard.',\n",
       " 'is_root': True,\n",
       " 'metadata': {'id': '20250716_1728_087',\n",
       "  'query_source': 'handcoded',\n",
       "  'triage_slug': 'fire_prevention'},\n",
       " 'origin': {'_xact_id': '1000195469116654810',\n",
       "  'id': 'f4ae8950-5603-41ea-bcc4-68a2121a602b',\n",
       "  'object_id': 'b3adadab-154b-4474-ad2d-820167938213',\n",
       "  'object_type': 'project_logs'},\n",
       " 'project_id': 'b3adadab-154b-4474-ad2d-820167938213',\n",
       " 'root_span_id': 'f4ae8950-5603-41ea-bcc4-68a2121a602b',\n",
       " 'span_id': 'f4ae8950-5603-41ea-bcc4-68a2121a602b',\n",
       " 'tags': None}"
      ]
     },
     "execution_count": 37,
     "metadata": {},
     "output_type": "execute_result"
    }
   ],
   "source": [
    "row = rows[0]\n",
    "row"
   ]
  },
  {
   "cell_type": "markdown",
   "id": "df38b8b0",
   "metadata": {},
   "source": [
    "## Scoring\n",
    "\n",
    "So we have our `task` and our `data`, all we need now to start building evals is a way to score how well our task did on each input in our dataset.\n",
    "\n",
    "Braintrust, comes with a number of helpful scorers out of the box via our Autoevals library. Fun fact, you can use them outside of Braintrust as well. In addition to these scoring functions, we can define our own as demonstrated below where we configure a reference-based scorerer to see how well the task predicts the right contact to route the inquiry too (if available)\n"
   ]
  },
  {
   "cell_type": "code",
   "execution_count": 38,
   "id": "eed0565d",
   "metadata": {},
   "outputs": [],
   "source": [
    "def is_correct_triage_contact(\n",
    "    input: str | None = None,\n",
    "    expected: dict | None = None,\n",
    "    output: CustomerSupportResponse | None = None,\n",
    "    metadata: dict | None = None,\n",
    "    **kwargs,\n",
    ") -> int | None:\n",
    "    if output and metadata and metadata.get(\"triage_slug\"):\n",
    "        return int(output.route_to == metadata.get(\"triage_slug\"))\n",
    "\n",
    "    if output and expected:\n",
    "        return int(expected[\"route_to\"] == output.route_to)\n",
    "\n",
    "    return None"
   ]
  },
  {
   "cell_type": "code",
   "execution_count": 39,
   "id": "591d49ab",
   "metadata": {},
   "outputs": [
    {
     "data": {
      "text/plain": [
       "1"
      ]
     },
     "execution_count": 39,
     "metadata": {},
     "output_type": "execute_result"
    }
   ],
   "source": [
    "is_correct_triage_contact(\n",
    "    input=row.get(\"input\", \"\"),\n",
    "    output=CustomerSupportResponse.model_validate(row.get(\"expected\", {})),\n",
    "    expected=row.get(\"expected\", None),\n",
    "    metadata=row.get(\"metadata\", None),  # type: ignore\n",
    ")"
   ]
  },
  {
   "cell_type": "markdown",
   "id": "a27232a6",
   "metadata": {},
   "source": [
    "## Evals\n",
    "\n",
    "We now have the 3 things required for run an offline eval, a.k.a. an [experiment](https://www.braintrust.dev/docs/guides/experiments)\n",
    "\n",
    "**Data**: Handcoded and Synthetic customer support requests/inquiries \\\n",
    "**Task**: A customer support task that uses two subtasks to route and attempt to answer the request \\\n",
    "**Scorers**: An initial reference-based scorer that scores the response on whether it routed the request to the right contact\n"
   ]
  },
  {
   "cell_type": "code",
   "execution_count": 40,
   "id": "1ffe8eb7",
   "metadata": {},
   "outputs": [
    {
     "name": "stderr",
     "output_type": "stream",
     "text": [
      "Skipping git metadata. This is likely because the repository has not been published to a remote yet. Remote named 'origin' didn't exist\n",
      "Experiment initial_error_analysis_20250718_1639 is running at https://www.braintrust.dev/app/braintrustdata.com/p/wayde-ai-evals-course-2025/experiments/initial_error_analysis_20250718_1639\n",
      "wayde-ai-evals-course-2025 [experiment_name=initial_error_analysis_20250718_1639] (data): 5it [00:00, 45789.34it/s]\n",
      "wayde-ai-evals-course-2025 [experiment_name=initial_error_analysis_20250718_1639] (tasks): 100%|██████████| 5/5 [00:21<00:00,  4.39s/it]\n"
     ]
    },
    {
     "name": "stdout",
     "output_type": "stream",
     "text": [
      "\n",
      "=========================SUMMARY=========================\n",
      "initial_error_analysis_20250718_1639 compared to add_queries_it_20250718_1530:\n",
      "80.00% 'is_correct_triage_contact' score\n",
      "\n",
      "1752881973.00s start\n",
      "1752881991.36s end\n",
      "18.34s duration\n",
      "18.32s llm_duration\n",
      "13131.20tok prompt_tokens\n",
      "914.60tok completion_tokens\n",
      "14045.80tok total_tokens\n",
      "0.05$ estimated_cost\n",
      "0tok prompt_cached_tokens\n",
      "0tok prompt_cache_creation_tokens\n",
      "\n",
      "See results for initial_error_analysis_20250718_1639 at https://www.braintrust.dev/app/braintrustdata.com/p/wayde-ai-evals-course-2025/experiments/initial_error_analysis_20250718_1639\n"
     ]
    },
    {
     "data": {
      "text/plain": [
       "EvalResultWithSummary(summary=\"...\", results=[...])"
      ]
     },
     "execution_count": 40,
     "metadata": {},
     "output_type": "execute_result"
    }
   ],
   "source": [
    "timestamp = datetime.now().strftime(\"%Y%m%d_%H%M\")\n",
    "\n",
    "exp_metadata = {\n",
    "    \"city\": \"Encinitas\",\n",
    "    \"search_model\": \"claude-sonnet-4-20250514\",\n",
    "    \"synthesis_model\": \"gpt-4o-mini\",\n",
    "    \"synthesis_vendor\": MODEL_VENDOR.OPENAI,\n",
    "    \"search_model_kwargs\": {\"max_tokens\": 2048, \"thinking\": {\"type\": \"enabled\", \"budget_tokens\": 1024}},\n",
    "    \"synthesis_model_kwargs\": {\"temperature\": 0.75},\n",
    "}\n",
    "await bt.EvalAsync(\n",
    "    name=BT_PROJECT_NAME,\n",
    "    experiment_name=f\"initial_error_analysis_{timestamp}\",\n",
    "    data=rows,  # type: ignore\n",
    "    task=partial(ask_customer_support, **exp_metadata),\n",
    "    metadata=exp_metadata,\n",
    "    scores=[is_correct_triage_contact],  # type: ignore\n",
    ")"
   ]
  },
  {
   "cell_type": "markdown",
   "id": "62270324",
   "metadata": {},
   "source": [
    "We can now start iterating on this failure mode.\n",
    "\n",
    "We can do so in all kinds of ways. We can change the models and or generation kwargs, we can improve the prompts, and so forth.\n"
   ]
  },
  {
   "cell_type": "code",
   "execution_count": 41,
   "id": "04190b13",
   "metadata": {},
   "outputs": [
    {
     "name": "stderr",
     "output_type": "stream",
     "text": [
      "Skipping git metadata. This is likely because the repository has not been published to a remote yet. Remote named 'origin' didn't exist\n",
      "Experiment initial_error_analysis_20250718_1642 is running at https://www.braintrust.dev/app/braintrustdata.com/p/wayde-ai-evals-course-2025/experiments/initial_error_analysis_20250718_1642\n",
      "wayde-ai-evals-course-2025 [experiment_name=initial_error_analysis_20250718_1642] (data): 5it [00:00, 27813.69it/s]\n",
      "wayde-ai-evals-course-2025 [experiment_name=initial_error_analysis_20250718_1642] (tasks): 100%|██████████| 5/5 [00:25<00:00,  5.14s/it]\n"
     ]
    },
    {
     "name": "stdout",
     "output_type": "stream",
     "text": [
      "\n",
      "=========================SUMMARY=========================\n",
      "initial_error_analysis_20250718_1642 compared to initial_error_analysis_20250718_1639:\n",
      "80.00% (-) 'is_correct_triage_contact' score\t(0 improvements, 0 regressions)\n",
      "\n",
      "1752882130.22s start\n",
      "1752882148.94s end\n",
      "18.69s (+35.16%) 'duration'                    \t(3 improvements, 2 regressions)\n",
      "18.66s (+34.01%) 'llm_duration'                \t(3 improvements, 2 regressions)\n",
      "15782.60tok (+265140.00%) 'prompt_tokens'               \t(1 improvements, 4 regressions)\n",
      "944.80tok (+3020.00%) 'completion_tokens'           \t(2 improvements, 3 regressions)\n",
      "16727.40tok (+268160.00%) 'total_tokens'                \t(1 improvements, 4 regressions)\n",
      "0.06$ (+00.83%) 'estimated_cost'              \t(2 improvements, 3 regressions)\n",
      "0tok (-) 'prompt_cached_tokens'        \t(0 improvements, 0 regressions)\n",
      "0tok (-) 'prompt_cache_creation_tokens'\t(0 improvements, 0 regressions)\n",
      "\n",
      "See results for initial_error_analysis_20250718_1642 at https://www.braintrust.dev/app/braintrustdata.com/p/wayde-ai-evals-course-2025/experiments/initial_error_analysis_20250718_1642\n"
     ]
    },
    {
     "data": {
      "text/plain": [
       "EvalResultWithSummary(summary=\"...\", results=[...])"
      ]
     },
     "execution_count": 41,
     "metadata": {},
     "output_type": "execute_result"
    }
   ],
   "source": [
    "timestamp = datetime.now().strftime(\"%Y%m%d_%H%M\")\n",
    "what_changed = \"fixed routing error in dataset\"\n",
    "\n",
    "exp_metadata = {\n",
    "    \"city\": \"Encinitas\",\n",
    "    \"search_model\": \"claude-sonnet-4-20250514\",\n",
    "    \"synthesis_model\": \"gpt-4o-mini\",\n",
    "    \"synthesis_vendor\": MODEL_VENDOR.OPENAI,\n",
    "    \"search_model_kwargs\": {\"max_tokens\": 2048, \"thinking\": {\"type\": \"enabled\", \"budget_tokens\": 1024}},\n",
    "    \"synthesis_model_kwargs\": {\"temperature\": 0.75},\n",
    "}\n",
    "await bt.EvalAsync(\n",
    "    name=BT_PROJECT_NAME,\n",
    "    experiment_name=f\"initial_error_analysis_{timestamp}\",\n",
    "    data=rows,  # type: ignore\n",
    "    task=partial(ask_customer_support, **exp_metadata),\n",
    "    metadata={**exp_metadata, \"what_changed\": what_changed},\n",
    "    scores=[is_correct_triage_contact],  # type: ignore\n",
    ")"
   ]
  },
  {
   "cell_type": "markdown",
   "id": "d2dc182c",
   "metadata": {},
   "source": [
    "## Fin\n"
   ]
  },
  {
   "cell_type": "markdown",
   "id": "8d336b3a",
   "metadata": {},
   "source": []
  }
 ],
 "metadata": {
  "kernelspec": {
   "display_name": ".venv",
   "language": "python",
   "name": "python3"
  },
  "language_info": {
   "codemirror_mode": {
    "name": "ipython",
    "version": 3
   },
   "file_extension": ".py",
   "mimetype": "text/x-python",
   "name": "python",
   "nbconvert_exporter": "python",
   "pygments_lexer": "ipython3",
   "version": "3.12.11"
  }
 },
 "nbformat": 4,
 "nbformat_minor": 5
}
