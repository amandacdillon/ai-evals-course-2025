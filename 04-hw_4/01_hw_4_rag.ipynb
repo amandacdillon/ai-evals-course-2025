{
  "cells": [
    {
      "cell_type": "markdown",
      "metadata": {},
      "source": [
        "# Homework 4: Recipe Bot Retrieval Evaluation\n",
        "\n",
        "In this notebook, we will cover:\n",
        "\n",
        "- Creating a retrieval evaluation dataset with adverserial examples\n",
        "- Building evals to test our retrieval system against user queries and reformulated queries from a query re-write agent\n",
        "- Making recipe bot truly agentic by putting it in a while loop and giving it tools to do retrieval.\n",
        "\n",
        "Now when user's talk to our recipe bot, they'll see traces like this (along with some scoring functions I chose to configure as \"online scorers\" in Braintrust)\n",
        "\n",
        "<img src=\"./data/recipe_bot_with_retrieval_and_scoring.png\" width=\"800\"/>\n"
      ]
    },
    {
      "cell_type": "markdown",
      "metadata": {},
      "source": [
        "## Imports\n"
      ]
    },
    {
      "cell_type": "code",
      "execution_count": null,
      "metadata": {},
      "outputs": [],
      "source": [
        "# Recipe Similarity Analysis using Embeddings\n",
        "import json\n",
        "import os\n",
        "import sys\n",
        "\n",
        "from datetime import datetime\n",
        "from pathlib import Path\n",
        "\n",
        "sys.path.append(os.path.abspath(\"..\"))\n",
        "\n",
        "from functools import partial\n",
        "from typing import Any, Dict, List, Tuple\n",
        "\n",
        "import braintrust as bt\n",
        "import numpy as np\n",
        "\n",
        "from sentence_transformers import SentenceTransformer\n",
        "from sklearn.metrics.pairwise import cosine_similarity\n",
        "\n",
        "from backend.query_rewrite_agent import QueryRewriteAgent\n",
        "from backend.retrieval import create_retriever, retrieve_bm25\n",
        "\n",
        "print(\"Libraries imported successfully\")\n"
      ]
    },
    {
      "cell_type": "markdown",
      "metadata": {},
      "source": [
        "## Setup\n"
      ]
    },
    {
      "cell_type": "code",
      "execution_count": null,
      "metadata": {},
      "outputs": [],
      "source": [
        "BT_PROJECT_NAME = \"recipe-bot\"\n",
        "\n",
        "os.environ[\"TOKENIZERS_PARALLELISM\"] = \"false\""
      ]
    },
    {
      "cell_type": "markdown",
      "metadata": {},
      "source": [
        "## Part 1: Create Your Retrieval Evaluation Dataset\n"
      ]
    },
    {
      "cell_type": "code",
      "execution_count": null,
      "metadata": {},
      "outputs": [],
      "source": [
        "# 1. Load data/processed_recipes.json\n",
        "def load_recipes(file_path: str) -> List[Dict[str, Any]]:\n",
        "    \"\"\"Load recipe data from JSON file.\"\"\"\n",
        "    with open(file_path, \"r\") as f:\n",
        "        recipes = json.load(f)\n",
        "    print(f\"Loaded {len(recipes)} recipes\")\n",
        "    return recipes\n"
      ]
    },
    {
      "cell_type": "code",
      "execution_count": null,
      "metadata": {},
      "outputs": [],
      "source": [
        "recipes = load_recipes(\"data/processed_recipes.json\")\n",
        "\n",
        "# Display sample recipe\n",
        "print(f\"\\nSample recipe:\")\n",
        "print(f\"ID: {recipes[0]['id']}\")\n",
        "print(f\"Name: {recipes[0]['name']}\")\n",
        "print(f\"Description: {recipes[0]['description'][:100]}...\")\n"
      ]
    },
    {
      "cell_type": "code",
      "execution_count": null,
      "metadata": {},
      "outputs": [],
      "source": [
        "# 2. Create document embedding for based on \"name\"\n",
        "def create_embeddings(texts: List[str], model_name: str = \"all-MiniLM-L6-v2\") -> np.ndarray:\n",
        "    \"\"\"Create embeddings for a list of texts using sentence transformers.\"\"\"\n",
        "    model = SentenceTransformer(model_name)\n",
        "    embeddings = model.encode(texts, show_progress_bar=True)\n",
        "    return embeddings\n"
      ]
    },
    {
      "cell_type": "code",
      "execution_count": null,
      "metadata": {},
      "outputs": [],
      "source": [
        "recipe_full_texts = [recipe[\"full_text\"] for recipe in recipes]\n",
        "full_text_embeddings = create_embeddings(recipe_full_texts)\n",
        "\n",
        "print(f\"Embeddings shape: {full_text_embeddings.shape}\")\n",
        "print(f\"Embedding dimension: {full_text_embeddings.shape[1]}\")\n"
      ]
    },
    {
      "cell_type": "code",
      "execution_count": null,
      "metadata": {},
      "outputs": [],
      "source": [
        "# 3. Create tuple of (\"id\", \"name\", \"full_text, and the embedding of \"full_text\")\n",
        "def create_recipe_tuples(recipes: List[Dict], embeddings: np.ndarray) -> List[Tuple[int, str, str, np.ndarray]]:\n",
        "    \"\"\"Create tuples of (id, name, embedding) for each recipe.\"\"\"\n",
        "    recipe_tuples = []\n",
        "\n",
        "    for i, recipe in enumerate(recipes):\n",
        "        recipe_tuple = (recipe[\"id\"], recipe[\"name\"], recipe[\"full_text\"], embeddings[i])\n",
        "        recipe_tuples.append(recipe_tuple)\n",
        "\n",
        "    return recipe_tuples\n"
      ]
    },
    {
      "cell_type": "code",
      "execution_count": null,
      "metadata": {},
      "outputs": [],
      "source": [
        "recipe_tuples = create_recipe_tuples(recipes, full_text_embeddings)\n",
        "\n",
        "print(f\"Created {len(recipe_tuples)} recipe tuples\")\n",
        "print(f\"Sample tuple structure:\")\n",
        "print(f\"  ID: {recipe_tuples[0][0]}\")\n",
        "print(f\"  Name: {recipe_tuples[0][1]}\")\n",
        "print(f\"  Embedding shape: {recipe_tuples[0][3].shape}\")\n"
      ]
    },
    {
      "cell_type": "markdown",
      "metadata": {},
      "source": [
        "As discussed in Section 7.2 of the course reader, we can create more challenging queries by asking the LLM to generate inputs that include wording similar to content in multiple recipes. We'll do that in Braintrust by utilizing three of the most similar recipes to each of the 200 recipes in our final dataset.\n"
      ]
    },
    {
      "cell_type": "code",
      "execution_count": null,
      "metadata": {},
      "outputs": [],
      "source": [
        "# 4. Function to get the n most similar embeddings to each \"id\"\n",
        "def get_most_similar_recipes(target_id: int, recipe_tuples: List[Tuple[int, str, str, np.ndarray]], n: int = 3) -> Dict[str, Any]:\n",
        "    \"\"\"\n",
        "    Get the n most similar recipes to a target recipe ID.\n",
        "\n",
        "    Args:\n",
        "        target_id: ID of the target recipe\n",
        "        recipe_tuples: List of (id, name, embedding) tuples\n",
        "        n: Number of most similar recipes to return (default: 3)\n",
        "\n",
        "    Returns:\n",
        "        Dictionary with keys \"id\", \"name\", \"most_similar\"\n",
        "        where \"most_similar\" is a list of dicts with \"id\", \"name\", \"score\"\n",
        "    \"\"\"\n",
        "    # Find the target recipe\n",
        "    target_recipe = None\n",
        "    target_embedding = None\n",
        "\n",
        "    for recipe_id, name, full_text, embedding in recipe_tuples:\n",
        "        if recipe_id == target_id:\n",
        "            target_recipe = (recipe_id, name, full_text)\n",
        "            target_embedding = embedding\n",
        "            break\n",
        "\n",
        "    if target_recipe is None or target_embedding is None:\n",
        "        raise ValueError(f\"Recipe with ID {target_id} not found\")\n",
        "\n",
        "    # Calculate similarities to all other recipes\n",
        "    similarities = []\n",
        "    target_embedding_2d = target_embedding.reshape(1, -1)\n",
        "\n",
        "    for recipe_id, name, full_text, embedding in recipe_tuples:\n",
        "        if recipe_id != target_id:  # Don't include the target recipe itself\n",
        "            embedding_2d = embedding.reshape(1, -1)\n",
        "            similarity_score = cosine_similarity(target_embedding_2d, embedding_2d)[0][0]\n",
        "            similarities.append({\"id\": recipe_id, \"name\": name, \"full_text\": full_text, \"score\": float(similarity_score)})\n",
        "\n",
        "    # Sort by similarity score (descending) and take top n\n",
        "    similarities.sort(key=lambda x: x[\"score\"], reverse=True)\n",
        "    most_similar = similarities[:n]\n",
        "\n",
        "    return {\"id\": target_recipe[0], \"name\": target_recipe[1], \"full_text\": target_recipe[2], \"most_similar\": most_similar}\n"
      ]
    },
    {
      "cell_type": "code",
      "execution_count": null,
      "metadata": {},
      "outputs": [],
      "source": [
        "sample_recipe_id = recipes[0][\"id\"]  # Use the first recipe as an example\n",
        "print(f\"Testing similarity for recipe ID: {sample_recipe_id}\")\n",
        "\n",
        "result = get_most_similar_recipes(sample_recipe_id, recipe_tuples, n=5)\n",
        "\n",
        "print(f\"\\nTarget Recipe:\")\n",
        "print(f\"  ID: {result['id']}\")\n",
        "print(f\"  Name: {result['name']}\")\n",
        "print(f\"  Full Text: {result['full_text']}\")\n",
        "\n",
        "print(f\"\\nTop 5 Most Similar Recipes:\")\n",
        "for i, similar in enumerate(result[\"most_similar\"], 1):\n",
        "    print(f\"  {i}. ID: {similar['id']:6} | Score: {similar['score']:.4f} | Name: {similar['name']}\")\n"
      ]
    },
    {
      "cell_type": "code",
      "execution_count": null,
      "metadata": {},
      "outputs": [],
      "source": [
        "sample_recipe_id_2 = recipes[10][\"id\"]  # Use the 11th recipe\n",
        "print(f\"Testing similarity for recipe ID: {sample_recipe_id_2}\")\n",
        "\n",
        "result_2 = get_most_similar_recipes(sample_recipe_id_2, recipe_tuples, n=3)\n",
        "\n",
        "print(f\"\\nTarget Recipe:\")\n",
        "print(f\"  ID: {result_2['id']}\")\n",
        "print(f\"  Name: {result_2['name']}\")\n",
        "print(f\"  Full Text: {result_2['full_text']}\")\n",
        "\n",
        "print(f\"\\nTop 3 Most Similar Recipes:\")\n",
        "for i, similar in enumerate(result_2[\"most_similar\"], 1):\n",
        "    print(f\"  {i}. ID: {similar['id']:6} | Score: {similar['score']:.4f} | Name: {similar['name']}\")\n"
      ]
    },
    {
      "cell_type": "code",
      "execution_count": null,
      "metadata": {},
      "outputs": [],
      "source": [
        "recipe_data = []\n",
        "for recipe in recipes:\n",
        "    res = get_most_similar_recipes(recipe[\"id\"], recipe_tuples, n=3)\n",
        "    recipe_data.append({**res, **recipe})"
      ]
    },
    {
      "cell_type": "code",
      "execution_count": null,
      "metadata": {},
      "outputs": [],
      "source": [
        "print(len(recipe_data))\n",
        "recipe_data[0]"
      ]
    },
    {
      "cell_type": "code",
      "execution_count": null,
      "metadata": {},
      "outputs": [],
      "source": [
        "with open(\"data/processed_recipes_with_similarities.json\", \"w\") as f:\n",
        "    json.dump(recipe_data, f)"
      ]
    },
    {
      "cell_type": "markdown",
      "metadata": {},
      "source": [
        "## Part 2: Evaluate the BM25 retriever\n",
        "\n",
        "As we've stated before, evals require three things ... **data** to be ran through a function that performs a given **task** and one or more **scorers** to evaluate how well that task accomplished its objective(s).\n"
      ]
    },
    {
      "cell_type": "code",
      "execution_count": 49,
      "metadata": {},
      "outputs": [
        {
          "name": "stdout",
          "output_type": "stream",
          "text": [
            "Loading recipes from data/processed_recipes.json\n",
            "Loaded 200 recipes\n",
            "Loading BM25 index from data/bm25_index.pkl\n",
            "BM25 index loaded successfully\n",
            "Using existing BM25 index\n"
          ]
        }
      ],
      "source": [
        "retriever = create_retriever(Path(\"./data/processed_recipes.json\"), Path(\"./data/bm25_index.pkl\"))\n"
      ]
    },
    {
      "cell_type": "markdown",
      "metadata": {},
      "source": [
        "### Data\n",
        "\n",
        "We use `init_dataset` to pull down our \"golden dataset\" of ground truth \"user query\" -> \"target recipe\" examples to evaluate how well each query is used by our retriever to get that recipe.\n"
      ]
    },
    {
      "cell_type": "code",
      "execution_count": 39,
      "metadata": {},
      "outputs": [
        {
          "name": "stdout",
          "output_type": "stream",
          "text": [
            "199\n"
          ]
        },
        {
          "data": {
            "text/plain": [
              "{'_pagination_key': 'p07537850107917041763',\n",
              " '_xact_id': '1000195610717742217',\n",
              " 'created': '2025-08-12T23:48:11.204Z',\n",
              " 'dataset_id': 'ae17cedd-7e40-433a-b669-b02c2d7ddf01',\n",
              " 'expected': {'fact': 'This recipe makes one large, round loaf of bread.',\n",
              "  'query': 'bulk prep for a single large round bread loaf for the week'},\n",
              " 'id': 'a2eb327b-9626-41c7-a9d1-c2bd5ba80a9a',\n",
              " 'input': {'description': \"recipe paraphrased from a recipe in cooks illustrated 1/2008 this recipe comes out best made in an enameled cast-iron dutch oven with a lid that fits tightly. it can also be made in a regular cast-iron dutch oven or a heavy stockpot. use a mild flavored beer like budweiser or a mild flavor non-alcoholic beer. the bread is best the day it's baked. it can be wrapped in foil and stored in a cool dry place for 2-days. this recipe makes one large, round loaf of bread\",\n",
              "  'full_text': \"almost no knead bread recipe paraphrased from a recipe in cooks illustrated 1/2008 this recipe comes out best made in an enameled cast-iron dutch oven with a lid that fits tightly. it can also be made in a regular cast-iron dutch oven or a heavy stockpot. use a mild flavored beer like budweiser or a mild flavor non-alcoholic beer. the bread is best the day it's baked. it can be wrapped in foil and stored in a cool dry place for 2-days. this recipe makes one large, round loaf of bread unbleached all-purpose flour fast rise yeast table salt water beer distilled white vinegar in a large bowl , whisk together flour , yeast and salt now add the water , beer and vinegar fold batter using a rubber spatula scrape the dry ingredients from the bowl bottom and continue folding until a ragged ball of dough forms cover bowl with some plastic wrap allow to sit at room temperature for 8 to 18 hours in a 10-inch skillet , place a 12 x 18 inch piece of parchment paper spray parchment paper with nonstick cooking spray take the bowl of dough and turn out onto a lightly floured work surface knead dough 10 to 15 times pull edges of dough from edges into the center to form a ball of dough place the dough with the seam side down , into the parchment lined skillet spray dough with nonstick cooking spray cover the dough loosely with a piece of plastic wrap allow to rise at room temperature until the dough is doubled in size , about 2-hours the dough should not easily spring back when poked place a 6 to 8 quart , heavy bottom , dutch oven with lid , on lowest oven rack preheat the oven at 500f for 1 / 2 hour lightly dust top of dough with flour and then make single 6-inch long , 1 / 2 inch deep cut on the top of the dough with a sharp knife or razor blade take preheated dutch oven from from the 500f oven and remove lid using edges of parchment paper , pick up dough from frying pan and place into dutch oven allow extra parchment paper to hang out of dutch oven and cover dough with lid return covered dutch oven to oven and turn temperature down to 425f bake bread covered for 30-minutes remove lid and continue baking until bread is deep brown and an instant read thermometer , inserted in loaf center , reads 210f this may take 20 to 30 minutes after removing cover when done , remove bread from dutch oven and cool on wire rack for 2 hours , until bread reaches room temperature time-to-make course main-ingredient cuisine preparation north-american healthy breads american easy low-fat grains dietary low-cholesterol low-saturated-fat inexpensive low-in-something pasta-rice-and-grains 3-steps-or-less 4-hours-or-less\",\n",
              "  'ingredients': ['unbleached all-purpose flour',\n",
              "   'fast rise yeast',\n",
              "   'table salt',\n",
              "   'water',\n",
              "   'beer',\n",
              "   'distilled white vinegar'],\n",
              "  'minutes': 120,\n",
              "  'most_similar': [{'full_text': \"almost no knead rye bread great bread and it's so simple to make . . . just takes some advance planning. note that the time to prepare includes rising/fermenting time. the only special equipment needed is a large covered pot to bake the bread in. i've tried several methods to bake; both cast-iron and cast-aluminum 4 qt. dutch ovens as well as used my romertopf clay baker and the results were magnificent. another great cook's illustrated recipe! unbleached all-purpose flour rye flour caraway seeds fast rise yeast table salt water lager beer white vinegar whisk together flours , caraway , yeast , and salt in large bowl to flour mixture add water , beer , and vinegar using rubber spatula , fold mixture , scraping up dry flour from bottom of bowl until shaggy ball forms cover bowl with plastic wrap and let sit at room temperature for 8 to 18 hours line inside of 10 inch skillet with a 12- by 18-inch sheet of parchment paper spray paper with nonstick cooking spray transfer dough to lightly floured work surface and knead 10 to 15 times shape dough into ball by pulling edges into middle transfer dough , seam-side down , to parchment-lined skillet and spray surface of dough with nonstick cooking spray cover loosely with plastic wrap and let rise at room temperature until dough has doubled in size and does not readily spring back when poked with finger , about 2 hours about 30 minutes before baking , adjust oven rack to lowest position , place a large heavy-bottomed dutch oven on rack , and heat oven to 500 degrees lightly flour top of dough and , using razor blade or sharp knife , make one 6-inch-long , 1 / 2-inch-deep slit along top of dough carefully remove pot from oven and remove lid pick up dough by lifting parchment overhang and lower into pot cover pot and place in oven reduce oven temperature to 425 degrees and bake covered for approximately 30 minutes remove lid and continue to bake until loaf is deep brown and instant-read thermometer inserted into center registers 210 degrees , 20 to 30 minutes longer carefully remove bread from pot transfer to wire rack and cool to room temperature , about 2 hours course preparation low-protein healthy breads easy low-fat dietary low-cholesterol low-saturated-fat low-calorie healthy-2 yeast low-in-something\",\n",
              "    'id': 303928,\n",
              "    'name': 'almost no knead rye bread',\n",
              "    'score': 0.8385152220726013},\n",
              "   {'full_text': \"alton browns basic bread like all of his recipe, this one is most excellent! bread flour fast rising yeast honey water kosher salt hot water vegetable oil cornmeal cornstarch combine 5 ounces of the flour , 1 / 4 teaspoon of the yeast , all of the honey , and all of the bottled water in a straight-sided container cover loosely and refrigerate for 8 to 12 hours place the remaining 11 ounces of flour , remaining yeast , and all the salt into the bowl of a stand mixer , and add the pre-ferment from the refrigerator using the dough hook attachment , knead the mixture on low for 2 to 3 minutes just until it comes together cover the dough in the bowl with a kitchen towel and allow to rest for 20 minutes after 20 minutes , knead the dough on medium speed for 5 to 10 minutes or until you are able to gently pull the dough into a thin sheet that light will pass through the dough will be sticky , but not so sticky that you can't handle it while the dough is kneading , pour half of the hot water into a shallow pan and place on the bottom rack of your oven grease the inside of a large straight-sided container with the vegetable oil place the dough ball into the container and set on the rack above the pan of water allow to rise until doubled in size , approximately 1 to 2 hours once the dough has doubled in size , turn it onto a counter top , lightly dust your hands with flour , and press the dough out with your knuckles then fold 1 side in towards the middle of the mass and then the other , as if you were making a tri-fold wallet repeat the folding a second time cover the dough with a kitchen towel and allow to rest for another 10 minutes flatten dough again with your knuckles and then fold the dough in onto itself , like you are shaping something that looks like a jellyfish turn the dough over and squeeze the bottom together so that the top surface of the dough is smooth place the dough back onto the counter and begin to roll gently between your hands do not grab the dough but allow it to move gently back and forth between your hands , moving in a circular motion move the dough ball to a pizza peel or the bottom of a sheet pan that has been sprinkled with the cornmeal cover with the kitchen towel and allow to bench proof for 1 hour , or until you poke the dough and it quickly fills back in where you poked it place an unglazed terra cotta dish upside down into the oven and heat the oven to 400 degrees f combine the 1 / 3 cup of water and the cornstarch in a small bowl uncover the dough and brush the surface with this mixture gently slash the top surface of the dough ball in several places , approximately 1 / 3 to 1 / 2-inch deep add more of the hot water to the shallow pan if it has evaporated slide the bread onto the terra cotta dish in the oven and bake for 50 to 60 minutes once the bread has reached an internal temperature of 205 to 210 degrees f , remove to a cooling rack and allow to sit for 30 minutes before slicing course main-ingredient preparation occasion low-protein healthy breads side-dishes eggs-dairy oven dinner-party low-fat vegetarian eggs dietary low-cholesterol low-saturated-fat low-calorie brown-bag yeast low-in-something brunch to-go equipment\",\n",
              "    'id': 245800,\n",
              "    'name': 'alton browns basic bread',\n",
              "    'score': 0.7154470682144165},\n",
              "   {'full_text': \"almost no knead bread with olives rosemary and parmesan another great version of cook's illustrated almost no-knead bread. makes an unbelievable loaf of bread! an enameled cast-iron dutch oven with a tight-fitting lid yields best results, but the recipe also works in a regular cast-iron dutch oven or heavy stockpot. because of the high temperature required besure the pot (and lid) can handle the heat. you may have to improvise a new handle on the lid. i've also used my romertofp clay baker and had wonderful results. this bread is so good, i'm tempted to invest in a la cloche. unbleached all-purpose flour fast rise yeast table salt parmesan cheese fresh rosemary water green olives lager beer white vinegar whisk together flour , yeast , salt , parmesan , and rosemary in large bowl add water , olives , beer , and vinegar using rubber spatula , fold mixture , scraping up dry flour from bottom of bowl until shaggy ball forms cover bowl with plastic wrap and let sit at room temperature for 8 to 18 hours line inside of 10 inch skillet with a 12- by 18-inch sheet of parchment paper spray paper with nonstick cooking spray transfer dough to lightly floured work surface and knead 10 to 15 times shape dough into ball by pulling edges into middle transfer dough , seam-side down , to parchment-lined skillet and spray surface of dough with nonstick cooking spray cover loosely with plastic wrap and let rise at room temperature until dough has doubled in size and does not readily spring back when poked with finger , about 2 hours about 30 minutes before baking , adjust oven rack to lowest position , place a large heavy-bottomed dutch oven on rack , and heat oven to 500 degrees lightly flour top of dough and , using razor blade or sharp knife , make one 6-inch-long , 1 / 2-inch-deep slit along top of dough carefully remove pot from oven and remove lid pick up dough by lifting parchment overhang and lower into pot cover pot and place in oven reduce oven temperature to 425 degrees and bake covered for approximately 30 minutes remove lid and continue to bake until loaf is deep brown and instant-read thermometer inserted into center registers 210 degrees , 20 to 30 minutes longer carefully remove bread from pot transfer to wire rack and cool to room temperature , about 2 hours course preparation healthy breads easy dietary low-cholesterol yeast low-in-something\",\n",
              "    'id': 303913,\n",
              "    'name': 'almost no knead bread with olives rosemary and parmesan',\n",
              "    'score': 0.6664899587631226}],\n",
              "  'name': 'almost no knead bread',\n",
              "  'nutrition': {'calories': 140.9,\n",
              "   'carbohydrates': 9,\n",
              "   'protein': 7,\n",
              "   'saturated_fat': 0,\n",
              "   'sodium': 14,\n",
              "   'sugar': 0,\n",
              "   'total_fat': 0},\n",
              "  'steps': ['in a large bowl , whisk together flour , yeast and salt',\n",
              "   'now add the water , beer and vinegar',\n",
              "   'fold batter using a rubber spatula',\n",
              "   'scrape the dry ingredients from the bowl bottom and continue folding until a ragged ball of dough forms',\n",
              "   'cover bowl with some plastic wrap',\n",
              "   'allow to sit at room temperature for 8 to 18 hours',\n",
              "   'in a 10-inch skillet , place a 12 x 18 inch piece of parchment paper',\n",
              "   'spray parchment paper with nonstick cooking spray',\n",
              "   'take the bowl of dough and turn out onto a lightly floured work surface',\n",
              "   'knead dough 10 to 15 times',\n",
              "   'pull edges of dough from edges into the center to form a ball of dough',\n",
              "   'place the dough with the seam side down , into the parchment lined skillet',\n",
              "   'spray dough with nonstick cooking spray',\n",
              "   'cover the dough loosely with a piece of plastic wrap',\n",
              "   'allow to rise at room temperature until the dough is doubled in size , about 2-hours',\n",
              "   'the dough should not easily spring back when poked',\n",
              "   'place a 6 to 8 quart , heavy bottom , dutch oven with lid , on lowest oven rack',\n",
              "   'preheat the oven at 500f for 1 / 2 hour',\n",
              "   'lightly dust top of dough with flour and then make single 6-inch long , 1 / 2 inch deep cut on the top of the dough with a sharp knife or razor blade',\n",
              "   'take preheated dutch oven from from the 500f oven and remove lid',\n",
              "   'using edges of parchment paper , pick up dough from frying pan and place into dutch oven',\n",
              "   'allow extra parchment paper to hang out of dutch oven and cover dough with lid',\n",
              "   'return covered dutch oven to oven and turn temperature down to 425f bake bread covered for 30-minutes',\n",
              "   'remove lid and continue baking until bread is deep brown and an instant read thermometer , inserted in loaf center , reads 210f this may take 20 to 30 minutes after removing cover',\n",
              "   'when done , remove bread from dutch oven and cool on wire rack for 2 hours , until bread reaches room temperature'],\n",
              "  'tags': ['time-to-make',\n",
              "   'course',\n",
              "   'main-ingredient',\n",
              "   'cuisine',\n",
              "   'preparation',\n",
              "   'north-american',\n",
              "   'healthy',\n",
              "   'breads',\n",
              "   'american',\n",
              "   'easy',\n",
              "   'low-fat',\n",
              "   'grains',\n",
              "   'dietary',\n",
              "   'low-cholesterol',\n",
              "   'low-saturated-fat',\n",
              "   'inexpensive',\n",
              "   'low-in-something',\n",
              "   'pasta-rice-and-grains',\n",
              "   '3-steps-or-less',\n",
              "   '4-hours-or-less']},\n",
              " 'is_root': True,\n",
              " 'metadata': {'contributor_id': 714762,\n",
              "  'id': 284687,\n",
              "  'n_ingredients': 6,\n",
              "  'n_steps': 25,\n",
              "  'submitted': '2008-02-06'},\n",
              " 'origin': {'_xact_id': '1000195610689906394',\n",
              "  'id': 'a2eb327b-9626-41c7-a9d1-c2bd5ba80a9a',\n",
              "  'object_id': '5ec58e3d-0512-4ca7-9542-824c08b7a3da',\n",
              "  'object_type': 'experiment'},\n",
              " 'project_id': '54782088-3418-41ea-acda-d6302c2dfa64',\n",
              " 'root_span_id': 'a2eb327b-9626-41c7-a9d1-c2bd5ba80a9a',\n",
              " 'span_id': 'a2eb327b-9626-41c7-a9d1-c2bd5ba80a9a',\n",
              " 'tags': None}"
            ]
          },
          "execution_count": 39,
          "metadata": {},
          "output_type": "execute_result"
        }
      ],
      "source": [
        "all_queries_ds = bt.init_dataset(project=BT_PROJECT_NAME, name=\"test_recipe_retrieval_data\")\n",
        "rows = list(all_queries_ds)\n",
        "\n",
        "print(len(rows))\n",
        "rows[0]"
      ]
    },
    {
      "cell_type": "markdown",
      "metadata": {},
      "source": [
        "### Task\n",
        "\n",
        "Here we define two task functions to use in separate evals. The first uses the user query as is, while the second uses a query re-write agent to re-formulate the user query as something it believes more likely to return the right recipes.\n"
      ]
    },
    {
      "cell_type": "code",
      "execution_count": 40,
      "metadata": {},
      "outputs": [],
      "source": [
        "def fetch_recipes(query: str, *_, n_results: int = 5) -> List[Dict[str, Any]]:\n",
        "    \"\"\"Fetch recipes from the database.\"\"\"\n",
        "    recipes = retriever.retrieve_bm25(query, n_results)\n",
        "    return recipes"
      ]
    },
    {
      "cell_type": "code",
      "execution_count": 41,
      "metadata": {},
      "outputs": [
        {
          "name": "stdout",
          "output_type": "stream",
          "text": [
            "brie cherry tartlets with chocolate walnut topping for party appetizers\n",
            "518146\n"
          ]
        },
        {
          "data": {
            "text/plain": [
              "[518146, 417845, 129581, 307279, 53922]"
            ]
          },
          "execution_count": 41,
          "metadata": {},
          "output_type": "execute_result"
        }
      ],
      "source": [
        "test_example = rows[20]\n",
        "print(test_example[\"expected\"][\"query\"])\n",
        "print(test_example[\"metadata\"][\"id\"])\n",
        "\n",
        "found_recipes = fetch_recipes(test_example[\"expected\"][\"query\"], n_results=5)\n",
        "[recipe[\"id\"] for recipe in found_recipes]"
      ]
    },
    {
      "cell_type": "code",
      "execution_count": 42,
      "metadata": {},
      "outputs": [],
      "source": [
        "qwra = QueryRewriteAgent()\n",
        "\n",
        "\n",
        "def fetch_recipes_with_query_rewrite(query: str, *_, n_results: int = 5) -> List[Dict[str, Any]]:\n",
        "    \"\"\"Fetch recipes from the database.\"\"\"\n",
        "    res_d = qwra.process_query(query)\n",
        "    recipes = retriever.retrieve_bm25(res_d[\"processed_query\"], n_results)\n",
        "    return recipes\n"
      ]
    },
    {
      "cell_type": "code",
      "execution_count": 43,
      "metadata": {},
      "outputs": [
        {
          "name": "stdout",
          "output_type": "stream",
          "text": [
            "brie cherry tartlets with chocolate walnut topping for party appetizers\n",
            "518146\n"
          ]
        },
        {
          "data": {
            "text/plain": [
              "[518146, 417845, 314774, 307279, 242]"
            ]
          },
          "execution_count": 43,
          "metadata": {},
          "output_type": "execute_result"
        }
      ],
      "source": [
        "test_example = rows[20]\n",
        "print(test_example[\"expected\"][\"query\"])\n",
        "print(test_example[\"metadata\"][\"id\"])\n",
        "\n",
        "found_recipes = fetch_recipes_with_query_rewrite(test_example[\"expected\"][\"query\"], n_results=5)\n",
        "[recipe[\"id\"] for recipe in found_recipes]"
      ]
    },
    {
      "cell_type": "markdown",
      "metadata": {},
      "source": [
        "### Scorers\n",
        "\n",
        "There are several ways to [configure scorers for your Braintrust evals](https://www.braintrust.dev/docs/guides/experiments/write#scorers). Here we demonstrate how to return several related scores/metrics in one function.\n"
      ]
    },
    {
      "cell_type": "code",
      "execution_count": 44,
      "metadata": {},
      "outputs": [],
      "source": [
        "def calc_retrieval_metrics(output: dict, metadata: dict) -> list[bt.Score]:\n",
        "    \"\"\"Braintrust scorer for Recall@1 - whether target recipe is ranked 1st.\"\"\"\n",
        "    retrieved_ids = [recipe[\"id\"] for recipe in output]\n",
        "    recall_at_1_score = 1.0 if len(retrieved_ids) > 0 and retrieved_ids[0] == metadata[\"id\"] else 0.0\n",
        "    recall_at_3_score = 1.0 if len(retrieved_ids) > 0 and metadata[\"id\"] in retrieved_ids[:3] else 0.0\n",
        "    recall_at_5_score = 1.0 if len(retrieved_ids) > 0 and metadata[\"id\"] in retrieved_ids[:5] else 0.0\n",
        "    mrr_score = 1.0 / (retrieved_ids.index(metadata[\"id\"]) + 1) if metadata[\"id\"] in retrieved_ids else 0.0\n",
        "\n",
        "    return [\n",
        "        bt.Score(name=\"Recall@1\", score=recall_at_1_score),\n",
        "        bt.Score(name=\"Recall@3\", score=recall_at_3_score),\n",
        "        bt.Score(name=\"Recall@5\", score=recall_at_5_score),\n",
        "        bt.Score(name=\"MRR\", score=mrr_score),\n",
        "    ]"
      ]
    },
    {
      "cell_type": "code",
      "execution_count": 46,
      "metadata": {},
      "outputs": [
        {
          "data": {
            "text/plain": [
              "[Score(name='Recall@1', score=1.0, metadata={}, error=None),\n",
              " Score(name='Recall@3', score=1.0, metadata={}, error=None),\n",
              " Score(name='Recall@5', score=1.0, metadata={}, error=None),\n",
              " Score(name='MRR', score=1.0, metadata={}, error=None)]"
            ]
          },
          "execution_count": 46,
          "metadata": {},
          "output_type": "execute_result"
        }
      ],
      "source": [
        "calc_retrieval_metrics(found_recipes, test_example[\"metadata\"])  # type: ignore"
      ]
    },
    {
      "cell_type": "markdown",
      "metadata": {},
      "source": [
        "### Eval\n",
        "\n",
        "With our data, task, and scorers in place, we can now run evals for our retriever using the incoming queries as is, and also, by using the query re-write agent to re-formulate them.\n"
      ]
    },
    {
      "cell_type": "code",
      "execution_count": 47,
      "metadata": {},
      "outputs": [
        {
          "name": "stderr",
          "output_type": "stream",
          "text": [
            "Experiment recipe_retrieval_metrics_20250812_1701 is running at https://www.braintrust.dev/app/aie-course-2025/p/recipe-bot/experiments/recipe_retrieval_metrics_20250812_1701\n",
            "recipe-bot [experiment_name=recipe_retrieval_metrics_20250812_1701] (data): 199it [00:00, 86431.24it/s]\n",
            "recipe-bot [experiment_name=recipe_retrieval_metrics_20250812_1701] (tasks): 100%|██████████| 199/199 [00:06<00:00, 32.02it/s]\n"
          ]
        },
        {
          "name": "stdout",
          "output_type": "stream",
          "text": [
            "\n",
            "=========================SUMMARY=========================\n",
            "recipe_retrieval_metrics_20250812_1701 compared to add_queries_it_20250728_2025:\n",
            "92.23% 'MRR'      score\n",
            "87.94% 'Recall@1' score\n",
            "96.48% 'Recall@3' score\n",
            "97.99% 'Recall@5' score\n",
            "\n",
            "1755043274.20s start\n",
            "1755043278.55s end\n",
            "1.85s duration\n",
            "0tok prompt_tokens\n",
            "0tok completion_tokens\n",
            "0tok total_tokens\n",
            "0tok prompt_cached_tokens\n",
            "0tok prompt_cache_creation_tokens\n",
            "\n",
            "See results for recipe_retrieval_metrics_20250812_1701 at https://www.braintrust.dev/app/aie-course-2025/p/recipe-bot/experiments/recipe_retrieval_metrics_20250812_1701\n"
          ]
        },
        {
          "data": {
            "text/plain": [
              "EvalResultWithSummary(summary=\"...\", results=[...])"
            ]
          },
          "execution_count": 47,
          "metadata": {},
          "output_type": "execute_result"
        }
      ],
      "source": [
        "timestamp = datetime.now().strftime(\"%Y%m%d_%H%M\")\n",
        "exp_metadata = {\"query_rewrite\": False, \"n_results\": 5}\n",
        "\n",
        "await bt.EvalAsync(\n",
        "    name=\"recipe-bot\",\n",
        "    experiment_name=f\"recipe_retrieval_metrics_{timestamp}\",\n",
        "    data=[{\"input\": example[\"expected\"][\"query\"], \"metadata\": example[\"metadata\"]} for example in rows],  # type: ignore\n",
        "    task=partial(fetch_recipes, n_results=5),\n",
        "    metadata=exp_metadata,\n",
        "    scores=[calc_retrieval_metrics],  # type: ignore\n",
        ")"
      ]
    },
    {
      "cell_type": "code",
      "execution_count": 48,
      "metadata": {},
      "outputs": [
        {
          "name": "stderr",
          "output_type": "stream",
          "text": [
            "Experiment recipe_retrieval_metrics_20250812_1701-29989171 is running at https://www.braintrust.dev/app/aie-course-2025/p/recipe-bot/experiments/recipe_retrieval_metrics_20250812_1701-29989171\n",
            "recipe-bot [experiment_name=recipe_retrieval_metrics_20250812_1701] (data): 199it [00:00, 45197.73it/s]\n",
            "recipe-bot [experiment_name=recipe_retrieval_metrics_20250812_1701] (tasks): 100%|██████████| 199/199 [00:17<00:00, 11.43it/s]\n"
          ]
        },
        {
          "name": "stdout",
          "output_type": "stream",
          "text": [
            "\n",
            "=========================SUMMARY=========================\n",
            "recipe_retrieval_metrics_20250812_1701-29989171 compared to recipe_retrieval_metrics_20250812_1701:\n",
            "85.37% (-06.86%) 'MRR'      score\t(9 improvements, 32 regressions)\n",
            "79.40% (-08.54%) 'Recall@1' score\t(7 improvements, 24 regressions)\n",
            "90.45% (-06.03%) 'Recall@3' score\t(4 improvements, 16 regressions)\n",
            "94.97% (-03.02%) 'Recall@5' score\t(2 improvements, 8 regressions)\n",
            "\n",
            "1755043304.64s start\n",
            "1755043318.32s end\n",
            "6.64s (+478.46%) 'duration'                    \t(0 improvements, 199 regressions)\n",
            "0.78s llm_duration\n",
            "139.47tok (+13947.24%) 'prompt_tokens'               \t(0 improvements, 199 regressions)\n",
            "27.37tok (+2736.68%) 'completion_tokens'           \t(0 improvements, 199 regressions)\n",
            "166.84tok (+16683.92%) 'total_tokens'                \t(0 improvements, 199 regressions)\n",
            "0.00$ estimated_cost\n",
            "0tok (-) 'prompt_cached_tokens'        \t(0 improvements, 0 regressions)\n",
            "0tok (-) 'prompt_cache_creation_tokens'\t(0 improvements, 0 regressions)\n",
            "\n",
            "See results for recipe_retrieval_metrics_20250812_1701-29989171 at https://www.braintrust.dev/app/aie-course-2025/p/recipe-bot/experiments/recipe_retrieval_metrics_20250812_1701-29989171\n"
          ]
        },
        {
          "data": {
            "text/plain": [
              "EvalResultWithSummary(summary=\"...\", results=[...])"
            ]
          },
          "execution_count": 48,
          "metadata": {},
          "output_type": "execute_result"
        }
      ],
      "source": [
        "timestamp = datetime.now().strftime(\"%Y%m%d_%H%M\")\n",
        "exp_metadata = {\"query_rewrite\": True, \"n_results\": 5}\n",
        "\n",
        "await bt.EvalAsync(\n",
        "    name=\"recipe-bot\",\n",
        "    experiment_name=f\"recipe_retrieval_metrics_{timestamp}\",\n",
        "    data=[{\"input\": example[\"expected\"][\"query\"], \"metadata\": example[\"metadata\"]} for example in rows],  # type: ignore\n",
        "    task=partial(fetch_recipes_with_query_rewrite, n_results=5),\n",
        "    metadata=exp_metadata,\n",
        "    scores=[calc_retrieval_metrics],  # type: ignore\n",
        ")"
      ]
    },
    {
      "cell_type": "markdown",
      "metadata": {},
      "source": [
        "We can see that surprisingly, our query re-write agent performs worse than just using the user query as is. There are many reasons that might be in our particular implmentation of recipe bot, and with some initial experiments in place, we can begin exploring why and iterating on improving our application.\n",
        "\n",
        "<img src=\"./data/retrieval_evals.png\" width=\"800\"/>\n"
      ]
    }
  ],
  "metadata": {
    "kernelspec": {
      "display_name": ".venv",
      "language": "python",
      "name": "python3"
    },
    "language_info": {
      "codemirror_mode": {
        "name": "ipython",
        "version": 3
      },
      "file_extension": ".py",
      "mimetype": "text/x-python",
      "name": "python",
      "nbconvert_exporter": "python",
      "pygments_lexer": "ipython3",
      "version": "3.12.11"
    }
  },
  "nbformat": 4,
  "nbformat_minor": 2
}
